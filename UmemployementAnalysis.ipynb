{
 "cells": [
  {
   "cell_type": "code",
   "execution_count": 4,
   "id": "2bb00f3a",
   "metadata": {},
   "outputs": [],
   "source": [
    "import numpy as np\n",
    "import pandas as pd\n",
    "import matplotlib.pyplot as plt\n",
    "import seaborn as sb\n",
    "import plotly.express as px"
   ]
  },
  {
   "cell_type": "code",
   "execution_count": 13,
   "id": "39596696",
   "metadata": {},
   "outputs": [
    {
     "name": "stdout",
     "output_type": "stream",
     "text": [
      "           Region         Date  Frequency   Estimated Unemployment Rate (%)   \n",
      "0  Andhra Pradesh   31-05-2019    Monthly                              3.65  \\\n",
      "1  Andhra Pradesh   30-06-2019    Monthly                              3.05   \n",
      "2  Andhra Pradesh   31-07-2019    Monthly                              3.75   \n",
      "3  Andhra Pradesh   31-08-2019    Monthly                              3.32   \n",
      "4  Andhra Pradesh   30-09-2019    Monthly                              5.17   \n",
      "\n",
      "    Estimated Employed   Estimated Labour Participation Rate (%)   Area  \n",
      "0           11999139.0                                     43.24  Rural  \n",
      "1           11755881.0                                     42.05  Rural  \n",
      "2           12086707.0                                     43.50  Rural  \n",
      "3           12285693.0                                     43.97  Rural  \n",
      "4           12256762.0                                     44.68  Rural  \n",
      "                                          count          mean           std   \n",
      " Estimated Unemployment Rate (%)          740.0  1.178795e+01  1.072130e+01  \\\n",
      " Estimated Employed                       740.0  7.204460e+06  8.087988e+06   \n",
      " Estimated Labour Participation Rate (%)  740.0  4.263012e+01  8.111094e+00   \n",
      "\n",
      "                                               min           25%         50%   \n",
      " Estimated Unemployment Rate (%)              0.00  4.657500e+00        8.35  \\\n",
      " Estimated Employed                       49420.00  1.190404e+06  4744178.50   \n",
      " Estimated Labour Participation Rate (%)     13.33  3.806250e+01       41.16   \n",
      "\n",
      "                                                   75%          max  \n",
      " Estimated Unemployment Rate (%)          1.588750e+01        76.74  \n",
      " Estimated Employed                       1.127549e+07  45777509.00  \n",
      " Estimated Labour Participation Rate (%)  4.550500e+01        72.57  \n",
      "<class 'pandas.core.frame.DataFrame'>\n",
      "RangeIndex: 768 entries, 0 to 767\n",
      "Data columns (total 7 columns):\n",
      " #   Column                                    Non-Null Count  Dtype  \n",
      "---  ------                                    --------------  -----  \n",
      " 0   Region                                    740 non-null    object \n",
      " 1    Date                                     740 non-null    object \n",
      " 2    Frequency                                740 non-null    object \n",
      " 3    Estimated Unemployment Rate (%)          740 non-null    float64\n",
      " 4    Estimated Employed                       740 non-null    float64\n",
      " 5    Estimated Labour Participation Rate (%)  740 non-null    float64\n",
      " 6   Area                                      740 non-null    object \n",
      "dtypes: float64(3), object(4)\n",
      "memory usage: 42.1+ KB\n",
      "None\n",
      "Shape: (768, 7)\n"
     ]
    },
    {
     "data": {
      "text/html": [
       "<div>\n",
       "<style scoped>\n",
       "    .dataframe tbody tr th:only-of-type {\n",
       "        vertical-align: middle;\n",
       "    }\n",
       "\n",
       "    .dataframe tbody tr th {\n",
       "        vertical-align: top;\n",
       "    }\n",
       "\n",
       "    .dataframe thead th {\n",
       "        text-align: right;\n",
       "    }\n",
       "</style>\n",
       "<table border=\"1\" class=\"dataframe\">\n",
       "  <thead>\n",
       "    <tr style=\"text-align: right;\">\n",
       "      <th></th>\n",
       "      <th>Region</th>\n",
       "      <th>Date</th>\n",
       "      <th>Frequency</th>\n",
       "      <th>Estimated Unemployment Rate (%)</th>\n",
       "      <th>Estimated Employed</th>\n",
       "      <th>Estimated Labour Participation Rate (%)</th>\n",
       "      <th>Area</th>\n",
       "    </tr>\n",
       "  </thead>\n",
       "  <tbody>\n",
       "    <tr>\n",
       "      <th>763</th>\n",
       "      <td>NaN</td>\n",
       "      <td>NaN</td>\n",
       "      <td>NaN</td>\n",
       "      <td>NaN</td>\n",
       "      <td>NaN</td>\n",
       "      <td>NaN</td>\n",
       "      <td>NaN</td>\n",
       "    </tr>\n",
       "    <tr>\n",
       "      <th>764</th>\n",
       "      <td>NaN</td>\n",
       "      <td>NaN</td>\n",
       "      <td>NaN</td>\n",
       "      <td>NaN</td>\n",
       "      <td>NaN</td>\n",
       "      <td>NaN</td>\n",
       "      <td>NaN</td>\n",
       "    </tr>\n",
       "    <tr>\n",
       "      <th>765</th>\n",
       "      <td>NaN</td>\n",
       "      <td>NaN</td>\n",
       "      <td>NaN</td>\n",
       "      <td>NaN</td>\n",
       "      <td>NaN</td>\n",
       "      <td>NaN</td>\n",
       "      <td>NaN</td>\n",
       "    </tr>\n",
       "    <tr>\n",
       "      <th>766</th>\n",
       "      <td>NaN</td>\n",
       "      <td>NaN</td>\n",
       "      <td>NaN</td>\n",
       "      <td>NaN</td>\n",
       "      <td>NaN</td>\n",
       "      <td>NaN</td>\n",
       "      <td>NaN</td>\n",
       "    </tr>\n",
       "    <tr>\n",
       "      <th>767</th>\n",
       "      <td>NaN</td>\n",
       "      <td>NaN</td>\n",
       "      <td>NaN</td>\n",
       "      <td>NaN</td>\n",
       "      <td>NaN</td>\n",
       "      <td>NaN</td>\n",
       "      <td>NaN</td>\n",
       "    </tr>\n",
       "  </tbody>\n",
       "</table>\n",
       "</div>"
      ],
      "text/plain": [
       "    Region  Date  Frequency   Estimated Unemployment Rate (%)   \n",
       "763    NaN   NaN        NaN                               NaN  \\\n",
       "764    NaN   NaN        NaN                               NaN   \n",
       "765    NaN   NaN        NaN                               NaN   \n",
       "766    NaN   NaN        NaN                               NaN   \n",
       "767    NaN   NaN        NaN                               NaN   \n",
       "\n",
       "      Estimated Employed   Estimated Labour Participation Rate (%) Area  \n",
       "763                  NaN                                       NaN  NaN  \n",
       "764                  NaN                                       NaN  NaN  \n",
       "765                  NaN                                       NaN  NaN  \n",
       "766                  NaN                                       NaN  NaN  \n",
       "767                  NaN                                       NaN  NaN  "
      ]
     },
     "execution_count": 13,
     "metadata": {},
     "output_type": "execute_result"
    }
   ],
   "source": [
    "#load data \n",
    "df = pd.read_csv(\"Unemployment in India.csv\")\n",
    "#some more information about the dataframe\n",
    "print(df.head())\n",
    "print(df.describe().T)\n",
    "print(df.info())\n",
    "print(\"Shape:\",df.shape)\n",
    "df.tail()"
   ]
  },
  {
   "cell_type": "code",
   "execution_count": 14,
   "id": "0972cdd2",
   "metadata": {},
   "outputs": [
    {
     "data": {
      "text/plain": [
       "Region                                      0\n",
       " Date                                       0\n",
       " Frequency                                  0\n",
       " Estimated Unemployment Rate (%)            0\n",
       " Estimated Employed                         0\n",
       " Estimated Labour Participation Rate (%)    0\n",
       "Area                                        0\n",
       "dtype: int64"
      ]
     },
     "execution_count": 14,
     "metadata": {},
     "output_type": "execute_result"
    }
   ],
   "source": [
    "#Given Dataframe contain some null values , we have to remove then from df\n",
    "df.dropna(axis=0,inplace=True)\n",
    "df.isnull().sum()"
   ]
  },
  {
   "cell_type": "code",
   "execution_count": 16,
   "id": "dfcb389b",
   "metadata": {},
   "outputs": [
    {
     "data": {
      "text/plain": [
       "Index(['Region', ' Date', ' Frequency', ' Estimated Unemployment Rate (%)',\n",
       "       ' Estimated Employed', ' Estimated Labour Participation Rate (%)',\n",
       "       'Area'],\n",
       "      dtype='object')"
      ]
     },
     "execution_count": 16,
     "metadata": {},
     "output_type": "execute_result"
    }
   ],
   "source": [
    "#Renameing the column names to remove unwanted spaces\n",
    "df.columns"
   ]
  },
  {
   "cell_type": "code",
   "execution_count": 18,
   "id": "c314ef10",
   "metadata": {},
   "outputs": [],
   "source": [
    "df.rename(columns={' Date':'Date',\n",
    "                         ' Frequency':'Frequency',\n",
    "                         ' Estimated Unemployment Rate (%)':'Estimated Unemployment Rate (%)',\n",
    "                        ' Estimated Employed':'Estimated Employed',\n",
    "                        ' Estimated Labour Participation Rate (%)':'Estimated Labour Participation Rate (%)'},inplace=True)"
   ]
  },
  {
   "cell_type": "code",
   "execution_count": 22,
   "id": "d4d360cd",
   "metadata": {},
   "outputs": [
    {
     "data": {
      "text/html": [
       "<div>\n",
       "<style scoped>\n",
       "    .dataframe tbody tr th:only-of-type {\n",
       "        vertical-align: middle;\n",
       "    }\n",
       "\n",
       "    .dataframe tbody tr th {\n",
       "        vertical-align: top;\n",
       "    }\n",
       "\n",
       "    .dataframe thead th {\n",
       "        text-align: right;\n",
       "    }\n",
       "</style>\n",
       "<table border=\"1\" class=\"dataframe\">\n",
       "  <thead>\n",
       "    <tr style=\"text-align: right;\">\n",
       "      <th></th>\n",
       "      <th>Region</th>\n",
       "      <th>Date</th>\n",
       "      <th>Frequency</th>\n",
       "      <th>Estimated Unemployment Rate (%)</th>\n",
       "      <th>Estimated Employed</th>\n",
       "      <th>Estimated Labour Participation Rate (%)</th>\n",
       "      <th>Area</th>\n",
       "    </tr>\n",
       "  </thead>\n",
       "  <tbody>\n",
       "  </tbody>\n",
       "</table>\n",
       "</div>"
      ],
      "text/plain": [
       "Empty DataFrame\n",
       "Columns: [Region, Date, Frequency, Estimated Unemployment Rate (%), Estimated Employed, Estimated Labour Participation Rate (%), Area]\n",
       "Index: []"
      ]
     },
     "execution_count": 22,
     "metadata": {},
     "output_type": "execute_result"
    }
   ],
   "source": [
    "df[df.duplicated()]\n",
    "#no duplication found "
   ]
  },
  {
   "cell_type": "code",
   "execution_count": 27,
   "id": "43279b93",
   "metadata": {},
   "outputs": [
    {
     "data": {
      "text/plain": [
       "Region                                             object\n",
       "Date                                       datetime64[ns]\n",
       "Frequency                                          object\n",
       "Estimated Unemployment Rate (%)                   float64\n",
       "Estimated Employed                                float64\n",
       "Estimated Labour Participation Rate (%)           float64\n",
       "Area                                               object\n",
       "dtype: object"
      ]
     },
     "execution_count": 27,
     "metadata": {},
     "output_type": "execute_result"
    }
   ],
   "source": [
    "df[\"Date\"]=pd.to_datetime(df[\"Date\"],\"dd-mm-yyyy\")\n",
    "df.dtypes"
   ]
  },
  {
   "cell_type": "code",
   "execution_count": 30,
   "id": "ff012068",
   "metadata": {},
   "outputs": [],
   "source": [
    "df['Year']=df['Date'].dt.year"
   ]
  },
  {
   "cell_type": "code",
   "execution_count": 33,
   "id": "4b78d32e",
   "metadata": {},
   "outputs": [
    {
     "data": {
      "text/plain": [
       "Index(['Region', 'Date', 'Frequency', 'Estimated Unemployment Rate (%)',\n",
       "       'Estimated Employed', 'Estimated Labour Participation Rate (%)', 'Area',\n",
       "       'Year'],\n",
       "      dtype='object')"
      ]
     },
     "execution_count": 33,
     "metadata": {},
     "output_type": "execute_result"
    }
   ],
   "source": [
    "df.columns"
   ]
  },
  {
   "cell_type": "code",
   "execution_count": 65,
   "id": "6fb39734",
   "metadata": {},
   "outputs": [
    {
     "data": {
      "application/vnd.plotly.v1+json": {
       "config": {
        "plotlyServerURL": "https://plot.ly"
       },
       "data": [
        {
         "alignmentgroup": "True",
         "hovertemplate": "Region=%{y}<br>Year=2019<br>Estimated Unemployment Rate (%)=%{x}<extra></extra>",
         "legendgroup": "Andhra Pradesh",
         "marker": {
          "color": "#636efa",
          "pattern": {
           "shape": ""
          }
         },
         "name": "Andhra Pradesh",
         "offsetgroup": "Andhra Pradesh",
         "orientation": "h",
         "showlegend": true,
         "textposition": "auto",
         "type": "bar",
         "x": [
          3.65,
          3.05,
          3.75,
          3.32,
          5.17,
          3.52,
          4.12,
          4.38,
          6.09,
          3.8,
          5.64,
          4.61,
          6.01,
          4.7,
          7.54,
          7.88
         ],
         "xaxis": "x",
         "y": [
          "Andhra Pradesh",
          "Andhra Pradesh",
          "Andhra Pradesh",
          "Andhra Pradesh",
          "Andhra Pradesh",
          "Andhra Pradesh",
          "Andhra Pradesh",
          "Andhra Pradesh",
          "Andhra Pradesh",
          "Andhra Pradesh",
          "Andhra Pradesh",
          "Andhra Pradesh",
          "Andhra Pradesh",
          "Andhra Pradesh",
          "Andhra Pradesh",
          "Andhra Pradesh"
         ],
         "yaxis": "y"
        },
        {
         "alignmentgroup": "True",
         "hovertemplate": "Region=%{y}<br>Year=2019<br>Estimated Unemployment Rate (%)=%{x}<extra></extra>",
         "legendgroup": "Assam",
         "marker": {
          "color": "#EF553B",
          "pattern": {
           "shape": ""
          }
         },
         "name": "Assam",
         "offsetgroup": "Assam",
         "orientation": "h",
         "showlegend": true,
         "textposition": "auto",
         "type": "bar",
         "x": [
          4.29,
          5.08,
          4.26,
          5.79,
          4.46,
          4.65,
          4.66,
          7.87,
          9.89,
          3.21,
          10.39,
          9.26,
          11.17,
          6.31,
          5.02
         ],
         "xaxis": "x",
         "y": [
          "Assam",
          "Assam",
          "Assam",
          "Assam",
          "Assam",
          "Assam",
          "Assam",
          "Assam",
          "Assam",
          "Assam",
          "Assam",
          "Assam",
          "Assam",
          "Assam",
          "Assam"
         ],
         "yaxis": "y"
        },
        {
         "alignmentgroup": "True",
         "hovertemplate": "Region=%{y}<br>Year=2019<br>Estimated Unemployment Rate (%)=%{x}<extra></extra>",
         "legendgroup": "Bihar",
         "marker": {
          "color": "#00cc96",
          "pattern": {
           "shape": ""
          }
         },
         "name": "Bihar",
         "offsetgroup": "Bihar",
         "orientation": "h",
         "showlegend": true,
         "textposition": "auto",
         "type": "bar",
         "x": [
          9.27,
          10.2,
          13.44,
          11,
          8.87,
          12.47,
          12.4,
          10.16,
          19.9,
          13.29,
          16.41,
          17.66,
          20.46,
          14.06,
          17.62,
          14.91
         ],
         "xaxis": "x",
         "y": [
          "Bihar",
          "Bihar",
          "Bihar",
          "Bihar",
          "Bihar",
          "Bihar",
          "Bihar",
          "Bihar",
          "Bihar",
          "Bihar",
          "Bihar",
          "Bihar",
          "Bihar",
          "Bihar",
          "Bihar",
          "Bihar"
         ],
         "yaxis": "y"
        },
        {
         "alignmentgroup": "True",
         "hovertemplate": "Region=%{y}<br>Year=2019<br>Estimated Unemployment Rate (%)=%{x}<extra></extra>",
         "legendgroup": "Chhattisgarh",
         "marker": {
          "color": "#ab63fa",
          "pattern": {
           "shape": ""
          }
         },
         "name": "Chhattisgarh",
         "offsetgroup": "Chhattisgarh",
         "orientation": "h",
         "showlegend": true,
         "textposition": "auto",
         "type": "bar",
         "x": [
          9.82,
          6.76,
          4.54,
          4.64,
          8.33,
          6.96,
          2.77,
          6.11,
          9.77,
          11.77,
          8.17,
          6.29,
          9.46,
          10.27,
          8.32,
          3.57
         ],
         "xaxis": "x",
         "y": [
          "Chhattisgarh",
          "Chhattisgarh",
          "Chhattisgarh",
          "Chhattisgarh",
          "Chhattisgarh",
          "Chhattisgarh",
          "Chhattisgarh",
          "Chhattisgarh",
          "Chhattisgarh",
          "Chhattisgarh",
          "Chhattisgarh",
          "Chhattisgarh",
          "Chhattisgarh",
          "Chhattisgarh",
          "Chhattisgarh",
          "Chhattisgarh"
         ],
         "yaxis": "y"
        },
        {
         "alignmentgroup": "True",
         "hovertemplate": "Region=%{y}<br>Year=2019<br>Estimated Unemployment Rate (%)=%{x}<extra></extra>",
         "legendgroup": "Delhi",
         "marker": {
          "color": "#FFA15A",
          "pattern": {
           "shape": ""
          }
         },
         "name": "Delhi",
         "offsetgroup": "Delhi",
         "orientation": "h",
         "showlegend": true,
         "textposition": "auto",
         "type": "bar",
         "x": [
          12.56,
          9.33,
          11.07,
          17.18,
          12.5,
          15.84,
          11.11,
          16.97,
          12.31,
          12.76,
          14.68,
          13.52,
          20.59,
          12.41,
          16.11,
          11.07
         ],
         "xaxis": "x",
         "y": [
          "Delhi",
          "Delhi",
          "Delhi",
          "Delhi",
          "Delhi",
          "Delhi",
          "Delhi",
          "Delhi",
          "Delhi",
          "Delhi",
          "Delhi",
          "Delhi",
          "Delhi",
          "Delhi",
          "Delhi",
          "Delhi"
         ],
         "yaxis": "y"
        },
        {
         "alignmentgroup": "True",
         "hovertemplate": "Region=%{y}<br>Year=2019<br>Estimated Unemployment Rate (%)=%{x}<extra></extra>",
         "legendgroup": "Goa",
         "marker": {
          "color": "#19d3f3",
          "pattern": {
           "shape": ""
          }
         },
         "name": "Goa",
         "offsetgroup": "Goa",
         "orientation": "h",
         "showlegend": true,
         "textposition": "auto",
         "type": "bar",
         "x": [
          2.91,
          5.45,
          10.98,
          1.98,
          3.61,
          7.21,
          23.71,
          3.54,
          2.75,
          13.33,
          12.28,
          4.9,
          3.16,
          12.31,
          25.2,
          16.22
         ],
         "xaxis": "x",
         "y": [
          "Goa",
          "Goa",
          "Goa",
          "Goa",
          "Goa",
          "Goa",
          "Goa",
          "Goa",
          "Goa",
          "Goa",
          "Goa",
          "Goa",
          "Goa",
          "Goa",
          "Goa",
          "Goa"
         ],
         "yaxis": "y"
        },
        {
         "alignmentgroup": "True",
         "hovertemplate": "Region=%{y}<br>Year=2019<br>Estimated Unemployment Rate (%)=%{x}<extra></extra>",
         "legendgroup": "Gujarat",
         "marker": {
          "color": "#FF6692",
          "pattern": {
           "shape": ""
          }
         },
         "name": "Gujarat",
         "offsetgroup": "Gujarat",
         "orientation": "h",
         "showlegend": true,
         "textposition": "auto",
         "type": "bar",
         "x": [
          2.88,
          4.77,
          4.58,
          3.7,
          6.29,
          4.91,
          4.68,
          3.46,
          4.09,
          6.31,
          5.15,
          4.2,
          5.96,
          5.45,
          7.53,
          5.71
         ],
         "xaxis": "x",
         "y": [
          "Gujarat",
          "Gujarat",
          "Gujarat",
          "Gujarat",
          "Gujarat",
          "Gujarat",
          "Gujarat",
          "Gujarat",
          "Gujarat",
          "Gujarat",
          "Gujarat",
          "Gujarat",
          "Gujarat",
          "Gujarat",
          "Gujarat",
          "Gujarat"
         ],
         "yaxis": "y"
        },
        {
         "alignmentgroup": "True",
         "hovertemplate": "Region=%{y}<br>Year=2019<br>Estimated Unemployment Rate (%)=%{x}<extra></extra>",
         "legendgroup": "Haryana",
         "marker": {
          "color": "#B6E880",
          "pattern": {
           "shape": ""
          }
         },
         "name": "Haryana",
         "offsetgroup": "Haryana",
         "orientation": "h",
         "showlegend": true,
         "textposition": "auto",
         "type": "bar",
         "x": [
          14.54,
          23.08,
          16.22,
          30.94,
          16.36,
          24.17,
          16.59,
          29.56,
          24.67,
          20.42,
          25.45,
          24.19,
          26.84,
          21.04,
          27.06,
          23.65
         ],
         "xaxis": "x",
         "y": [
          "Haryana",
          "Haryana",
          "Haryana",
          "Haryana",
          "Haryana",
          "Haryana",
          "Haryana",
          "Haryana",
          "Haryana",
          "Haryana",
          "Haryana",
          "Haryana",
          "Haryana",
          "Haryana",
          "Haryana",
          "Haryana"
         ],
         "yaxis": "y"
        },
        {
         "alignmentgroup": "True",
         "hovertemplate": "Region=%{y}<br>Year=2019<br>Estimated Unemployment Rate (%)=%{x}<extra></extra>",
         "legendgroup": "Himachal Pradesh",
         "marker": {
          "color": "#FF97FF",
          "pattern": {
           "shape": ""
          }
         },
         "name": "Himachal Pradesh",
         "offsetgroup": "Himachal Pradesh",
         "orientation": "h",
         "showlegend": true,
         "textposition": "auto",
         "type": "bar",
         "x": [
          13.68,
          11.43,
          20.59,
          18.56,
          15.98,
          15.81,
          22.86,
          19.46,
          10.88,
          21.43,
          21.51,
          24.48,
          12,
          23.77,
          27.27,
          25.32
         ],
         "xaxis": "x",
         "y": [
          "Himachal Pradesh",
          "Himachal Pradesh",
          "Himachal Pradesh",
          "Himachal Pradesh",
          "Himachal Pradesh",
          "Himachal Pradesh",
          "Himachal Pradesh",
          "Himachal Pradesh",
          "Himachal Pradesh",
          "Himachal Pradesh",
          "Himachal Pradesh",
          "Himachal Pradesh",
          "Himachal Pradesh",
          "Himachal Pradesh",
          "Himachal Pradesh",
          "Himachal Pradesh"
         ],
         "yaxis": "y"
        },
        {
         "alignmentgroup": "True",
         "hovertemplate": "Region=%{y}<br>Year=2019<br>Estimated Unemployment Rate (%)=%{x}<extra></extra>",
         "legendgroup": "Jammu & Kashmir",
         "marker": {
          "color": "#FECB52",
          "pattern": {
           "shape": ""
          }
         },
         "name": "Jammu & Kashmir",
         "offsetgroup": "Jammu & Kashmir",
         "orientation": "h",
         "showlegend": true,
         "textposition": "auto",
         "type": "bar",
         "x": [
          12.78,
          12.09,
          13.67,
          11.32,
          19.27,
          14.73,
          23.04,
          19.88,
          21.55,
          24.06,
          14.29,
          7.02
         ],
         "xaxis": "x",
         "y": [
          "Jammu & Kashmir",
          "Jammu & Kashmir",
          "Jammu & Kashmir",
          "Jammu & Kashmir",
          "Jammu & Kashmir",
          "Jammu & Kashmir",
          "Jammu & Kashmir",
          "Jammu & Kashmir",
          "Jammu & Kashmir",
          "Jammu & Kashmir",
          "Jammu & Kashmir",
          "Jammu & Kashmir"
         ],
         "yaxis": "y"
        },
        {
         "alignmentgroup": "True",
         "hovertemplate": "Region=%{y}<br>Year=2019<br>Estimated Unemployment Rate (%)=%{x}<extra></extra>",
         "legendgroup": "Jharkhand",
         "marker": {
          "color": "#636efa",
          "pattern": {
           "shape": ""
          }
         },
         "name": "Jharkhand",
         "offsetgroup": "Jharkhand",
         "orientation": "h",
         "showlegend": true,
         "textposition": "auto",
         "type": "bar",
         "x": [
          7.11,
          8.46,
          9.98,
          12.06,
          7.12,
          6.57,
          8.07,
          15.15,
          17.23,
          20.51,
          15.67,
          20.25,
          21.16,
          19.05,
          17.34,
          22.01
         ],
         "xaxis": "x",
         "y": [
          "Jharkhand",
          "Jharkhand",
          "Jharkhand",
          "Jharkhand",
          "Jharkhand",
          "Jharkhand",
          "Jharkhand",
          "Jharkhand",
          "Jharkhand",
          "Jharkhand",
          "Jharkhand",
          "Jharkhand",
          "Jharkhand",
          "Jharkhand",
          "Jharkhand",
          "Jharkhand"
         ],
         "yaxis": "y"
        },
        {
         "alignmentgroup": "True",
         "hovertemplate": "Region=%{y}<br>Year=2019<br>Estimated Unemployment Rate (%)=%{x}<extra></extra>",
         "legendgroup": "Karnataka",
         "marker": {
          "color": "#EF553B",
          "pattern": {
           "shape": ""
          }
         },
         "name": "Karnataka",
         "offsetgroup": "Karnataka",
         "orientation": "h",
         "showlegend": true,
         "textposition": "auto",
         "type": "bar",
         "x": [
          5.46,
          5.98,
          0.52,
          0.37,
          3.2,
          7.13,
          1.19,
          0.41,
          6.56,
          5,
          2.29,
          1.27,
          3.57,
          3.87,
          3.44,
          1.56
         ],
         "xaxis": "x",
         "y": [
          "Karnataka",
          "Karnataka",
          "Karnataka",
          "Karnataka",
          "Karnataka",
          "Karnataka",
          "Karnataka",
          "Karnataka",
          "Karnataka",
          "Karnataka",
          "Karnataka",
          "Karnataka",
          "Karnataka",
          "Karnataka",
          "Karnataka",
          "Karnataka"
         ],
         "yaxis": "y"
        },
        {
         "alignmentgroup": "True",
         "hovertemplate": "Region=%{y}<br>Year=2019<br>Estimated Unemployment Rate (%)=%{x}<extra></extra>",
         "legendgroup": "Kerala",
         "marker": {
          "color": "#00cc96",
          "pattern": {
           "shape": ""
          }
         },
         "name": "Kerala",
         "offsetgroup": "Kerala",
         "orientation": "h",
         "showlegend": true,
         "textposition": "auto",
         "type": "bar",
         "x": [
          6.63,
          9,
          4.95,
          10.32,
          5.35,
          9.14,
          5,
          10.77,
          6.11,
          6.67,
          7.58,
          7.69,
          5.52,
          5.35,
          6.71,
          7.31
         ],
         "xaxis": "x",
         "y": [
          "Kerala",
          "Kerala",
          "Kerala",
          "Kerala",
          "Kerala",
          "Kerala",
          "Kerala",
          "Kerala",
          "Kerala",
          "Kerala",
          "Kerala",
          "Kerala",
          "Kerala",
          "Kerala",
          "Kerala",
          "Kerala"
         ],
         "yaxis": "y"
        },
        {
         "alignmentgroup": "True",
         "hovertemplate": "Region=%{y}<br>Year=2019<br>Estimated Unemployment Rate (%)=%{x}<extra></extra>",
         "legendgroup": "Madhya Pradesh",
         "marker": {
          "color": "#ab63fa",
          "pattern": {
           "shape": ""
          }
         },
         "name": "Madhya Pradesh",
         "offsetgroup": "Madhya Pradesh",
         "orientation": "h",
         "showlegend": true,
         "textposition": "auto",
         "type": "bar",
         "x": [
          3.63,
          4.25,
          3.92,
          4.94,
          3.08,
          2.98,
          2.72,
          2.94,
          3.91,
          6.38,
          7.38,
          6.82,
          7,
          4.4,
          6.06,
          6.2
         ],
         "xaxis": "x",
         "y": [
          "Madhya Pradesh",
          "Madhya Pradesh",
          "Madhya Pradesh",
          "Madhya Pradesh",
          "Madhya Pradesh",
          "Madhya Pradesh",
          "Madhya Pradesh",
          "Madhya Pradesh",
          "Madhya Pradesh",
          "Madhya Pradesh",
          "Madhya Pradesh",
          "Madhya Pradesh",
          "Madhya Pradesh",
          "Madhya Pradesh",
          "Madhya Pradesh",
          "Madhya Pradesh"
         ],
         "yaxis": "y"
        },
        {
         "alignmentgroup": "True",
         "hovertemplate": "Region=%{y}<br>Year=2019<br>Estimated Unemployment Rate (%)=%{x}<extra></extra>",
         "legendgroup": "Maharashtra",
         "marker": {
          "color": "#FFA15A",
          "pattern": {
           "shape": ""
          }
         },
         "name": "Maharashtra",
         "offsetgroup": "Maharashtra",
         "orientation": "h",
         "showlegend": true,
         "textposition": "auto",
         "type": "bar",
         "x": [
          3.67,
          4.34,
          3.66,
          3.76,
          4.4,
          3.81,
          3.68,
          3.03,
          6.08,
          6.46,
          6.35,
          7.57,
          7.6,
          7.51,
          7.6,
          7.83
         ],
         "xaxis": "x",
         "y": [
          "Maharashtra",
          "Maharashtra",
          "Maharashtra",
          "Maharashtra",
          "Maharashtra",
          "Maharashtra",
          "Maharashtra",
          "Maharashtra",
          "Maharashtra",
          "Maharashtra",
          "Maharashtra",
          "Maharashtra",
          "Maharashtra",
          "Maharashtra",
          "Maharashtra",
          "Maharashtra"
         ],
         "yaxis": "y"
        },
        {
         "alignmentgroup": "True",
         "hovertemplate": "Region=%{y}<br>Year=2019<br>Estimated Unemployment Rate (%)=%{x}<extra></extra>",
         "legendgroup": "Meghalaya",
         "marker": {
          "color": "#19d3f3",
          "pattern": {
           "shape": ""
          }
         },
         "name": "Meghalaya",
         "offsetgroup": "Meghalaya",
         "orientation": "h",
         "showlegend": true,
         "textposition": "auto",
         "type": "bar",
         "x": [
          3.16,
          4.23,
          1.03,
          0.52,
          0.24,
          3.7,
          1.5,
          1.8,
          8.4,
          8.66,
          4.43,
          5.8,
          5.3,
          7.2,
          3.02,
          5.21
         ],
         "xaxis": "x",
         "y": [
          "Meghalaya",
          "Meghalaya",
          "Meghalaya",
          "Meghalaya",
          "Meghalaya",
          "Meghalaya",
          "Meghalaya",
          "Meghalaya",
          "Meghalaya",
          "Meghalaya",
          "Meghalaya",
          "Meghalaya",
          "Meghalaya",
          "Meghalaya",
          "Meghalaya",
          "Meghalaya"
         ],
         "yaxis": "y"
        },
        {
         "alignmentgroup": "True",
         "hovertemplate": "Region=%{y}<br>Year=2019<br>Estimated Unemployment Rate (%)=%{x}<extra></extra>",
         "legendgroup": "Odisha",
         "marker": {
          "color": "#FF6692",
          "pattern": {
           "shape": ""
          }
         },
         "name": "Odisha",
         "offsetgroup": "Odisha",
         "orientation": "h",
         "showlegend": true,
         "textposition": "auto",
         "type": "bar",
         "x": [
          4.17,
          4.71,
          3.31,
          3.68,
          4.31,
          4.28,
          4.72,
          4.67,
          2.95,
          2.63,
          1.78,
          3.5,
          3.78,
          4.5,
          2.23,
          3.36
         ],
         "xaxis": "x",
         "y": [
          "Odisha",
          "Odisha",
          "Odisha",
          "Odisha",
          "Odisha",
          "Odisha",
          "Odisha",
          "Odisha",
          "Odisha",
          "Odisha",
          "Odisha",
          "Odisha",
          "Odisha",
          "Odisha",
          "Odisha",
          "Odisha"
         ],
         "yaxis": "y"
        },
        {
         "alignmentgroup": "True",
         "hovertemplate": "Region=%{y}<br>Year=2019<br>Estimated Unemployment Rate (%)=%{x}<extra></extra>",
         "legendgroup": "Puducherry",
         "marker": {
          "color": "#B6E880",
          "pattern": {
           "shape": ""
          }
         },
         "name": "Puducherry",
         "offsetgroup": "Puducherry",
         "orientation": "h",
         "showlegend": true,
         "textposition": "auto",
         "type": "bar",
         "x": [
          0,
          0,
          0,
          4.85,
          0,
          1.18,
          0,
          1.99,
          1.25,
          0,
          0,
          8.95,
          1.22,
          1.17,
          1.37,
          5.21
         ],
         "xaxis": "x",
         "y": [
          "Puducherry",
          "Puducherry",
          "Puducherry",
          "Puducherry",
          "Puducherry",
          "Puducherry",
          "Puducherry",
          "Puducherry",
          "Puducherry",
          "Puducherry",
          "Puducherry",
          "Puducherry",
          "Puducherry",
          "Puducherry",
          "Puducherry",
          "Puducherry"
         ],
         "yaxis": "y"
        },
        {
         "alignmentgroup": "True",
         "hovertemplate": "Region=%{y}<br>Year=2019<br>Estimated Unemployment Rate (%)=%{x}<extra></extra>",
         "legendgroup": "Punjab",
         "marker": {
          "color": "#FF97FF",
          "pattern": {
           "shape": ""
          }
         },
         "name": "Punjab",
         "offsetgroup": "Punjab",
         "orientation": "h",
         "showlegend": true,
         "textposition": "auto",
         "type": "bar",
         "x": [
          9.17,
          12.21,
          9.64,
          6.69,
          8.59,
          12.56,
          7.07,
          6.13,
          13.49,
          13.17,
          11.61,
          11.99,
          15.69,
          13.75,
          10.39,
          11.97
         ],
         "xaxis": "x",
         "y": [
          "Punjab",
          "Punjab",
          "Punjab",
          "Punjab",
          "Punjab",
          "Punjab",
          "Punjab",
          "Punjab",
          "Punjab",
          "Punjab",
          "Punjab",
          "Punjab",
          "Punjab",
          "Punjab",
          "Punjab",
          "Punjab"
         ],
         "yaxis": "y"
        },
        {
         "alignmentgroup": "True",
         "hovertemplate": "Region=%{y}<br>Year=2019<br>Estimated Unemployment Rate (%)=%{x}<extra></extra>",
         "legendgroup": "Rajasthan",
         "marker": {
          "color": "#FECB52",
          "pattern": {
           "shape": ""
          }
         },
         "name": "Rajasthan",
         "offsetgroup": "Rajasthan",
         "orientation": "h",
         "showlegend": true,
         "textposition": "auto",
         "type": "bar",
         "x": [
          4.03,
          13.7,
          9.7,
          12.5,
          5.45,
          14.66,
          10.47,
          13.96,
          13.62,
          14.36,
          11.67,
          14.71,
          12.63,
          13.02,
          14.3,
          18.04
         ],
         "xaxis": "x",
         "y": [
          "Rajasthan",
          "Rajasthan",
          "Rajasthan",
          "Rajasthan",
          "Rajasthan",
          "Rajasthan",
          "Rajasthan",
          "Rajasthan",
          "Rajasthan",
          "Rajasthan",
          "Rajasthan",
          "Rajasthan",
          "Rajasthan",
          "Rajasthan",
          "Rajasthan",
          "Rajasthan"
         ],
         "yaxis": "y"
        },
        {
         "alignmentgroup": "True",
         "hovertemplate": "Region=%{y}<br>Year=2019<br>Estimated Unemployment Rate (%)=%{x}<extra></extra>",
         "legendgroup": "Sikkim",
         "marker": {
          "color": "#636efa",
          "pattern": {
           "shape": ""
          }
         },
         "name": "Sikkim",
         "offsetgroup": "Sikkim",
         "orientation": "h",
         "showlegend": true,
         "textposition": "auto",
         "type": "bar",
         "x": [
          5.48,
          13.11,
          1,
          8.2,
          7.76,
          2.56,
          4.82,
          4.81,
          9.68,
          4.04,
          7.37
         ],
         "xaxis": "x",
         "y": [
          "Sikkim",
          "Sikkim",
          "Sikkim",
          "Sikkim",
          "Sikkim",
          "Sikkim",
          "Sikkim",
          "Sikkim",
          "Sikkim",
          "Sikkim",
          "Sikkim"
         ],
         "yaxis": "y"
        },
        {
         "alignmentgroup": "True",
         "hovertemplate": "Region=%{y}<br>Year=2019<br>Estimated Unemployment Rate (%)=%{x}<extra></extra>",
         "legendgroup": "Tamil Nadu",
         "marker": {
          "color": "#EF553B",
          "pattern": {
           "shape": ""
          }
         },
         "name": "Tamil Nadu",
         "offsetgroup": "Tamil Nadu",
         "orientation": "h",
         "showlegend": true,
         "textposition": "auto",
         "type": "bar",
         "x": [
          0.97,
          0.92,
          6.01,
          2.91,
          1.71,
          1.46,
          2.46,
          3.73,
          0.89,
          1.56,
          3.18,
          9.53,
          1.86,
          1.13,
          2.65,
          8.05
         ],
         "xaxis": "x",
         "y": [
          "Tamil Nadu",
          "Tamil Nadu",
          "Tamil Nadu",
          "Tamil Nadu",
          "Tamil Nadu",
          "Tamil Nadu",
          "Tamil Nadu",
          "Tamil Nadu",
          "Tamil Nadu",
          "Tamil Nadu",
          "Tamil Nadu",
          "Tamil Nadu",
          "Tamil Nadu",
          "Tamil Nadu",
          "Tamil Nadu",
          "Tamil Nadu"
         ],
         "yaxis": "y"
        },
        {
         "alignmentgroup": "True",
         "hovertemplate": "Region=%{y}<br>Year=2019<br>Estimated Unemployment Rate (%)=%{x}<extra></extra>",
         "legendgroup": "Telangana",
         "marker": {
          "color": "#00cc96",
          "pattern": {
           "shape": ""
          }
         },
         "name": "Telangana",
         "offsetgroup": "Telangana",
         "orientation": "h",
         "showlegend": true,
         "textposition": "auto",
         "type": "bar",
         "x": [
          2.23,
          5.92,
          2.45,
          1.4,
          5.49,
          7.29,
          6.47,
          1.35,
          1.52,
          1.43,
          3.73,
          4.19,
          6.19,
          6.74,
          5.23,
          4.22
         ],
         "xaxis": "x",
         "y": [
          "Telangana",
          "Telangana",
          "Telangana",
          "Telangana",
          "Telangana",
          "Telangana",
          "Telangana",
          "Telangana",
          "Telangana",
          "Telangana",
          "Telangana",
          "Telangana",
          "Telangana",
          "Telangana",
          "Telangana",
          "Telangana"
         ],
         "yaxis": "y"
        },
        {
         "alignmentgroup": "True",
         "hovertemplate": "Region=%{y}<br>Year=2019<br>Estimated Unemployment Rate (%)=%{x}<extra></extra>",
         "legendgroup": "Tripura",
         "marker": {
          "color": "#ab63fa",
          "pattern": {
           "shape": ""
          }
         },
         "name": "Tripura",
         "offsetgroup": "Tripura",
         "orientation": "h",
         "showlegend": true,
         "textposition": "auto",
         "type": "bar",
         "x": [
          29.25,
          26.64,
          22.47,
          25.49,
          30.23,
          27.54,
          25.25,
          26.53,
          34.69,
          25.59,
          25.81,
          33.45,
          33.57,
          26.67,
          27.15,
          33.48
         ],
         "xaxis": "x",
         "y": [
          "Tripura",
          "Tripura",
          "Tripura",
          "Tripura",
          "Tripura",
          "Tripura",
          "Tripura",
          "Tripura",
          "Tripura",
          "Tripura",
          "Tripura",
          "Tripura",
          "Tripura",
          "Tripura",
          "Tripura",
          "Tripura"
         ],
         "yaxis": "y"
        },
        {
         "alignmentgroup": "True",
         "hovertemplate": "Region=%{y}<br>Year=2019<br>Estimated Unemployment Rate (%)=%{x}<extra></extra>",
         "legendgroup": "Uttar Pradesh",
         "marker": {
          "color": "#FFA15A",
          "pattern": {
           "shape": ""
          }
         },
         "name": "Uttar Pradesh",
         "offsetgroup": "Uttar Pradesh",
         "orientation": "h",
         "showlegend": true,
         "textposition": "auto",
         "type": "bar",
         "x": [
          10.26,
          11.13,
          9.19,
          11.47,
          6.45,
          10.18,
          6.94,
          8.43,
          14.4,
          11.62,
          11.8,
          14.73,
          13.58,
          10.35,
          11.31,
          12.37
         ],
         "xaxis": "x",
         "y": [
          "Uttar Pradesh",
          "Uttar Pradesh",
          "Uttar Pradesh",
          "Uttar Pradesh",
          "Uttar Pradesh",
          "Uttar Pradesh",
          "Uttar Pradesh",
          "Uttar Pradesh",
          "Uttar Pradesh",
          "Uttar Pradesh",
          "Uttar Pradesh",
          "Uttar Pradesh",
          "Uttar Pradesh",
          "Uttar Pradesh",
          "Uttar Pradesh",
          "Uttar Pradesh"
         ],
         "yaxis": "y"
        },
        {
         "alignmentgroup": "True",
         "hovertemplate": "Region=%{y}<br>Year=2019<br>Estimated Unemployment Rate (%)=%{x}<extra></extra>",
         "legendgroup": "Uttarakhand",
         "marker": {
          "color": "#19d3f3",
          "pattern": {
           "shape": ""
          }
         },
         "name": "Uttarakhand",
         "offsetgroup": "Uttarakhand",
         "orientation": "h",
         "showlegend": true,
         "textposition": "auto",
         "type": "bar",
         "x": [
          1.63,
          4.65,
          5.74,
          6.11,
          3.47,
          4.83,
          5.56,
          4.52,
          9.17,
          4.69,
          6.94,
          7.43,
          9.62,
          4.72,
          6.34,
          7.39
         ],
         "xaxis": "x",
         "y": [
          "Uttarakhand",
          "Uttarakhand",
          "Uttarakhand",
          "Uttarakhand",
          "Uttarakhand",
          "Uttarakhand",
          "Uttarakhand",
          "Uttarakhand",
          "Uttarakhand",
          "Uttarakhand",
          "Uttarakhand",
          "Uttarakhand",
          "Uttarakhand",
          "Uttarakhand",
          "Uttarakhand",
          "Uttarakhand"
         ],
         "yaxis": "y"
        },
        {
         "alignmentgroup": "True",
         "hovertemplate": "Region=%{y}<br>Year=2019<br>Estimated Unemployment Rate (%)=%{x}<extra></extra>",
         "legendgroup": "West Bengal",
         "marker": {
          "color": "#FF6692",
          "pattern": {
           "shape": ""
          }
         },
         "name": "West Bengal",
         "offsetgroup": "West Bengal",
         "orientation": "h",
         "showlegend": true,
         "textposition": "auto",
         "type": "bar",
         "x": [
          6.02,
          5.85,
          5.62,
          5.58,
          5.26,
          6.78,
          5.83,
          5.79,
          7.25,
          7.38,
          7.91,
          7.27,
          7.79,
          7.83,
          6.61,
          7.24
         ],
         "xaxis": "x",
         "y": [
          "West Bengal",
          "West Bengal",
          "West Bengal",
          "West Bengal",
          "West Bengal",
          "West Bengal",
          "West Bengal",
          "West Bengal",
          "West Bengal",
          "West Bengal",
          "West Bengal",
          "West Bengal",
          "West Bengal",
          "West Bengal",
          "West Bengal",
          "West Bengal"
         ],
         "yaxis": "y"
        },
        {
         "alignmentgroup": "True",
         "hovertemplate": "Region=%{y}<br>Year=2019<br>Estimated Unemployment Rate (%)=%{x}<extra></extra>",
         "legendgroup": "Chandigarh",
         "marker": {
          "color": "#B6E880",
          "pattern": {
           "shape": ""
          }
         },
         "name": "Chandigarh",
         "offsetgroup": "Chandigarh",
         "orientation": "h",
         "showlegend": true,
         "textposition": "auto",
         "type": "bar",
         "x": [
          18.35,
          12.4,
          21.8,
          9.52,
          20.14,
          13.99,
          22.05,
          8.33
         ],
         "xaxis": "x",
         "y": [
          "Chandigarh",
          "Chandigarh",
          "Chandigarh",
          "Chandigarh",
          "Chandigarh",
          "Chandigarh",
          "Chandigarh",
          "Chandigarh"
         ],
         "yaxis": "y"
        }
       ],
       "frames": [
        {
         "data": [
          {
           "alignmentgroup": "True",
           "hovertemplate": "Region=%{y}<br>Year=2019<br>Estimated Unemployment Rate (%)=%{x}<extra></extra>",
           "legendgroup": "Andhra Pradesh",
           "marker": {
            "color": "#636efa",
            "pattern": {
             "shape": ""
            }
           },
           "name": "Andhra Pradesh",
           "offsetgroup": "Andhra Pradesh",
           "orientation": "h",
           "showlegend": true,
           "textposition": "auto",
           "type": "bar",
           "x": [
            3.65,
            3.05,
            3.75,
            3.32,
            5.17,
            3.52,
            4.12,
            4.38,
            6.09,
            3.8,
            5.64,
            4.61,
            6.01,
            4.7,
            7.54,
            7.88
           ],
           "xaxis": "x",
           "y": [
            "Andhra Pradesh",
            "Andhra Pradesh",
            "Andhra Pradesh",
            "Andhra Pradesh",
            "Andhra Pradesh",
            "Andhra Pradesh",
            "Andhra Pradesh",
            "Andhra Pradesh",
            "Andhra Pradesh",
            "Andhra Pradesh",
            "Andhra Pradesh",
            "Andhra Pradesh",
            "Andhra Pradesh",
            "Andhra Pradesh",
            "Andhra Pradesh",
            "Andhra Pradesh"
           ],
           "yaxis": "y"
          },
          {
           "alignmentgroup": "True",
           "hovertemplate": "Region=%{y}<br>Year=2019<br>Estimated Unemployment Rate (%)=%{x}<extra></extra>",
           "legendgroup": "Assam",
           "marker": {
            "color": "#EF553B",
            "pattern": {
             "shape": ""
            }
           },
           "name": "Assam",
           "offsetgroup": "Assam",
           "orientation": "h",
           "showlegend": true,
           "textposition": "auto",
           "type": "bar",
           "x": [
            4.29,
            5.08,
            4.26,
            5.79,
            4.46,
            4.65,
            4.66,
            7.87,
            9.89,
            3.21,
            10.39,
            9.26,
            11.17,
            6.31,
            5.02
           ],
           "xaxis": "x",
           "y": [
            "Assam",
            "Assam",
            "Assam",
            "Assam",
            "Assam",
            "Assam",
            "Assam",
            "Assam",
            "Assam",
            "Assam",
            "Assam",
            "Assam",
            "Assam",
            "Assam",
            "Assam"
           ],
           "yaxis": "y"
          },
          {
           "alignmentgroup": "True",
           "hovertemplate": "Region=%{y}<br>Year=2019<br>Estimated Unemployment Rate (%)=%{x}<extra></extra>",
           "legendgroup": "Bihar",
           "marker": {
            "color": "#00cc96",
            "pattern": {
             "shape": ""
            }
           },
           "name": "Bihar",
           "offsetgroup": "Bihar",
           "orientation": "h",
           "showlegend": true,
           "textposition": "auto",
           "type": "bar",
           "x": [
            9.27,
            10.2,
            13.44,
            11,
            8.87,
            12.47,
            12.4,
            10.16,
            19.9,
            13.29,
            16.41,
            17.66,
            20.46,
            14.06,
            17.62,
            14.91
           ],
           "xaxis": "x",
           "y": [
            "Bihar",
            "Bihar",
            "Bihar",
            "Bihar",
            "Bihar",
            "Bihar",
            "Bihar",
            "Bihar",
            "Bihar",
            "Bihar",
            "Bihar",
            "Bihar",
            "Bihar",
            "Bihar",
            "Bihar",
            "Bihar"
           ],
           "yaxis": "y"
          },
          {
           "alignmentgroup": "True",
           "hovertemplate": "Region=%{y}<br>Year=2019<br>Estimated Unemployment Rate (%)=%{x}<extra></extra>",
           "legendgroup": "Chhattisgarh",
           "marker": {
            "color": "#ab63fa",
            "pattern": {
             "shape": ""
            }
           },
           "name": "Chhattisgarh",
           "offsetgroup": "Chhattisgarh",
           "orientation": "h",
           "showlegend": true,
           "textposition": "auto",
           "type": "bar",
           "x": [
            9.82,
            6.76,
            4.54,
            4.64,
            8.33,
            6.96,
            2.77,
            6.11,
            9.77,
            11.77,
            8.17,
            6.29,
            9.46,
            10.27,
            8.32,
            3.57
           ],
           "xaxis": "x",
           "y": [
            "Chhattisgarh",
            "Chhattisgarh",
            "Chhattisgarh",
            "Chhattisgarh",
            "Chhattisgarh",
            "Chhattisgarh",
            "Chhattisgarh",
            "Chhattisgarh",
            "Chhattisgarh",
            "Chhattisgarh",
            "Chhattisgarh",
            "Chhattisgarh",
            "Chhattisgarh",
            "Chhattisgarh",
            "Chhattisgarh",
            "Chhattisgarh"
           ],
           "yaxis": "y"
          },
          {
           "alignmentgroup": "True",
           "hovertemplate": "Region=%{y}<br>Year=2019<br>Estimated Unemployment Rate (%)=%{x}<extra></extra>",
           "legendgroup": "Delhi",
           "marker": {
            "color": "#FFA15A",
            "pattern": {
             "shape": ""
            }
           },
           "name": "Delhi",
           "offsetgroup": "Delhi",
           "orientation": "h",
           "showlegend": true,
           "textposition": "auto",
           "type": "bar",
           "x": [
            12.56,
            9.33,
            11.07,
            17.18,
            12.5,
            15.84,
            11.11,
            16.97,
            12.31,
            12.76,
            14.68,
            13.52,
            20.59,
            12.41,
            16.11,
            11.07
           ],
           "xaxis": "x",
           "y": [
            "Delhi",
            "Delhi",
            "Delhi",
            "Delhi",
            "Delhi",
            "Delhi",
            "Delhi",
            "Delhi",
            "Delhi",
            "Delhi",
            "Delhi",
            "Delhi",
            "Delhi",
            "Delhi",
            "Delhi",
            "Delhi"
           ],
           "yaxis": "y"
          },
          {
           "alignmentgroup": "True",
           "hovertemplate": "Region=%{y}<br>Year=2019<br>Estimated Unemployment Rate (%)=%{x}<extra></extra>",
           "legendgroup": "Goa",
           "marker": {
            "color": "#19d3f3",
            "pattern": {
             "shape": ""
            }
           },
           "name": "Goa",
           "offsetgroup": "Goa",
           "orientation": "h",
           "showlegend": true,
           "textposition": "auto",
           "type": "bar",
           "x": [
            2.91,
            5.45,
            10.98,
            1.98,
            3.61,
            7.21,
            23.71,
            3.54,
            2.75,
            13.33,
            12.28,
            4.9,
            3.16,
            12.31,
            25.2,
            16.22
           ],
           "xaxis": "x",
           "y": [
            "Goa",
            "Goa",
            "Goa",
            "Goa",
            "Goa",
            "Goa",
            "Goa",
            "Goa",
            "Goa",
            "Goa",
            "Goa",
            "Goa",
            "Goa",
            "Goa",
            "Goa",
            "Goa"
           ],
           "yaxis": "y"
          },
          {
           "alignmentgroup": "True",
           "hovertemplate": "Region=%{y}<br>Year=2019<br>Estimated Unemployment Rate (%)=%{x}<extra></extra>",
           "legendgroup": "Gujarat",
           "marker": {
            "color": "#FF6692",
            "pattern": {
             "shape": ""
            }
           },
           "name": "Gujarat",
           "offsetgroup": "Gujarat",
           "orientation": "h",
           "showlegend": true,
           "textposition": "auto",
           "type": "bar",
           "x": [
            2.88,
            4.77,
            4.58,
            3.7,
            6.29,
            4.91,
            4.68,
            3.46,
            4.09,
            6.31,
            5.15,
            4.2,
            5.96,
            5.45,
            7.53,
            5.71
           ],
           "xaxis": "x",
           "y": [
            "Gujarat",
            "Gujarat",
            "Gujarat",
            "Gujarat",
            "Gujarat",
            "Gujarat",
            "Gujarat",
            "Gujarat",
            "Gujarat",
            "Gujarat",
            "Gujarat",
            "Gujarat",
            "Gujarat",
            "Gujarat",
            "Gujarat",
            "Gujarat"
           ],
           "yaxis": "y"
          },
          {
           "alignmentgroup": "True",
           "hovertemplate": "Region=%{y}<br>Year=2019<br>Estimated Unemployment Rate (%)=%{x}<extra></extra>",
           "legendgroup": "Haryana",
           "marker": {
            "color": "#B6E880",
            "pattern": {
             "shape": ""
            }
           },
           "name": "Haryana",
           "offsetgroup": "Haryana",
           "orientation": "h",
           "showlegend": true,
           "textposition": "auto",
           "type": "bar",
           "x": [
            14.54,
            23.08,
            16.22,
            30.94,
            16.36,
            24.17,
            16.59,
            29.56,
            24.67,
            20.42,
            25.45,
            24.19,
            26.84,
            21.04,
            27.06,
            23.65
           ],
           "xaxis": "x",
           "y": [
            "Haryana",
            "Haryana",
            "Haryana",
            "Haryana",
            "Haryana",
            "Haryana",
            "Haryana",
            "Haryana",
            "Haryana",
            "Haryana",
            "Haryana",
            "Haryana",
            "Haryana",
            "Haryana",
            "Haryana",
            "Haryana"
           ],
           "yaxis": "y"
          },
          {
           "alignmentgroup": "True",
           "hovertemplate": "Region=%{y}<br>Year=2019<br>Estimated Unemployment Rate (%)=%{x}<extra></extra>",
           "legendgroup": "Himachal Pradesh",
           "marker": {
            "color": "#FF97FF",
            "pattern": {
             "shape": ""
            }
           },
           "name": "Himachal Pradesh",
           "offsetgroup": "Himachal Pradesh",
           "orientation": "h",
           "showlegend": true,
           "textposition": "auto",
           "type": "bar",
           "x": [
            13.68,
            11.43,
            20.59,
            18.56,
            15.98,
            15.81,
            22.86,
            19.46,
            10.88,
            21.43,
            21.51,
            24.48,
            12,
            23.77,
            27.27,
            25.32
           ],
           "xaxis": "x",
           "y": [
            "Himachal Pradesh",
            "Himachal Pradesh",
            "Himachal Pradesh",
            "Himachal Pradesh",
            "Himachal Pradesh",
            "Himachal Pradesh",
            "Himachal Pradesh",
            "Himachal Pradesh",
            "Himachal Pradesh",
            "Himachal Pradesh",
            "Himachal Pradesh",
            "Himachal Pradesh",
            "Himachal Pradesh",
            "Himachal Pradesh",
            "Himachal Pradesh",
            "Himachal Pradesh"
           ],
           "yaxis": "y"
          },
          {
           "alignmentgroup": "True",
           "hovertemplate": "Region=%{y}<br>Year=2019<br>Estimated Unemployment Rate (%)=%{x}<extra></extra>",
           "legendgroup": "Jammu & Kashmir",
           "marker": {
            "color": "#FECB52",
            "pattern": {
             "shape": ""
            }
           },
           "name": "Jammu & Kashmir",
           "offsetgroup": "Jammu & Kashmir",
           "orientation": "h",
           "showlegend": true,
           "textposition": "auto",
           "type": "bar",
           "x": [
            12.78,
            12.09,
            13.67,
            11.32,
            19.27,
            14.73,
            23.04,
            19.88,
            21.55,
            24.06,
            14.29,
            7.02
           ],
           "xaxis": "x",
           "y": [
            "Jammu & Kashmir",
            "Jammu & Kashmir",
            "Jammu & Kashmir",
            "Jammu & Kashmir",
            "Jammu & Kashmir",
            "Jammu & Kashmir",
            "Jammu & Kashmir",
            "Jammu & Kashmir",
            "Jammu & Kashmir",
            "Jammu & Kashmir",
            "Jammu & Kashmir",
            "Jammu & Kashmir"
           ],
           "yaxis": "y"
          },
          {
           "alignmentgroup": "True",
           "hovertemplate": "Region=%{y}<br>Year=2019<br>Estimated Unemployment Rate (%)=%{x}<extra></extra>",
           "legendgroup": "Jharkhand",
           "marker": {
            "color": "#636efa",
            "pattern": {
             "shape": ""
            }
           },
           "name": "Jharkhand",
           "offsetgroup": "Jharkhand",
           "orientation": "h",
           "showlegend": true,
           "textposition": "auto",
           "type": "bar",
           "x": [
            7.11,
            8.46,
            9.98,
            12.06,
            7.12,
            6.57,
            8.07,
            15.15,
            17.23,
            20.51,
            15.67,
            20.25,
            21.16,
            19.05,
            17.34,
            22.01
           ],
           "xaxis": "x",
           "y": [
            "Jharkhand",
            "Jharkhand",
            "Jharkhand",
            "Jharkhand",
            "Jharkhand",
            "Jharkhand",
            "Jharkhand",
            "Jharkhand",
            "Jharkhand",
            "Jharkhand",
            "Jharkhand",
            "Jharkhand",
            "Jharkhand",
            "Jharkhand",
            "Jharkhand",
            "Jharkhand"
           ],
           "yaxis": "y"
          },
          {
           "alignmentgroup": "True",
           "hovertemplate": "Region=%{y}<br>Year=2019<br>Estimated Unemployment Rate (%)=%{x}<extra></extra>",
           "legendgroup": "Karnataka",
           "marker": {
            "color": "#EF553B",
            "pattern": {
             "shape": ""
            }
           },
           "name": "Karnataka",
           "offsetgroup": "Karnataka",
           "orientation": "h",
           "showlegend": true,
           "textposition": "auto",
           "type": "bar",
           "x": [
            5.46,
            5.98,
            0.52,
            0.37,
            3.2,
            7.13,
            1.19,
            0.41,
            6.56,
            5,
            2.29,
            1.27,
            3.57,
            3.87,
            3.44,
            1.56
           ],
           "xaxis": "x",
           "y": [
            "Karnataka",
            "Karnataka",
            "Karnataka",
            "Karnataka",
            "Karnataka",
            "Karnataka",
            "Karnataka",
            "Karnataka",
            "Karnataka",
            "Karnataka",
            "Karnataka",
            "Karnataka",
            "Karnataka",
            "Karnataka",
            "Karnataka",
            "Karnataka"
           ],
           "yaxis": "y"
          },
          {
           "alignmentgroup": "True",
           "hovertemplate": "Region=%{y}<br>Year=2019<br>Estimated Unemployment Rate (%)=%{x}<extra></extra>",
           "legendgroup": "Kerala",
           "marker": {
            "color": "#00cc96",
            "pattern": {
             "shape": ""
            }
           },
           "name": "Kerala",
           "offsetgroup": "Kerala",
           "orientation": "h",
           "showlegend": true,
           "textposition": "auto",
           "type": "bar",
           "x": [
            6.63,
            9,
            4.95,
            10.32,
            5.35,
            9.14,
            5,
            10.77,
            6.11,
            6.67,
            7.58,
            7.69,
            5.52,
            5.35,
            6.71,
            7.31
           ],
           "xaxis": "x",
           "y": [
            "Kerala",
            "Kerala",
            "Kerala",
            "Kerala",
            "Kerala",
            "Kerala",
            "Kerala",
            "Kerala",
            "Kerala",
            "Kerala",
            "Kerala",
            "Kerala",
            "Kerala",
            "Kerala",
            "Kerala",
            "Kerala"
           ],
           "yaxis": "y"
          },
          {
           "alignmentgroup": "True",
           "hovertemplate": "Region=%{y}<br>Year=2019<br>Estimated Unemployment Rate (%)=%{x}<extra></extra>",
           "legendgroup": "Madhya Pradesh",
           "marker": {
            "color": "#ab63fa",
            "pattern": {
             "shape": ""
            }
           },
           "name": "Madhya Pradesh",
           "offsetgroup": "Madhya Pradesh",
           "orientation": "h",
           "showlegend": true,
           "textposition": "auto",
           "type": "bar",
           "x": [
            3.63,
            4.25,
            3.92,
            4.94,
            3.08,
            2.98,
            2.72,
            2.94,
            3.91,
            6.38,
            7.38,
            6.82,
            7,
            4.4,
            6.06,
            6.2
           ],
           "xaxis": "x",
           "y": [
            "Madhya Pradesh",
            "Madhya Pradesh",
            "Madhya Pradesh",
            "Madhya Pradesh",
            "Madhya Pradesh",
            "Madhya Pradesh",
            "Madhya Pradesh",
            "Madhya Pradesh",
            "Madhya Pradesh",
            "Madhya Pradesh",
            "Madhya Pradesh",
            "Madhya Pradesh",
            "Madhya Pradesh",
            "Madhya Pradesh",
            "Madhya Pradesh",
            "Madhya Pradesh"
           ],
           "yaxis": "y"
          },
          {
           "alignmentgroup": "True",
           "hovertemplate": "Region=%{y}<br>Year=2019<br>Estimated Unemployment Rate (%)=%{x}<extra></extra>",
           "legendgroup": "Maharashtra",
           "marker": {
            "color": "#FFA15A",
            "pattern": {
             "shape": ""
            }
           },
           "name": "Maharashtra",
           "offsetgroup": "Maharashtra",
           "orientation": "h",
           "showlegend": true,
           "textposition": "auto",
           "type": "bar",
           "x": [
            3.67,
            4.34,
            3.66,
            3.76,
            4.4,
            3.81,
            3.68,
            3.03,
            6.08,
            6.46,
            6.35,
            7.57,
            7.6,
            7.51,
            7.6,
            7.83
           ],
           "xaxis": "x",
           "y": [
            "Maharashtra",
            "Maharashtra",
            "Maharashtra",
            "Maharashtra",
            "Maharashtra",
            "Maharashtra",
            "Maharashtra",
            "Maharashtra",
            "Maharashtra",
            "Maharashtra",
            "Maharashtra",
            "Maharashtra",
            "Maharashtra",
            "Maharashtra",
            "Maharashtra",
            "Maharashtra"
           ],
           "yaxis": "y"
          },
          {
           "alignmentgroup": "True",
           "hovertemplate": "Region=%{y}<br>Year=2019<br>Estimated Unemployment Rate (%)=%{x}<extra></extra>",
           "legendgroup": "Meghalaya",
           "marker": {
            "color": "#19d3f3",
            "pattern": {
             "shape": ""
            }
           },
           "name": "Meghalaya",
           "offsetgroup": "Meghalaya",
           "orientation": "h",
           "showlegend": true,
           "textposition": "auto",
           "type": "bar",
           "x": [
            3.16,
            4.23,
            1.03,
            0.52,
            0.24,
            3.7,
            1.5,
            1.8,
            8.4,
            8.66,
            4.43,
            5.8,
            5.3,
            7.2,
            3.02,
            5.21
           ],
           "xaxis": "x",
           "y": [
            "Meghalaya",
            "Meghalaya",
            "Meghalaya",
            "Meghalaya",
            "Meghalaya",
            "Meghalaya",
            "Meghalaya",
            "Meghalaya",
            "Meghalaya",
            "Meghalaya",
            "Meghalaya",
            "Meghalaya",
            "Meghalaya",
            "Meghalaya",
            "Meghalaya",
            "Meghalaya"
           ],
           "yaxis": "y"
          },
          {
           "alignmentgroup": "True",
           "hovertemplate": "Region=%{y}<br>Year=2019<br>Estimated Unemployment Rate (%)=%{x}<extra></extra>",
           "legendgroup": "Odisha",
           "marker": {
            "color": "#FF6692",
            "pattern": {
             "shape": ""
            }
           },
           "name": "Odisha",
           "offsetgroup": "Odisha",
           "orientation": "h",
           "showlegend": true,
           "textposition": "auto",
           "type": "bar",
           "x": [
            4.17,
            4.71,
            3.31,
            3.68,
            4.31,
            4.28,
            4.72,
            4.67,
            2.95,
            2.63,
            1.78,
            3.5,
            3.78,
            4.5,
            2.23,
            3.36
           ],
           "xaxis": "x",
           "y": [
            "Odisha",
            "Odisha",
            "Odisha",
            "Odisha",
            "Odisha",
            "Odisha",
            "Odisha",
            "Odisha",
            "Odisha",
            "Odisha",
            "Odisha",
            "Odisha",
            "Odisha",
            "Odisha",
            "Odisha",
            "Odisha"
           ],
           "yaxis": "y"
          },
          {
           "alignmentgroup": "True",
           "hovertemplate": "Region=%{y}<br>Year=2019<br>Estimated Unemployment Rate (%)=%{x}<extra></extra>",
           "legendgroup": "Puducherry",
           "marker": {
            "color": "#B6E880",
            "pattern": {
             "shape": ""
            }
           },
           "name": "Puducherry",
           "offsetgroup": "Puducherry",
           "orientation": "h",
           "showlegend": true,
           "textposition": "auto",
           "type": "bar",
           "x": [
            0,
            0,
            0,
            4.85,
            0,
            1.18,
            0,
            1.99,
            1.25,
            0,
            0,
            8.95,
            1.22,
            1.17,
            1.37,
            5.21
           ],
           "xaxis": "x",
           "y": [
            "Puducherry",
            "Puducherry",
            "Puducherry",
            "Puducherry",
            "Puducherry",
            "Puducherry",
            "Puducherry",
            "Puducherry",
            "Puducherry",
            "Puducherry",
            "Puducherry",
            "Puducherry",
            "Puducherry",
            "Puducherry",
            "Puducherry",
            "Puducherry"
           ],
           "yaxis": "y"
          },
          {
           "alignmentgroup": "True",
           "hovertemplate": "Region=%{y}<br>Year=2019<br>Estimated Unemployment Rate (%)=%{x}<extra></extra>",
           "legendgroup": "Punjab",
           "marker": {
            "color": "#FF97FF",
            "pattern": {
             "shape": ""
            }
           },
           "name": "Punjab",
           "offsetgroup": "Punjab",
           "orientation": "h",
           "showlegend": true,
           "textposition": "auto",
           "type": "bar",
           "x": [
            9.17,
            12.21,
            9.64,
            6.69,
            8.59,
            12.56,
            7.07,
            6.13,
            13.49,
            13.17,
            11.61,
            11.99,
            15.69,
            13.75,
            10.39,
            11.97
           ],
           "xaxis": "x",
           "y": [
            "Punjab",
            "Punjab",
            "Punjab",
            "Punjab",
            "Punjab",
            "Punjab",
            "Punjab",
            "Punjab",
            "Punjab",
            "Punjab",
            "Punjab",
            "Punjab",
            "Punjab",
            "Punjab",
            "Punjab",
            "Punjab"
           ],
           "yaxis": "y"
          },
          {
           "alignmentgroup": "True",
           "hovertemplate": "Region=%{y}<br>Year=2019<br>Estimated Unemployment Rate (%)=%{x}<extra></extra>",
           "legendgroup": "Rajasthan",
           "marker": {
            "color": "#FECB52",
            "pattern": {
             "shape": ""
            }
           },
           "name": "Rajasthan",
           "offsetgroup": "Rajasthan",
           "orientation": "h",
           "showlegend": true,
           "textposition": "auto",
           "type": "bar",
           "x": [
            4.03,
            13.7,
            9.7,
            12.5,
            5.45,
            14.66,
            10.47,
            13.96,
            13.62,
            14.36,
            11.67,
            14.71,
            12.63,
            13.02,
            14.3,
            18.04
           ],
           "xaxis": "x",
           "y": [
            "Rajasthan",
            "Rajasthan",
            "Rajasthan",
            "Rajasthan",
            "Rajasthan",
            "Rajasthan",
            "Rajasthan",
            "Rajasthan",
            "Rajasthan",
            "Rajasthan",
            "Rajasthan",
            "Rajasthan",
            "Rajasthan",
            "Rajasthan",
            "Rajasthan",
            "Rajasthan"
           ],
           "yaxis": "y"
          },
          {
           "alignmentgroup": "True",
           "hovertemplate": "Region=%{y}<br>Year=2019<br>Estimated Unemployment Rate (%)=%{x}<extra></extra>",
           "legendgroup": "Sikkim",
           "marker": {
            "color": "#636efa",
            "pattern": {
             "shape": ""
            }
           },
           "name": "Sikkim",
           "offsetgroup": "Sikkim",
           "orientation": "h",
           "showlegend": true,
           "textposition": "auto",
           "type": "bar",
           "x": [
            5.48,
            13.11,
            1,
            8.2,
            7.76,
            2.56,
            4.82,
            4.81,
            9.68,
            4.04,
            7.37
           ],
           "xaxis": "x",
           "y": [
            "Sikkim",
            "Sikkim",
            "Sikkim",
            "Sikkim",
            "Sikkim",
            "Sikkim",
            "Sikkim",
            "Sikkim",
            "Sikkim",
            "Sikkim",
            "Sikkim"
           ],
           "yaxis": "y"
          },
          {
           "alignmentgroup": "True",
           "hovertemplate": "Region=%{y}<br>Year=2019<br>Estimated Unemployment Rate (%)=%{x}<extra></extra>",
           "legendgroup": "Tamil Nadu",
           "marker": {
            "color": "#EF553B",
            "pattern": {
             "shape": ""
            }
           },
           "name": "Tamil Nadu",
           "offsetgroup": "Tamil Nadu",
           "orientation": "h",
           "showlegend": true,
           "textposition": "auto",
           "type": "bar",
           "x": [
            0.97,
            0.92,
            6.01,
            2.91,
            1.71,
            1.46,
            2.46,
            3.73,
            0.89,
            1.56,
            3.18,
            9.53,
            1.86,
            1.13,
            2.65,
            8.05
           ],
           "xaxis": "x",
           "y": [
            "Tamil Nadu",
            "Tamil Nadu",
            "Tamil Nadu",
            "Tamil Nadu",
            "Tamil Nadu",
            "Tamil Nadu",
            "Tamil Nadu",
            "Tamil Nadu",
            "Tamil Nadu",
            "Tamil Nadu",
            "Tamil Nadu",
            "Tamil Nadu",
            "Tamil Nadu",
            "Tamil Nadu",
            "Tamil Nadu",
            "Tamil Nadu"
           ],
           "yaxis": "y"
          },
          {
           "alignmentgroup": "True",
           "hovertemplate": "Region=%{y}<br>Year=2019<br>Estimated Unemployment Rate (%)=%{x}<extra></extra>",
           "legendgroup": "Telangana",
           "marker": {
            "color": "#00cc96",
            "pattern": {
             "shape": ""
            }
           },
           "name": "Telangana",
           "offsetgroup": "Telangana",
           "orientation": "h",
           "showlegend": true,
           "textposition": "auto",
           "type": "bar",
           "x": [
            2.23,
            5.92,
            2.45,
            1.4,
            5.49,
            7.29,
            6.47,
            1.35,
            1.52,
            1.43,
            3.73,
            4.19,
            6.19,
            6.74,
            5.23,
            4.22
           ],
           "xaxis": "x",
           "y": [
            "Telangana",
            "Telangana",
            "Telangana",
            "Telangana",
            "Telangana",
            "Telangana",
            "Telangana",
            "Telangana",
            "Telangana",
            "Telangana",
            "Telangana",
            "Telangana",
            "Telangana",
            "Telangana",
            "Telangana",
            "Telangana"
           ],
           "yaxis": "y"
          },
          {
           "alignmentgroup": "True",
           "hovertemplate": "Region=%{y}<br>Year=2019<br>Estimated Unemployment Rate (%)=%{x}<extra></extra>",
           "legendgroup": "Tripura",
           "marker": {
            "color": "#ab63fa",
            "pattern": {
             "shape": ""
            }
           },
           "name": "Tripura",
           "offsetgroup": "Tripura",
           "orientation": "h",
           "showlegend": true,
           "textposition": "auto",
           "type": "bar",
           "x": [
            29.25,
            26.64,
            22.47,
            25.49,
            30.23,
            27.54,
            25.25,
            26.53,
            34.69,
            25.59,
            25.81,
            33.45,
            33.57,
            26.67,
            27.15,
            33.48
           ],
           "xaxis": "x",
           "y": [
            "Tripura",
            "Tripura",
            "Tripura",
            "Tripura",
            "Tripura",
            "Tripura",
            "Tripura",
            "Tripura",
            "Tripura",
            "Tripura",
            "Tripura",
            "Tripura",
            "Tripura",
            "Tripura",
            "Tripura",
            "Tripura"
           ],
           "yaxis": "y"
          },
          {
           "alignmentgroup": "True",
           "hovertemplate": "Region=%{y}<br>Year=2019<br>Estimated Unemployment Rate (%)=%{x}<extra></extra>",
           "legendgroup": "Uttar Pradesh",
           "marker": {
            "color": "#FFA15A",
            "pattern": {
             "shape": ""
            }
           },
           "name": "Uttar Pradesh",
           "offsetgroup": "Uttar Pradesh",
           "orientation": "h",
           "showlegend": true,
           "textposition": "auto",
           "type": "bar",
           "x": [
            10.26,
            11.13,
            9.19,
            11.47,
            6.45,
            10.18,
            6.94,
            8.43,
            14.4,
            11.62,
            11.8,
            14.73,
            13.58,
            10.35,
            11.31,
            12.37
           ],
           "xaxis": "x",
           "y": [
            "Uttar Pradesh",
            "Uttar Pradesh",
            "Uttar Pradesh",
            "Uttar Pradesh",
            "Uttar Pradesh",
            "Uttar Pradesh",
            "Uttar Pradesh",
            "Uttar Pradesh",
            "Uttar Pradesh",
            "Uttar Pradesh",
            "Uttar Pradesh",
            "Uttar Pradesh",
            "Uttar Pradesh",
            "Uttar Pradesh",
            "Uttar Pradesh",
            "Uttar Pradesh"
           ],
           "yaxis": "y"
          },
          {
           "alignmentgroup": "True",
           "hovertemplate": "Region=%{y}<br>Year=2019<br>Estimated Unemployment Rate (%)=%{x}<extra></extra>",
           "legendgroup": "Uttarakhand",
           "marker": {
            "color": "#19d3f3",
            "pattern": {
             "shape": ""
            }
           },
           "name": "Uttarakhand",
           "offsetgroup": "Uttarakhand",
           "orientation": "h",
           "showlegend": true,
           "textposition": "auto",
           "type": "bar",
           "x": [
            1.63,
            4.65,
            5.74,
            6.11,
            3.47,
            4.83,
            5.56,
            4.52,
            9.17,
            4.69,
            6.94,
            7.43,
            9.62,
            4.72,
            6.34,
            7.39
           ],
           "xaxis": "x",
           "y": [
            "Uttarakhand",
            "Uttarakhand",
            "Uttarakhand",
            "Uttarakhand",
            "Uttarakhand",
            "Uttarakhand",
            "Uttarakhand",
            "Uttarakhand",
            "Uttarakhand",
            "Uttarakhand",
            "Uttarakhand",
            "Uttarakhand",
            "Uttarakhand",
            "Uttarakhand",
            "Uttarakhand",
            "Uttarakhand"
           ],
           "yaxis": "y"
          },
          {
           "alignmentgroup": "True",
           "hovertemplate": "Region=%{y}<br>Year=2019<br>Estimated Unemployment Rate (%)=%{x}<extra></extra>",
           "legendgroup": "West Bengal",
           "marker": {
            "color": "#FF6692",
            "pattern": {
             "shape": ""
            }
           },
           "name": "West Bengal",
           "offsetgroup": "West Bengal",
           "orientation": "h",
           "showlegend": true,
           "textposition": "auto",
           "type": "bar",
           "x": [
            6.02,
            5.85,
            5.62,
            5.58,
            5.26,
            6.78,
            5.83,
            5.79,
            7.25,
            7.38,
            7.91,
            7.27,
            7.79,
            7.83,
            6.61,
            7.24
           ],
           "xaxis": "x",
           "y": [
            "West Bengal",
            "West Bengal",
            "West Bengal",
            "West Bengal",
            "West Bengal",
            "West Bengal",
            "West Bengal",
            "West Bengal",
            "West Bengal",
            "West Bengal",
            "West Bengal",
            "West Bengal",
            "West Bengal",
            "West Bengal",
            "West Bengal",
            "West Bengal"
           ],
           "yaxis": "y"
          },
          {
           "alignmentgroup": "True",
           "hovertemplate": "Region=%{y}<br>Year=2019<br>Estimated Unemployment Rate (%)=%{x}<extra></extra>",
           "legendgroup": "Chandigarh",
           "marker": {
            "color": "#B6E880",
            "pattern": {
             "shape": ""
            }
           },
           "name": "Chandigarh",
           "offsetgroup": "Chandigarh",
           "orientation": "h",
           "showlegend": true,
           "textposition": "auto",
           "type": "bar",
           "x": [
            18.35,
            12.4,
            21.8,
            9.52,
            20.14,
            13.99,
            22.05,
            8.33
           ],
           "xaxis": "x",
           "y": [
            "Chandigarh",
            "Chandigarh",
            "Chandigarh",
            "Chandigarh",
            "Chandigarh",
            "Chandigarh",
            "Chandigarh",
            "Chandigarh"
           ],
           "yaxis": "y"
          }
         ],
         "name": "2019"
        },
        {
         "data": [
          {
           "alignmentgroup": "True",
           "hovertemplate": "Region=%{y}<br>Year=2020<br>Estimated Unemployment Rate (%)=%{x}<extra></extra>",
           "legendgroup": "Andhra Pradesh",
           "marker": {
            "color": "#636efa",
            "pattern": {
             "shape": ""
            }
           },
           "name": "Andhra Pradesh",
           "offsetgroup": "Andhra Pradesh",
           "orientation": "h",
           "showlegend": true,
           "textposition": "auto",
           "type": "bar",
           "x": [
            4.84,
            5.91,
            4.06,
            16.29,
            14.46,
            0.85,
            7.11,
            5.66,
            9.88,
            32.3,
            24.91,
            5.86
           ],
           "xaxis": "x",
           "y": [
            "Andhra Pradesh",
            "Andhra Pradesh",
            "Andhra Pradesh",
            "Andhra Pradesh",
            "Andhra Pradesh",
            "Andhra Pradesh",
            "Andhra Pradesh",
            "Andhra Pradesh",
            "Andhra Pradesh",
            "Andhra Pradesh",
            "Andhra Pradesh",
            "Andhra Pradesh"
           ],
           "yaxis": "y"
          },
          {
           "alignmentgroup": "True",
           "hovertemplate": "Region=%{y}<br>Year=2020<br>Estimated Unemployment Rate (%)=%{x}<extra></extra>",
           "legendgroup": "Assam",
           "marker": {
            "color": "#EF553B",
            "pattern": {
             "shape": ""
            }
           },
           "name": "Assam",
           "offsetgroup": "Assam",
           "orientation": "h",
           "showlegend": true,
           "textposition": "auto",
           "type": "bar",
           "x": [
            4.29,
            3.26,
            3.77,
            9.38,
            0,
            7.24,
            9.98,
            10.34,
            8.37,
            10.77,
            3.42
           ],
           "xaxis": "x",
           "y": [
            "Assam",
            "Assam",
            "Assam",
            "Assam",
            "Assam",
            "Assam",
            "Assam",
            "Assam",
            "Assam",
            "Assam",
            "Assam"
           ],
           "yaxis": "y"
          },
          {
           "alignmentgroup": "True",
           "hovertemplate": "Region=%{y}<br>Year=2020<br>Estimated Unemployment Rate (%)=%{x}<extra></extra>",
           "legendgroup": "Bihar",
           "marker": {
            "color": "#00cc96",
            "pattern": {
             "shape": ""
            }
           },
           "name": "Bihar",
           "offsetgroup": "Bihar",
           "orientation": "h",
           "showlegend": true,
           "textposition": "auto",
           "type": "bar",
           "x": [
            9.13,
            9.61,
            15.39,
            45.09,
            47.26,
            20.49,
            20.69,
            15.11,
            15.73,
            58.77,
            37.87,
            12.45
           ],
           "xaxis": "x",
           "y": [
            "Bihar",
            "Bihar",
            "Bihar",
            "Bihar",
            "Bihar",
            "Bihar",
            "Bihar",
            "Bihar",
            "Bihar",
            "Bihar",
            "Bihar",
            "Bihar"
           ],
           "yaxis": "y"
          },
          {
           "alignmentgroup": "True",
           "hovertemplate": "Region=%{y}<br>Year=2020<br>Estimated Unemployment Rate (%)=%{x}<extra></extra>",
           "legendgroup": "Chhattisgarh",
           "marker": {
            "color": "#ab63fa",
            "pattern": {
             "shape": ""
            }
           },
           "name": "Chhattisgarh",
           "offsetgroup": "Chhattisgarh",
           "orientation": "h",
           "showlegend": true,
           "textposition": "auto",
           "type": "bar",
           "x": [
            9.89,
            7.89,
            7.31,
            0,
            7.64,
            10.14,
            9.01,
            9.79,
            8.21,
            20.13,
            24.1,
            27.07
           ],
           "xaxis": "x",
           "y": [
            "Chhattisgarh",
            "Chhattisgarh",
            "Chhattisgarh",
            "Chhattisgarh",
            "Chhattisgarh",
            "Chhattisgarh",
            "Chhattisgarh",
            "Chhattisgarh",
            "Chhattisgarh",
            "Chhattisgarh",
            "Chhattisgarh",
            "Chhattisgarh"
           ],
           "yaxis": "y"
          },
          {
           "alignmentgroup": "True",
           "hovertemplate": "Region=%{y}<br>Year=2020<br>Estimated Unemployment Rate (%)=%{x}<extra></extra>",
           "legendgroup": "Delhi",
           "marker": {
            "color": "#FFA15A",
            "pattern": {
             "shape": ""
            }
           },
           "name": "Delhi",
           "offsetgroup": "Delhi",
           "orientation": "h",
           "showlegend": true,
           "textposition": "auto",
           "type": "bar",
           "x": [
            13.48,
            13.81,
            15.18,
            20.69,
            22.76,
            21.14,
            22.45,
            14.86,
            17.09,
            16.51,
            45.78,
            18.11
           ],
           "xaxis": "x",
           "y": [
            "Delhi",
            "Delhi",
            "Delhi",
            "Delhi",
            "Delhi",
            "Delhi",
            "Delhi",
            "Delhi",
            "Delhi",
            "Delhi",
            "Delhi",
            "Delhi"
           ],
           "yaxis": "y"
          },
          {
           "alignmentgroup": "True",
           "hovertemplate": "Region=%{y}<br>Year=2020<br>Estimated Unemployment Rate (%)=%{x}<extra></extra>",
           "legendgroup": "Goa",
           "marker": {
            "color": "#19d3f3",
            "pattern": {
             "shape": ""
            }
           },
           "name": "Goa",
           "offsetgroup": "Goa",
           "orientation": "h",
           "showlegend": true,
           "textposition": "auto",
           "type": "bar",
           "x": [
            5.38,
            0,
            15.91,
            20,
            10.92,
            4.31,
            4.76,
            11.76
           ],
           "xaxis": "x",
           "y": [
            "Goa",
            "Goa",
            "Goa",
            "Goa",
            "Goa",
            "Goa",
            "Goa",
            "Goa"
           ],
           "yaxis": "y"
          },
          {
           "alignmentgroup": "True",
           "hovertemplate": "Region=%{y}<br>Year=2020<br>Estimated Unemployment Rate (%)=%{x}<extra></extra>",
           "legendgroup": "Gujarat",
           "marker": {
            "color": "#FF6692",
            "pattern": {
             "shape": ""
            }
           },
           "name": "Gujarat",
           "offsetgroup": "Gujarat",
           "orientation": "h",
           "showlegend": true,
           "textposition": "auto",
           "type": "bar",
           "x": [
            5.35,
            6.64,
            7.59,
            12,
            14.58,
            1.41,
            5.82,
            6.04,
            5.39,
            25.94,
            11.62,
            4.54
           ],
           "xaxis": "x",
           "y": [
            "Gujarat",
            "Gujarat",
            "Gujarat",
            "Gujarat",
            "Gujarat",
            "Gujarat",
            "Gujarat",
            "Gujarat",
            "Gujarat",
            "Gujarat",
            "Gujarat",
            "Gujarat"
           ],
           "yaxis": "y"
          },
          {
           "alignmentgroup": "True",
           "hovertemplate": "Region=%{y}<br>Year=2020<br>Estimated Unemployment Rate (%)=%{x}<extra></extra>",
           "legendgroup": "Haryana",
           "marker": {
            "color": "#B6E880",
            "pattern": {
             "shape": ""
            }
           },
           "name": "Haryana",
           "offsetgroup": "Haryana",
           "orientation": "h",
           "showlegend": true,
           "textposition": "auto",
           "type": "bar",
           "x": [
            16.21,
            27.19,
            23.92,
            41.61,
            34.22,
            35.57,
            27.24,
            23.29,
            27.14,
            46.89,
            38.46,
            29.41
           ],
           "xaxis": "x",
           "y": [
            "Haryana",
            "Haryana",
            "Haryana",
            "Haryana",
            "Haryana",
            "Haryana",
            "Haryana",
            "Haryana",
            "Haryana",
            "Haryana",
            "Haryana",
            "Haryana"
           ],
           "yaxis": "y"
          },
          {
           "alignmentgroup": "True",
           "hovertemplate": "Region=%{y}<br>Year=2020<br>Estimated Unemployment Rate (%)=%{x}<extra></extra>",
           "legendgroup": "Himachal Pradesh",
           "marker": {
            "color": "#FF97FF",
            "pattern": {
             "shape": ""
            }
           },
           "name": "Himachal Pradesh",
           "offsetgroup": "Himachal Pradesh",
           "orientation": "h",
           "showlegend": true,
           "textposition": "auto",
           "type": "bar",
           "x": [
            16.67,
            15.42,
            17.71,
            2.13,
            25.64,
            1.12,
            18.15,
            27.31,
            26.44,
            2.7,
            50,
            10.81
           ],
           "xaxis": "x",
           "y": [
            "Himachal Pradesh",
            "Himachal Pradesh",
            "Himachal Pradesh",
            "Himachal Pradesh",
            "Himachal Pradesh",
            "Himachal Pradesh",
            "Himachal Pradesh",
            "Himachal Pradesh",
            "Himachal Pradesh",
            "Himachal Pradesh",
            "Himachal Pradesh",
            "Himachal Pradesh"
           ],
           "yaxis": "y"
          },
          {
           "alignmentgroup": "True",
           "hovertemplate": "Region=%{y}<br>Year=2020<br>Estimated Unemployment Rate (%)=%{x}<extra></extra>",
           "legendgroup": "Jammu & Kashmir",
           "marker": {
            "color": "#FECB52",
            "pattern": {
             "shape": ""
            }
           },
           "name": "Jammu & Kashmir",
           "offsetgroup": "Jammu & Kashmir",
           "orientation": "h",
           "showlegend": true,
           "textposition": "auto",
           "type": "bar",
           "x": [
            22.19,
            21.23,
            16,
            2.22,
            18.97,
            18.54,
            19.86,
            14.29,
            12.96
           ],
           "xaxis": "x",
           "y": [
            "Jammu & Kashmir",
            "Jammu & Kashmir",
            "Jammu & Kashmir",
            "Jammu & Kashmir",
            "Jammu & Kashmir",
            "Jammu & Kashmir",
            "Jammu & Kashmir",
            "Jammu & Kashmir",
            "Jammu & Kashmir"
           ],
           "yaxis": "y"
          },
          {
           "alignmentgroup": "True",
           "hovertemplate": "Region=%{y}<br>Year=2020<br>Estimated Unemployment Rate (%)=%{x}<extra></extra>",
           "legendgroup": "Jharkhand",
           "marker": {
            "color": "#636efa",
            "pattern": {
             "shape": ""
            }
           },
           "name": "Jharkhand",
           "offsetgroup": "Jharkhand",
           "orientation": "h",
           "showlegend": true,
           "textposition": "auto",
           "type": "bar",
           "x": [
            6.16,
            9.06,
            5.01,
            41.72,
            55.1,
            21.53,
            22.96,
            19.67,
            16.4,
            61.48,
            70.17,
            19.38
           ],
           "xaxis": "x",
           "y": [
            "Jharkhand",
            "Jharkhand",
            "Jharkhand",
            "Jharkhand",
            "Jharkhand",
            "Jharkhand",
            "Jharkhand",
            "Jharkhand",
            "Jharkhand",
            "Jharkhand",
            "Jharkhand",
            "Jharkhand"
           ],
           "yaxis": "y"
          },
          {
           "alignmentgroup": "True",
           "hovertemplate": "Region=%{y}<br>Year=2020<br>Estimated Unemployment Rate (%)=%{x}<extra></extra>",
           "legendgroup": "Karnataka",
           "marker": {
            "color": "#EF553B",
            "pattern": {
             "shape": ""
            }
           },
           "name": "Karnataka",
           "offsetgroup": "Karnataka",
           "orientation": "h",
           "showlegend": true,
           "textposition": "auto",
           "type": "bar",
           "x": [
            2.57,
            4.11,
            2.39,
            33.17,
            23.72,
            10.92,
            3.31,
            2.88,
            4.92,
            25.12,
            15.88,
            6.12
           ],
           "xaxis": "x",
           "y": [
            "Karnataka",
            "Karnataka",
            "Karnataka",
            "Karnataka",
            "Karnataka",
            "Karnataka",
            "Karnataka",
            "Karnataka",
            "Karnataka",
            "Karnataka",
            "Karnataka",
            "Karnataka"
           ],
           "yaxis": "y"
          },
          {
           "alignmentgroup": "True",
           "hovertemplate": "Region=%{y}<br>Year=2020<br>Estimated Unemployment Rate (%)=%{x}<extra></extra>",
           "legendgroup": "Kerala",
           "marker": {
            "color": "#00cc96",
            "pattern": {
             "shape": ""
            }
           },
           "name": "Kerala",
           "offsetgroup": "Kerala",
           "orientation": "h",
           "showlegend": true,
           "textposition": "auto",
           "type": "bar",
           "x": [
            4.11,
            8.91,
            8.85,
            10.71,
            23.38,
            27.66,
            6.65,
            6.08,
            9.14,
            21.43,
            30.28,
            12.17
           ],
           "xaxis": "x",
           "y": [
            "Kerala",
            "Kerala",
            "Kerala",
            "Kerala",
            "Kerala",
            "Kerala",
            "Kerala",
            "Kerala",
            "Kerala",
            "Kerala",
            "Kerala",
            "Kerala"
           ],
           "yaxis": "y"
          },
          {
           "alignmentgroup": "True",
           "hovertemplate": "Region=%{y}<br>Year=2020<br>Estimated Unemployment Rate (%)=%{x}<extra></extra>",
           "legendgroup": "Madhya Pradesh",
           "marker": {
            "color": "#ab63fa",
            "pattern": {
             "shape": ""
            }
           },
           "name": "Madhya Pradesh",
           "offsetgroup": "Madhya Pradesh",
           "orientation": "h",
           "showlegend": true,
           "textposition": "auto",
           "type": "bar",
           "x": [
            3.66,
            4.42,
            1.19,
            12.5,
            22.46,
            6.46,
            5.17,
            4.96,
            4.8,
            11.94,
            40.49,
            12.72
           ],
           "xaxis": "x",
           "y": [
            "Madhya Pradesh",
            "Madhya Pradesh",
            "Madhya Pradesh",
            "Madhya Pradesh",
            "Madhya Pradesh",
            "Madhya Pradesh",
            "Madhya Pradesh",
            "Madhya Pradesh",
            "Madhya Pradesh",
            "Madhya Pradesh",
            "Madhya Pradesh",
            "Madhya Pradesh"
           ],
           "yaxis": "y"
          },
          {
           "alignmentgroup": "True",
           "hovertemplate": "Region=%{y}<br>Year=2020<br>Estimated Unemployment Rate (%)=%{x}<extra></extra>",
           "legendgroup": "Maharashtra",
           "marker": {
            "color": "#FFA15A",
            "pattern": {
             "shape": ""
            }
           },
           "name": "Maharashtra",
           "offsetgroup": "Maharashtra",
           "orientation": "h",
           "showlegend": true,
           "textposition": "auto",
           "type": "bar",
           "x": [
            3.8,
            4.24,
            5.38,
            25.28,
            16.89,
            9.4,
            6.67,
            5.34,
            6.34,
            14.99,
            15.92,
            10.01
           ],
           "xaxis": "x",
           "y": [
            "Maharashtra",
            "Maharashtra",
            "Maharashtra",
            "Maharashtra",
            "Maharashtra",
            "Maharashtra",
            "Maharashtra",
            "Maharashtra",
            "Maharashtra",
            "Maharashtra",
            "Maharashtra",
            "Maharashtra"
           ],
           "yaxis": "y"
          },
          {
           "alignmentgroup": "True",
           "hovertemplate": "Region=%{y}<br>Year=2020<br>Estimated Unemployment Rate (%)=%{x}<extra></extra>",
           "legendgroup": "Meghalaya",
           "marker": {
            "color": "#19d3f3",
            "pattern": {
             "shape": ""
            }
           },
           "name": "Meghalaya",
           "offsetgroup": "Meghalaya",
           "orientation": "h",
           "showlegend": true,
           "textposition": "auto",
           "type": "bar",
           "x": [
            0.97,
            2.76,
            1.28,
            8.38,
            3.73,
            1.35,
            4.76,
            7.37,
            2.8,
            17.39,
            14.58
           ],
           "xaxis": "x",
           "y": [
            "Meghalaya",
            "Meghalaya",
            "Meghalaya",
            "Meghalaya",
            "Meghalaya",
            "Meghalaya",
            "Meghalaya",
            "Meghalaya",
            "Meghalaya",
            "Meghalaya",
            "Meghalaya"
           ],
           "yaxis": "y"
          },
          {
           "alignmentgroup": "True",
           "hovertemplate": "Region=%{y}<br>Year=2020<br>Estimated Unemployment Rate (%)=%{x}<extra></extra>",
           "legendgroup": "Odisha",
           "marker": {
            "color": "#FF6692",
            "pattern": {
             "shape": ""
            }
           },
           "name": "Odisha",
           "offsetgroup": "Odisha",
           "orientation": "h",
           "showlegend": true,
           "textposition": "auto",
           "type": "bar",
           "x": [
            1.81,
            3.31,
            15.09,
            24.48,
            9.45,
            4.59,
            2.28,
            2.19,
            3.96,
            20.5,
            10,
            2.18
           ],
           "xaxis": "x",
           "y": [
            "Odisha",
            "Odisha",
            "Odisha",
            "Odisha",
            "Odisha",
            "Odisha",
            "Odisha",
            "Odisha",
            "Odisha",
            "Odisha",
            "Odisha",
            "Odisha"
           ],
           "yaxis": "y"
          },
          {
           "alignmentgroup": "True",
           "hovertemplate": "Region=%{y}<br>Year=2020<br>Estimated Unemployment Rate (%)=%{x}<extra></extra>",
           "legendgroup": "Puducherry",
           "marker": {
            "color": "#B6E880",
            "pattern": {
             "shape": ""
            }
           },
           "name": "Puducherry",
           "offsetgroup": "Puducherry",
           "orientation": "h",
           "showlegend": true,
           "textposition": "auto",
           "type": "bar",
           "x": [
            0.58,
            1.74,
            2.31,
            74.51,
            0.57,
            1.78,
            0.62,
            76.74,
            75,
            4.55
           ],
           "xaxis": "x",
           "y": [
            "Puducherry",
            "Puducherry",
            "Puducherry",
            "Puducherry",
            "Puducherry",
            "Puducherry",
            "Puducherry",
            "Puducherry",
            "Puducherry",
            "Puducherry"
           ],
           "yaxis": "y"
          },
          {
           "alignmentgroup": "True",
           "hovertemplate": "Region=%{y}<br>Year=2020<br>Estimated Unemployment Rate (%)=%{x}<extra></extra>",
           "legendgroup": "Punjab",
           "marker": {
            "color": "#FF97FF",
            "pattern": {
             "shape": ""
            }
           },
           "name": "Punjab",
           "offsetgroup": "Punjab",
           "orientation": "h",
           "showlegend": true,
           "textposition": "auto",
           "type": "bar",
           "x": [
            9.69,
            10.41,
            10.51,
            3.69,
            40.59,
            20,
            13.68,
            11.99,
            9.97,
            1.13,
            20.54,
            10.55
           ],
           "xaxis": "x",
           "y": [
            "Punjab",
            "Punjab",
            "Punjab",
            "Punjab",
            "Punjab",
            "Punjab",
            "Punjab",
            "Punjab",
            "Punjab",
            "Punjab",
            "Punjab",
            "Punjab"
           ],
           "yaxis": "y"
          },
          {
           "alignmentgroup": "True",
           "hovertemplate": "Region=%{y}<br>Year=2020<br>Estimated Unemployment Rate (%)=%{x}<extra></extra>",
           "legendgroup": "Rajasthan",
           "marker": {
            "color": "#FECB52",
            "pattern": {
             "shape": ""
            }
           },
           "name": "Rajasthan",
           "offsetgroup": "Rajasthan",
           "orientation": "h",
           "showlegend": true,
           "textposition": "auto",
           "type": "bar",
           "x": [
            8,
            14.48,
            9.47,
            12.25,
            10.45,
            13.86,
            18.82,
            17.02,
            18.54,
            35.53,
            25.35,
            13.04
           ],
           "xaxis": "x",
           "y": [
            "Rajasthan",
            "Rajasthan",
            "Rajasthan",
            "Rajasthan",
            "Rajasthan",
            "Rajasthan",
            "Rajasthan",
            "Rajasthan",
            "Rajasthan",
            "Rajasthan",
            "Rajasthan",
            "Rajasthan"
           ],
           "yaxis": "y"
          },
          {
           "alignmentgroup": "True",
           "hovertemplate": "Region=%{y}<br>Year=2020<br>Estimated Unemployment Rate (%)=%{x}<extra></extra>",
           "legendgroup": "Sikkim",
           "marker": {
            "color": "#636efa",
            "pattern": {
             "shape": ""
            }
           },
           "name": "Sikkim",
           "offsetgroup": "Sikkim",
           "orientation": "h",
           "showlegend": true,
           "textposition": "auto",
           "type": "bar",
           "x": [
            0,
            5.81,
            20.45,
            5.77,
            19.75,
            2.63
           ],
           "xaxis": "x",
           "y": [
            "Sikkim",
            "Sikkim",
            "Sikkim",
            "Sikkim",
            "Sikkim",
            "Sikkim"
           ],
           "yaxis": "y"
          },
          {
           "alignmentgroup": "True",
           "hovertemplate": "Region=%{y}<br>Year=2020<br>Estimated Unemployment Rate (%)=%{x}<extra></extra>",
           "legendgroup": "Tamil Nadu",
           "marker": {
            "color": "#EF553B",
            "pattern": {
             "shape": ""
            }
           },
           "name": "Tamil Nadu",
           "offsetgroup": "Tamil Nadu",
           "orientation": "h",
           "showlegend": true,
           "textposition": "auto",
           "type": "bar",
           "x": [
            1.18,
            1.17,
            6.36,
            53.19,
            38.73,
            2.06,
            2.05,
            3.31,
            6.46,
            45.55,
            25.95,
            24.93
           ],
           "xaxis": "x",
           "y": [
            "Tamil Nadu",
            "Tamil Nadu",
            "Tamil Nadu",
            "Tamil Nadu",
            "Tamil Nadu",
            "Tamil Nadu",
            "Tamil Nadu",
            "Tamil Nadu",
            "Tamil Nadu",
            "Tamil Nadu",
            "Tamil Nadu",
            "Tamil Nadu"
           ],
           "yaxis": "y"
          },
          {
           "alignmentgroup": "True",
           "hovertemplate": "Region=%{y}<br>Year=2020<br>Estimated Unemployment Rate (%)=%{x}<extra></extra>",
           "legendgroup": "Telangana",
           "marker": {
            "color": "#00cc96",
            "pattern": {
             "shape": ""
            }
           },
           "name": "Telangana",
           "offsetgroup": "Telangana",
           "orientation": "h",
           "showlegend": true,
           "textposition": "auto",
           "type": "bar",
           "x": [
            5.02,
            9.02,
            5.63,
            4.51,
            34.01,
            19.3,
            6.49,
            6.74,
            6.1,
            10.5,
            36.57,
            6.92
           ],
           "xaxis": "x",
           "y": [
            "Telangana",
            "Telangana",
            "Telangana",
            "Telangana",
            "Telangana",
            "Telangana",
            "Telangana",
            "Telangana",
            "Telangana",
            "Telangana",
            "Telangana",
            "Telangana"
           ],
           "yaxis": "y"
          },
          {
           "alignmentgroup": "True",
           "hovertemplate": "Region=%{y}<br>Year=2020<br>Estimated Unemployment Rate (%)=%{x}<extra></extra>",
           "legendgroup": "Tripura",
           "marker": {
            "color": "#ab63fa",
            "pattern": {
             "shape": ""
            }
           },
           "name": "Tripura",
           "offsetgroup": "Tripura",
           "orientation": "h",
           "showlegend": true,
           "textposition": "auto",
           "type": "bar",
           "x": [
            31.91,
            26.22,
            31.61,
            43.64,
            14.71,
            18.84,
            34.37,
            33.88,
            25.69,
            34.88,
            16.78,
            27.47
           ],
           "xaxis": "x",
           "y": [
            "Tripura",
            "Tripura",
            "Tripura",
            "Tripura",
            "Tripura",
            "Tripura",
            "Tripura",
            "Tripura",
            "Tripura",
            "Tripura",
            "Tripura",
            "Tripura"
           ],
           "yaxis": "y"
          },
          {
           "alignmentgroup": "True",
           "hovertemplate": "Region=%{y}<br>Year=2020<br>Estimated Unemployment Rate (%)=%{x}<extra></extra>",
           "legendgroup": "Uttar Pradesh",
           "marker": {
            "color": "#FFA15A",
            "pattern": {
             "shape": ""
            }
           },
           "name": "Uttar Pradesh",
           "offsetgroup": "Uttar Pradesh",
           "orientation": "h",
           "showlegend": true,
           "textposition": "auto",
           "type": "bar",
           "x": [
            6.06,
            8.12,
            9.37,
            19.92,
            16.89,
            8.51,
            12.34,
            11.65,
            12.32,
            26.94,
            32.06,
            13.05
           ],
           "xaxis": "x",
           "y": [
            "Uttar Pradesh",
            "Uttar Pradesh",
            "Uttar Pradesh",
            "Uttar Pradesh",
            "Uttar Pradesh",
            "Uttar Pradesh",
            "Uttar Pradesh",
            "Uttar Pradesh",
            "Uttar Pradesh",
            "Uttar Pradesh",
            "Uttar Pradesh",
            "Uttar Pradesh"
           ],
           "yaxis": "y"
          },
          {
           "alignmentgroup": "True",
           "hovertemplate": "Region=%{y}<br>Year=2020<br>Estimated Unemployment Rate (%)=%{x}<extra></extra>",
           "legendgroup": "Uttarakhand",
           "marker": {
            "color": "#19d3f3",
            "pattern": {
             "shape": ""
            }
           },
           "name": "Uttarakhand",
           "offsetgroup": "Uttarakhand",
           "orientation": "h",
           "showlegend": true,
           "textposition": "auto",
           "type": "bar",
           "x": [
            4.17,
            4.85,
            3.66,
            3.57,
            10.71,
            8.92,
            5.28,
            8.15,
            13.18,
            17.36,
            5.08
           ],
           "xaxis": "x",
           "y": [
            "Uttarakhand",
            "Uttarakhand",
            "Uttarakhand",
            "Uttarakhand",
            "Uttarakhand",
            "Uttarakhand",
            "Uttarakhand",
            "Uttarakhand",
            "Uttarakhand",
            "Uttarakhand",
            "Uttarakhand"
           ],
           "yaxis": "y"
          },
          {
           "alignmentgroup": "True",
           "hovertemplate": "Region=%{y}<br>Year=2020<br>Estimated Unemployment Rate (%)=%{x}<extra></extra>",
           "legendgroup": "West Bengal",
           "marker": {
            "color": "#FF6692",
            "pattern": {
             "shape": ""
            }
           },
           "name": "West Bengal",
           "offsetgroup": "West Bengal",
           "orientation": "h",
           "showlegend": true,
           "textposition": "auto",
           "type": "bar",
           "x": [
            6.79,
            3.78,
            7.02,
            18.32,
            18.43,
            4.94,
            7.27,
            7.55,
            6.67,
            15.63,
            15.22,
            9.86
           ],
           "xaxis": "x",
           "y": [
            "West Bengal",
            "West Bengal",
            "West Bengal",
            "West Bengal",
            "West Bengal",
            "West Bengal",
            "West Bengal",
            "West Bengal",
            "West Bengal",
            "West Bengal",
            "West Bengal",
            "West Bengal"
           ],
           "yaxis": "y"
          },
          {
           "alignmentgroup": "True",
           "hovertemplate": "Region=%{y}<br>Year=2020<br>Estimated Unemployment Rate (%)=%{x}<extra></extra>",
           "legendgroup": "Chandigarh",
           "marker": {
            "color": "#B6E880",
            "pattern": {
             "shape": ""
            }
           },
           "name": "Chandigarh",
           "offsetgroup": "Chandigarh",
           "orientation": "h",
           "showlegend": true,
           "textposition": "auto",
           "type": "bar",
           "x": [
            20,
            16.67,
            21.43,
            7.22
           ],
           "xaxis": "x",
           "y": [
            "Chandigarh",
            "Chandigarh",
            "Chandigarh",
            "Chandigarh"
           ],
           "yaxis": "y"
          }
         ],
         "name": "2020"
        }
       ],
       "layout": {
        "barmode": "relative",
        "legend": {
         "title": {
          "text": "Region"
         },
         "tracegroupgap": 0
        },
        "sliders": [
         {
          "active": 0,
          "currentvalue": {
           "prefix": "Year="
          },
          "len": 0.9,
          "pad": {
           "b": 10,
           "t": 60
          },
          "steps": [
           {
            "args": [
             [
              "2019"
             ],
             {
              "frame": {
               "duration": 0,
               "redraw": true
              },
              "fromcurrent": true,
              "mode": "immediate",
              "transition": {
               "duration": 0,
               "easing": "linear"
              }
             }
            ],
            "label": "2019",
            "method": "animate"
           },
           {
            "args": [
             [
              "2020"
             ],
             {
              "frame": {
               "duration": 0,
               "redraw": true
              },
              "fromcurrent": true,
              "mode": "immediate",
              "transition": {
               "duration": 0,
               "easing": "linear"
              }
             }
            ],
            "label": "2020",
            "method": "animate"
           }
          ],
          "x": 0.1,
          "xanchor": "left",
          "y": 0,
          "yanchor": "top"
         }
        ],
        "template": {
         "data": {
          "bar": [
           {
            "error_x": {
             "color": "#2a3f5f"
            },
            "error_y": {
             "color": "#2a3f5f"
            },
            "marker": {
             "line": {
              "color": "#E5ECF6",
              "width": 0.5
             },
             "pattern": {
              "fillmode": "overlay",
              "size": 10,
              "solidity": 0.2
             }
            },
            "type": "bar"
           }
          ],
          "barpolar": [
           {
            "marker": {
             "line": {
              "color": "#E5ECF6",
              "width": 0.5
             },
             "pattern": {
              "fillmode": "overlay",
              "size": 10,
              "solidity": 0.2
             }
            },
            "type": "barpolar"
           }
          ],
          "carpet": [
           {
            "aaxis": {
             "endlinecolor": "#2a3f5f",
             "gridcolor": "white",
             "linecolor": "white",
             "minorgridcolor": "white",
             "startlinecolor": "#2a3f5f"
            },
            "baxis": {
             "endlinecolor": "#2a3f5f",
             "gridcolor": "white",
             "linecolor": "white",
             "minorgridcolor": "white",
             "startlinecolor": "#2a3f5f"
            },
            "type": "carpet"
           }
          ],
          "choropleth": [
           {
            "colorbar": {
             "outlinewidth": 0,
             "ticks": ""
            },
            "type": "choropleth"
           }
          ],
          "contour": [
           {
            "colorbar": {
             "outlinewidth": 0,
             "ticks": ""
            },
            "colorscale": [
             [
              0,
              "#0d0887"
             ],
             [
              0.1111111111111111,
              "#46039f"
             ],
             [
              0.2222222222222222,
              "#7201a8"
             ],
             [
              0.3333333333333333,
              "#9c179e"
             ],
             [
              0.4444444444444444,
              "#bd3786"
             ],
             [
              0.5555555555555556,
              "#d8576b"
             ],
             [
              0.6666666666666666,
              "#ed7953"
             ],
             [
              0.7777777777777778,
              "#fb9f3a"
             ],
             [
              0.8888888888888888,
              "#fdca26"
             ],
             [
              1,
              "#f0f921"
             ]
            ],
            "type": "contour"
           }
          ],
          "contourcarpet": [
           {
            "colorbar": {
             "outlinewidth": 0,
             "ticks": ""
            },
            "type": "contourcarpet"
           }
          ],
          "heatmap": [
           {
            "colorbar": {
             "outlinewidth": 0,
             "ticks": ""
            },
            "colorscale": [
             [
              0,
              "#0d0887"
             ],
             [
              0.1111111111111111,
              "#46039f"
             ],
             [
              0.2222222222222222,
              "#7201a8"
             ],
             [
              0.3333333333333333,
              "#9c179e"
             ],
             [
              0.4444444444444444,
              "#bd3786"
             ],
             [
              0.5555555555555556,
              "#d8576b"
             ],
             [
              0.6666666666666666,
              "#ed7953"
             ],
             [
              0.7777777777777778,
              "#fb9f3a"
             ],
             [
              0.8888888888888888,
              "#fdca26"
             ],
             [
              1,
              "#f0f921"
             ]
            ],
            "type": "heatmap"
           }
          ],
          "heatmapgl": [
           {
            "colorbar": {
             "outlinewidth": 0,
             "ticks": ""
            },
            "colorscale": [
             [
              0,
              "#0d0887"
             ],
             [
              0.1111111111111111,
              "#46039f"
             ],
             [
              0.2222222222222222,
              "#7201a8"
             ],
             [
              0.3333333333333333,
              "#9c179e"
             ],
             [
              0.4444444444444444,
              "#bd3786"
             ],
             [
              0.5555555555555556,
              "#d8576b"
             ],
             [
              0.6666666666666666,
              "#ed7953"
             ],
             [
              0.7777777777777778,
              "#fb9f3a"
             ],
             [
              0.8888888888888888,
              "#fdca26"
             ],
             [
              1,
              "#f0f921"
             ]
            ],
            "type": "heatmapgl"
           }
          ],
          "histogram": [
           {
            "marker": {
             "pattern": {
              "fillmode": "overlay",
              "size": 10,
              "solidity": 0.2
             }
            },
            "type": "histogram"
           }
          ],
          "histogram2d": [
           {
            "colorbar": {
             "outlinewidth": 0,
             "ticks": ""
            },
            "colorscale": [
             [
              0,
              "#0d0887"
             ],
             [
              0.1111111111111111,
              "#46039f"
             ],
             [
              0.2222222222222222,
              "#7201a8"
             ],
             [
              0.3333333333333333,
              "#9c179e"
             ],
             [
              0.4444444444444444,
              "#bd3786"
             ],
             [
              0.5555555555555556,
              "#d8576b"
             ],
             [
              0.6666666666666666,
              "#ed7953"
             ],
             [
              0.7777777777777778,
              "#fb9f3a"
             ],
             [
              0.8888888888888888,
              "#fdca26"
             ],
             [
              1,
              "#f0f921"
             ]
            ],
            "type": "histogram2d"
           }
          ],
          "histogram2dcontour": [
           {
            "colorbar": {
             "outlinewidth": 0,
             "ticks": ""
            },
            "colorscale": [
             [
              0,
              "#0d0887"
             ],
             [
              0.1111111111111111,
              "#46039f"
             ],
             [
              0.2222222222222222,
              "#7201a8"
             ],
             [
              0.3333333333333333,
              "#9c179e"
             ],
             [
              0.4444444444444444,
              "#bd3786"
             ],
             [
              0.5555555555555556,
              "#d8576b"
             ],
             [
              0.6666666666666666,
              "#ed7953"
             ],
             [
              0.7777777777777778,
              "#fb9f3a"
             ],
             [
              0.8888888888888888,
              "#fdca26"
             ],
             [
              1,
              "#f0f921"
             ]
            ],
            "type": "histogram2dcontour"
           }
          ],
          "mesh3d": [
           {
            "colorbar": {
             "outlinewidth": 0,
             "ticks": ""
            },
            "type": "mesh3d"
           }
          ],
          "parcoords": [
           {
            "line": {
             "colorbar": {
              "outlinewidth": 0,
              "ticks": ""
             }
            },
            "type": "parcoords"
           }
          ],
          "pie": [
           {
            "automargin": true,
            "type": "pie"
           }
          ],
          "scatter": [
           {
            "fillpattern": {
             "fillmode": "overlay",
             "size": 10,
             "solidity": 0.2
            },
            "type": "scatter"
           }
          ],
          "scatter3d": [
           {
            "line": {
             "colorbar": {
              "outlinewidth": 0,
              "ticks": ""
             }
            },
            "marker": {
             "colorbar": {
              "outlinewidth": 0,
              "ticks": ""
             }
            },
            "type": "scatter3d"
           }
          ],
          "scattercarpet": [
           {
            "marker": {
             "colorbar": {
              "outlinewidth": 0,
              "ticks": ""
             }
            },
            "type": "scattercarpet"
           }
          ],
          "scattergeo": [
           {
            "marker": {
             "colorbar": {
              "outlinewidth": 0,
              "ticks": ""
             }
            },
            "type": "scattergeo"
           }
          ],
          "scattergl": [
           {
            "marker": {
             "colorbar": {
              "outlinewidth": 0,
              "ticks": ""
             }
            },
            "type": "scattergl"
           }
          ],
          "scattermapbox": [
           {
            "marker": {
             "colorbar": {
              "outlinewidth": 0,
              "ticks": ""
             }
            },
            "type": "scattermapbox"
           }
          ],
          "scatterpolar": [
           {
            "marker": {
             "colorbar": {
              "outlinewidth": 0,
              "ticks": ""
             }
            },
            "type": "scatterpolar"
           }
          ],
          "scatterpolargl": [
           {
            "marker": {
             "colorbar": {
              "outlinewidth": 0,
              "ticks": ""
             }
            },
            "type": "scatterpolargl"
           }
          ],
          "scatterternary": [
           {
            "marker": {
             "colorbar": {
              "outlinewidth": 0,
              "ticks": ""
             }
            },
            "type": "scatterternary"
           }
          ],
          "surface": [
           {
            "colorbar": {
             "outlinewidth": 0,
             "ticks": ""
            },
            "colorscale": [
             [
              0,
              "#0d0887"
             ],
             [
              0.1111111111111111,
              "#46039f"
             ],
             [
              0.2222222222222222,
              "#7201a8"
             ],
             [
              0.3333333333333333,
              "#9c179e"
             ],
             [
              0.4444444444444444,
              "#bd3786"
             ],
             [
              0.5555555555555556,
              "#d8576b"
             ],
             [
              0.6666666666666666,
              "#ed7953"
             ],
             [
              0.7777777777777778,
              "#fb9f3a"
             ],
             [
              0.8888888888888888,
              "#fdca26"
             ],
             [
              1,
              "#f0f921"
             ]
            ],
            "type": "surface"
           }
          ],
          "table": [
           {
            "cells": {
             "fill": {
              "color": "#EBF0F8"
             },
             "line": {
              "color": "white"
             }
            },
            "header": {
             "fill": {
              "color": "#C8D4E3"
             },
             "line": {
              "color": "white"
             }
            },
            "type": "table"
           }
          ]
         },
         "layout": {
          "annotationdefaults": {
           "arrowcolor": "#2a3f5f",
           "arrowhead": 0,
           "arrowwidth": 1
          },
          "autotypenumbers": "strict",
          "coloraxis": {
           "colorbar": {
            "outlinewidth": 0,
            "ticks": ""
           }
          },
          "colorscale": {
           "diverging": [
            [
             0,
             "#8e0152"
            ],
            [
             0.1,
             "#c51b7d"
            ],
            [
             0.2,
             "#de77ae"
            ],
            [
             0.3,
             "#f1b6da"
            ],
            [
             0.4,
             "#fde0ef"
            ],
            [
             0.5,
             "#f7f7f7"
            ],
            [
             0.6,
             "#e6f5d0"
            ],
            [
             0.7,
             "#b8e186"
            ],
            [
             0.8,
             "#7fbc41"
            ],
            [
             0.9,
             "#4d9221"
            ],
            [
             1,
             "#276419"
            ]
           ],
           "sequential": [
            [
             0,
             "#0d0887"
            ],
            [
             0.1111111111111111,
             "#46039f"
            ],
            [
             0.2222222222222222,
             "#7201a8"
            ],
            [
             0.3333333333333333,
             "#9c179e"
            ],
            [
             0.4444444444444444,
             "#bd3786"
            ],
            [
             0.5555555555555556,
             "#d8576b"
            ],
            [
             0.6666666666666666,
             "#ed7953"
            ],
            [
             0.7777777777777778,
             "#fb9f3a"
            ],
            [
             0.8888888888888888,
             "#fdca26"
            ],
            [
             1,
             "#f0f921"
            ]
           ],
           "sequentialminus": [
            [
             0,
             "#0d0887"
            ],
            [
             0.1111111111111111,
             "#46039f"
            ],
            [
             0.2222222222222222,
             "#7201a8"
            ],
            [
             0.3333333333333333,
             "#9c179e"
            ],
            [
             0.4444444444444444,
             "#bd3786"
            ],
            [
             0.5555555555555556,
             "#d8576b"
            ],
            [
             0.6666666666666666,
             "#ed7953"
            ],
            [
             0.7777777777777778,
             "#fb9f3a"
            ],
            [
             0.8888888888888888,
             "#fdca26"
            ],
            [
             1,
             "#f0f921"
            ]
           ]
          },
          "colorway": [
           "#636efa",
           "#EF553B",
           "#00cc96",
           "#ab63fa",
           "#FFA15A",
           "#19d3f3",
           "#FF6692",
           "#B6E880",
           "#FF97FF",
           "#FECB52"
          ],
          "font": {
           "color": "#2a3f5f"
          },
          "geo": {
           "bgcolor": "white",
           "lakecolor": "white",
           "landcolor": "#E5ECF6",
           "showlakes": true,
           "showland": true,
           "subunitcolor": "white"
          },
          "hoverlabel": {
           "align": "left"
          },
          "hovermode": "closest",
          "mapbox": {
           "style": "light"
          },
          "paper_bgcolor": "white",
          "plot_bgcolor": "#E5ECF6",
          "polar": {
           "angularaxis": {
            "gridcolor": "white",
            "linecolor": "white",
            "ticks": ""
           },
           "bgcolor": "#E5ECF6",
           "radialaxis": {
            "gridcolor": "white",
            "linecolor": "white",
            "ticks": ""
           }
          },
          "scene": {
           "xaxis": {
            "backgroundcolor": "#E5ECF6",
            "gridcolor": "white",
            "gridwidth": 2,
            "linecolor": "white",
            "showbackground": true,
            "ticks": "",
            "zerolinecolor": "white"
           },
           "yaxis": {
            "backgroundcolor": "#E5ECF6",
            "gridcolor": "white",
            "gridwidth": 2,
            "linecolor": "white",
            "showbackground": true,
            "ticks": "",
            "zerolinecolor": "white"
           },
           "zaxis": {
            "backgroundcolor": "#E5ECF6",
            "gridcolor": "white",
            "gridwidth": 2,
            "linecolor": "white",
            "showbackground": true,
            "ticks": "",
            "zerolinecolor": "white"
           }
          },
          "shapedefaults": {
           "line": {
            "color": "#2a3f5f"
           }
          },
          "ternary": {
           "aaxis": {
            "gridcolor": "white",
            "linecolor": "white",
            "ticks": ""
           },
           "baxis": {
            "gridcolor": "white",
            "linecolor": "white",
            "ticks": ""
           },
           "bgcolor": "#E5ECF6",
           "caxis": {
            "gridcolor": "white",
            "linecolor": "white",
            "ticks": ""
           }
          },
          "title": {
           "x": 0.05
          },
          "xaxis": {
           "automargin": true,
           "gridcolor": "white",
           "linecolor": "white",
           "ticks": "",
           "title": {
            "standoff": 15
           },
           "zerolinecolor": "white",
           "zerolinewidth": 2
          },
          "yaxis": {
           "automargin": true,
           "gridcolor": "white",
           "linecolor": "white",
           "ticks": "",
           "title": {
            "standoff": 15
           },
           "zerolinecolor": "white",
           "zerolinewidth": 2
          }
         }
        },
        "title": {
         "text": "Unemployment Rate per State with Date Slider"
        },
        "updatemenus": [
         {
          "buttons": [
           {
            "args": [
             null,
             {
              "frame": {
               "duration": 500,
               "redraw": true
              },
              "fromcurrent": true,
              "mode": "immediate",
              "transition": {
               "duration": 500,
               "easing": "linear"
              }
             }
            ],
            "label": "&#9654;",
            "method": "animate"
           },
           {
            "args": [
             [
              null
             ],
             {
              "frame": {
               "duration": 0,
               "redraw": true
              },
              "fromcurrent": true,
              "mode": "immediate",
              "transition": {
               "duration": 0,
               "easing": "linear"
              }
             }
            ],
            "label": "&#9724;",
            "method": "animate"
           }
          ],
          "direction": "left",
          "pad": {
           "r": 10,
           "t": 70
          },
          "showactive": false,
          "type": "buttons",
          "x": 0.1,
          "xanchor": "right",
          "y": 0,
          "yanchor": "top"
         }
        ],
        "xaxis": {
         "anchor": "y",
         "categoryorder": "total descending",
         "domain": [
          0,
          1
         ],
         "title": {
          "text": "Estimated Unemployment Rate (%)"
         }
        },
        "yaxis": {
         "anchor": "x",
         "categoryarray": [
          "Chandigarh",
          "West Bengal",
          "Uttarakhand",
          "Uttar Pradesh",
          "Tripura",
          "Telangana",
          "Tamil Nadu",
          "Sikkim",
          "Rajasthan",
          "Punjab",
          "Puducherry",
          "Odisha",
          "Meghalaya",
          "Maharashtra",
          "Madhya Pradesh",
          "Kerala",
          "Karnataka",
          "Jharkhand",
          "Jammu & Kashmir",
          "Himachal Pradesh",
          "Haryana",
          "Gujarat",
          "Goa",
          "Delhi",
          "Chhattisgarh",
          "Bihar",
          "Assam",
          "Andhra Pradesh"
         ],
         "categoryorder": "array",
         "domain": [
          0,
          1
         ],
         "title": {
          "text": "Region"
         }
        }
       }
      },
      "text/html": [
       "<div>                            <div id=\"c8cf9f04-af3b-4d7b-8c7c-8a84432d457c\" class=\"plotly-graph-div\" style=\"height:525px; width:100%;\"></div>            <script type=\"text/javascript\">                require([\"plotly\"], function(Plotly) {                    window.PLOTLYENV=window.PLOTLYENV || {};                                    if (document.getElementById(\"c8cf9f04-af3b-4d7b-8c7c-8a84432d457c\")) {                    Plotly.newPlot(                        \"c8cf9f04-af3b-4d7b-8c7c-8a84432d457c\",                        [{\"alignmentgroup\":\"True\",\"hovertemplate\":\"Region=%{y}<br>Year=2019<br>Estimated Unemployment Rate (%)=%{x}<extra></extra>\",\"legendgroup\":\"Andhra Pradesh\",\"marker\":{\"color\":\"#636efa\",\"pattern\":{\"shape\":\"\"}},\"name\":\"Andhra Pradesh\",\"offsetgroup\":\"Andhra Pradesh\",\"orientation\":\"h\",\"showlegend\":true,\"textposition\":\"auto\",\"x\":[3.65,3.05,3.75,3.32,5.17,3.52,4.12,4.38,6.09,3.8,5.64,4.61,6.01,4.7,7.54,7.88],\"xaxis\":\"x\",\"y\":[\"Andhra Pradesh\",\"Andhra Pradesh\",\"Andhra Pradesh\",\"Andhra Pradesh\",\"Andhra Pradesh\",\"Andhra Pradesh\",\"Andhra Pradesh\",\"Andhra Pradesh\",\"Andhra Pradesh\",\"Andhra Pradesh\",\"Andhra Pradesh\",\"Andhra Pradesh\",\"Andhra Pradesh\",\"Andhra Pradesh\",\"Andhra Pradesh\",\"Andhra Pradesh\"],\"yaxis\":\"y\",\"type\":\"bar\"},{\"alignmentgroup\":\"True\",\"hovertemplate\":\"Region=%{y}<br>Year=2019<br>Estimated Unemployment Rate (%)=%{x}<extra></extra>\",\"legendgroup\":\"Assam\",\"marker\":{\"color\":\"#EF553B\",\"pattern\":{\"shape\":\"\"}},\"name\":\"Assam\",\"offsetgroup\":\"Assam\",\"orientation\":\"h\",\"showlegend\":true,\"textposition\":\"auto\",\"x\":[4.29,5.08,4.26,5.79,4.46,4.65,4.66,7.87,9.89,3.21,10.39,9.26,11.17,6.31,5.02],\"xaxis\":\"x\",\"y\":[\"Assam\",\"Assam\",\"Assam\",\"Assam\",\"Assam\",\"Assam\",\"Assam\",\"Assam\",\"Assam\",\"Assam\",\"Assam\",\"Assam\",\"Assam\",\"Assam\",\"Assam\"],\"yaxis\":\"y\",\"type\":\"bar\"},{\"alignmentgroup\":\"True\",\"hovertemplate\":\"Region=%{y}<br>Year=2019<br>Estimated Unemployment Rate (%)=%{x}<extra></extra>\",\"legendgroup\":\"Bihar\",\"marker\":{\"color\":\"#00cc96\",\"pattern\":{\"shape\":\"\"}},\"name\":\"Bihar\",\"offsetgroup\":\"Bihar\",\"orientation\":\"h\",\"showlegend\":true,\"textposition\":\"auto\",\"x\":[9.27,10.2,13.44,11.0,8.87,12.47,12.4,10.16,19.9,13.29,16.41,17.66,20.46,14.06,17.62,14.91],\"xaxis\":\"x\",\"y\":[\"Bihar\",\"Bihar\",\"Bihar\",\"Bihar\",\"Bihar\",\"Bihar\",\"Bihar\",\"Bihar\",\"Bihar\",\"Bihar\",\"Bihar\",\"Bihar\",\"Bihar\",\"Bihar\",\"Bihar\",\"Bihar\"],\"yaxis\":\"y\",\"type\":\"bar\"},{\"alignmentgroup\":\"True\",\"hovertemplate\":\"Region=%{y}<br>Year=2019<br>Estimated Unemployment Rate (%)=%{x}<extra></extra>\",\"legendgroup\":\"Chhattisgarh\",\"marker\":{\"color\":\"#ab63fa\",\"pattern\":{\"shape\":\"\"}},\"name\":\"Chhattisgarh\",\"offsetgroup\":\"Chhattisgarh\",\"orientation\":\"h\",\"showlegend\":true,\"textposition\":\"auto\",\"x\":[9.82,6.76,4.54,4.64,8.33,6.96,2.77,6.11,9.77,11.77,8.17,6.29,9.46,10.27,8.32,3.57],\"xaxis\":\"x\",\"y\":[\"Chhattisgarh\",\"Chhattisgarh\",\"Chhattisgarh\",\"Chhattisgarh\",\"Chhattisgarh\",\"Chhattisgarh\",\"Chhattisgarh\",\"Chhattisgarh\",\"Chhattisgarh\",\"Chhattisgarh\",\"Chhattisgarh\",\"Chhattisgarh\",\"Chhattisgarh\",\"Chhattisgarh\",\"Chhattisgarh\",\"Chhattisgarh\"],\"yaxis\":\"y\",\"type\":\"bar\"},{\"alignmentgroup\":\"True\",\"hovertemplate\":\"Region=%{y}<br>Year=2019<br>Estimated Unemployment Rate (%)=%{x}<extra></extra>\",\"legendgroup\":\"Delhi\",\"marker\":{\"color\":\"#FFA15A\",\"pattern\":{\"shape\":\"\"}},\"name\":\"Delhi\",\"offsetgroup\":\"Delhi\",\"orientation\":\"h\",\"showlegend\":true,\"textposition\":\"auto\",\"x\":[12.56,9.33,11.07,17.18,12.5,15.84,11.11,16.97,12.31,12.76,14.68,13.52,20.59,12.41,16.11,11.07],\"xaxis\":\"x\",\"y\":[\"Delhi\",\"Delhi\",\"Delhi\",\"Delhi\",\"Delhi\",\"Delhi\",\"Delhi\",\"Delhi\",\"Delhi\",\"Delhi\",\"Delhi\",\"Delhi\",\"Delhi\",\"Delhi\",\"Delhi\",\"Delhi\"],\"yaxis\":\"y\",\"type\":\"bar\"},{\"alignmentgroup\":\"True\",\"hovertemplate\":\"Region=%{y}<br>Year=2019<br>Estimated Unemployment Rate (%)=%{x}<extra></extra>\",\"legendgroup\":\"Goa\",\"marker\":{\"color\":\"#19d3f3\",\"pattern\":{\"shape\":\"\"}},\"name\":\"Goa\",\"offsetgroup\":\"Goa\",\"orientation\":\"h\",\"showlegend\":true,\"textposition\":\"auto\",\"x\":[2.91,5.45,10.98,1.98,3.61,7.21,23.71,3.54,2.75,13.33,12.28,4.9,3.16,12.31,25.2,16.22],\"xaxis\":\"x\",\"y\":[\"Goa\",\"Goa\",\"Goa\",\"Goa\",\"Goa\",\"Goa\",\"Goa\",\"Goa\",\"Goa\",\"Goa\",\"Goa\",\"Goa\",\"Goa\",\"Goa\",\"Goa\",\"Goa\"],\"yaxis\":\"y\",\"type\":\"bar\"},{\"alignmentgroup\":\"True\",\"hovertemplate\":\"Region=%{y}<br>Year=2019<br>Estimated Unemployment Rate (%)=%{x}<extra></extra>\",\"legendgroup\":\"Gujarat\",\"marker\":{\"color\":\"#FF6692\",\"pattern\":{\"shape\":\"\"}},\"name\":\"Gujarat\",\"offsetgroup\":\"Gujarat\",\"orientation\":\"h\",\"showlegend\":true,\"textposition\":\"auto\",\"x\":[2.88,4.77,4.58,3.7,6.29,4.91,4.68,3.46,4.09,6.31,5.15,4.2,5.96,5.45,7.53,5.71],\"xaxis\":\"x\",\"y\":[\"Gujarat\",\"Gujarat\",\"Gujarat\",\"Gujarat\",\"Gujarat\",\"Gujarat\",\"Gujarat\",\"Gujarat\",\"Gujarat\",\"Gujarat\",\"Gujarat\",\"Gujarat\",\"Gujarat\",\"Gujarat\",\"Gujarat\",\"Gujarat\"],\"yaxis\":\"y\",\"type\":\"bar\"},{\"alignmentgroup\":\"True\",\"hovertemplate\":\"Region=%{y}<br>Year=2019<br>Estimated Unemployment Rate (%)=%{x}<extra></extra>\",\"legendgroup\":\"Haryana\",\"marker\":{\"color\":\"#B6E880\",\"pattern\":{\"shape\":\"\"}},\"name\":\"Haryana\",\"offsetgroup\":\"Haryana\",\"orientation\":\"h\",\"showlegend\":true,\"textposition\":\"auto\",\"x\":[14.54,23.08,16.22,30.94,16.36,24.17,16.59,29.56,24.67,20.42,25.45,24.19,26.84,21.04,27.06,23.65],\"xaxis\":\"x\",\"y\":[\"Haryana\",\"Haryana\",\"Haryana\",\"Haryana\",\"Haryana\",\"Haryana\",\"Haryana\",\"Haryana\",\"Haryana\",\"Haryana\",\"Haryana\",\"Haryana\",\"Haryana\",\"Haryana\",\"Haryana\",\"Haryana\"],\"yaxis\":\"y\",\"type\":\"bar\"},{\"alignmentgroup\":\"True\",\"hovertemplate\":\"Region=%{y}<br>Year=2019<br>Estimated Unemployment Rate (%)=%{x}<extra></extra>\",\"legendgroup\":\"Himachal Pradesh\",\"marker\":{\"color\":\"#FF97FF\",\"pattern\":{\"shape\":\"\"}},\"name\":\"Himachal Pradesh\",\"offsetgroup\":\"Himachal Pradesh\",\"orientation\":\"h\",\"showlegend\":true,\"textposition\":\"auto\",\"x\":[13.68,11.43,20.59,18.56,15.98,15.81,22.86,19.46,10.88,21.43,21.51,24.48,12.0,23.77,27.27,25.32],\"xaxis\":\"x\",\"y\":[\"Himachal Pradesh\",\"Himachal Pradesh\",\"Himachal Pradesh\",\"Himachal Pradesh\",\"Himachal Pradesh\",\"Himachal Pradesh\",\"Himachal Pradesh\",\"Himachal Pradesh\",\"Himachal Pradesh\",\"Himachal Pradesh\",\"Himachal Pradesh\",\"Himachal Pradesh\",\"Himachal Pradesh\",\"Himachal Pradesh\",\"Himachal Pradesh\",\"Himachal Pradesh\"],\"yaxis\":\"y\",\"type\":\"bar\"},{\"alignmentgroup\":\"True\",\"hovertemplate\":\"Region=%{y}<br>Year=2019<br>Estimated Unemployment Rate (%)=%{x}<extra></extra>\",\"legendgroup\":\"Jammu & Kashmir\",\"marker\":{\"color\":\"#FECB52\",\"pattern\":{\"shape\":\"\"}},\"name\":\"Jammu & Kashmir\",\"offsetgroup\":\"Jammu & Kashmir\",\"orientation\":\"h\",\"showlegend\":true,\"textposition\":\"auto\",\"x\":[12.78,12.09,13.67,11.32,19.27,14.73,23.04,19.88,21.55,24.06,14.29,7.02],\"xaxis\":\"x\",\"y\":[\"Jammu & Kashmir\",\"Jammu & Kashmir\",\"Jammu & Kashmir\",\"Jammu & Kashmir\",\"Jammu & Kashmir\",\"Jammu & Kashmir\",\"Jammu & Kashmir\",\"Jammu & Kashmir\",\"Jammu & Kashmir\",\"Jammu & Kashmir\",\"Jammu & Kashmir\",\"Jammu & Kashmir\"],\"yaxis\":\"y\",\"type\":\"bar\"},{\"alignmentgroup\":\"True\",\"hovertemplate\":\"Region=%{y}<br>Year=2019<br>Estimated Unemployment Rate (%)=%{x}<extra></extra>\",\"legendgroup\":\"Jharkhand\",\"marker\":{\"color\":\"#636efa\",\"pattern\":{\"shape\":\"\"}},\"name\":\"Jharkhand\",\"offsetgroup\":\"Jharkhand\",\"orientation\":\"h\",\"showlegend\":true,\"textposition\":\"auto\",\"x\":[7.11,8.46,9.98,12.06,7.12,6.57,8.07,15.15,17.23,20.51,15.67,20.25,21.16,19.05,17.34,22.01],\"xaxis\":\"x\",\"y\":[\"Jharkhand\",\"Jharkhand\",\"Jharkhand\",\"Jharkhand\",\"Jharkhand\",\"Jharkhand\",\"Jharkhand\",\"Jharkhand\",\"Jharkhand\",\"Jharkhand\",\"Jharkhand\",\"Jharkhand\",\"Jharkhand\",\"Jharkhand\",\"Jharkhand\",\"Jharkhand\"],\"yaxis\":\"y\",\"type\":\"bar\"},{\"alignmentgroup\":\"True\",\"hovertemplate\":\"Region=%{y}<br>Year=2019<br>Estimated Unemployment Rate (%)=%{x}<extra></extra>\",\"legendgroup\":\"Karnataka\",\"marker\":{\"color\":\"#EF553B\",\"pattern\":{\"shape\":\"\"}},\"name\":\"Karnataka\",\"offsetgroup\":\"Karnataka\",\"orientation\":\"h\",\"showlegend\":true,\"textposition\":\"auto\",\"x\":[5.46,5.98,0.52,0.37,3.2,7.13,1.19,0.41,6.56,5.0,2.29,1.27,3.57,3.87,3.44,1.56],\"xaxis\":\"x\",\"y\":[\"Karnataka\",\"Karnataka\",\"Karnataka\",\"Karnataka\",\"Karnataka\",\"Karnataka\",\"Karnataka\",\"Karnataka\",\"Karnataka\",\"Karnataka\",\"Karnataka\",\"Karnataka\",\"Karnataka\",\"Karnataka\",\"Karnataka\",\"Karnataka\"],\"yaxis\":\"y\",\"type\":\"bar\"},{\"alignmentgroup\":\"True\",\"hovertemplate\":\"Region=%{y}<br>Year=2019<br>Estimated Unemployment Rate (%)=%{x}<extra></extra>\",\"legendgroup\":\"Kerala\",\"marker\":{\"color\":\"#00cc96\",\"pattern\":{\"shape\":\"\"}},\"name\":\"Kerala\",\"offsetgroup\":\"Kerala\",\"orientation\":\"h\",\"showlegend\":true,\"textposition\":\"auto\",\"x\":[6.63,9.0,4.95,10.32,5.35,9.14,5.0,10.77,6.11,6.67,7.58,7.69,5.52,5.35,6.71,7.31],\"xaxis\":\"x\",\"y\":[\"Kerala\",\"Kerala\",\"Kerala\",\"Kerala\",\"Kerala\",\"Kerala\",\"Kerala\",\"Kerala\",\"Kerala\",\"Kerala\",\"Kerala\",\"Kerala\",\"Kerala\",\"Kerala\",\"Kerala\",\"Kerala\"],\"yaxis\":\"y\",\"type\":\"bar\"},{\"alignmentgroup\":\"True\",\"hovertemplate\":\"Region=%{y}<br>Year=2019<br>Estimated Unemployment Rate (%)=%{x}<extra></extra>\",\"legendgroup\":\"Madhya Pradesh\",\"marker\":{\"color\":\"#ab63fa\",\"pattern\":{\"shape\":\"\"}},\"name\":\"Madhya Pradesh\",\"offsetgroup\":\"Madhya Pradesh\",\"orientation\":\"h\",\"showlegend\":true,\"textposition\":\"auto\",\"x\":[3.63,4.25,3.92,4.94,3.08,2.98,2.72,2.94,3.91,6.38,7.38,6.82,7.0,4.4,6.06,6.2],\"xaxis\":\"x\",\"y\":[\"Madhya Pradesh\",\"Madhya Pradesh\",\"Madhya Pradesh\",\"Madhya Pradesh\",\"Madhya Pradesh\",\"Madhya Pradesh\",\"Madhya Pradesh\",\"Madhya Pradesh\",\"Madhya Pradesh\",\"Madhya Pradesh\",\"Madhya Pradesh\",\"Madhya Pradesh\",\"Madhya Pradesh\",\"Madhya Pradesh\",\"Madhya Pradesh\",\"Madhya Pradesh\"],\"yaxis\":\"y\",\"type\":\"bar\"},{\"alignmentgroup\":\"True\",\"hovertemplate\":\"Region=%{y}<br>Year=2019<br>Estimated Unemployment Rate (%)=%{x}<extra></extra>\",\"legendgroup\":\"Maharashtra\",\"marker\":{\"color\":\"#FFA15A\",\"pattern\":{\"shape\":\"\"}},\"name\":\"Maharashtra\",\"offsetgroup\":\"Maharashtra\",\"orientation\":\"h\",\"showlegend\":true,\"textposition\":\"auto\",\"x\":[3.67,4.34,3.66,3.76,4.4,3.81,3.68,3.03,6.08,6.46,6.35,7.57,7.6,7.51,7.6,7.83],\"xaxis\":\"x\",\"y\":[\"Maharashtra\",\"Maharashtra\",\"Maharashtra\",\"Maharashtra\",\"Maharashtra\",\"Maharashtra\",\"Maharashtra\",\"Maharashtra\",\"Maharashtra\",\"Maharashtra\",\"Maharashtra\",\"Maharashtra\",\"Maharashtra\",\"Maharashtra\",\"Maharashtra\",\"Maharashtra\"],\"yaxis\":\"y\",\"type\":\"bar\"},{\"alignmentgroup\":\"True\",\"hovertemplate\":\"Region=%{y}<br>Year=2019<br>Estimated Unemployment Rate (%)=%{x}<extra></extra>\",\"legendgroup\":\"Meghalaya\",\"marker\":{\"color\":\"#19d3f3\",\"pattern\":{\"shape\":\"\"}},\"name\":\"Meghalaya\",\"offsetgroup\":\"Meghalaya\",\"orientation\":\"h\",\"showlegend\":true,\"textposition\":\"auto\",\"x\":[3.16,4.23,1.03,0.52,0.24,3.7,1.5,1.8,8.4,8.66,4.43,5.8,5.3,7.2,3.02,5.21],\"xaxis\":\"x\",\"y\":[\"Meghalaya\",\"Meghalaya\",\"Meghalaya\",\"Meghalaya\",\"Meghalaya\",\"Meghalaya\",\"Meghalaya\",\"Meghalaya\",\"Meghalaya\",\"Meghalaya\",\"Meghalaya\",\"Meghalaya\",\"Meghalaya\",\"Meghalaya\",\"Meghalaya\",\"Meghalaya\"],\"yaxis\":\"y\",\"type\":\"bar\"},{\"alignmentgroup\":\"True\",\"hovertemplate\":\"Region=%{y}<br>Year=2019<br>Estimated Unemployment Rate (%)=%{x}<extra></extra>\",\"legendgroup\":\"Odisha\",\"marker\":{\"color\":\"#FF6692\",\"pattern\":{\"shape\":\"\"}},\"name\":\"Odisha\",\"offsetgroup\":\"Odisha\",\"orientation\":\"h\",\"showlegend\":true,\"textposition\":\"auto\",\"x\":[4.17,4.71,3.31,3.68,4.31,4.28,4.72,4.67,2.95,2.63,1.78,3.5,3.78,4.5,2.23,3.36],\"xaxis\":\"x\",\"y\":[\"Odisha\",\"Odisha\",\"Odisha\",\"Odisha\",\"Odisha\",\"Odisha\",\"Odisha\",\"Odisha\",\"Odisha\",\"Odisha\",\"Odisha\",\"Odisha\",\"Odisha\",\"Odisha\",\"Odisha\",\"Odisha\"],\"yaxis\":\"y\",\"type\":\"bar\"},{\"alignmentgroup\":\"True\",\"hovertemplate\":\"Region=%{y}<br>Year=2019<br>Estimated Unemployment Rate (%)=%{x}<extra></extra>\",\"legendgroup\":\"Puducherry\",\"marker\":{\"color\":\"#B6E880\",\"pattern\":{\"shape\":\"\"}},\"name\":\"Puducherry\",\"offsetgroup\":\"Puducherry\",\"orientation\":\"h\",\"showlegend\":true,\"textposition\":\"auto\",\"x\":[0.0,0.0,0.0,4.85,0.0,1.18,0.0,1.99,1.25,0.0,0.0,8.95,1.22,1.17,1.37,5.21],\"xaxis\":\"x\",\"y\":[\"Puducherry\",\"Puducherry\",\"Puducherry\",\"Puducherry\",\"Puducherry\",\"Puducherry\",\"Puducherry\",\"Puducherry\",\"Puducherry\",\"Puducherry\",\"Puducherry\",\"Puducherry\",\"Puducherry\",\"Puducherry\",\"Puducherry\",\"Puducherry\"],\"yaxis\":\"y\",\"type\":\"bar\"},{\"alignmentgroup\":\"True\",\"hovertemplate\":\"Region=%{y}<br>Year=2019<br>Estimated Unemployment Rate (%)=%{x}<extra></extra>\",\"legendgroup\":\"Punjab\",\"marker\":{\"color\":\"#FF97FF\",\"pattern\":{\"shape\":\"\"}},\"name\":\"Punjab\",\"offsetgroup\":\"Punjab\",\"orientation\":\"h\",\"showlegend\":true,\"textposition\":\"auto\",\"x\":[9.17,12.21,9.64,6.69,8.59,12.56,7.07,6.13,13.49,13.17,11.61,11.99,15.69,13.75,10.39,11.97],\"xaxis\":\"x\",\"y\":[\"Punjab\",\"Punjab\",\"Punjab\",\"Punjab\",\"Punjab\",\"Punjab\",\"Punjab\",\"Punjab\",\"Punjab\",\"Punjab\",\"Punjab\",\"Punjab\",\"Punjab\",\"Punjab\",\"Punjab\",\"Punjab\"],\"yaxis\":\"y\",\"type\":\"bar\"},{\"alignmentgroup\":\"True\",\"hovertemplate\":\"Region=%{y}<br>Year=2019<br>Estimated Unemployment Rate (%)=%{x}<extra></extra>\",\"legendgroup\":\"Rajasthan\",\"marker\":{\"color\":\"#FECB52\",\"pattern\":{\"shape\":\"\"}},\"name\":\"Rajasthan\",\"offsetgroup\":\"Rajasthan\",\"orientation\":\"h\",\"showlegend\":true,\"textposition\":\"auto\",\"x\":[4.03,13.7,9.7,12.5,5.45,14.66,10.47,13.96,13.62,14.36,11.67,14.71,12.63,13.02,14.3,18.04],\"xaxis\":\"x\",\"y\":[\"Rajasthan\",\"Rajasthan\",\"Rajasthan\",\"Rajasthan\",\"Rajasthan\",\"Rajasthan\",\"Rajasthan\",\"Rajasthan\",\"Rajasthan\",\"Rajasthan\",\"Rajasthan\",\"Rajasthan\",\"Rajasthan\",\"Rajasthan\",\"Rajasthan\",\"Rajasthan\"],\"yaxis\":\"y\",\"type\":\"bar\"},{\"alignmentgroup\":\"True\",\"hovertemplate\":\"Region=%{y}<br>Year=2019<br>Estimated Unemployment Rate (%)=%{x}<extra></extra>\",\"legendgroup\":\"Sikkim\",\"marker\":{\"color\":\"#636efa\",\"pattern\":{\"shape\":\"\"}},\"name\":\"Sikkim\",\"offsetgroup\":\"Sikkim\",\"orientation\":\"h\",\"showlegend\":true,\"textposition\":\"auto\",\"x\":[5.48,13.11,1.0,8.2,7.76,2.56,4.82,4.81,9.68,4.04,7.37],\"xaxis\":\"x\",\"y\":[\"Sikkim\",\"Sikkim\",\"Sikkim\",\"Sikkim\",\"Sikkim\",\"Sikkim\",\"Sikkim\",\"Sikkim\",\"Sikkim\",\"Sikkim\",\"Sikkim\"],\"yaxis\":\"y\",\"type\":\"bar\"},{\"alignmentgroup\":\"True\",\"hovertemplate\":\"Region=%{y}<br>Year=2019<br>Estimated Unemployment Rate (%)=%{x}<extra></extra>\",\"legendgroup\":\"Tamil Nadu\",\"marker\":{\"color\":\"#EF553B\",\"pattern\":{\"shape\":\"\"}},\"name\":\"Tamil Nadu\",\"offsetgroup\":\"Tamil Nadu\",\"orientation\":\"h\",\"showlegend\":true,\"textposition\":\"auto\",\"x\":[0.97,0.92,6.01,2.91,1.71,1.46,2.46,3.73,0.89,1.56,3.18,9.53,1.86,1.13,2.65,8.05],\"xaxis\":\"x\",\"y\":[\"Tamil Nadu\",\"Tamil Nadu\",\"Tamil Nadu\",\"Tamil Nadu\",\"Tamil Nadu\",\"Tamil Nadu\",\"Tamil Nadu\",\"Tamil Nadu\",\"Tamil Nadu\",\"Tamil Nadu\",\"Tamil Nadu\",\"Tamil Nadu\",\"Tamil Nadu\",\"Tamil Nadu\",\"Tamil Nadu\",\"Tamil Nadu\"],\"yaxis\":\"y\",\"type\":\"bar\"},{\"alignmentgroup\":\"True\",\"hovertemplate\":\"Region=%{y}<br>Year=2019<br>Estimated Unemployment Rate (%)=%{x}<extra></extra>\",\"legendgroup\":\"Telangana\",\"marker\":{\"color\":\"#00cc96\",\"pattern\":{\"shape\":\"\"}},\"name\":\"Telangana\",\"offsetgroup\":\"Telangana\",\"orientation\":\"h\",\"showlegend\":true,\"textposition\":\"auto\",\"x\":[2.23,5.92,2.45,1.4,5.49,7.29,6.47,1.35,1.52,1.43,3.73,4.19,6.19,6.74,5.23,4.22],\"xaxis\":\"x\",\"y\":[\"Telangana\",\"Telangana\",\"Telangana\",\"Telangana\",\"Telangana\",\"Telangana\",\"Telangana\",\"Telangana\",\"Telangana\",\"Telangana\",\"Telangana\",\"Telangana\",\"Telangana\",\"Telangana\",\"Telangana\",\"Telangana\"],\"yaxis\":\"y\",\"type\":\"bar\"},{\"alignmentgroup\":\"True\",\"hovertemplate\":\"Region=%{y}<br>Year=2019<br>Estimated Unemployment Rate (%)=%{x}<extra></extra>\",\"legendgroup\":\"Tripura\",\"marker\":{\"color\":\"#ab63fa\",\"pattern\":{\"shape\":\"\"}},\"name\":\"Tripura\",\"offsetgroup\":\"Tripura\",\"orientation\":\"h\",\"showlegend\":true,\"textposition\":\"auto\",\"x\":[29.25,26.64,22.47,25.49,30.23,27.54,25.25,26.53,34.69,25.59,25.81,33.45,33.57,26.67,27.15,33.48],\"xaxis\":\"x\",\"y\":[\"Tripura\",\"Tripura\",\"Tripura\",\"Tripura\",\"Tripura\",\"Tripura\",\"Tripura\",\"Tripura\",\"Tripura\",\"Tripura\",\"Tripura\",\"Tripura\",\"Tripura\",\"Tripura\",\"Tripura\",\"Tripura\"],\"yaxis\":\"y\",\"type\":\"bar\"},{\"alignmentgroup\":\"True\",\"hovertemplate\":\"Region=%{y}<br>Year=2019<br>Estimated Unemployment Rate (%)=%{x}<extra></extra>\",\"legendgroup\":\"Uttar Pradesh\",\"marker\":{\"color\":\"#FFA15A\",\"pattern\":{\"shape\":\"\"}},\"name\":\"Uttar Pradesh\",\"offsetgroup\":\"Uttar Pradesh\",\"orientation\":\"h\",\"showlegend\":true,\"textposition\":\"auto\",\"x\":[10.26,11.13,9.19,11.47,6.45,10.18,6.94,8.43,14.4,11.62,11.8,14.73,13.58,10.35,11.31,12.37],\"xaxis\":\"x\",\"y\":[\"Uttar Pradesh\",\"Uttar Pradesh\",\"Uttar Pradesh\",\"Uttar Pradesh\",\"Uttar Pradesh\",\"Uttar Pradesh\",\"Uttar Pradesh\",\"Uttar Pradesh\",\"Uttar Pradesh\",\"Uttar Pradesh\",\"Uttar Pradesh\",\"Uttar Pradesh\",\"Uttar Pradesh\",\"Uttar Pradesh\",\"Uttar Pradesh\",\"Uttar Pradesh\"],\"yaxis\":\"y\",\"type\":\"bar\"},{\"alignmentgroup\":\"True\",\"hovertemplate\":\"Region=%{y}<br>Year=2019<br>Estimated Unemployment Rate (%)=%{x}<extra></extra>\",\"legendgroup\":\"Uttarakhand\",\"marker\":{\"color\":\"#19d3f3\",\"pattern\":{\"shape\":\"\"}},\"name\":\"Uttarakhand\",\"offsetgroup\":\"Uttarakhand\",\"orientation\":\"h\",\"showlegend\":true,\"textposition\":\"auto\",\"x\":[1.63,4.65,5.74,6.11,3.47,4.83,5.56,4.52,9.17,4.69,6.94,7.43,9.62,4.72,6.34,7.39],\"xaxis\":\"x\",\"y\":[\"Uttarakhand\",\"Uttarakhand\",\"Uttarakhand\",\"Uttarakhand\",\"Uttarakhand\",\"Uttarakhand\",\"Uttarakhand\",\"Uttarakhand\",\"Uttarakhand\",\"Uttarakhand\",\"Uttarakhand\",\"Uttarakhand\",\"Uttarakhand\",\"Uttarakhand\",\"Uttarakhand\",\"Uttarakhand\"],\"yaxis\":\"y\",\"type\":\"bar\"},{\"alignmentgroup\":\"True\",\"hovertemplate\":\"Region=%{y}<br>Year=2019<br>Estimated Unemployment Rate (%)=%{x}<extra></extra>\",\"legendgroup\":\"West Bengal\",\"marker\":{\"color\":\"#FF6692\",\"pattern\":{\"shape\":\"\"}},\"name\":\"West Bengal\",\"offsetgroup\":\"West Bengal\",\"orientation\":\"h\",\"showlegend\":true,\"textposition\":\"auto\",\"x\":[6.02,5.85,5.62,5.58,5.26,6.78,5.83,5.79,7.25,7.38,7.91,7.27,7.79,7.83,6.61,7.24],\"xaxis\":\"x\",\"y\":[\"West Bengal\",\"West Bengal\",\"West Bengal\",\"West Bengal\",\"West Bengal\",\"West Bengal\",\"West Bengal\",\"West Bengal\",\"West Bengal\",\"West Bengal\",\"West Bengal\",\"West Bengal\",\"West Bengal\",\"West Bengal\",\"West Bengal\",\"West Bengal\"],\"yaxis\":\"y\",\"type\":\"bar\"},{\"alignmentgroup\":\"True\",\"hovertemplate\":\"Region=%{y}<br>Year=2019<br>Estimated Unemployment Rate (%)=%{x}<extra></extra>\",\"legendgroup\":\"Chandigarh\",\"marker\":{\"color\":\"#B6E880\",\"pattern\":{\"shape\":\"\"}},\"name\":\"Chandigarh\",\"offsetgroup\":\"Chandigarh\",\"orientation\":\"h\",\"showlegend\":true,\"textposition\":\"auto\",\"x\":[18.35,12.4,21.8,9.52,20.14,13.99,22.05,8.33],\"xaxis\":\"x\",\"y\":[\"Chandigarh\",\"Chandigarh\",\"Chandigarh\",\"Chandigarh\",\"Chandigarh\",\"Chandigarh\",\"Chandigarh\",\"Chandigarh\"],\"yaxis\":\"y\",\"type\":\"bar\"}],                        {\"template\":{\"data\":{\"histogram2dcontour\":[{\"type\":\"histogram2dcontour\",\"colorbar\":{\"outlinewidth\":0,\"ticks\":\"\"},\"colorscale\":[[0.0,\"#0d0887\"],[0.1111111111111111,\"#46039f\"],[0.2222222222222222,\"#7201a8\"],[0.3333333333333333,\"#9c179e\"],[0.4444444444444444,\"#bd3786\"],[0.5555555555555556,\"#d8576b\"],[0.6666666666666666,\"#ed7953\"],[0.7777777777777778,\"#fb9f3a\"],[0.8888888888888888,\"#fdca26\"],[1.0,\"#f0f921\"]]}],\"choropleth\":[{\"type\":\"choropleth\",\"colorbar\":{\"outlinewidth\":0,\"ticks\":\"\"}}],\"histogram2d\":[{\"type\":\"histogram2d\",\"colorbar\":{\"outlinewidth\":0,\"ticks\":\"\"},\"colorscale\":[[0.0,\"#0d0887\"],[0.1111111111111111,\"#46039f\"],[0.2222222222222222,\"#7201a8\"],[0.3333333333333333,\"#9c179e\"],[0.4444444444444444,\"#bd3786\"],[0.5555555555555556,\"#d8576b\"],[0.6666666666666666,\"#ed7953\"],[0.7777777777777778,\"#fb9f3a\"],[0.8888888888888888,\"#fdca26\"],[1.0,\"#f0f921\"]]}],\"heatmap\":[{\"type\":\"heatmap\",\"colorbar\":{\"outlinewidth\":0,\"ticks\":\"\"},\"colorscale\":[[0.0,\"#0d0887\"],[0.1111111111111111,\"#46039f\"],[0.2222222222222222,\"#7201a8\"],[0.3333333333333333,\"#9c179e\"],[0.4444444444444444,\"#bd3786\"],[0.5555555555555556,\"#d8576b\"],[0.6666666666666666,\"#ed7953\"],[0.7777777777777778,\"#fb9f3a\"],[0.8888888888888888,\"#fdca26\"],[1.0,\"#f0f921\"]]}],\"heatmapgl\":[{\"type\":\"heatmapgl\",\"colorbar\":{\"outlinewidth\":0,\"ticks\":\"\"},\"colorscale\":[[0.0,\"#0d0887\"],[0.1111111111111111,\"#46039f\"],[0.2222222222222222,\"#7201a8\"],[0.3333333333333333,\"#9c179e\"],[0.4444444444444444,\"#bd3786\"],[0.5555555555555556,\"#d8576b\"],[0.6666666666666666,\"#ed7953\"],[0.7777777777777778,\"#fb9f3a\"],[0.8888888888888888,\"#fdca26\"],[1.0,\"#f0f921\"]]}],\"contourcarpet\":[{\"type\":\"contourcarpet\",\"colorbar\":{\"outlinewidth\":0,\"ticks\":\"\"}}],\"contour\":[{\"type\":\"contour\",\"colorbar\":{\"outlinewidth\":0,\"ticks\":\"\"},\"colorscale\":[[0.0,\"#0d0887\"],[0.1111111111111111,\"#46039f\"],[0.2222222222222222,\"#7201a8\"],[0.3333333333333333,\"#9c179e\"],[0.4444444444444444,\"#bd3786\"],[0.5555555555555556,\"#d8576b\"],[0.6666666666666666,\"#ed7953\"],[0.7777777777777778,\"#fb9f3a\"],[0.8888888888888888,\"#fdca26\"],[1.0,\"#f0f921\"]]}],\"surface\":[{\"type\":\"surface\",\"colorbar\":{\"outlinewidth\":0,\"ticks\":\"\"},\"colorscale\":[[0.0,\"#0d0887\"],[0.1111111111111111,\"#46039f\"],[0.2222222222222222,\"#7201a8\"],[0.3333333333333333,\"#9c179e\"],[0.4444444444444444,\"#bd3786\"],[0.5555555555555556,\"#d8576b\"],[0.6666666666666666,\"#ed7953\"],[0.7777777777777778,\"#fb9f3a\"],[0.8888888888888888,\"#fdca26\"],[1.0,\"#f0f921\"]]}],\"mesh3d\":[{\"type\":\"mesh3d\",\"colorbar\":{\"outlinewidth\":0,\"ticks\":\"\"}}],\"scatter\":[{\"fillpattern\":{\"fillmode\":\"overlay\",\"size\":10,\"solidity\":0.2},\"type\":\"scatter\"}],\"parcoords\":[{\"type\":\"parcoords\",\"line\":{\"colorbar\":{\"outlinewidth\":0,\"ticks\":\"\"}}}],\"scatterpolargl\":[{\"type\":\"scatterpolargl\",\"marker\":{\"colorbar\":{\"outlinewidth\":0,\"ticks\":\"\"}}}],\"bar\":[{\"error_x\":{\"color\":\"#2a3f5f\"},\"error_y\":{\"color\":\"#2a3f5f\"},\"marker\":{\"line\":{\"color\":\"#E5ECF6\",\"width\":0.5},\"pattern\":{\"fillmode\":\"overlay\",\"size\":10,\"solidity\":0.2}},\"type\":\"bar\"}],\"scattergeo\":[{\"type\":\"scattergeo\",\"marker\":{\"colorbar\":{\"outlinewidth\":0,\"ticks\":\"\"}}}],\"scatterpolar\":[{\"type\":\"scatterpolar\",\"marker\":{\"colorbar\":{\"outlinewidth\":0,\"ticks\":\"\"}}}],\"histogram\":[{\"marker\":{\"pattern\":{\"fillmode\":\"overlay\",\"size\":10,\"solidity\":0.2}},\"type\":\"histogram\"}],\"scattergl\":[{\"type\":\"scattergl\",\"marker\":{\"colorbar\":{\"outlinewidth\":0,\"ticks\":\"\"}}}],\"scatter3d\":[{\"type\":\"scatter3d\",\"line\":{\"colorbar\":{\"outlinewidth\":0,\"ticks\":\"\"}},\"marker\":{\"colorbar\":{\"outlinewidth\":0,\"ticks\":\"\"}}}],\"scattermapbox\":[{\"type\":\"scattermapbox\",\"marker\":{\"colorbar\":{\"outlinewidth\":0,\"ticks\":\"\"}}}],\"scatterternary\":[{\"type\":\"scatterternary\",\"marker\":{\"colorbar\":{\"outlinewidth\":0,\"ticks\":\"\"}}}],\"scattercarpet\":[{\"type\":\"scattercarpet\",\"marker\":{\"colorbar\":{\"outlinewidth\":0,\"ticks\":\"\"}}}],\"carpet\":[{\"aaxis\":{\"endlinecolor\":\"#2a3f5f\",\"gridcolor\":\"white\",\"linecolor\":\"white\",\"minorgridcolor\":\"white\",\"startlinecolor\":\"#2a3f5f\"},\"baxis\":{\"endlinecolor\":\"#2a3f5f\",\"gridcolor\":\"white\",\"linecolor\":\"white\",\"minorgridcolor\":\"white\",\"startlinecolor\":\"#2a3f5f\"},\"type\":\"carpet\"}],\"table\":[{\"cells\":{\"fill\":{\"color\":\"#EBF0F8\"},\"line\":{\"color\":\"white\"}},\"header\":{\"fill\":{\"color\":\"#C8D4E3\"},\"line\":{\"color\":\"white\"}},\"type\":\"table\"}],\"barpolar\":[{\"marker\":{\"line\":{\"color\":\"#E5ECF6\",\"width\":0.5},\"pattern\":{\"fillmode\":\"overlay\",\"size\":10,\"solidity\":0.2}},\"type\":\"barpolar\"}],\"pie\":[{\"automargin\":true,\"type\":\"pie\"}]},\"layout\":{\"autotypenumbers\":\"strict\",\"colorway\":[\"#636efa\",\"#EF553B\",\"#00cc96\",\"#ab63fa\",\"#FFA15A\",\"#19d3f3\",\"#FF6692\",\"#B6E880\",\"#FF97FF\",\"#FECB52\"],\"font\":{\"color\":\"#2a3f5f\"},\"hovermode\":\"closest\",\"hoverlabel\":{\"align\":\"left\"},\"paper_bgcolor\":\"white\",\"plot_bgcolor\":\"#E5ECF6\",\"polar\":{\"bgcolor\":\"#E5ECF6\",\"angularaxis\":{\"gridcolor\":\"white\",\"linecolor\":\"white\",\"ticks\":\"\"},\"radialaxis\":{\"gridcolor\":\"white\",\"linecolor\":\"white\",\"ticks\":\"\"}},\"ternary\":{\"bgcolor\":\"#E5ECF6\",\"aaxis\":{\"gridcolor\":\"white\",\"linecolor\":\"white\",\"ticks\":\"\"},\"baxis\":{\"gridcolor\":\"white\",\"linecolor\":\"white\",\"ticks\":\"\"},\"caxis\":{\"gridcolor\":\"white\",\"linecolor\":\"white\",\"ticks\":\"\"}},\"coloraxis\":{\"colorbar\":{\"outlinewidth\":0,\"ticks\":\"\"}},\"colorscale\":{\"sequential\":[[0.0,\"#0d0887\"],[0.1111111111111111,\"#46039f\"],[0.2222222222222222,\"#7201a8\"],[0.3333333333333333,\"#9c179e\"],[0.4444444444444444,\"#bd3786\"],[0.5555555555555556,\"#d8576b\"],[0.6666666666666666,\"#ed7953\"],[0.7777777777777778,\"#fb9f3a\"],[0.8888888888888888,\"#fdca26\"],[1.0,\"#f0f921\"]],\"sequentialminus\":[[0.0,\"#0d0887\"],[0.1111111111111111,\"#46039f\"],[0.2222222222222222,\"#7201a8\"],[0.3333333333333333,\"#9c179e\"],[0.4444444444444444,\"#bd3786\"],[0.5555555555555556,\"#d8576b\"],[0.6666666666666666,\"#ed7953\"],[0.7777777777777778,\"#fb9f3a\"],[0.8888888888888888,\"#fdca26\"],[1.0,\"#f0f921\"]],\"diverging\":[[0,\"#8e0152\"],[0.1,\"#c51b7d\"],[0.2,\"#de77ae\"],[0.3,\"#f1b6da\"],[0.4,\"#fde0ef\"],[0.5,\"#f7f7f7\"],[0.6,\"#e6f5d0\"],[0.7,\"#b8e186\"],[0.8,\"#7fbc41\"],[0.9,\"#4d9221\"],[1,\"#276419\"]]},\"xaxis\":{\"gridcolor\":\"white\",\"linecolor\":\"white\",\"ticks\":\"\",\"title\":{\"standoff\":15},\"zerolinecolor\":\"white\",\"automargin\":true,\"zerolinewidth\":2},\"yaxis\":{\"gridcolor\":\"white\",\"linecolor\":\"white\",\"ticks\":\"\",\"title\":{\"standoff\":15},\"zerolinecolor\":\"white\",\"automargin\":true,\"zerolinewidth\":2},\"scene\":{\"xaxis\":{\"backgroundcolor\":\"#E5ECF6\",\"gridcolor\":\"white\",\"linecolor\":\"white\",\"showbackground\":true,\"ticks\":\"\",\"zerolinecolor\":\"white\",\"gridwidth\":2},\"yaxis\":{\"backgroundcolor\":\"#E5ECF6\",\"gridcolor\":\"white\",\"linecolor\":\"white\",\"showbackground\":true,\"ticks\":\"\",\"zerolinecolor\":\"white\",\"gridwidth\":2},\"zaxis\":{\"backgroundcolor\":\"#E5ECF6\",\"gridcolor\":\"white\",\"linecolor\":\"white\",\"showbackground\":true,\"ticks\":\"\",\"zerolinecolor\":\"white\",\"gridwidth\":2}},\"shapedefaults\":{\"line\":{\"color\":\"#2a3f5f\"}},\"annotationdefaults\":{\"arrowcolor\":\"#2a3f5f\",\"arrowhead\":0,\"arrowwidth\":1},\"geo\":{\"bgcolor\":\"white\",\"landcolor\":\"#E5ECF6\",\"subunitcolor\":\"white\",\"showland\":true,\"showlakes\":true,\"lakecolor\":\"white\"},\"title\":{\"x\":0.05},\"mapbox\":{\"style\":\"light\"}}},\"xaxis\":{\"anchor\":\"y\",\"domain\":[0.0,1.0],\"title\":{\"text\":\"Estimated Unemployment Rate (%)\"},\"categoryorder\":\"total descending\"},\"yaxis\":{\"anchor\":\"x\",\"domain\":[0.0,1.0],\"title\":{\"text\":\"Region\"},\"categoryorder\":\"array\",\"categoryarray\":[\"Chandigarh\",\"West Bengal\",\"Uttarakhand\",\"Uttar Pradesh\",\"Tripura\",\"Telangana\",\"Tamil Nadu\",\"Sikkim\",\"Rajasthan\",\"Punjab\",\"Puducherry\",\"Odisha\",\"Meghalaya\",\"Maharashtra\",\"Madhya Pradesh\",\"Kerala\",\"Karnataka\",\"Jharkhand\",\"Jammu & Kashmir\",\"Himachal Pradesh\",\"Haryana\",\"Gujarat\",\"Goa\",\"Delhi\",\"Chhattisgarh\",\"Bihar\",\"Assam\",\"Andhra Pradesh\"]},\"legend\":{\"title\":{\"text\":\"Region\"},\"tracegroupgap\":0},\"title\":{\"text\":\"Unemployment Rate per State with Date Slider\"},\"barmode\":\"relative\",\"updatemenus\":[{\"buttons\":[{\"args\":[null,{\"frame\":{\"duration\":500,\"redraw\":true},\"mode\":\"immediate\",\"fromcurrent\":true,\"transition\":{\"duration\":500,\"easing\":\"linear\"}}],\"label\":\"&#9654;\",\"method\":\"animate\"},{\"args\":[[null],{\"frame\":{\"duration\":0,\"redraw\":true},\"mode\":\"immediate\",\"fromcurrent\":true,\"transition\":{\"duration\":0,\"easing\":\"linear\"}}],\"label\":\"&#9724;\",\"method\":\"animate\"}],\"direction\":\"left\",\"pad\":{\"r\":10,\"t\":70},\"showactive\":false,\"type\":\"buttons\",\"x\":0.1,\"xanchor\":\"right\",\"y\":0,\"yanchor\":\"top\"}],\"sliders\":[{\"active\":0,\"currentvalue\":{\"prefix\":\"Year=\"},\"len\":0.9,\"pad\":{\"b\":10,\"t\":60},\"steps\":[{\"args\":[[\"2019\"],{\"frame\":{\"duration\":0,\"redraw\":true},\"mode\":\"immediate\",\"fromcurrent\":true,\"transition\":{\"duration\":0,\"easing\":\"linear\"}}],\"label\":\"2019\",\"method\":\"animate\"},{\"args\":[[\"2020\"],{\"frame\":{\"duration\":0,\"redraw\":true},\"mode\":\"immediate\",\"fromcurrent\":true,\"transition\":{\"duration\":0,\"easing\":\"linear\"}}],\"label\":\"2020\",\"method\":\"animate\"}],\"x\":0.1,\"xanchor\":\"left\",\"y\":0,\"yanchor\":\"top\"}]},                        {\"responsive\": true}                    ).then(function(){\n",
       "                            Plotly.addFrames('c8cf9f04-af3b-4d7b-8c7c-8a84432d457c', [{\"data\":[{\"alignmentgroup\":\"True\",\"hovertemplate\":\"Region=%{y}<br>Year=2019<br>Estimated Unemployment Rate (%)=%{x}<extra></extra>\",\"legendgroup\":\"Andhra Pradesh\",\"marker\":{\"color\":\"#636efa\",\"pattern\":{\"shape\":\"\"}},\"name\":\"Andhra Pradesh\",\"offsetgroup\":\"Andhra Pradesh\",\"orientation\":\"h\",\"showlegend\":true,\"textposition\":\"auto\",\"x\":[3.65,3.05,3.75,3.32,5.17,3.52,4.12,4.38,6.09,3.8,5.64,4.61,6.01,4.7,7.54,7.88],\"xaxis\":\"x\",\"y\":[\"Andhra Pradesh\",\"Andhra Pradesh\",\"Andhra Pradesh\",\"Andhra Pradesh\",\"Andhra Pradesh\",\"Andhra Pradesh\",\"Andhra Pradesh\",\"Andhra Pradesh\",\"Andhra Pradesh\",\"Andhra Pradesh\",\"Andhra Pradesh\",\"Andhra Pradesh\",\"Andhra Pradesh\",\"Andhra Pradesh\",\"Andhra Pradesh\",\"Andhra Pradesh\"],\"yaxis\":\"y\",\"type\":\"bar\"},{\"alignmentgroup\":\"True\",\"hovertemplate\":\"Region=%{y}<br>Year=2019<br>Estimated Unemployment Rate (%)=%{x}<extra></extra>\",\"legendgroup\":\"Assam\",\"marker\":{\"color\":\"#EF553B\",\"pattern\":{\"shape\":\"\"}},\"name\":\"Assam\",\"offsetgroup\":\"Assam\",\"orientation\":\"h\",\"showlegend\":true,\"textposition\":\"auto\",\"x\":[4.29,5.08,4.26,5.79,4.46,4.65,4.66,7.87,9.89,3.21,10.39,9.26,11.17,6.31,5.02],\"xaxis\":\"x\",\"y\":[\"Assam\",\"Assam\",\"Assam\",\"Assam\",\"Assam\",\"Assam\",\"Assam\",\"Assam\",\"Assam\",\"Assam\",\"Assam\",\"Assam\",\"Assam\",\"Assam\",\"Assam\"],\"yaxis\":\"y\",\"type\":\"bar\"},{\"alignmentgroup\":\"True\",\"hovertemplate\":\"Region=%{y}<br>Year=2019<br>Estimated Unemployment Rate (%)=%{x}<extra></extra>\",\"legendgroup\":\"Bihar\",\"marker\":{\"color\":\"#00cc96\",\"pattern\":{\"shape\":\"\"}},\"name\":\"Bihar\",\"offsetgroup\":\"Bihar\",\"orientation\":\"h\",\"showlegend\":true,\"textposition\":\"auto\",\"x\":[9.27,10.2,13.44,11.0,8.87,12.47,12.4,10.16,19.9,13.29,16.41,17.66,20.46,14.06,17.62,14.91],\"xaxis\":\"x\",\"y\":[\"Bihar\",\"Bihar\",\"Bihar\",\"Bihar\",\"Bihar\",\"Bihar\",\"Bihar\",\"Bihar\",\"Bihar\",\"Bihar\",\"Bihar\",\"Bihar\",\"Bihar\",\"Bihar\",\"Bihar\",\"Bihar\"],\"yaxis\":\"y\",\"type\":\"bar\"},{\"alignmentgroup\":\"True\",\"hovertemplate\":\"Region=%{y}<br>Year=2019<br>Estimated Unemployment Rate (%)=%{x}<extra></extra>\",\"legendgroup\":\"Chhattisgarh\",\"marker\":{\"color\":\"#ab63fa\",\"pattern\":{\"shape\":\"\"}},\"name\":\"Chhattisgarh\",\"offsetgroup\":\"Chhattisgarh\",\"orientation\":\"h\",\"showlegend\":true,\"textposition\":\"auto\",\"x\":[9.82,6.76,4.54,4.64,8.33,6.96,2.77,6.11,9.77,11.77,8.17,6.29,9.46,10.27,8.32,3.57],\"xaxis\":\"x\",\"y\":[\"Chhattisgarh\",\"Chhattisgarh\",\"Chhattisgarh\",\"Chhattisgarh\",\"Chhattisgarh\",\"Chhattisgarh\",\"Chhattisgarh\",\"Chhattisgarh\",\"Chhattisgarh\",\"Chhattisgarh\",\"Chhattisgarh\",\"Chhattisgarh\",\"Chhattisgarh\",\"Chhattisgarh\",\"Chhattisgarh\",\"Chhattisgarh\"],\"yaxis\":\"y\",\"type\":\"bar\"},{\"alignmentgroup\":\"True\",\"hovertemplate\":\"Region=%{y}<br>Year=2019<br>Estimated Unemployment Rate (%)=%{x}<extra></extra>\",\"legendgroup\":\"Delhi\",\"marker\":{\"color\":\"#FFA15A\",\"pattern\":{\"shape\":\"\"}},\"name\":\"Delhi\",\"offsetgroup\":\"Delhi\",\"orientation\":\"h\",\"showlegend\":true,\"textposition\":\"auto\",\"x\":[12.56,9.33,11.07,17.18,12.5,15.84,11.11,16.97,12.31,12.76,14.68,13.52,20.59,12.41,16.11,11.07],\"xaxis\":\"x\",\"y\":[\"Delhi\",\"Delhi\",\"Delhi\",\"Delhi\",\"Delhi\",\"Delhi\",\"Delhi\",\"Delhi\",\"Delhi\",\"Delhi\",\"Delhi\",\"Delhi\",\"Delhi\",\"Delhi\",\"Delhi\",\"Delhi\"],\"yaxis\":\"y\",\"type\":\"bar\"},{\"alignmentgroup\":\"True\",\"hovertemplate\":\"Region=%{y}<br>Year=2019<br>Estimated Unemployment Rate (%)=%{x}<extra></extra>\",\"legendgroup\":\"Goa\",\"marker\":{\"color\":\"#19d3f3\",\"pattern\":{\"shape\":\"\"}},\"name\":\"Goa\",\"offsetgroup\":\"Goa\",\"orientation\":\"h\",\"showlegend\":true,\"textposition\":\"auto\",\"x\":[2.91,5.45,10.98,1.98,3.61,7.21,23.71,3.54,2.75,13.33,12.28,4.9,3.16,12.31,25.2,16.22],\"xaxis\":\"x\",\"y\":[\"Goa\",\"Goa\",\"Goa\",\"Goa\",\"Goa\",\"Goa\",\"Goa\",\"Goa\",\"Goa\",\"Goa\",\"Goa\",\"Goa\",\"Goa\",\"Goa\",\"Goa\",\"Goa\"],\"yaxis\":\"y\",\"type\":\"bar\"},{\"alignmentgroup\":\"True\",\"hovertemplate\":\"Region=%{y}<br>Year=2019<br>Estimated Unemployment Rate (%)=%{x}<extra></extra>\",\"legendgroup\":\"Gujarat\",\"marker\":{\"color\":\"#FF6692\",\"pattern\":{\"shape\":\"\"}},\"name\":\"Gujarat\",\"offsetgroup\":\"Gujarat\",\"orientation\":\"h\",\"showlegend\":true,\"textposition\":\"auto\",\"x\":[2.88,4.77,4.58,3.7,6.29,4.91,4.68,3.46,4.09,6.31,5.15,4.2,5.96,5.45,7.53,5.71],\"xaxis\":\"x\",\"y\":[\"Gujarat\",\"Gujarat\",\"Gujarat\",\"Gujarat\",\"Gujarat\",\"Gujarat\",\"Gujarat\",\"Gujarat\",\"Gujarat\",\"Gujarat\",\"Gujarat\",\"Gujarat\",\"Gujarat\",\"Gujarat\",\"Gujarat\",\"Gujarat\"],\"yaxis\":\"y\",\"type\":\"bar\"},{\"alignmentgroup\":\"True\",\"hovertemplate\":\"Region=%{y}<br>Year=2019<br>Estimated Unemployment Rate (%)=%{x}<extra></extra>\",\"legendgroup\":\"Haryana\",\"marker\":{\"color\":\"#B6E880\",\"pattern\":{\"shape\":\"\"}},\"name\":\"Haryana\",\"offsetgroup\":\"Haryana\",\"orientation\":\"h\",\"showlegend\":true,\"textposition\":\"auto\",\"x\":[14.54,23.08,16.22,30.94,16.36,24.17,16.59,29.56,24.67,20.42,25.45,24.19,26.84,21.04,27.06,23.65],\"xaxis\":\"x\",\"y\":[\"Haryana\",\"Haryana\",\"Haryana\",\"Haryana\",\"Haryana\",\"Haryana\",\"Haryana\",\"Haryana\",\"Haryana\",\"Haryana\",\"Haryana\",\"Haryana\",\"Haryana\",\"Haryana\",\"Haryana\",\"Haryana\"],\"yaxis\":\"y\",\"type\":\"bar\"},{\"alignmentgroup\":\"True\",\"hovertemplate\":\"Region=%{y}<br>Year=2019<br>Estimated Unemployment Rate (%)=%{x}<extra></extra>\",\"legendgroup\":\"Himachal Pradesh\",\"marker\":{\"color\":\"#FF97FF\",\"pattern\":{\"shape\":\"\"}},\"name\":\"Himachal Pradesh\",\"offsetgroup\":\"Himachal Pradesh\",\"orientation\":\"h\",\"showlegend\":true,\"textposition\":\"auto\",\"x\":[13.68,11.43,20.59,18.56,15.98,15.81,22.86,19.46,10.88,21.43,21.51,24.48,12.0,23.77,27.27,25.32],\"xaxis\":\"x\",\"y\":[\"Himachal Pradesh\",\"Himachal Pradesh\",\"Himachal Pradesh\",\"Himachal Pradesh\",\"Himachal Pradesh\",\"Himachal Pradesh\",\"Himachal Pradesh\",\"Himachal Pradesh\",\"Himachal Pradesh\",\"Himachal Pradesh\",\"Himachal Pradesh\",\"Himachal Pradesh\",\"Himachal Pradesh\",\"Himachal Pradesh\",\"Himachal Pradesh\",\"Himachal Pradesh\"],\"yaxis\":\"y\",\"type\":\"bar\"},{\"alignmentgroup\":\"True\",\"hovertemplate\":\"Region=%{y}<br>Year=2019<br>Estimated Unemployment Rate (%)=%{x}<extra></extra>\",\"legendgroup\":\"Jammu & Kashmir\",\"marker\":{\"color\":\"#FECB52\",\"pattern\":{\"shape\":\"\"}},\"name\":\"Jammu & Kashmir\",\"offsetgroup\":\"Jammu & Kashmir\",\"orientation\":\"h\",\"showlegend\":true,\"textposition\":\"auto\",\"x\":[12.78,12.09,13.67,11.32,19.27,14.73,23.04,19.88,21.55,24.06,14.29,7.02],\"xaxis\":\"x\",\"y\":[\"Jammu & Kashmir\",\"Jammu & Kashmir\",\"Jammu & Kashmir\",\"Jammu & Kashmir\",\"Jammu & Kashmir\",\"Jammu & Kashmir\",\"Jammu & Kashmir\",\"Jammu & Kashmir\",\"Jammu & Kashmir\",\"Jammu & Kashmir\",\"Jammu & Kashmir\",\"Jammu & Kashmir\"],\"yaxis\":\"y\",\"type\":\"bar\"},{\"alignmentgroup\":\"True\",\"hovertemplate\":\"Region=%{y}<br>Year=2019<br>Estimated Unemployment Rate (%)=%{x}<extra></extra>\",\"legendgroup\":\"Jharkhand\",\"marker\":{\"color\":\"#636efa\",\"pattern\":{\"shape\":\"\"}},\"name\":\"Jharkhand\",\"offsetgroup\":\"Jharkhand\",\"orientation\":\"h\",\"showlegend\":true,\"textposition\":\"auto\",\"x\":[7.11,8.46,9.98,12.06,7.12,6.57,8.07,15.15,17.23,20.51,15.67,20.25,21.16,19.05,17.34,22.01],\"xaxis\":\"x\",\"y\":[\"Jharkhand\",\"Jharkhand\",\"Jharkhand\",\"Jharkhand\",\"Jharkhand\",\"Jharkhand\",\"Jharkhand\",\"Jharkhand\",\"Jharkhand\",\"Jharkhand\",\"Jharkhand\",\"Jharkhand\",\"Jharkhand\",\"Jharkhand\",\"Jharkhand\",\"Jharkhand\"],\"yaxis\":\"y\",\"type\":\"bar\"},{\"alignmentgroup\":\"True\",\"hovertemplate\":\"Region=%{y}<br>Year=2019<br>Estimated Unemployment Rate (%)=%{x}<extra></extra>\",\"legendgroup\":\"Karnataka\",\"marker\":{\"color\":\"#EF553B\",\"pattern\":{\"shape\":\"\"}},\"name\":\"Karnataka\",\"offsetgroup\":\"Karnataka\",\"orientation\":\"h\",\"showlegend\":true,\"textposition\":\"auto\",\"x\":[5.46,5.98,0.52,0.37,3.2,7.13,1.19,0.41,6.56,5.0,2.29,1.27,3.57,3.87,3.44,1.56],\"xaxis\":\"x\",\"y\":[\"Karnataka\",\"Karnataka\",\"Karnataka\",\"Karnataka\",\"Karnataka\",\"Karnataka\",\"Karnataka\",\"Karnataka\",\"Karnataka\",\"Karnataka\",\"Karnataka\",\"Karnataka\",\"Karnataka\",\"Karnataka\",\"Karnataka\",\"Karnataka\"],\"yaxis\":\"y\",\"type\":\"bar\"},{\"alignmentgroup\":\"True\",\"hovertemplate\":\"Region=%{y}<br>Year=2019<br>Estimated Unemployment Rate (%)=%{x}<extra></extra>\",\"legendgroup\":\"Kerala\",\"marker\":{\"color\":\"#00cc96\",\"pattern\":{\"shape\":\"\"}},\"name\":\"Kerala\",\"offsetgroup\":\"Kerala\",\"orientation\":\"h\",\"showlegend\":true,\"textposition\":\"auto\",\"x\":[6.63,9.0,4.95,10.32,5.35,9.14,5.0,10.77,6.11,6.67,7.58,7.69,5.52,5.35,6.71,7.31],\"xaxis\":\"x\",\"y\":[\"Kerala\",\"Kerala\",\"Kerala\",\"Kerala\",\"Kerala\",\"Kerala\",\"Kerala\",\"Kerala\",\"Kerala\",\"Kerala\",\"Kerala\",\"Kerala\",\"Kerala\",\"Kerala\",\"Kerala\",\"Kerala\"],\"yaxis\":\"y\",\"type\":\"bar\"},{\"alignmentgroup\":\"True\",\"hovertemplate\":\"Region=%{y}<br>Year=2019<br>Estimated Unemployment Rate (%)=%{x}<extra></extra>\",\"legendgroup\":\"Madhya Pradesh\",\"marker\":{\"color\":\"#ab63fa\",\"pattern\":{\"shape\":\"\"}},\"name\":\"Madhya Pradesh\",\"offsetgroup\":\"Madhya Pradesh\",\"orientation\":\"h\",\"showlegend\":true,\"textposition\":\"auto\",\"x\":[3.63,4.25,3.92,4.94,3.08,2.98,2.72,2.94,3.91,6.38,7.38,6.82,7.0,4.4,6.06,6.2],\"xaxis\":\"x\",\"y\":[\"Madhya Pradesh\",\"Madhya Pradesh\",\"Madhya Pradesh\",\"Madhya Pradesh\",\"Madhya Pradesh\",\"Madhya Pradesh\",\"Madhya Pradesh\",\"Madhya Pradesh\",\"Madhya Pradesh\",\"Madhya Pradesh\",\"Madhya Pradesh\",\"Madhya Pradesh\",\"Madhya Pradesh\",\"Madhya Pradesh\",\"Madhya Pradesh\",\"Madhya Pradesh\"],\"yaxis\":\"y\",\"type\":\"bar\"},{\"alignmentgroup\":\"True\",\"hovertemplate\":\"Region=%{y}<br>Year=2019<br>Estimated Unemployment Rate (%)=%{x}<extra></extra>\",\"legendgroup\":\"Maharashtra\",\"marker\":{\"color\":\"#FFA15A\",\"pattern\":{\"shape\":\"\"}},\"name\":\"Maharashtra\",\"offsetgroup\":\"Maharashtra\",\"orientation\":\"h\",\"showlegend\":true,\"textposition\":\"auto\",\"x\":[3.67,4.34,3.66,3.76,4.4,3.81,3.68,3.03,6.08,6.46,6.35,7.57,7.6,7.51,7.6,7.83],\"xaxis\":\"x\",\"y\":[\"Maharashtra\",\"Maharashtra\",\"Maharashtra\",\"Maharashtra\",\"Maharashtra\",\"Maharashtra\",\"Maharashtra\",\"Maharashtra\",\"Maharashtra\",\"Maharashtra\",\"Maharashtra\",\"Maharashtra\",\"Maharashtra\",\"Maharashtra\",\"Maharashtra\",\"Maharashtra\"],\"yaxis\":\"y\",\"type\":\"bar\"},{\"alignmentgroup\":\"True\",\"hovertemplate\":\"Region=%{y}<br>Year=2019<br>Estimated Unemployment Rate (%)=%{x}<extra></extra>\",\"legendgroup\":\"Meghalaya\",\"marker\":{\"color\":\"#19d3f3\",\"pattern\":{\"shape\":\"\"}},\"name\":\"Meghalaya\",\"offsetgroup\":\"Meghalaya\",\"orientation\":\"h\",\"showlegend\":true,\"textposition\":\"auto\",\"x\":[3.16,4.23,1.03,0.52,0.24,3.7,1.5,1.8,8.4,8.66,4.43,5.8,5.3,7.2,3.02,5.21],\"xaxis\":\"x\",\"y\":[\"Meghalaya\",\"Meghalaya\",\"Meghalaya\",\"Meghalaya\",\"Meghalaya\",\"Meghalaya\",\"Meghalaya\",\"Meghalaya\",\"Meghalaya\",\"Meghalaya\",\"Meghalaya\",\"Meghalaya\",\"Meghalaya\",\"Meghalaya\",\"Meghalaya\",\"Meghalaya\"],\"yaxis\":\"y\",\"type\":\"bar\"},{\"alignmentgroup\":\"True\",\"hovertemplate\":\"Region=%{y}<br>Year=2019<br>Estimated Unemployment Rate (%)=%{x}<extra></extra>\",\"legendgroup\":\"Odisha\",\"marker\":{\"color\":\"#FF6692\",\"pattern\":{\"shape\":\"\"}},\"name\":\"Odisha\",\"offsetgroup\":\"Odisha\",\"orientation\":\"h\",\"showlegend\":true,\"textposition\":\"auto\",\"x\":[4.17,4.71,3.31,3.68,4.31,4.28,4.72,4.67,2.95,2.63,1.78,3.5,3.78,4.5,2.23,3.36],\"xaxis\":\"x\",\"y\":[\"Odisha\",\"Odisha\",\"Odisha\",\"Odisha\",\"Odisha\",\"Odisha\",\"Odisha\",\"Odisha\",\"Odisha\",\"Odisha\",\"Odisha\",\"Odisha\",\"Odisha\",\"Odisha\",\"Odisha\",\"Odisha\"],\"yaxis\":\"y\",\"type\":\"bar\"},{\"alignmentgroup\":\"True\",\"hovertemplate\":\"Region=%{y}<br>Year=2019<br>Estimated Unemployment Rate (%)=%{x}<extra></extra>\",\"legendgroup\":\"Puducherry\",\"marker\":{\"color\":\"#B6E880\",\"pattern\":{\"shape\":\"\"}},\"name\":\"Puducherry\",\"offsetgroup\":\"Puducherry\",\"orientation\":\"h\",\"showlegend\":true,\"textposition\":\"auto\",\"x\":[0.0,0.0,0.0,4.85,0.0,1.18,0.0,1.99,1.25,0.0,0.0,8.95,1.22,1.17,1.37,5.21],\"xaxis\":\"x\",\"y\":[\"Puducherry\",\"Puducherry\",\"Puducherry\",\"Puducherry\",\"Puducherry\",\"Puducherry\",\"Puducherry\",\"Puducherry\",\"Puducherry\",\"Puducherry\",\"Puducherry\",\"Puducherry\",\"Puducherry\",\"Puducherry\",\"Puducherry\",\"Puducherry\"],\"yaxis\":\"y\",\"type\":\"bar\"},{\"alignmentgroup\":\"True\",\"hovertemplate\":\"Region=%{y}<br>Year=2019<br>Estimated Unemployment Rate (%)=%{x}<extra></extra>\",\"legendgroup\":\"Punjab\",\"marker\":{\"color\":\"#FF97FF\",\"pattern\":{\"shape\":\"\"}},\"name\":\"Punjab\",\"offsetgroup\":\"Punjab\",\"orientation\":\"h\",\"showlegend\":true,\"textposition\":\"auto\",\"x\":[9.17,12.21,9.64,6.69,8.59,12.56,7.07,6.13,13.49,13.17,11.61,11.99,15.69,13.75,10.39,11.97],\"xaxis\":\"x\",\"y\":[\"Punjab\",\"Punjab\",\"Punjab\",\"Punjab\",\"Punjab\",\"Punjab\",\"Punjab\",\"Punjab\",\"Punjab\",\"Punjab\",\"Punjab\",\"Punjab\",\"Punjab\",\"Punjab\",\"Punjab\",\"Punjab\"],\"yaxis\":\"y\",\"type\":\"bar\"},{\"alignmentgroup\":\"True\",\"hovertemplate\":\"Region=%{y}<br>Year=2019<br>Estimated Unemployment Rate (%)=%{x}<extra></extra>\",\"legendgroup\":\"Rajasthan\",\"marker\":{\"color\":\"#FECB52\",\"pattern\":{\"shape\":\"\"}},\"name\":\"Rajasthan\",\"offsetgroup\":\"Rajasthan\",\"orientation\":\"h\",\"showlegend\":true,\"textposition\":\"auto\",\"x\":[4.03,13.7,9.7,12.5,5.45,14.66,10.47,13.96,13.62,14.36,11.67,14.71,12.63,13.02,14.3,18.04],\"xaxis\":\"x\",\"y\":[\"Rajasthan\",\"Rajasthan\",\"Rajasthan\",\"Rajasthan\",\"Rajasthan\",\"Rajasthan\",\"Rajasthan\",\"Rajasthan\",\"Rajasthan\",\"Rajasthan\",\"Rajasthan\",\"Rajasthan\",\"Rajasthan\",\"Rajasthan\",\"Rajasthan\",\"Rajasthan\"],\"yaxis\":\"y\",\"type\":\"bar\"},{\"alignmentgroup\":\"True\",\"hovertemplate\":\"Region=%{y}<br>Year=2019<br>Estimated Unemployment Rate (%)=%{x}<extra></extra>\",\"legendgroup\":\"Sikkim\",\"marker\":{\"color\":\"#636efa\",\"pattern\":{\"shape\":\"\"}},\"name\":\"Sikkim\",\"offsetgroup\":\"Sikkim\",\"orientation\":\"h\",\"showlegend\":true,\"textposition\":\"auto\",\"x\":[5.48,13.11,1.0,8.2,7.76,2.56,4.82,4.81,9.68,4.04,7.37],\"xaxis\":\"x\",\"y\":[\"Sikkim\",\"Sikkim\",\"Sikkim\",\"Sikkim\",\"Sikkim\",\"Sikkim\",\"Sikkim\",\"Sikkim\",\"Sikkim\",\"Sikkim\",\"Sikkim\"],\"yaxis\":\"y\",\"type\":\"bar\"},{\"alignmentgroup\":\"True\",\"hovertemplate\":\"Region=%{y}<br>Year=2019<br>Estimated Unemployment Rate (%)=%{x}<extra></extra>\",\"legendgroup\":\"Tamil Nadu\",\"marker\":{\"color\":\"#EF553B\",\"pattern\":{\"shape\":\"\"}},\"name\":\"Tamil Nadu\",\"offsetgroup\":\"Tamil Nadu\",\"orientation\":\"h\",\"showlegend\":true,\"textposition\":\"auto\",\"x\":[0.97,0.92,6.01,2.91,1.71,1.46,2.46,3.73,0.89,1.56,3.18,9.53,1.86,1.13,2.65,8.05],\"xaxis\":\"x\",\"y\":[\"Tamil Nadu\",\"Tamil Nadu\",\"Tamil Nadu\",\"Tamil Nadu\",\"Tamil Nadu\",\"Tamil Nadu\",\"Tamil Nadu\",\"Tamil Nadu\",\"Tamil Nadu\",\"Tamil Nadu\",\"Tamil Nadu\",\"Tamil Nadu\",\"Tamil Nadu\",\"Tamil Nadu\",\"Tamil Nadu\",\"Tamil Nadu\"],\"yaxis\":\"y\",\"type\":\"bar\"},{\"alignmentgroup\":\"True\",\"hovertemplate\":\"Region=%{y}<br>Year=2019<br>Estimated Unemployment Rate (%)=%{x}<extra></extra>\",\"legendgroup\":\"Telangana\",\"marker\":{\"color\":\"#00cc96\",\"pattern\":{\"shape\":\"\"}},\"name\":\"Telangana\",\"offsetgroup\":\"Telangana\",\"orientation\":\"h\",\"showlegend\":true,\"textposition\":\"auto\",\"x\":[2.23,5.92,2.45,1.4,5.49,7.29,6.47,1.35,1.52,1.43,3.73,4.19,6.19,6.74,5.23,4.22],\"xaxis\":\"x\",\"y\":[\"Telangana\",\"Telangana\",\"Telangana\",\"Telangana\",\"Telangana\",\"Telangana\",\"Telangana\",\"Telangana\",\"Telangana\",\"Telangana\",\"Telangana\",\"Telangana\",\"Telangana\",\"Telangana\",\"Telangana\",\"Telangana\"],\"yaxis\":\"y\",\"type\":\"bar\"},{\"alignmentgroup\":\"True\",\"hovertemplate\":\"Region=%{y}<br>Year=2019<br>Estimated Unemployment Rate (%)=%{x}<extra></extra>\",\"legendgroup\":\"Tripura\",\"marker\":{\"color\":\"#ab63fa\",\"pattern\":{\"shape\":\"\"}},\"name\":\"Tripura\",\"offsetgroup\":\"Tripura\",\"orientation\":\"h\",\"showlegend\":true,\"textposition\":\"auto\",\"x\":[29.25,26.64,22.47,25.49,30.23,27.54,25.25,26.53,34.69,25.59,25.81,33.45,33.57,26.67,27.15,33.48],\"xaxis\":\"x\",\"y\":[\"Tripura\",\"Tripura\",\"Tripura\",\"Tripura\",\"Tripura\",\"Tripura\",\"Tripura\",\"Tripura\",\"Tripura\",\"Tripura\",\"Tripura\",\"Tripura\",\"Tripura\",\"Tripura\",\"Tripura\",\"Tripura\"],\"yaxis\":\"y\",\"type\":\"bar\"},{\"alignmentgroup\":\"True\",\"hovertemplate\":\"Region=%{y}<br>Year=2019<br>Estimated Unemployment Rate (%)=%{x}<extra></extra>\",\"legendgroup\":\"Uttar Pradesh\",\"marker\":{\"color\":\"#FFA15A\",\"pattern\":{\"shape\":\"\"}},\"name\":\"Uttar Pradesh\",\"offsetgroup\":\"Uttar Pradesh\",\"orientation\":\"h\",\"showlegend\":true,\"textposition\":\"auto\",\"x\":[10.26,11.13,9.19,11.47,6.45,10.18,6.94,8.43,14.4,11.62,11.8,14.73,13.58,10.35,11.31,12.37],\"xaxis\":\"x\",\"y\":[\"Uttar Pradesh\",\"Uttar Pradesh\",\"Uttar Pradesh\",\"Uttar Pradesh\",\"Uttar Pradesh\",\"Uttar Pradesh\",\"Uttar Pradesh\",\"Uttar Pradesh\",\"Uttar Pradesh\",\"Uttar Pradesh\",\"Uttar Pradesh\",\"Uttar Pradesh\",\"Uttar Pradesh\",\"Uttar Pradesh\",\"Uttar Pradesh\",\"Uttar Pradesh\"],\"yaxis\":\"y\",\"type\":\"bar\"},{\"alignmentgroup\":\"True\",\"hovertemplate\":\"Region=%{y}<br>Year=2019<br>Estimated Unemployment Rate (%)=%{x}<extra></extra>\",\"legendgroup\":\"Uttarakhand\",\"marker\":{\"color\":\"#19d3f3\",\"pattern\":{\"shape\":\"\"}},\"name\":\"Uttarakhand\",\"offsetgroup\":\"Uttarakhand\",\"orientation\":\"h\",\"showlegend\":true,\"textposition\":\"auto\",\"x\":[1.63,4.65,5.74,6.11,3.47,4.83,5.56,4.52,9.17,4.69,6.94,7.43,9.62,4.72,6.34,7.39],\"xaxis\":\"x\",\"y\":[\"Uttarakhand\",\"Uttarakhand\",\"Uttarakhand\",\"Uttarakhand\",\"Uttarakhand\",\"Uttarakhand\",\"Uttarakhand\",\"Uttarakhand\",\"Uttarakhand\",\"Uttarakhand\",\"Uttarakhand\",\"Uttarakhand\",\"Uttarakhand\",\"Uttarakhand\",\"Uttarakhand\",\"Uttarakhand\"],\"yaxis\":\"y\",\"type\":\"bar\"},{\"alignmentgroup\":\"True\",\"hovertemplate\":\"Region=%{y}<br>Year=2019<br>Estimated Unemployment Rate (%)=%{x}<extra></extra>\",\"legendgroup\":\"West Bengal\",\"marker\":{\"color\":\"#FF6692\",\"pattern\":{\"shape\":\"\"}},\"name\":\"West Bengal\",\"offsetgroup\":\"West Bengal\",\"orientation\":\"h\",\"showlegend\":true,\"textposition\":\"auto\",\"x\":[6.02,5.85,5.62,5.58,5.26,6.78,5.83,5.79,7.25,7.38,7.91,7.27,7.79,7.83,6.61,7.24],\"xaxis\":\"x\",\"y\":[\"West Bengal\",\"West Bengal\",\"West Bengal\",\"West Bengal\",\"West Bengal\",\"West Bengal\",\"West Bengal\",\"West Bengal\",\"West Bengal\",\"West Bengal\",\"West Bengal\",\"West Bengal\",\"West Bengal\",\"West Bengal\",\"West Bengal\",\"West Bengal\"],\"yaxis\":\"y\",\"type\":\"bar\"},{\"alignmentgroup\":\"True\",\"hovertemplate\":\"Region=%{y}<br>Year=2019<br>Estimated Unemployment Rate (%)=%{x}<extra></extra>\",\"legendgroup\":\"Chandigarh\",\"marker\":{\"color\":\"#B6E880\",\"pattern\":{\"shape\":\"\"}},\"name\":\"Chandigarh\",\"offsetgroup\":\"Chandigarh\",\"orientation\":\"h\",\"showlegend\":true,\"textposition\":\"auto\",\"x\":[18.35,12.4,21.8,9.52,20.14,13.99,22.05,8.33],\"xaxis\":\"x\",\"y\":[\"Chandigarh\",\"Chandigarh\",\"Chandigarh\",\"Chandigarh\",\"Chandigarh\",\"Chandigarh\",\"Chandigarh\",\"Chandigarh\"],\"yaxis\":\"y\",\"type\":\"bar\"}],\"name\":\"2019\"},{\"data\":[{\"alignmentgroup\":\"True\",\"hovertemplate\":\"Region=%{y}<br>Year=2020<br>Estimated Unemployment Rate (%)=%{x}<extra></extra>\",\"legendgroup\":\"Andhra Pradesh\",\"marker\":{\"color\":\"#636efa\",\"pattern\":{\"shape\":\"\"}},\"name\":\"Andhra Pradesh\",\"offsetgroup\":\"Andhra Pradesh\",\"orientation\":\"h\",\"showlegend\":true,\"textposition\":\"auto\",\"x\":[4.84,5.91,4.06,16.29,14.46,0.85,7.11,5.66,9.88,32.3,24.91,5.86],\"xaxis\":\"x\",\"y\":[\"Andhra Pradesh\",\"Andhra Pradesh\",\"Andhra Pradesh\",\"Andhra Pradesh\",\"Andhra Pradesh\",\"Andhra Pradesh\",\"Andhra Pradesh\",\"Andhra Pradesh\",\"Andhra Pradesh\",\"Andhra Pradesh\",\"Andhra Pradesh\",\"Andhra Pradesh\"],\"yaxis\":\"y\",\"type\":\"bar\"},{\"alignmentgroup\":\"True\",\"hovertemplate\":\"Region=%{y}<br>Year=2020<br>Estimated Unemployment Rate (%)=%{x}<extra></extra>\",\"legendgroup\":\"Assam\",\"marker\":{\"color\":\"#EF553B\",\"pattern\":{\"shape\":\"\"}},\"name\":\"Assam\",\"offsetgroup\":\"Assam\",\"orientation\":\"h\",\"showlegend\":true,\"textposition\":\"auto\",\"x\":[4.29,3.26,3.77,9.38,0.0,7.24,9.98,10.34,8.37,10.77,3.42],\"xaxis\":\"x\",\"y\":[\"Assam\",\"Assam\",\"Assam\",\"Assam\",\"Assam\",\"Assam\",\"Assam\",\"Assam\",\"Assam\",\"Assam\",\"Assam\"],\"yaxis\":\"y\",\"type\":\"bar\"},{\"alignmentgroup\":\"True\",\"hovertemplate\":\"Region=%{y}<br>Year=2020<br>Estimated Unemployment Rate (%)=%{x}<extra></extra>\",\"legendgroup\":\"Bihar\",\"marker\":{\"color\":\"#00cc96\",\"pattern\":{\"shape\":\"\"}},\"name\":\"Bihar\",\"offsetgroup\":\"Bihar\",\"orientation\":\"h\",\"showlegend\":true,\"textposition\":\"auto\",\"x\":[9.13,9.61,15.39,45.09,47.26,20.49,20.69,15.11,15.73,58.77,37.87,12.45],\"xaxis\":\"x\",\"y\":[\"Bihar\",\"Bihar\",\"Bihar\",\"Bihar\",\"Bihar\",\"Bihar\",\"Bihar\",\"Bihar\",\"Bihar\",\"Bihar\",\"Bihar\",\"Bihar\"],\"yaxis\":\"y\",\"type\":\"bar\"},{\"alignmentgroup\":\"True\",\"hovertemplate\":\"Region=%{y}<br>Year=2020<br>Estimated Unemployment Rate (%)=%{x}<extra></extra>\",\"legendgroup\":\"Chhattisgarh\",\"marker\":{\"color\":\"#ab63fa\",\"pattern\":{\"shape\":\"\"}},\"name\":\"Chhattisgarh\",\"offsetgroup\":\"Chhattisgarh\",\"orientation\":\"h\",\"showlegend\":true,\"textposition\":\"auto\",\"x\":[9.89,7.89,7.31,0.0,7.64,10.14,9.01,9.79,8.21,20.13,24.1,27.07],\"xaxis\":\"x\",\"y\":[\"Chhattisgarh\",\"Chhattisgarh\",\"Chhattisgarh\",\"Chhattisgarh\",\"Chhattisgarh\",\"Chhattisgarh\",\"Chhattisgarh\",\"Chhattisgarh\",\"Chhattisgarh\",\"Chhattisgarh\",\"Chhattisgarh\",\"Chhattisgarh\"],\"yaxis\":\"y\",\"type\":\"bar\"},{\"alignmentgroup\":\"True\",\"hovertemplate\":\"Region=%{y}<br>Year=2020<br>Estimated Unemployment Rate (%)=%{x}<extra></extra>\",\"legendgroup\":\"Delhi\",\"marker\":{\"color\":\"#FFA15A\",\"pattern\":{\"shape\":\"\"}},\"name\":\"Delhi\",\"offsetgroup\":\"Delhi\",\"orientation\":\"h\",\"showlegend\":true,\"textposition\":\"auto\",\"x\":[13.48,13.81,15.18,20.69,22.76,21.14,22.45,14.86,17.09,16.51,45.78,18.11],\"xaxis\":\"x\",\"y\":[\"Delhi\",\"Delhi\",\"Delhi\",\"Delhi\",\"Delhi\",\"Delhi\",\"Delhi\",\"Delhi\",\"Delhi\",\"Delhi\",\"Delhi\",\"Delhi\"],\"yaxis\":\"y\",\"type\":\"bar\"},{\"alignmentgroup\":\"True\",\"hovertemplate\":\"Region=%{y}<br>Year=2020<br>Estimated Unemployment Rate (%)=%{x}<extra></extra>\",\"legendgroup\":\"Goa\",\"marker\":{\"color\":\"#19d3f3\",\"pattern\":{\"shape\":\"\"}},\"name\":\"Goa\",\"offsetgroup\":\"Goa\",\"orientation\":\"h\",\"showlegend\":true,\"textposition\":\"auto\",\"x\":[5.38,0.0,15.91,20.0,10.92,4.31,4.76,11.76],\"xaxis\":\"x\",\"y\":[\"Goa\",\"Goa\",\"Goa\",\"Goa\",\"Goa\",\"Goa\",\"Goa\",\"Goa\"],\"yaxis\":\"y\",\"type\":\"bar\"},{\"alignmentgroup\":\"True\",\"hovertemplate\":\"Region=%{y}<br>Year=2020<br>Estimated Unemployment Rate (%)=%{x}<extra></extra>\",\"legendgroup\":\"Gujarat\",\"marker\":{\"color\":\"#FF6692\",\"pattern\":{\"shape\":\"\"}},\"name\":\"Gujarat\",\"offsetgroup\":\"Gujarat\",\"orientation\":\"h\",\"showlegend\":true,\"textposition\":\"auto\",\"x\":[5.35,6.64,7.59,12.0,14.58,1.41,5.82,6.04,5.39,25.94,11.62,4.54],\"xaxis\":\"x\",\"y\":[\"Gujarat\",\"Gujarat\",\"Gujarat\",\"Gujarat\",\"Gujarat\",\"Gujarat\",\"Gujarat\",\"Gujarat\",\"Gujarat\",\"Gujarat\",\"Gujarat\",\"Gujarat\"],\"yaxis\":\"y\",\"type\":\"bar\"},{\"alignmentgroup\":\"True\",\"hovertemplate\":\"Region=%{y}<br>Year=2020<br>Estimated Unemployment Rate (%)=%{x}<extra></extra>\",\"legendgroup\":\"Haryana\",\"marker\":{\"color\":\"#B6E880\",\"pattern\":{\"shape\":\"\"}},\"name\":\"Haryana\",\"offsetgroup\":\"Haryana\",\"orientation\":\"h\",\"showlegend\":true,\"textposition\":\"auto\",\"x\":[16.21,27.19,23.92,41.61,34.22,35.57,27.24,23.29,27.14,46.89,38.46,29.41],\"xaxis\":\"x\",\"y\":[\"Haryana\",\"Haryana\",\"Haryana\",\"Haryana\",\"Haryana\",\"Haryana\",\"Haryana\",\"Haryana\",\"Haryana\",\"Haryana\",\"Haryana\",\"Haryana\"],\"yaxis\":\"y\",\"type\":\"bar\"},{\"alignmentgroup\":\"True\",\"hovertemplate\":\"Region=%{y}<br>Year=2020<br>Estimated Unemployment Rate (%)=%{x}<extra></extra>\",\"legendgroup\":\"Himachal Pradesh\",\"marker\":{\"color\":\"#FF97FF\",\"pattern\":{\"shape\":\"\"}},\"name\":\"Himachal Pradesh\",\"offsetgroup\":\"Himachal Pradesh\",\"orientation\":\"h\",\"showlegend\":true,\"textposition\":\"auto\",\"x\":[16.67,15.42,17.71,2.13,25.64,1.12,18.15,27.31,26.44,2.7,50.0,10.81],\"xaxis\":\"x\",\"y\":[\"Himachal Pradesh\",\"Himachal Pradesh\",\"Himachal Pradesh\",\"Himachal Pradesh\",\"Himachal Pradesh\",\"Himachal Pradesh\",\"Himachal Pradesh\",\"Himachal Pradesh\",\"Himachal Pradesh\",\"Himachal Pradesh\",\"Himachal Pradesh\",\"Himachal Pradesh\"],\"yaxis\":\"y\",\"type\":\"bar\"},{\"alignmentgroup\":\"True\",\"hovertemplate\":\"Region=%{y}<br>Year=2020<br>Estimated Unemployment Rate (%)=%{x}<extra></extra>\",\"legendgroup\":\"Jammu & Kashmir\",\"marker\":{\"color\":\"#FECB52\",\"pattern\":{\"shape\":\"\"}},\"name\":\"Jammu & Kashmir\",\"offsetgroup\":\"Jammu & Kashmir\",\"orientation\":\"h\",\"showlegend\":true,\"textposition\":\"auto\",\"x\":[22.19,21.23,16.0,2.22,18.97,18.54,19.86,14.29,12.96],\"xaxis\":\"x\",\"y\":[\"Jammu & Kashmir\",\"Jammu & Kashmir\",\"Jammu & Kashmir\",\"Jammu & Kashmir\",\"Jammu & Kashmir\",\"Jammu & Kashmir\",\"Jammu & Kashmir\",\"Jammu & Kashmir\",\"Jammu & Kashmir\"],\"yaxis\":\"y\",\"type\":\"bar\"},{\"alignmentgroup\":\"True\",\"hovertemplate\":\"Region=%{y}<br>Year=2020<br>Estimated Unemployment Rate (%)=%{x}<extra></extra>\",\"legendgroup\":\"Jharkhand\",\"marker\":{\"color\":\"#636efa\",\"pattern\":{\"shape\":\"\"}},\"name\":\"Jharkhand\",\"offsetgroup\":\"Jharkhand\",\"orientation\":\"h\",\"showlegend\":true,\"textposition\":\"auto\",\"x\":[6.16,9.06,5.01,41.72,55.1,21.53,22.96,19.67,16.4,61.48,70.17,19.38],\"xaxis\":\"x\",\"y\":[\"Jharkhand\",\"Jharkhand\",\"Jharkhand\",\"Jharkhand\",\"Jharkhand\",\"Jharkhand\",\"Jharkhand\",\"Jharkhand\",\"Jharkhand\",\"Jharkhand\",\"Jharkhand\",\"Jharkhand\"],\"yaxis\":\"y\",\"type\":\"bar\"},{\"alignmentgroup\":\"True\",\"hovertemplate\":\"Region=%{y}<br>Year=2020<br>Estimated Unemployment Rate (%)=%{x}<extra></extra>\",\"legendgroup\":\"Karnataka\",\"marker\":{\"color\":\"#EF553B\",\"pattern\":{\"shape\":\"\"}},\"name\":\"Karnataka\",\"offsetgroup\":\"Karnataka\",\"orientation\":\"h\",\"showlegend\":true,\"textposition\":\"auto\",\"x\":[2.57,4.11,2.39,33.17,23.72,10.92,3.31,2.88,4.92,25.12,15.88,6.12],\"xaxis\":\"x\",\"y\":[\"Karnataka\",\"Karnataka\",\"Karnataka\",\"Karnataka\",\"Karnataka\",\"Karnataka\",\"Karnataka\",\"Karnataka\",\"Karnataka\",\"Karnataka\",\"Karnataka\",\"Karnataka\"],\"yaxis\":\"y\",\"type\":\"bar\"},{\"alignmentgroup\":\"True\",\"hovertemplate\":\"Region=%{y}<br>Year=2020<br>Estimated Unemployment Rate (%)=%{x}<extra></extra>\",\"legendgroup\":\"Kerala\",\"marker\":{\"color\":\"#00cc96\",\"pattern\":{\"shape\":\"\"}},\"name\":\"Kerala\",\"offsetgroup\":\"Kerala\",\"orientation\":\"h\",\"showlegend\":true,\"textposition\":\"auto\",\"x\":[4.11,8.91,8.85,10.71,23.38,27.66,6.65,6.08,9.14,21.43,30.28,12.17],\"xaxis\":\"x\",\"y\":[\"Kerala\",\"Kerala\",\"Kerala\",\"Kerala\",\"Kerala\",\"Kerala\",\"Kerala\",\"Kerala\",\"Kerala\",\"Kerala\",\"Kerala\",\"Kerala\"],\"yaxis\":\"y\",\"type\":\"bar\"},{\"alignmentgroup\":\"True\",\"hovertemplate\":\"Region=%{y}<br>Year=2020<br>Estimated Unemployment Rate (%)=%{x}<extra></extra>\",\"legendgroup\":\"Madhya Pradesh\",\"marker\":{\"color\":\"#ab63fa\",\"pattern\":{\"shape\":\"\"}},\"name\":\"Madhya Pradesh\",\"offsetgroup\":\"Madhya Pradesh\",\"orientation\":\"h\",\"showlegend\":true,\"textposition\":\"auto\",\"x\":[3.66,4.42,1.19,12.5,22.46,6.46,5.17,4.96,4.8,11.94,40.49,12.72],\"xaxis\":\"x\",\"y\":[\"Madhya Pradesh\",\"Madhya Pradesh\",\"Madhya Pradesh\",\"Madhya Pradesh\",\"Madhya Pradesh\",\"Madhya Pradesh\",\"Madhya Pradesh\",\"Madhya Pradesh\",\"Madhya Pradesh\",\"Madhya Pradesh\",\"Madhya Pradesh\",\"Madhya Pradesh\"],\"yaxis\":\"y\",\"type\":\"bar\"},{\"alignmentgroup\":\"True\",\"hovertemplate\":\"Region=%{y}<br>Year=2020<br>Estimated Unemployment Rate (%)=%{x}<extra></extra>\",\"legendgroup\":\"Maharashtra\",\"marker\":{\"color\":\"#FFA15A\",\"pattern\":{\"shape\":\"\"}},\"name\":\"Maharashtra\",\"offsetgroup\":\"Maharashtra\",\"orientation\":\"h\",\"showlegend\":true,\"textposition\":\"auto\",\"x\":[3.8,4.24,5.38,25.28,16.89,9.4,6.67,5.34,6.34,14.99,15.92,10.01],\"xaxis\":\"x\",\"y\":[\"Maharashtra\",\"Maharashtra\",\"Maharashtra\",\"Maharashtra\",\"Maharashtra\",\"Maharashtra\",\"Maharashtra\",\"Maharashtra\",\"Maharashtra\",\"Maharashtra\",\"Maharashtra\",\"Maharashtra\"],\"yaxis\":\"y\",\"type\":\"bar\"},{\"alignmentgroup\":\"True\",\"hovertemplate\":\"Region=%{y}<br>Year=2020<br>Estimated Unemployment Rate (%)=%{x}<extra></extra>\",\"legendgroup\":\"Meghalaya\",\"marker\":{\"color\":\"#19d3f3\",\"pattern\":{\"shape\":\"\"}},\"name\":\"Meghalaya\",\"offsetgroup\":\"Meghalaya\",\"orientation\":\"h\",\"showlegend\":true,\"textposition\":\"auto\",\"x\":[0.97,2.76,1.28,8.38,3.73,1.35,4.76,7.37,2.8,17.39,14.58],\"xaxis\":\"x\",\"y\":[\"Meghalaya\",\"Meghalaya\",\"Meghalaya\",\"Meghalaya\",\"Meghalaya\",\"Meghalaya\",\"Meghalaya\",\"Meghalaya\",\"Meghalaya\",\"Meghalaya\",\"Meghalaya\"],\"yaxis\":\"y\",\"type\":\"bar\"},{\"alignmentgroup\":\"True\",\"hovertemplate\":\"Region=%{y}<br>Year=2020<br>Estimated Unemployment Rate (%)=%{x}<extra></extra>\",\"legendgroup\":\"Odisha\",\"marker\":{\"color\":\"#FF6692\",\"pattern\":{\"shape\":\"\"}},\"name\":\"Odisha\",\"offsetgroup\":\"Odisha\",\"orientation\":\"h\",\"showlegend\":true,\"textposition\":\"auto\",\"x\":[1.81,3.31,15.09,24.48,9.45,4.59,2.28,2.19,3.96,20.5,10.0,2.18],\"xaxis\":\"x\",\"y\":[\"Odisha\",\"Odisha\",\"Odisha\",\"Odisha\",\"Odisha\",\"Odisha\",\"Odisha\",\"Odisha\",\"Odisha\",\"Odisha\",\"Odisha\",\"Odisha\"],\"yaxis\":\"y\",\"type\":\"bar\"},{\"alignmentgroup\":\"True\",\"hovertemplate\":\"Region=%{y}<br>Year=2020<br>Estimated Unemployment Rate (%)=%{x}<extra></extra>\",\"legendgroup\":\"Puducherry\",\"marker\":{\"color\":\"#B6E880\",\"pattern\":{\"shape\":\"\"}},\"name\":\"Puducherry\",\"offsetgroup\":\"Puducherry\",\"orientation\":\"h\",\"showlegend\":true,\"textposition\":\"auto\",\"x\":[0.58,1.74,2.31,74.51,0.57,1.78,0.62,76.74,75.0,4.55],\"xaxis\":\"x\",\"y\":[\"Puducherry\",\"Puducherry\",\"Puducherry\",\"Puducherry\",\"Puducherry\",\"Puducherry\",\"Puducherry\",\"Puducherry\",\"Puducherry\",\"Puducherry\"],\"yaxis\":\"y\",\"type\":\"bar\"},{\"alignmentgroup\":\"True\",\"hovertemplate\":\"Region=%{y}<br>Year=2020<br>Estimated Unemployment Rate (%)=%{x}<extra></extra>\",\"legendgroup\":\"Punjab\",\"marker\":{\"color\":\"#FF97FF\",\"pattern\":{\"shape\":\"\"}},\"name\":\"Punjab\",\"offsetgroup\":\"Punjab\",\"orientation\":\"h\",\"showlegend\":true,\"textposition\":\"auto\",\"x\":[9.69,10.41,10.51,3.69,40.59,20.0,13.68,11.99,9.97,1.13,20.54,10.55],\"xaxis\":\"x\",\"y\":[\"Punjab\",\"Punjab\",\"Punjab\",\"Punjab\",\"Punjab\",\"Punjab\",\"Punjab\",\"Punjab\",\"Punjab\",\"Punjab\",\"Punjab\",\"Punjab\"],\"yaxis\":\"y\",\"type\":\"bar\"},{\"alignmentgroup\":\"True\",\"hovertemplate\":\"Region=%{y}<br>Year=2020<br>Estimated Unemployment Rate (%)=%{x}<extra></extra>\",\"legendgroup\":\"Rajasthan\",\"marker\":{\"color\":\"#FECB52\",\"pattern\":{\"shape\":\"\"}},\"name\":\"Rajasthan\",\"offsetgroup\":\"Rajasthan\",\"orientation\":\"h\",\"showlegend\":true,\"textposition\":\"auto\",\"x\":[8.0,14.48,9.47,12.25,10.45,13.86,18.82,17.02,18.54,35.53,25.35,13.04],\"xaxis\":\"x\",\"y\":[\"Rajasthan\",\"Rajasthan\",\"Rajasthan\",\"Rajasthan\",\"Rajasthan\",\"Rajasthan\",\"Rajasthan\",\"Rajasthan\",\"Rajasthan\",\"Rajasthan\",\"Rajasthan\",\"Rajasthan\"],\"yaxis\":\"y\",\"type\":\"bar\"},{\"alignmentgroup\":\"True\",\"hovertemplate\":\"Region=%{y}<br>Year=2020<br>Estimated Unemployment Rate (%)=%{x}<extra></extra>\",\"legendgroup\":\"Sikkim\",\"marker\":{\"color\":\"#636efa\",\"pattern\":{\"shape\":\"\"}},\"name\":\"Sikkim\",\"offsetgroup\":\"Sikkim\",\"orientation\":\"h\",\"showlegend\":true,\"textposition\":\"auto\",\"x\":[0.0,5.81,20.45,5.77,19.75,2.63],\"xaxis\":\"x\",\"y\":[\"Sikkim\",\"Sikkim\",\"Sikkim\",\"Sikkim\",\"Sikkim\",\"Sikkim\"],\"yaxis\":\"y\",\"type\":\"bar\"},{\"alignmentgroup\":\"True\",\"hovertemplate\":\"Region=%{y}<br>Year=2020<br>Estimated Unemployment Rate (%)=%{x}<extra></extra>\",\"legendgroup\":\"Tamil Nadu\",\"marker\":{\"color\":\"#EF553B\",\"pattern\":{\"shape\":\"\"}},\"name\":\"Tamil Nadu\",\"offsetgroup\":\"Tamil Nadu\",\"orientation\":\"h\",\"showlegend\":true,\"textposition\":\"auto\",\"x\":[1.18,1.17,6.36,53.19,38.73,2.06,2.05,3.31,6.46,45.55,25.95,24.93],\"xaxis\":\"x\",\"y\":[\"Tamil Nadu\",\"Tamil Nadu\",\"Tamil Nadu\",\"Tamil Nadu\",\"Tamil Nadu\",\"Tamil Nadu\",\"Tamil Nadu\",\"Tamil Nadu\",\"Tamil Nadu\",\"Tamil Nadu\",\"Tamil Nadu\",\"Tamil Nadu\"],\"yaxis\":\"y\",\"type\":\"bar\"},{\"alignmentgroup\":\"True\",\"hovertemplate\":\"Region=%{y}<br>Year=2020<br>Estimated Unemployment Rate (%)=%{x}<extra></extra>\",\"legendgroup\":\"Telangana\",\"marker\":{\"color\":\"#00cc96\",\"pattern\":{\"shape\":\"\"}},\"name\":\"Telangana\",\"offsetgroup\":\"Telangana\",\"orientation\":\"h\",\"showlegend\":true,\"textposition\":\"auto\",\"x\":[5.02,9.02,5.63,4.51,34.01,19.3,6.49,6.74,6.1,10.5,36.57,6.92],\"xaxis\":\"x\",\"y\":[\"Telangana\",\"Telangana\",\"Telangana\",\"Telangana\",\"Telangana\",\"Telangana\",\"Telangana\",\"Telangana\",\"Telangana\",\"Telangana\",\"Telangana\",\"Telangana\"],\"yaxis\":\"y\",\"type\":\"bar\"},{\"alignmentgroup\":\"True\",\"hovertemplate\":\"Region=%{y}<br>Year=2020<br>Estimated Unemployment Rate (%)=%{x}<extra></extra>\",\"legendgroup\":\"Tripura\",\"marker\":{\"color\":\"#ab63fa\",\"pattern\":{\"shape\":\"\"}},\"name\":\"Tripura\",\"offsetgroup\":\"Tripura\",\"orientation\":\"h\",\"showlegend\":true,\"textposition\":\"auto\",\"x\":[31.91,26.22,31.61,43.64,14.71,18.84,34.37,33.88,25.69,34.88,16.78,27.47],\"xaxis\":\"x\",\"y\":[\"Tripura\",\"Tripura\",\"Tripura\",\"Tripura\",\"Tripura\",\"Tripura\",\"Tripura\",\"Tripura\",\"Tripura\",\"Tripura\",\"Tripura\",\"Tripura\"],\"yaxis\":\"y\",\"type\":\"bar\"},{\"alignmentgroup\":\"True\",\"hovertemplate\":\"Region=%{y}<br>Year=2020<br>Estimated Unemployment Rate (%)=%{x}<extra></extra>\",\"legendgroup\":\"Uttar Pradesh\",\"marker\":{\"color\":\"#FFA15A\",\"pattern\":{\"shape\":\"\"}},\"name\":\"Uttar Pradesh\",\"offsetgroup\":\"Uttar Pradesh\",\"orientation\":\"h\",\"showlegend\":true,\"textposition\":\"auto\",\"x\":[6.06,8.12,9.37,19.92,16.89,8.51,12.34,11.65,12.32,26.94,32.06,13.05],\"xaxis\":\"x\",\"y\":[\"Uttar Pradesh\",\"Uttar Pradesh\",\"Uttar Pradesh\",\"Uttar Pradesh\",\"Uttar Pradesh\",\"Uttar Pradesh\",\"Uttar Pradesh\",\"Uttar Pradesh\",\"Uttar Pradesh\",\"Uttar Pradesh\",\"Uttar Pradesh\",\"Uttar Pradesh\"],\"yaxis\":\"y\",\"type\":\"bar\"},{\"alignmentgroup\":\"True\",\"hovertemplate\":\"Region=%{y}<br>Year=2020<br>Estimated Unemployment Rate (%)=%{x}<extra></extra>\",\"legendgroup\":\"Uttarakhand\",\"marker\":{\"color\":\"#19d3f3\",\"pattern\":{\"shape\":\"\"}},\"name\":\"Uttarakhand\",\"offsetgroup\":\"Uttarakhand\",\"orientation\":\"h\",\"showlegend\":true,\"textposition\":\"auto\",\"x\":[4.17,4.85,3.66,3.57,10.71,8.92,5.28,8.15,13.18,17.36,5.08],\"xaxis\":\"x\",\"y\":[\"Uttarakhand\",\"Uttarakhand\",\"Uttarakhand\",\"Uttarakhand\",\"Uttarakhand\",\"Uttarakhand\",\"Uttarakhand\",\"Uttarakhand\",\"Uttarakhand\",\"Uttarakhand\",\"Uttarakhand\"],\"yaxis\":\"y\",\"type\":\"bar\"},{\"alignmentgroup\":\"True\",\"hovertemplate\":\"Region=%{y}<br>Year=2020<br>Estimated Unemployment Rate (%)=%{x}<extra></extra>\",\"legendgroup\":\"West Bengal\",\"marker\":{\"color\":\"#FF6692\",\"pattern\":{\"shape\":\"\"}},\"name\":\"West Bengal\",\"offsetgroup\":\"West Bengal\",\"orientation\":\"h\",\"showlegend\":true,\"textposition\":\"auto\",\"x\":[6.79,3.78,7.02,18.32,18.43,4.94,7.27,7.55,6.67,15.63,15.22,9.86],\"xaxis\":\"x\",\"y\":[\"West Bengal\",\"West Bengal\",\"West Bengal\",\"West Bengal\",\"West Bengal\",\"West Bengal\",\"West Bengal\",\"West Bengal\",\"West Bengal\",\"West Bengal\",\"West Bengal\",\"West Bengal\"],\"yaxis\":\"y\",\"type\":\"bar\"},{\"alignmentgroup\":\"True\",\"hovertemplate\":\"Region=%{y}<br>Year=2020<br>Estimated Unemployment Rate (%)=%{x}<extra></extra>\",\"legendgroup\":\"Chandigarh\",\"marker\":{\"color\":\"#B6E880\",\"pattern\":{\"shape\":\"\"}},\"name\":\"Chandigarh\",\"offsetgroup\":\"Chandigarh\",\"orientation\":\"h\",\"showlegend\":true,\"textposition\":\"auto\",\"x\":[20.0,16.67,21.43,7.22],\"xaxis\":\"x\",\"y\":[\"Chandigarh\",\"Chandigarh\",\"Chandigarh\",\"Chandigarh\"],\"yaxis\":\"y\",\"type\":\"bar\"}],\"name\":\"2020\"}]);\n",
       "                        }).then(function(){\n",
       "                            \n",
       "var gd = document.getElementById('c8cf9f04-af3b-4d7b-8c7c-8a84432d457c');\n",
       "var x = new MutationObserver(function (mutations, observer) {{\n",
       "        var display = window.getComputedStyle(gd).display;\n",
       "        if (!display || display === 'none') {{\n",
       "            console.log([gd, 'removed!']);\n",
       "            Plotly.purge(gd);\n",
       "            observer.disconnect();\n",
       "        }}\n",
       "}});\n",
       "\n",
       "// Listen for the removal of the full notebook cells\n",
       "var notebookContainer = gd.closest('#notebook-container');\n",
       "if (notebookContainer) {{\n",
       "    x.observe(notebookContainer, {childList: true});\n",
       "}}\n",
       "\n",
       "// Listen for the clearing of the current output cell\n",
       "var outputEl = gd.closest('.output');\n",
       "if (outputEl) {{\n",
       "    x.observe(outputEl, {childList: true});\n",
       "}}\n",
       "\n",
       "                        })                };                });            </script>        </div>"
      ]
     },
     "metadata": {},
     "output_type": "display_data"
    }
   ],
   "source": [
    "fig = px.bar(df,y='Region',x='Estimated Unemployment Rate (%)', color='Region', animation_frame=str('Year'), \n",
    "title=\"Unemployment Rate per State with Date Slider\",template='plotly')\n",
    "fig.update_layout(xaxis={'categoryorder':'total descending'})\n",
    "fig.show()"
   ]
  },
  {
   "cell_type": "code",
   "execution_count": 58,
   "id": "e176a366",
   "metadata": {},
   "outputs": [
    {
     "data": {
      "text/html": [
       "<div>\n",
       "<style scoped>\n",
       "    .dataframe tbody tr th:only-of-type {\n",
       "        vertical-align: middle;\n",
       "    }\n",
       "\n",
       "    .dataframe tbody tr th {\n",
       "        vertical-align: top;\n",
       "    }\n",
       "\n",
       "    .dataframe thead th {\n",
       "        text-align: right;\n",
       "    }\n",
       "</style>\n",
       "<table border=\"1\" class=\"dataframe\">\n",
       "  <thead>\n",
       "    <tr style=\"text-align: right;\">\n",
       "      <th></th>\n",
       "      <th>Region</th>\n",
       "      <th>Year</th>\n",
       "      <th>Estimated Unemployment Rate (%)</th>\n",
       "      <th>Estimated Employed</th>\n",
       "      <th>Estimated Labour Participation Rate (%)</th>\n",
       "    </tr>\n",
       "  </thead>\n",
       "  <tbody>\n",
       "    <tr>\n",
       "      <th>0</th>\n",
       "      <td>Andhra Pradesh</td>\n",
       "      <td>2019</td>\n",
       "      <td>4.826875</td>\n",
       "      <td>8.402043e+06</td>\n",
       "      <td>40.095000</td>\n",
       "    </tr>\n",
       "    <tr>\n",
       "      <th>1</th>\n",
       "      <td>Andhra Pradesh</td>\n",
       "      <td>2020</td>\n",
       "      <td>11.010833</td>\n",
       "      <td>7.823493e+06</td>\n",
       "      <td>38.416667</td>\n",
       "    </tr>\n",
       "    <tr>\n",
       "      <th>2</th>\n",
       "      <td>Assam</td>\n",
       "      <td>2019</td>\n",
       "      <td>6.420667</td>\n",
       "      <td>5.508148e+06</td>\n",
       "      <td>46.140667</td>\n",
       "    </tr>\n",
       "    <tr>\n",
       "      <th>3</th>\n",
       "      <td>Assam</td>\n",
       "      <td>2020</td>\n",
       "      <td>6.438182</td>\n",
       "      <td>5.145623e+06</td>\n",
       "      <td>43.133636</td>\n",
       "    </tr>\n",
       "    <tr>\n",
       "      <th>4</th>\n",
       "      <td>Bihar</td>\n",
       "      <td>2019</td>\n",
       "      <td>13.882500</td>\n",
       "      <td>1.323785e+07</td>\n",
       "      <td>38.625000</td>\n",
       "    </tr>\n",
       "    <tr>\n",
       "      <th>5</th>\n",
       "      <td>Bihar</td>\n",
       "      <td>2020</td>\n",
       "      <td>25.632500</td>\n",
       "      <td>1.120397e+07</td>\n",
       "      <td>37.525833</td>\n",
       "    </tr>\n",
       "    <tr>\n",
       "      <th>6</th>\n",
       "      <td>Chandigarh</td>\n",
       "      <td>2019</td>\n",
       "      <td>15.822500</td>\n",
       "      <td>3.208352e+05</td>\n",
       "      <td>39.921250</td>\n",
       "    </tr>\n",
       "    <tr>\n",
       "      <th>7</th>\n",
       "      <td>Chandigarh</td>\n",
       "      <td>2020</td>\n",
       "      <td>16.330000</td>\n",
       "      <td>3.088232e+05</td>\n",
       "      <td>38.167500</td>\n",
       "    </tr>\n",
       "    <tr>\n",
       "      <th>8</th>\n",
       "      <td>Chhattisgarh</td>\n",
       "      <td>2019</td>\n",
       "      <td>7.346875</td>\n",
       "      <td>4.483388e+06</td>\n",
       "      <td>44.908750</td>\n",
       "    </tr>\n",
       "    <tr>\n",
       "      <th>9</th>\n",
       "      <td>Chhattisgarh</td>\n",
       "      <td>2020</td>\n",
       "      <td>11.765000</td>\n",
       "      <td>4.063647e+06</td>\n",
       "      <td>40.013333</td>\n",
       "    </tr>\n",
       "    <tr>\n",
       "      <th>10</th>\n",
       "      <td>Delhi</td>\n",
       "      <td>2019</td>\n",
       "      <td>13.750625</td>\n",
       "      <td>2.896461e+06</td>\n",
       "      <td>41.438750</td>\n",
       "    </tr>\n",
       "    <tr>\n",
       "      <th>11</th>\n",
       "      <td>Delhi</td>\n",
       "      <td>2020</td>\n",
       "      <td>20.155000</td>\n",
       "      <td>2.268915e+06</td>\n",
       "      <td>35.584167</td>\n",
       "    </tr>\n",
       "    <tr>\n",
       "      <th>12</th>\n",
       "      <td>Goa</td>\n",
       "      <td>2019</td>\n",
       "      <td>9.346250</td>\n",
       "      <td>2.268961e+05</td>\n",
       "      <td>39.686250</td>\n",
       "    </tr>\n",
       "    <tr>\n",
       "      <th>13</th>\n",
       "      <td>Goa</td>\n",
       "      <td>2020</td>\n",
       "      <td>9.130000</td>\n",
       "      <td>2.251329e+05</td>\n",
       "      <td>38.376250</td>\n",
       "    </tr>\n",
       "    <tr>\n",
       "      <th>14</th>\n",
       "      <td>Gujarat</td>\n",
       "      <td>2019</td>\n",
       "      <td>4.979375</td>\n",
       "      <td>1.190651e+07</td>\n",
       "      <td>47.681875</td>\n",
       "    </tr>\n",
       "    <tr>\n",
       "      <th>15</th>\n",
       "      <td>Gujarat</td>\n",
       "      <td>2020</td>\n",
       "      <td>8.910000</td>\n",
       "      <td>1.072935e+07</td>\n",
       "      <td>43.993333</td>\n",
       "    </tr>\n",
       "    <tr>\n",
       "      <th>16</th>\n",
       "      <td>Haryana</td>\n",
       "      <td>2019</td>\n",
       "      <td>22.798750</td>\n",
       "      <td>3.731464e+06</td>\n",
       "      <td>43.208125</td>\n",
       "    </tr>\n",
       "    <tr>\n",
       "      <th>17</th>\n",
       "      <td>Haryana</td>\n",
       "      <td>2020</td>\n",
       "      <td>30.929167</td>\n",
       "      <td>3.324551e+06</td>\n",
       "      <td>42.109167</td>\n",
       "    </tr>\n",
       "    <tr>\n",
       "      <th>18</th>\n",
       "      <td>Himachal Pradesh</td>\n",
       "      <td>2019</td>\n",
       "      <td>19.064375</td>\n",
       "      <td>1.108268e+06</td>\n",
       "      <td>46.945625</td>\n",
       "    </tr>\n",
       "    <tr>\n",
       "      <th>19</th>\n",
       "      <td>Himachal Pradesh</td>\n",
       "      <td>2020</td>\n",
       "      <td>17.841667</td>\n",
       "      <td>9.952317e+05</td>\n",
       "      <td>40.590833</td>\n",
       "    </tr>\n",
       "    <tr>\n",
       "      <th>20</th>\n",
       "      <td>Jammu &amp; Kashmir</td>\n",
       "      <td>2019</td>\n",
       "      <td>16.141667</td>\n",
       "      <td>1.838242e+06</td>\n",
       "      <td>43.017500</td>\n",
       "    </tr>\n",
       "    <tr>\n",
       "      <th>21</th>\n",
       "      <td>Jammu &amp; Kashmir</td>\n",
       "      <td>2020</td>\n",
       "      <td>16.251111</td>\n",
       "      <td>1.748851e+06</td>\n",
       "      <td>38.382222</td>\n",
       "    </tr>\n",
       "    <tr>\n",
       "      <th>22</th>\n",
       "      <td>Jharkhand</td>\n",
       "      <td>2019</td>\n",
       "      <td>14.233750</td>\n",
       "      <td>4.798559e+06</td>\n",
       "      <td>42.113125</td>\n",
       "    </tr>\n",
       "    <tr>\n",
       "      <th>23</th>\n",
       "      <td>Jharkhand</td>\n",
       "      <td>2020</td>\n",
       "      <td>29.053333</td>\n",
       "      <td>4.030149e+06</td>\n",
       "      <td>41.080833</td>\n",
       "    </tr>\n",
       "    <tr>\n",
       "      <th>24</th>\n",
       "      <td>Karnataka</td>\n",
       "      <td>2019</td>\n",
       "      <td>3.238750</td>\n",
       "      <td>1.075008e+07</td>\n",
       "      <td>40.334375</td>\n",
       "    </tr>\n",
       "    <tr>\n",
       "      <th>25</th>\n",
       "      <td>Karnataka</td>\n",
       "      <td>2020</td>\n",
       "      <td>11.259167</td>\n",
       "      <td>1.055650e+07</td>\n",
       "      <td>42.693333</td>\n",
       "    </tr>\n",
       "    <tr>\n",
       "      <th>26</th>\n",
       "      <td>Kerala</td>\n",
       "      <td>2019</td>\n",
       "      <td>7.131250</td>\n",
       "      <td>4.803638e+06</td>\n",
       "      <td>36.848750</td>\n",
       "    </tr>\n",
       "    <tr>\n",
       "      <th>27</th>\n",
       "      <td>Kerala</td>\n",
       "      <td>2020</td>\n",
       "      <td>14.114167</td>\n",
       "      <td>3.922248e+06</td>\n",
       "      <td>32.226667</td>\n",
       "    </tr>\n",
       "    <tr>\n",
       "      <th>28</th>\n",
       "      <td>Madhya Pradesh</td>\n",
       "      <td>2019</td>\n",
       "      <td>4.788125</td>\n",
       "      <td>1.147777e+07</td>\n",
       "      <td>39.540000</td>\n",
       "    </tr>\n",
       "    <tr>\n",
       "      <th>29</th>\n",
       "      <td>Madhya Pradesh</td>\n",
       "      <td>2020</td>\n",
       "      <td>10.897500</td>\n",
       "      <td>1.063243e+07</td>\n",
       "      <td>37.863333</td>\n",
       "    </tr>\n",
       "    <tr>\n",
       "      <th>30</th>\n",
       "      <td>Maharashtra</td>\n",
       "      <td>2019</td>\n",
       "      <td>5.459375</td>\n",
       "      <td>2.101646e+07</td>\n",
       "      <td>43.824375</td>\n",
       "    </tr>\n",
       "    <tr>\n",
       "      <th>31</th>\n",
       "      <td>Maharashtra</td>\n",
       "      <td>2020</td>\n",
       "      <td>10.355000</td>\n",
       "      <td>1.862185e+07</td>\n",
       "      <td>40.275000</td>\n",
       "    </tr>\n",
       "    <tr>\n",
       "      <th>32</th>\n",
       "      <td>Meghalaya</td>\n",
       "      <td>2019</td>\n",
       "      <td>4.012500</td>\n",
       "      <td>6.857688e+05</td>\n",
       "      <td>58.116250</td>\n",
       "    </tr>\n",
       "    <tr>\n",
       "      <th>33</th>\n",
       "      <td>Meghalaya</td>\n",
       "      <td>2020</td>\n",
       "      <td>5.942727</td>\n",
       "      <td>6.955085e+05</td>\n",
       "      <td>55.574545</td>\n",
       "    </tr>\n",
       "    <tr>\n",
       "      <th>34</th>\n",
       "      <td>Odisha</td>\n",
       "      <td>2019</td>\n",
       "      <td>3.661250</td>\n",
       "      <td>7.003220e+06</td>\n",
       "      <td>41.030000</td>\n",
       "    </tr>\n",
       "    <tr>\n",
       "      <th>35</th>\n",
       "      <td>Odisha</td>\n",
       "      <td>2020</td>\n",
       "      <td>8.320000</td>\n",
       "      <td>5.935783e+06</td>\n",
       "      <td>36.121667</td>\n",
       "    </tr>\n",
       "    <tr>\n",
       "      <th>36</th>\n",
       "      <td>Puducherry</td>\n",
       "      <td>2019</td>\n",
       "      <td>1.699375</td>\n",
       "      <td>2.330804e+05</td>\n",
       "      <td>39.968750</td>\n",
       "    </tr>\n",
       "    <tr>\n",
       "      <th>37</th>\n",
       "      <td>Puducherry</td>\n",
       "      <td>2020</td>\n",
       "      <td>23.840000</td>\n",
       "      <td>1.789944e+05</td>\n",
       "      <td>37.431000</td>\n",
       "    </tr>\n",
       "    <tr>\n",
       "      <th>38</th>\n",
       "      <td>Punjab</td>\n",
       "      <td>2019</td>\n",
       "      <td>10.882500</td>\n",
       "      <td>4.788320e+06</td>\n",
       "      <td>42.912500</td>\n",
       "    </tr>\n",
       "    <tr>\n",
       "      <th>39</th>\n",
       "      <td>Punjab</td>\n",
       "      <td>2020</td>\n",
       "      <td>13.562500</td>\n",
       "      <td>4.207418e+06</td>\n",
       "      <td>38.772500</td>\n",
       "    </tr>\n",
       "    <tr>\n",
       "      <th>40</th>\n",
       "      <td>Rajasthan</td>\n",
       "      <td>2019</td>\n",
       "      <td>12.301250</td>\n",
       "      <td>1.018783e+07</td>\n",
       "      <td>40.566875</td>\n",
       "    </tr>\n",
       "    <tr>\n",
       "      <th>41</th>\n",
       "      <td>Rajasthan</td>\n",
       "      <td>2020</td>\n",
       "      <td>16.400833</td>\n",
       "      <td>9.845378e+06</td>\n",
       "      <td>39.181667</td>\n",
       "    </tr>\n",
       "    <tr>\n",
       "      <th>42</th>\n",
       "      <td>Sikkim</td>\n",
       "      <td>2019</td>\n",
       "      <td>6.257273</td>\n",
       "      <td>1.111313e+05</td>\n",
       "      <td>48.460000</td>\n",
       "    </tr>\n",
       "    <tr>\n",
       "      <th>43</th>\n",
       "      <td>Sikkim</td>\n",
       "      <td>2020</td>\n",
       "      <td>9.068333</td>\n",
       "      <td>9.908800e+04</td>\n",
       "      <td>41.688333</td>\n",
       "    </tr>\n",
       "    <tr>\n",
       "      <th>44</th>\n",
       "      <td>Tamil Nadu</td>\n",
       "      <td>2019</td>\n",
       "      <td>3.063750</td>\n",
       "      <td>1.394580e+07</td>\n",
       "      <td>44.487500</td>\n",
       "    </tr>\n",
       "    <tr>\n",
       "      <th>45</th>\n",
       "      <td>Tamil Nadu</td>\n",
       "      <td>2020</td>\n",
       "      <td>17.578333</td>\n",
       "      <td>1.003455e+07</td>\n",
       "      <td>36.051667</td>\n",
       "    </tr>\n",
       "    <tr>\n",
       "      <th>46</th>\n",
       "      <td>Telangana</td>\n",
       "      <td>2019</td>\n",
       "      <td>4.115625</td>\n",
       "      <td>8.392168e+06</td>\n",
       "      <td>54.435000</td>\n",
       "    </tr>\n",
       "    <tr>\n",
       "      <th>47</th>\n",
       "      <td>Telangana</td>\n",
       "      <td>2020</td>\n",
       "      <td>12.567500</td>\n",
       "      <td>7.336322e+06</td>\n",
       "      <td>51.092500</td>\n",
       "    </tr>\n",
       "    <tr>\n",
       "      <th>48</th>\n",
       "      <td>Tripura</td>\n",
       "      <td>2019</td>\n",
       "      <td>28.363125</td>\n",
       "      <td>7.316091e+05</td>\n",
       "      <td>63.190000</td>\n",
       "    </tr>\n",
       "    <tr>\n",
       "      <th>49</th>\n",
       "      <td>Tripura</td>\n",
       "      <td>2020</td>\n",
       "      <td>28.333333</td>\n",
       "      <td>6.975273e+05</td>\n",
       "      <td>60.002500</td>\n",
       "    </tr>\n",
       "    <tr>\n",
       "      <th>50</th>\n",
       "      <td>Uttar Pradesh</td>\n",
       "      <td>2019</td>\n",
       "      <td>10.888125</td>\n",
       "      <td>2.852497e+07</td>\n",
       "      <td>39.750625</td>\n",
       "    </tr>\n",
       "    <tr>\n",
       "      <th>51</th>\n",
       "      <td>Uttar Pradesh</td>\n",
       "      <td>2020</td>\n",
       "      <td>14.769167</td>\n",
       "      <td>2.752132e+07</td>\n",
       "      <td>39.008333</td>\n",
       "    </tr>\n",
       "    <tr>\n",
       "      <th>52</th>\n",
       "      <td>Uttarakhand</td>\n",
       "      <td>2019</td>\n",
       "      <td>5.800625</td>\n",
       "      <td>1.427203e+06</td>\n",
       "      <td>34.040625</td>\n",
       "    </tr>\n",
       "    <tr>\n",
       "      <th>53</th>\n",
       "      <td>Uttarakhand</td>\n",
       "      <td>2020</td>\n",
       "      <td>7.720909</td>\n",
       "      <td>1.336447e+06</td>\n",
       "      <td>33.390000</td>\n",
       "    </tr>\n",
       "    <tr>\n",
       "      <th>54</th>\n",
       "      <td>West Bengal</td>\n",
       "      <td>2019</td>\n",
       "      <td>6.625625</td>\n",
       "      <td>1.795374e+07</td>\n",
       "      <td>46.887500</td>\n",
       "    </tr>\n",
       "    <tr>\n",
       "      <th>55</th>\n",
       "      <td>West Bengal</td>\n",
       "      <td>2020</td>\n",
       "      <td>10.123333</td>\n",
       "      <td>1.619160e+07</td>\n",
       "      <td>43.457500</td>\n",
       "    </tr>\n",
       "  </tbody>\n",
       "</table>\n",
       "</div>"
      ],
      "text/plain": [
       "              Region  Year  Estimated Unemployment Rate (%)   \n",
       "0     Andhra Pradesh  2019                         4.826875  \\\n",
       "1     Andhra Pradesh  2020                        11.010833   \n",
       "2              Assam  2019                         6.420667   \n",
       "3              Assam  2020                         6.438182   \n",
       "4              Bihar  2019                        13.882500   \n",
       "5              Bihar  2020                        25.632500   \n",
       "6         Chandigarh  2019                        15.822500   \n",
       "7         Chandigarh  2020                        16.330000   \n",
       "8       Chhattisgarh  2019                         7.346875   \n",
       "9       Chhattisgarh  2020                        11.765000   \n",
       "10             Delhi  2019                        13.750625   \n",
       "11             Delhi  2020                        20.155000   \n",
       "12               Goa  2019                         9.346250   \n",
       "13               Goa  2020                         9.130000   \n",
       "14           Gujarat  2019                         4.979375   \n",
       "15           Gujarat  2020                         8.910000   \n",
       "16           Haryana  2019                        22.798750   \n",
       "17           Haryana  2020                        30.929167   \n",
       "18  Himachal Pradesh  2019                        19.064375   \n",
       "19  Himachal Pradesh  2020                        17.841667   \n",
       "20   Jammu & Kashmir  2019                        16.141667   \n",
       "21   Jammu & Kashmir  2020                        16.251111   \n",
       "22         Jharkhand  2019                        14.233750   \n",
       "23         Jharkhand  2020                        29.053333   \n",
       "24         Karnataka  2019                         3.238750   \n",
       "25         Karnataka  2020                        11.259167   \n",
       "26            Kerala  2019                         7.131250   \n",
       "27            Kerala  2020                        14.114167   \n",
       "28    Madhya Pradesh  2019                         4.788125   \n",
       "29    Madhya Pradesh  2020                        10.897500   \n",
       "30       Maharashtra  2019                         5.459375   \n",
       "31       Maharashtra  2020                        10.355000   \n",
       "32         Meghalaya  2019                         4.012500   \n",
       "33         Meghalaya  2020                         5.942727   \n",
       "34            Odisha  2019                         3.661250   \n",
       "35            Odisha  2020                         8.320000   \n",
       "36        Puducherry  2019                         1.699375   \n",
       "37        Puducherry  2020                        23.840000   \n",
       "38            Punjab  2019                        10.882500   \n",
       "39            Punjab  2020                        13.562500   \n",
       "40         Rajasthan  2019                        12.301250   \n",
       "41         Rajasthan  2020                        16.400833   \n",
       "42            Sikkim  2019                         6.257273   \n",
       "43            Sikkim  2020                         9.068333   \n",
       "44        Tamil Nadu  2019                         3.063750   \n",
       "45        Tamil Nadu  2020                        17.578333   \n",
       "46         Telangana  2019                         4.115625   \n",
       "47         Telangana  2020                        12.567500   \n",
       "48           Tripura  2019                        28.363125   \n",
       "49           Tripura  2020                        28.333333   \n",
       "50     Uttar Pradesh  2019                        10.888125   \n",
       "51     Uttar Pradesh  2020                        14.769167   \n",
       "52       Uttarakhand  2019                         5.800625   \n",
       "53       Uttarakhand  2020                         7.720909   \n",
       "54       West Bengal  2019                         6.625625   \n",
       "55       West Bengal  2020                        10.123333   \n",
       "\n",
       "    Estimated Employed  Estimated Labour Participation Rate (%)  \n",
       "0         8.402043e+06                                40.095000  \n",
       "1         7.823493e+06                                38.416667  \n",
       "2         5.508148e+06                                46.140667  \n",
       "3         5.145623e+06                                43.133636  \n",
       "4         1.323785e+07                                38.625000  \n",
       "5         1.120397e+07                                37.525833  \n",
       "6         3.208352e+05                                39.921250  \n",
       "7         3.088232e+05                                38.167500  \n",
       "8         4.483388e+06                                44.908750  \n",
       "9         4.063647e+06                                40.013333  \n",
       "10        2.896461e+06                                41.438750  \n",
       "11        2.268915e+06                                35.584167  \n",
       "12        2.268961e+05                                39.686250  \n",
       "13        2.251329e+05                                38.376250  \n",
       "14        1.190651e+07                                47.681875  \n",
       "15        1.072935e+07                                43.993333  \n",
       "16        3.731464e+06                                43.208125  \n",
       "17        3.324551e+06                                42.109167  \n",
       "18        1.108268e+06                                46.945625  \n",
       "19        9.952317e+05                                40.590833  \n",
       "20        1.838242e+06                                43.017500  \n",
       "21        1.748851e+06                                38.382222  \n",
       "22        4.798559e+06                                42.113125  \n",
       "23        4.030149e+06                                41.080833  \n",
       "24        1.075008e+07                                40.334375  \n",
       "25        1.055650e+07                                42.693333  \n",
       "26        4.803638e+06                                36.848750  \n",
       "27        3.922248e+06                                32.226667  \n",
       "28        1.147777e+07                                39.540000  \n",
       "29        1.063243e+07                                37.863333  \n",
       "30        2.101646e+07                                43.824375  \n",
       "31        1.862185e+07                                40.275000  \n",
       "32        6.857688e+05                                58.116250  \n",
       "33        6.955085e+05                                55.574545  \n",
       "34        7.003220e+06                                41.030000  \n",
       "35        5.935783e+06                                36.121667  \n",
       "36        2.330804e+05                                39.968750  \n",
       "37        1.789944e+05                                37.431000  \n",
       "38        4.788320e+06                                42.912500  \n",
       "39        4.207418e+06                                38.772500  \n",
       "40        1.018783e+07                                40.566875  \n",
       "41        9.845378e+06                                39.181667  \n",
       "42        1.111313e+05                                48.460000  \n",
       "43        9.908800e+04                                41.688333  \n",
       "44        1.394580e+07                                44.487500  \n",
       "45        1.003455e+07                                36.051667  \n",
       "46        8.392168e+06                                54.435000  \n",
       "47        7.336322e+06                                51.092500  \n",
       "48        7.316091e+05                                63.190000  \n",
       "49        6.975273e+05                                60.002500  \n",
       "50        2.852497e+07                                39.750625  \n",
       "51        2.752132e+07                                39.008333  \n",
       "52        1.427203e+06                                34.040625  \n",
       "53        1.336447e+06                                33.390000  \n",
       "54        1.795374e+07                                46.887500  \n",
       "55        1.619160e+07                                43.457500  "
      ]
     },
     "execution_count": 58,
     "metadata": {},
     "output_type": "execute_result"
    }
   ],
   "source": [
    "state=df.groupby([\"Region\",\"Year\"])[[\"Estimated Unemployment Rate (%)\",\"Estimated Employed\",\"Estimated Labour Participation Rate (%)\"]].mean()\n",
    "state=pd.DataFrame(state).reset_index()\n",
    "state"
   ]
  },
  {
   "cell_type": "code",
   "execution_count": 67,
   "id": "ee50d3f3",
   "metadata": {},
   "outputs": [
    {
     "data": {
      "application/vnd.plotly.v1+json": {
       "config": {
        "plotlyServerURL": "https://plot.ly"
       },
       "data": [
        {
         "alignmentgroup": "True",
         "hovertemplate": "Region=%{x}<br>Year=2019<br>Estimated Unemployment Rate (%)=%{y}<extra></extra>",
         "legendgroup": "Andhra Pradesh",
         "marker": {
          "color": "#636efa",
          "pattern": {
           "shape": ""
          }
         },
         "name": "Andhra Pradesh",
         "offsetgroup": "Andhra Pradesh",
         "orientation": "v",
         "showlegend": true,
         "textposition": "auto",
         "type": "bar",
         "x": [
          "Andhra Pradesh"
         ],
         "xaxis": "x",
         "y": [
          4.826875
         ],
         "yaxis": "y"
        },
        {
         "alignmentgroup": "True",
         "hovertemplate": "Region=%{x}<br>Year=2019<br>Estimated Unemployment Rate (%)=%{y}<extra></extra>",
         "legendgroup": "Assam",
         "marker": {
          "color": "#EF553B",
          "pattern": {
           "shape": ""
          }
         },
         "name": "Assam",
         "offsetgroup": "Assam",
         "orientation": "v",
         "showlegend": true,
         "textposition": "auto",
         "type": "bar",
         "x": [
          "Assam"
         ],
         "xaxis": "x",
         "y": [
          6.4206666666666665
         ],
         "yaxis": "y"
        },
        {
         "alignmentgroup": "True",
         "hovertemplate": "Region=%{x}<br>Year=2019<br>Estimated Unemployment Rate (%)=%{y}<extra></extra>",
         "legendgroup": "Bihar",
         "marker": {
          "color": "#00cc96",
          "pattern": {
           "shape": ""
          }
         },
         "name": "Bihar",
         "offsetgroup": "Bihar",
         "orientation": "v",
         "showlegend": true,
         "textposition": "auto",
         "type": "bar",
         "x": [
          "Bihar"
         ],
         "xaxis": "x",
         "y": [
          13.8825
         ],
         "yaxis": "y"
        },
        {
         "alignmentgroup": "True",
         "hovertemplate": "Region=%{x}<br>Year=2019<br>Estimated Unemployment Rate (%)=%{y}<extra></extra>",
         "legendgroup": "Chandigarh",
         "marker": {
          "color": "#ab63fa",
          "pattern": {
           "shape": ""
          }
         },
         "name": "Chandigarh",
         "offsetgroup": "Chandigarh",
         "orientation": "v",
         "showlegend": true,
         "textposition": "auto",
         "type": "bar",
         "x": [
          "Chandigarh"
         ],
         "xaxis": "x",
         "y": [
          15.822500000000002
         ],
         "yaxis": "y"
        },
        {
         "alignmentgroup": "True",
         "hovertemplate": "Region=%{x}<br>Year=2019<br>Estimated Unemployment Rate (%)=%{y}<extra></extra>",
         "legendgroup": "Chhattisgarh",
         "marker": {
          "color": "#FFA15A",
          "pattern": {
           "shape": ""
          }
         },
         "name": "Chhattisgarh",
         "offsetgroup": "Chhattisgarh",
         "orientation": "v",
         "showlegend": true,
         "textposition": "auto",
         "type": "bar",
         "x": [
          "Chhattisgarh"
         ],
         "xaxis": "x",
         "y": [
          7.346875
         ],
         "yaxis": "y"
        },
        {
         "alignmentgroup": "True",
         "hovertemplate": "Region=%{x}<br>Year=2019<br>Estimated Unemployment Rate (%)=%{y}<extra></extra>",
         "legendgroup": "Delhi",
         "marker": {
          "color": "#19d3f3",
          "pattern": {
           "shape": ""
          }
         },
         "name": "Delhi",
         "offsetgroup": "Delhi",
         "orientation": "v",
         "showlegend": true,
         "textposition": "auto",
         "type": "bar",
         "x": [
          "Delhi"
         ],
         "xaxis": "x",
         "y": [
          13.750625
         ],
         "yaxis": "y"
        },
        {
         "alignmentgroup": "True",
         "hovertemplate": "Region=%{x}<br>Year=2019<br>Estimated Unemployment Rate (%)=%{y}<extra></extra>",
         "legendgroup": "Goa",
         "marker": {
          "color": "#FF6692",
          "pattern": {
           "shape": ""
          }
         },
         "name": "Goa",
         "offsetgroup": "Goa",
         "orientation": "v",
         "showlegend": true,
         "textposition": "auto",
         "type": "bar",
         "x": [
          "Goa"
         ],
         "xaxis": "x",
         "y": [
          9.34625
         ],
         "yaxis": "y"
        },
        {
         "alignmentgroup": "True",
         "hovertemplate": "Region=%{x}<br>Year=2019<br>Estimated Unemployment Rate (%)=%{y}<extra></extra>",
         "legendgroup": "Gujarat",
         "marker": {
          "color": "#B6E880",
          "pattern": {
           "shape": ""
          }
         },
         "name": "Gujarat",
         "offsetgroup": "Gujarat",
         "orientation": "v",
         "showlegend": true,
         "textposition": "auto",
         "type": "bar",
         "x": [
          "Gujarat"
         ],
         "xaxis": "x",
         "y": [
          4.979375
         ],
         "yaxis": "y"
        },
        {
         "alignmentgroup": "True",
         "hovertemplate": "Region=%{x}<br>Year=2019<br>Estimated Unemployment Rate (%)=%{y}<extra></extra>",
         "legendgroup": "Haryana",
         "marker": {
          "color": "#FF97FF",
          "pattern": {
           "shape": ""
          }
         },
         "name": "Haryana",
         "offsetgroup": "Haryana",
         "orientation": "v",
         "showlegend": true,
         "textposition": "auto",
         "type": "bar",
         "x": [
          "Haryana"
         ],
         "xaxis": "x",
         "y": [
          22.79875
         ],
         "yaxis": "y"
        },
        {
         "alignmentgroup": "True",
         "hovertemplate": "Region=%{x}<br>Year=2019<br>Estimated Unemployment Rate (%)=%{y}<extra></extra>",
         "legendgroup": "Himachal Pradesh",
         "marker": {
          "color": "#FECB52",
          "pattern": {
           "shape": ""
          }
         },
         "name": "Himachal Pradesh",
         "offsetgroup": "Himachal Pradesh",
         "orientation": "v",
         "showlegend": true,
         "textposition": "auto",
         "type": "bar",
         "x": [
          "Himachal Pradesh"
         ],
         "xaxis": "x",
         "y": [
          19.064375
         ],
         "yaxis": "y"
        },
        {
         "alignmentgroup": "True",
         "hovertemplate": "Region=%{x}<br>Year=2019<br>Estimated Unemployment Rate (%)=%{y}<extra></extra>",
         "legendgroup": "Jammu & Kashmir",
         "marker": {
          "color": "#636efa",
          "pattern": {
           "shape": ""
          }
         },
         "name": "Jammu & Kashmir",
         "offsetgroup": "Jammu & Kashmir",
         "orientation": "v",
         "showlegend": true,
         "textposition": "auto",
         "type": "bar",
         "x": [
          "Jammu & Kashmir"
         ],
         "xaxis": "x",
         "y": [
          16.141666666666666
         ],
         "yaxis": "y"
        },
        {
         "alignmentgroup": "True",
         "hovertemplate": "Region=%{x}<br>Year=2019<br>Estimated Unemployment Rate (%)=%{y}<extra></extra>",
         "legendgroup": "Jharkhand",
         "marker": {
          "color": "#EF553B",
          "pattern": {
           "shape": ""
          }
         },
         "name": "Jharkhand",
         "offsetgroup": "Jharkhand",
         "orientation": "v",
         "showlegend": true,
         "textposition": "auto",
         "type": "bar",
         "x": [
          "Jharkhand"
         ],
         "xaxis": "x",
         "y": [
          14.23375
         ],
         "yaxis": "y"
        },
        {
         "alignmentgroup": "True",
         "hovertemplate": "Region=%{x}<br>Year=2019<br>Estimated Unemployment Rate (%)=%{y}<extra></extra>",
         "legendgroup": "Karnataka",
         "marker": {
          "color": "#00cc96",
          "pattern": {
           "shape": ""
          }
         },
         "name": "Karnataka",
         "offsetgroup": "Karnataka",
         "orientation": "v",
         "showlegend": true,
         "textposition": "auto",
         "type": "bar",
         "x": [
          "Karnataka"
         ],
         "xaxis": "x",
         "y": [
          3.23875
         ],
         "yaxis": "y"
        },
        {
         "alignmentgroup": "True",
         "hovertemplate": "Region=%{x}<br>Year=2019<br>Estimated Unemployment Rate (%)=%{y}<extra></extra>",
         "legendgroup": "Kerala",
         "marker": {
          "color": "#ab63fa",
          "pattern": {
           "shape": ""
          }
         },
         "name": "Kerala",
         "offsetgroup": "Kerala",
         "orientation": "v",
         "showlegend": true,
         "textposition": "auto",
         "type": "bar",
         "x": [
          "Kerala"
         ],
         "xaxis": "x",
         "y": [
          7.13125
         ],
         "yaxis": "y"
        },
        {
         "alignmentgroup": "True",
         "hovertemplate": "Region=%{x}<br>Year=2019<br>Estimated Unemployment Rate (%)=%{y}<extra></extra>",
         "legendgroup": "Madhya Pradesh",
         "marker": {
          "color": "#FFA15A",
          "pattern": {
           "shape": ""
          }
         },
         "name": "Madhya Pradesh",
         "offsetgroup": "Madhya Pradesh",
         "orientation": "v",
         "showlegend": true,
         "textposition": "auto",
         "type": "bar",
         "x": [
          "Madhya Pradesh"
         ],
         "xaxis": "x",
         "y": [
          4.788125
         ],
         "yaxis": "y"
        },
        {
         "alignmentgroup": "True",
         "hovertemplate": "Region=%{x}<br>Year=2019<br>Estimated Unemployment Rate (%)=%{y}<extra></extra>",
         "legendgroup": "Maharashtra",
         "marker": {
          "color": "#19d3f3",
          "pattern": {
           "shape": ""
          }
         },
         "name": "Maharashtra",
         "offsetgroup": "Maharashtra",
         "orientation": "v",
         "showlegend": true,
         "textposition": "auto",
         "type": "bar",
         "x": [
          "Maharashtra"
         ],
         "xaxis": "x",
         "y": [
          5.459375
         ],
         "yaxis": "y"
        },
        {
         "alignmentgroup": "True",
         "hovertemplate": "Region=%{x}<br>Year=2019<br>Estimated Unemployment Rate (%)=%{y}<extra></extra>",
         "legendgroup": "Meghalaya",
         "marker": {
          "color": "#FF6692",
          "pattern": {
           "shape": ""
          }
         },
         "name": "Meghalaya",
         "offsetgroup": "Meghalaya",
         "orientation": "v",
         "showlegend": true,
         "textposition": "auto",
         "type": "bar",
         "x": [
          "Meghalaya"
         ],
         "xaxis": "x",
         "y": [
          4.0125
         ],
         "yaxis": "y"
        },
        {
         "alignmentgroup": "True",
         "hovertemplate": "Region=%{x}<br>Year=2019<br>Estimated Unemployment Rate (%)=%{y}<extra></extra>",
         "legendgroup": "Odisha",
         "marker": {
          "color": "#B6E880",
          "pattern": {
           "shape": ""
          }
         },
         "name": "Odisha",
         "offsetgroup": "Odisha",
         "orientation": "v",
         "showlegend": true,
         "textposition": "auto",
         "type": "bar",
         "x": [
          "Odisha"
         ],
         "xaxis": "x",
         "y": [
          3.66125
         ],
         "yaxis": "y"
        },
        {
         "alignmentgroup": "True",
         "hovertemplate": "Region=%{x}<br>Year=2019<br>Estimated Unemployment Rate (%)=%{y}<extra></extra>",
         "legendgroup": "Puducherry",
         "marker": {
          "color": "#FF97FF",
          "pattern": {
           "shape": ""
          }
         },
         "name": "Puducherry",
         "offsetgroup": "Puducherry",
         "orientation": "v",
         "showlegend": true,
         "textposition": "auto",
         "type": "bar",
         "x": [
          "Puducherry"
         ],
         "xaxis": "x",
         "y": [
          1.6993749999999999
         ],
         "yaxis": "y"
        },
        {
         "alignmentgroup": "True",
         "hovertemplate": "Region=%{x}<br>Year=2019<br>Estimated Unemployment Rate (%)=%{y}<extra></extra>",
         "legendgroup": "Punjab",
         "marker": {
          "color": "#FECB52",
          "pattern": {
           "shape": ""
          }
         },
         "name": "Punjab",
         "offsetgroup": "Punjab",
         "orientation": "v",
         "showlegend": true,
         "textposition": "auto",
         "type": "bar",
         "x": [
          "Punjab"
         ],
         "xaxis": "x",
         "y": [
          10.8825
         ],
         "yaxis": "y"
        },
        {
         "alignmentgroup": "True",
         "hovertemplate": "Region=%{x}<br>Year=2019<br>Estimated Unemployment Rate (%)=%{y}<extra></extra>",
         "legendgroup": "Rajasthan",
         "marker": {
          "color": "#636efa",
          "pattern": {
           "shape": ""
          }
         },
         "name": "Rajasthan",
         "offsetgroup": "Rajasthan",
         "orientation": "v",
         "showlegend": true,
         "textposition": "auto",
         "type": "bar",
         "x": [
          "Rajasthan"
         ],
         "xaxis": "x",
         "y": [
          12.30125
         ],
         "yaxis": "y"
        },
        {
         "alignmentgroup": "True",
         "hovertemplate": "Region=%{x}<br>Year=2019<br>Estimated Unemployment Rate (%)=%{y}<extra></extra>",
         "legendgroup": "Sikkim",
         "marker": {
          "color": "#EF553B",
          "pattern": {
           "shape": ""
          }
         },
         "name": "Sikkim",
         "offsetgroup": "Sikkim",
         "orientation": "v",
         "showlegend": true,
         "textposition": "auto",
         "type": "bar",
         "x": [
          "Sikkim"
         ],
         "xaxis": "x",
         "y": [
          6.257272727272727
         ],
         "yaxis": "y"
        },
        {
         "alignmentgroup": "True",
         "hovertemplate": "Region=%{x}<br>Year=2019<br>Estimated Unemployment Rate (%)=%{y}<extra></extra>",
         "legendgroup": "Tamil Nadu",
         "marker": {
          "color": "#00cc96",
          "pattern": {
           "shape": ""
          }
         },
         "name": "Tamil Nadu",
         "offsetgroup": "Tamil Nadu",
         "orientation": "v",
         "showlegend": true,
         "textposition": "auto",
         "type": "bar",
         "x": [
          "Tamil Nadu"
         ],
         "xaxis": "x",
         "y": [
          3.0637499999999998
         ],
         "yaxis": "y"
        },
        {
         "alignmentgroup": "True",
         "hovertemplate": "Region=%{x}<br>Year=2019<br>Estimated Unemployment Rate (%)=%{y}<extra></extra>",
         "legendgroup": "Telangana",
         "marker": {
          "color": "#ab63fa",
          "pattern": {
           "shape": ""
          }
         },
         "name": "Telangana",
         "offsetgroup": "Telangana",
         "orientation": "v",
         "showlegend": true,
         "textposition": "auto",
         "type": "bar",
         "x": [
          "Telangana"
         ],
         "xaxis": "x",
         "y": [
          4.115625
         ],
         "yaxis": "y"
        },
        {
         "alignmentgroup": "True",
         "hovertemplate": "Region=%{x}<br>Year=2019<br>Estimated Unemployment Rate (%)=%{y}<extra></extra>",
         "legendgroup": "Tripura",
         "marker": {
          "color": "#FFA15A",
          "pattern": {
           "shape": ""
          }
         },
         "name": "Tripura",
         "offsetgroup": "Tripura",
         "orientation": "v",
         "showlegend": true,
         "textposition": "auto",
         "type": "bar",
         "x": [
          "Tripura"
         ],
         "xaxis": "x",
         "y": [
          28.363125
         ],
         "yaxis": "y"
        },
        {
         "alignmentgroup": "True",
         "hovertemplate": "Region=%{x}<br>Year=2019<br>Estimated Unemployment Rate (%)=%{y}<extra></extra>",
         "legendgroup": "Uttar Pradesh",
         "marker": {
          "color": "#19d3f3",
          "pattern": {
           "shape": ""
          }
         },
         "name": "Uttar Pradesh",
         "offsetgroup": "Uttar Pradesh",
         "orientation": "v",
         "showlegend": true,
         "textposition": "auto",
         "type": "bar",
         "x": [
          "Uttar Pradesh"
         ],
         "xaxis": "x",
         "y": [
          10.888125
         ],
         "yaxis": "y"
        },
        {
         "alignmentgroup": "True",
         "hovertemplate": "Region=%{x}<br>Year=2019<br>Estimated Unemployment Rate (%)=%{y}<extra></extra>",
         "legendgroup": "Uttarakhand",
         "marker": {
          "color": "#FF6692",
          "pattern": {
           "shape": ""
          }
         },
         "name": "Uttarakhand",
         "offsetgroup": "Uttarakhand",
         "orientation": "v",
         "showlegend": true,
         "textposition": "auto",
         "type": "bar",
         "x": [
          "Uttarakhand"
         ],
         "xaxis": "x",
         "y": [
          5.800625
         ],
         "yaxis": "y"
        },
        {
         "alignmentgroup": "True",
         "hovertemplate": "Region=%{x}<br>Year=2019<br>Estimated Unemployment Rate (%)=%{y}<extra></extra>",
         "legendgroup": "West Bengal",
         "marker": {
          "color": "#B6E880",
          "pattern": {
           "shape": ""
          }
         },
         "name": "West Bengal",
         "offsetgroup": "West Bengal",
         "orientation": "v",
         "showlegend": true,
         "textposition": "auto",
         "type": "bar",
         "x": [
          "West Bengal"
         ],
         "xaxis": "x",
         "y": [
          6.625625
         ],
         "yaxis": "y"
        }
       ],
       "frames": [
        {
         "data": [
          {
           "alignmentgroup": "True",
           "hovertemplate": "Region=%{x}<br>Year=2019<br>Estimated Unemployment Rate (%)=%{y}<extra></extra>",
           "legendgroup": "Andhra Pradesh",
           "marker": {
            "color": "#636efa",
            "pattern": {
             "shape": ""
            }
           },
           "name": "Andhra Pradesh",
           "offsetgroup": "Andhra Pradesh",
           "orientation": "v",
           "showlegend": true,
           "textposition": "auto",
           "type": "bar",
           "x": [
            "Andhra Pradesh"
           ],
           "xaxis": "x",
           "y": [
            4.826875
           ],
           "yaxis": "y"
          },
          {
           "alignmentgroup": "True",
           "hovertemplate": "Region=%{x}<br>Year=2019<br>Estimated Unemployment Rate (%)=%{y}<extra></extra>",
           "legendgroup": "Assam",
           "marker": {
            "color": "#EF553B",
            "pattern": {
             "shape": ""
            }
           },
           "name": "Assam",
           "offsetgroup": "Assam",
           "orientation": "v",
           "showlegend": true,
           "textposition": "auto",
           "type": "bar",
           "x": [
            "Assam"
           ],
           "xaxis": "x",
           "y": [
            6.4206666666666665
           ],
           "yaxis": "y"
          },
          {
           "alignmentgroup": "True",
           "hovertemplate": "Region=%{x}<br>Year=2019<br>Estimated Unemployment Rate (%)=%{y}<extra></extra>",
           "legendgroup": "Bihar",
           "marker": {
            "color": "#00cc96",
            "pattern": {
             "shape": ""
            }
           },
           "name": "Bihar",
           "offsetgroup": "Bihar",
           "orientation": "v",
           "showlegend": true,
           "textposition": "auto",
           "type": "bar",
           "x": [
            "Bihar"
           ],
           "xaxis": "x",
           "y": [
            13.8825
           ],
           "yaxis": "y"
          },
          {
           "alignmentgroup": "True",
           "hovertemplate": "Region=%{x}<br>Year=2019<br>Estimated Unemployment Rate (%)=%{y}<extra></extra>",
           "legendgroup": "Chandigarh",
           "marker": {
            "color": "#ab63fa",
            "pattern": {
             "shape": ""
            }
           },
           "name": "Chandigarh",
           "offsetgroup": "Chandigarh",
           "orientation": "v",
           "showlegend": true,
           "textposition": "auto",
           "type": "bar",
           "x": [
            "Chandigarh"
           ],
           "xaxis": "x",
           "y": [
            15.822500000000002
           ],
           "yaxis": "y"
          },
          {
           "alignmentgroup": "True",
           "hovertemplate": "Region=%{x}<br>Year=2019<br>Estimated Unemployment Rate (%)=%{y}<extra></extra>",
           "legendgroup": "Chhattisgarh",
           "marker": {
            "color": "#FFA15A",
            "pattern": {
             "shape": ""
            }
           },
           "name": "Chhattisgarh",
           "offsetgroup": "Chhattisgarh",
           "orientation": "v",
           "showlegend": true,
           "textposition": "auto",
           "type": "bar",
           "x": [
            "Chhattisgarh"
           ],
           "xaxis": "x",
           "y": [
            7.346875
           ],
           "yaxis": "y"
          },
          {
           "alignmentgroup": "True",
           "hovertemplate": "Region=%{x}<br>Year=2019<br>Estimated Unemployment Rate (%)=%{y}<extra></extra>",
           "legendgroup": "Delhi",
           "marker": {
            "color": "#19d3f3",
            "pattern": {
             "shape": ""
            }
           },
           "name": "Delhi",
           "offsetgroup": "Delhi",
           "orientation": "v",
           "showlegend": true,
           "textposition": "auto",
           "type": "bar",
           "x": [
            "Delhi"
           ],
           "xaxis": "x",
           "y": [
            13.750625
           ],
           "yaxis": "y"
          },
          {
           "alignmentgroup": "True",
           "hovertemplate": "Region=%{x}<br>Year=2019<br>Estimated Unemployment Rate (%)=%{y}<extra></extra>",
           "legendgroup": "Goa",
           "marker": {
            "color": "#FF6692",
            "pattern": {
             "shape": ""
            }
           },
           "name": "Goa",
           "offsetgroup": "Goa",
           "orientation": "v",
           "showlegend": true,
           "textposition": "auto",
           "type": "bar",
           "x": [
            "Goa"
           ],
           "xaxis": "x",
           "y": [
            9.34625
           ],
           "yaxis": "y"
          },
          {
           "alignmentgroup": "True",
           "hovertemplate": "Region=%{x}<br>Year=2019<br>Estimated Unemployment Rate (%)=%{y}<extra></extra>",
           "legendgroup": "Gujarat",
           "marker": {
            "color": "#B6E880",
            "pattern": {
             "shape": ""
            }
           },
           "name": "Gujarat",
           "offsetgroup": "Gujarat",
           "orientation": "v",
           "showlegend": true,
           "textposition": "auto",
           "type": "bar",
           "x": [
            "Gujarat"
           ],
           "xaxis": "x",
           "y": [
            4.979375
           ],
           "yaxis": "y"
          },
          {
           "alignmentgroup": "True",
           "hovertemplate": "Region=%{x}<br>Year=2019<br>Estimated Unemployment Rate (%)=%{y}<extra></extra>",
           "legendgroup": "Haryana",
           "marker": {
            "color": "#FF97FF",
            "pattern": {
             "shape": ""
            }
           },
           "name": "Haryana",
           "offsetgroup": "Haryana",
           "orientation": "v",
           "showlegend": true,
           "textposition": "auto",
           "type": "bar",
           "x": [
            "Haryana"
           ],
           "xaxis": "x",
           "y": [
            22.79875
           ],
           "yaxis": "y"
          },
          {
           "alignmentgroup": "True",
           "hovertemplate": "Region=%{x}<br>Year=2019<br>Estimated Unemployment Rate (%)=%{y}<extra></extra>",
           "legendgroup": "Himachal Pradesh",
           "marker": {
            "color": "#FECB52",
            "pattern": {
             "shape": ""
            }
           },
           "name": "Himachal Pradesh",
           "offsetgroup": "Himachal Pradesh",
           "orientation": "v",
           "showlegend": true,
           "textposition": "auto",
           "type": "bar",
           "x": [
            "Himachal Pradesh"
           ],
           "xaxis": "x",
           "y": [
            19.064375
           ],
           "yaxis": "y"
          },
          {
           "alignmentgroup": "True",
           "hovertemplate": "Region=%{x}<br>Year=2019<br>Estimated Unemployment Rate (%)=%{y}<extra></extra>",
           "legendgroup": "Jammu & Kashmir",
           "marker": {
            "color": "#636efa",
            "pattern": {
             "shape": ""
            }
           },
           "name": "Jammu & Kashmir",
           "offsetgroup": "Jammu & Kashmir",
           "orientation": "v",
           "showlegend": true,
           "textposition": "auto",
           "type": "bar",
           "x": [
            "Jammu & Kashmir"
           ],
           "xaxis": "x",
           "y": [
            16.141666666666666
           ],
           "yaxis": "y"
          },
          {
           "alignmentgroup": "True",
           "hovertemplate": "Region=%{x}<br>Year=2019<br>Estimated Unemployment Rate (%)=%{y}<extra></extra>",
           "legendgroup": "Jharkhand",
           "marker": {
            "color": "#EF553B",
            "pattern": {
             "shape": ""
            }
           },
           "name": "Jharkhand",
           "offsetgroup": "Jharkhand",
           "orientation": "v",
           "showlegend": true,
           "textposition": "auto",
           "type": "bar",
           "x": [
            "Jharkhand"
           ],
           "xaxis": "x",
           "y": [
            14.23375
           ],
           "yaxis": "y"
          },
          {
           "alignmentgroup": "True",
           "hovertemplate": "Region=%{x}<br>Year=2019<br>Estimated Unemployment Rate (%)=%{y}<extra></extra>",
           "legendgroup": "Karnataka",
           "marker": {
            "color": "#00cc96",
            "pattern": {
             "shape": ""
            }
           },
           "name": "Karnataka",
           "offsetgroup": "Karnataka",
           "orientation": "v",
           "showlegend": true,
           "textposition": "auto",
           "type": "bar",
           "x": [
            "Karnataka"
           ],
           "xaxis": "x",
           "y": [
            3.23875
           ],
           "yaxis": "y"
          },
          {
           "alignmentgroup": "True",
           "hovertemplate": "Region=%{x}<br>Year=2019<br>Estimated Unemployment Rate (%)=%{y}<extra></extra>",
           "legendgroup": "Kerala",
           "marker": {
            "color": "#ab63fa",
            "pattern": {
             "shape": ""
            }
           },
           "name": "Kerala",
           "offsetgroup": "Kerala",
           "orientation": "v",
           "showlegend": true,
           "textposition": "auto",
           "type": "bar",
           "x": [
            "Kerala"
           ],
           "xaxis": "x",
           "y": [
            7.13125
           ],
           "yaxis": "y"
          },
          {
           "alignmentgroup": "True",
           "hovertemplate": "Region=%{x}<br>Year=2019<br>Estimated Unemployment Rate (%)=%{y}<extra></extra>",
           "legendgroup": "Madhya Pradesh",
           "marker": {
            "color": "#FFA15A",
            "pattern": {
             "shape": ""
            }
           },
           "name": "Madhya Pradesh",
           "offsetgroup": "Madhya Pradesh",
           "orientation": "v",
           "showlegend": true,
           "textposition": "auto",
           "type": "bar",
           "x": [
            "Madhya Pradesh"
           ],
           "xaxis": "x",
           "y": [
            4.788125
           ],
           "yaxis": "y"
          },
          {
           "alignmentgroup": "True",
           "hovertemplate": "Region=%{x}<br>Year=2019<br>Estimated Unemployment Rate (%)=%{y}<extra></extra>",
           "legendgroup": "Maharashtra",
           "marker": {
            "color": "#19d3f3",
            "pattern": {
             "shape": ""
            }
           },
           "name": "Maharashtra",
           "offsetgroup": "Maharashtra",
           "orientation": "v",
           "showlegend": true,
           "textposition": "auto",
           "type": "bar",
           "x": [
            "Maharashtra"
           ],
           "xaxis": "x",
           "y": [
            5.459375
           ],
           "yaxis": "y"
          },
          {
           "alignmentgroup": "True",
           "hovertemplate": "Region=%{x}<br>Year=2019<br>Estimated Unemployment Rate (%)=%{y}<extra></extra>",
           "legendgroup": "Meghalaya",
           "marker": {
            "color": "#FF6692",
            "pattern": {
             "shape": ""
            }
           },
           "name": "Meghalaya",
           "offsetgroup": "Meghalaya",
           "orientation": "v",
           "showlegend": true,
           "textposition": "auto",
           "type": "bar",
           "x": [
            "Meghalaya"
           ],
           "xaxis": "x",
           "y": [
            4.0125
           ],
           "yaxis": "y"
          },
          {
           "alignmentgroup": "True",
           "hovertemplate": "Region=%{x}<br>Year=2019<br>Estimated Unemployment Rate (%)=%{y}<extra></extra>",
           "legendgroup": "Odisha",
           "marker": {
            "color": "#B6E880",
            "pattern": {
             "shape": ""
            }
           },
           "name": "Odisha",
           "offsetgroup": "Odisha",
           "orientation": "v",
           "showlegend": true,
           "textposition": "auto",
           "type": "bar",
           "x": [
            "Odisha"
           ],
           "xaxis": "x",
           "y": [
            3.66125
           ],
           "yaxis": "y"
          },
          {
           "alignmentgroup": "True",
           "hovertemplate": "Region=%{x}<br>Year=2019<br>Estimated Unemployment Rate (%)=%{y}<extra></extra>",
           "legendgroup": "Puducherry",
           "marker": {
            "color": "#FF97FF",
            "pattern": {
             "shape": ""
            }
           },
           "name": "Puducherry",
           "offsetgroup": "Puducherry",
           "orientation": "v",
           "showlegend": true,
           "textposition": "auto",
           "type": "bar",
           "x": [
            "Puducherry"
           ],
           "xaxis": "x",
           "y": [
            1.6993749999999999
           ],
           "yaxis": "y"
          },
          {
           "alignmentgroup": "True",
           "hovertemplate": "Region=%{x}<br>Year=2019<br>Estimated Unemployment Rate (%)=%{y}<extra></extra>",
           "legendgroup": "Punjab",
           "marker": {
            "color": "#FECB52",
            "pattern": {
             "shape": ""
            }
           },
           "name": "Punjab",
           "offsetgroup": "Punjab",
           "orientation": "v",
           "showlegend": true,
           "textposition": "auto",
           "type": "bar",
           "x": [
            "Punjab"
           ],
           "xaxis": "x",
           "y": [
            10.8825
           ],
           "yaxis": "y"
          },
          {
           "alignmentgroup": "True",
           "hovertemplate": "Region=%{x}<br>Year=2019<br>Estimated Unemployment Rate (%)=%{y}<extra></extra>",
           "legendgroup": "Rajasthan",
           "marker": {
            "color": "#636efa",
            "pattern": {
             "shape": ""
            }
           },
           "name": "Rajasthan",
           "offsetgroup": "Rajasthan",
           "orientation": "v",
           "showlegend": true,
           "textposition": "auto",
           "type": "bar",
           "x": [
            "Rajasthan"
           ],
           "xaxis": "x",
           "y": [
            12.30125
           ],
           "yaxis": "y"
          },
          {
           "alignmentgroup": "True",
           "hovertemplate": "Region=%{x}<br>Year=2019<br>Estimated Unemployment Rate (%)=%{y}<extra></extra>",
           "legendgroup": "Sikkim",
           "marker": {
            "color": "#EF553B",
            "pattern": {
             "shape": ""
            }
           },
           "name": "Sikkim",
           "offsetgroup": "Sikkim",
           "orientation": "v",
           "showlegend": true,
           "textposition": "auto",
           "type": "bar",
           "x": [
            "Sikkim"
           ],
           "xaxis": "x",
           "y": [
            6.257272727272727
           ],
           "yaxis": "y"
          },
          {
           "alignmentgroup": "True",
           "hovertemplate": "Region=%{x}<br>Year=2019<br>Estimated Unemployment Rate (%)=%{y}<extra></extra>",
           "legendgroup": "Tamil Nadu",
           "marker": {
            "color": "#00cc96",
            "pattern": {
             "shape": ""
            }
           },
           "name": "Tamil Nadu",
           "offsetgroup": "Tamil Nadu",
           "orientation": "v",
           "showlegend": true,
           "textposition": "auto",
           "type": "bar",
           "x": [
            "Tamil Nadu"
           ],
           "xaxis": "x",
           "y": [
            3.0637499999999998
           ],
           "yaxis": "y"
          },
          {
           "alignmentgroup": "True",
           "hovertemplate": "Region=%{x}<br>Year=2019<br>Estimated Unemployment Rate (%)=%{y}<extra></extra>",
           "legendgroup": "Telangana",
           "marker": {
            "color": "#ab63fa",
            "pattern": {
             "shape": ""
            }
           },
           "name": "Telangana",
           "offsetgroup": "Telangana",
           "orientation": "v",
           "showlegend": true,
           "textposition": "auto",
           "type": "bar",
           "x": [
            "Telangana"
           ],
           "xaxis": "x",
           "y": [
            4.115625
           ],
           "yaxis": "y"
          },
          {
           "alignmentgroup": "True",
           "hovertemplate": "Region=%{x}<br>Year=2019<br>Estimated Unemployment Rate (%)=%{y}<extra></extra>",
           "legendgroup": "Tripura",
           "marker": {
            "color": "#FFA15A",
            "pattern": {
             "shape": ""
            }
           },
           "name": "Tripura",
           "offsetgroup": "Tripura",
           "orientation": "v",
           "showlegend": true,
           "textposition": "auto",
           "type": "bar",
           "x": [
            "Tripura"
           ],
           "xaxis": "x",
           "y": [
            28.363125
           ],
           "yaxis": "y"
          },
          {
           "alignmentgroup": "True",
           "hovertemplate": "Region=%{x}<br>Year=2019<br>Estimated Unemployment Rate (%)=%{y}<extra></extra>",
           "legendgroup": "Uttar Pradesh",
           "marker": {
            "color": "#19d3f3",
            "pattern": {
             "shape": ""
            }
           },
           "name": "Uttar Pradesh",
           "offsetgroup": "Uttar Pradesh",
           "orientation": "v",
           "showlegend": true,
           "textposition": "auto",
           "type": "bar",
           "x": [
            "Uttar Pradesh"
           ],
           "xaxis": "x",
           "y": [
            10.888125
           ],
           "yaxis": "y"
          },
          {
           "alignmentgroup": "True",
           "hovertemplate": "Region=%{x}<br>Year=2019<br>Estimated Unemployment Rate (%)=%{y}<extra></extra>",
           "legendgroup": "Uttarakhand",
           "marker": {
            "color": "#FF6692",
            "pattern": {
             "shape": ""
            }
           },
           "name": "Uttarakhand",
           "offsetgroup": "Uttarakhand",
           "orientation": "v",
           "showlegend": true,
           "textposition": "auto",
           "type": "bar",
           "x": [
            "Uttarakhand"
           ],
           "xaxis": "x",
           "y": [
            5.800625
           ],
           "yaxis": "y"
          },
          {
           "alignmentgroup": "True",
           "hovertemplate": "Region=%{x}<br>Year=2019<br>Estimated Unemployment Rate (%)=%{y}<extra></extra>",
           "legendgroup": "West Bengal",
           "marker": {
            "color": "#B6E880",
            "pattern": {
             "shape": ""
            }
           },
           "name": "West Bengal",
           "offsetgroup": "West Bengal",
           "orientation": "v",
           "showlegend": true,
           "textposition": "auto",
           "type": "bar",
           "x": [
            "West Bengal"
           ],
           "xaxis": "x",
           "y": [
            6.625625
           ],
           "yaxis": "y"
          }
         ],
         "name": "2019"
        },
        {
         "data": [
          {
           "alignmentgroup": "True",
           "hovertemplate": "Region=%{x}<br>Year=2020<br>Estimated Unemployment Rate (%)=%{y}<extra></extra>",
           "legendgroup": "Andhra Pradesh",
           "marker": {
            "color": "#636efa",
            "pattern": {
             "shape": ""
            }
           },
           "name": "Andhra Pradesh",
           "offsetgroup": "Andhra Pradesh",
           "orientation": "v",
           "showlegend": true,
           "textposition": "auto",
           "type": "bar",
           "x": [
            "Andhra Pradesh"
           ],
           "xaxis": "x",
           "y": [
            11.010833333333332
           ],
           "yaxis": "y"
          },
          {
           "alignmentgroup": "True",
           "hovertemplate": "Region=%{x}<br>Year=2020<br>Estimated Unemployment Rate (%)=%{y}<extra></extra>",
           "legendgroup": "Assam",
           "marker": {
            "color": "#EF553B",
            "pattern": {
             "shape": ""
            }
           },
           "name": "Assam",
           "offsetgroup": "Assam",
           "orientation": "v",
           "showlegend": true,
           "textposition": "auto",
           "type": "bar",
           "x": [
            "Assam"
           ],
           "xaxis": "x",
           "y": [
            6.438181818181818
           ],
           "yaxis": "y"
          },
          {
           "alignmentgroup": "True",
           "hovertemplate": "Region=%{x}<br>Year=2020<br>Estimated Unemployment Rate (%)=%{y}<extra></extra>",
           "legendgroup": "Bihar",
           "marker": {
            "color": "#00cc96",
            "pattern": {
             "shape": ""
            }
           },
           "name": "Bihar",
           "offsetgroup": "Bihar",
           "orientation": "v",
           "showlegend": true,
           "textposition": "auto",
           "type": "bar",
           "x": [
            "Bihar"
           ],
           "xaxis": "x",
           "y": [
            25.632500000000004
           ],
           "yaxis": "y"
          },
          {
           "alignmentgroup": "True",
           "hovertemplate": "Region=%{x}<br>Year=2020<br>Estimated Unemployment Rate (%)=%{y}<extra></extra>",
           "legendgroup": "Chandigarh",
           "marker": {
            "color": "#ab63fa",
            "pattern": {
             "shape": ""
            }
           },
           "name": "Chandigarh",
           "offsetgroup": "Chandigarh",
           "orientation": "v",
           "showlegend": true,
           "textposition": "auto",
           "type": "bar",
           "x": [
            "Chandigarh"
           ],
           "xaxis": "x",
           "y": [
            16.330000000000002
           ],
           "yaxis": "y"
          },
          {
           "alignmentgroup": "True",
           "hovertemplate": "Region=%{x}<br>Year=2020<br>Estimated Unemployment Rate (%)=%{y}<extra></extra>",
           "legendgroup": "Chhattisgarh",
           "marker": {
            "color": "#FFA15A",
            "pattern": {
             "shape": ""
            }
           },
           "name": "Chhattisgarh",
           "offsetgroup": "Chhattisgarh",
           "orientation": "v",
           "showlegend": true,
           "textposition": "auto",
           "type": "bar",
           "x": [
            "Chhattisgarh"
           ],
           "xaxis": "x",
           "y": [
            11.765
           ],
           "yaxis": "y"
          },
          {
           "alignmentgroup": "True",
           "hovertemplate": "Region=%{x}<br>Year=2020<br>Estimated Unemployment Rate (%)=%{y}<extra></extra>",
           "legendgroup": "Delhi",
           "marker": {
            "color": "#19d3f3",
            "pattern": {
             "shape": ""
            }
           },
           "name": "Delhi",
           "offsetgroup": "Delhi",
           "orientation": "v",
           "showlegend": true,
           "textposition": "auto",
           "type": "bar",
           "x": [
            "Delhi"
           ],
           "xaxis": "x",
           "y": [
            20.155
           ],
           "yaxis": "y"
          },
          {
           "alignmentgroup": "True",
           "hovertemplate": "Region=%{x}<br>Year=2020<br>Estimated Unemployment Rate (%)=%{y}<extra></extra>",
           "legendgroup": "Goa",
           "marker": {
            "color": "#FF6692",
            "pattern": {
             "shape": ""
            }
           },
           "name": "Goa",
           "offsetgroup": "Goa",
           "orientation": "v",
           "showlegend": true,
           "textposition": "auto",
           "type": "bar",
           "x": [
            "Goa"
           ],
           "xaxis": "x",
           "y": [
            9.129999999999999
           ],
           "yaxis": "y"
          },
          {
           "alignmentgroup": "True",
           "hovertemplate": "Region=%{x}<br>Year=2020<br>Estimated Unemployment Rate (%)=%{y}<extra></extra>",
           "legendgroup": "Gujarat",
           "marker": {
            "color": "#B6E880",
            "pattern": {
             "shape": ""
            }
           },
           "name": "Gujarat",
           "offsetgroup": "Gujarat",
           "orientation": "v",
           "showlegend": true,
           "textposition": "auto",
           "type": "bar",
           "x": [
            "Gujarat"
           ],
           "xaxis": "x",
           "y": [
            8.91
           ],
           "yaxis": "y"
          },
          {
           "alignmentgroup": "True",
           "hovertemplate": "Region=%{x}<br>Year=2020<br>Estimated Unemployment Rate (%)=%{y}<extra></extra>",
           "legendgroup": "Haryana",
           "marker": {
            "color": "#FF97FF",
            "pattern": {
             "shape": ""
            }
           },
           "name": "Haryana",
           "offsetgroup": "Haryana",
           "orientation": "v",
           "showlegend": true,
           "textposition": "auto",
           "type": "bar",
           "x": [
            "Haryana"
           ],
           "xaxis": "x",
           "y": [
            30.929166666666664
           ],
           "yaxis": "y"
          },
          {
           "alignmentgroup": "True",
           "hovertemplate": "Region=%{x}<br>Year=2020<br>Estimated Unemployment Rate (%)=%{y}<extra></extra>",
           "legendgroup": "Himachal Pradesh",
           "marker": {
            "color": "#FECB52",
            "pattern": {
             "shape": ""
            }
           },
           "name": "Himachal Pradesh",
           "offsetgroup": "Himachal Pradesh",
           "orientation": "v",
           "showlegend": true,
           "textposition": "auto",
           "type": "bar",
           "x": [
            "Himachal Pradesh"
           ],
           "xaxis": "x",
           "y": [
            17.841666666666665
           ],
           "yaxis": "y"
          },
          {
           "alignmentgroup": "True",
           "hovertemplate": "Region=%{x}<br>Year=2020<br>Estimated Unemployment Rate (%)=%{y}<extra></extra>",
           "legendgroup": "Jammu & Kashmir",
           "marker": {
            "color": "#636efa",
            "pattern": {
             "shape": ""
            }
           },
           "name": "Jammu & Kashmir",
           "offsetgroup": "Jammu & Kashmir",
           "orientation": "v",
           "showlegend": true,
           "textposition": "auto",
           "type": "bar",
           "x": [
            "Jammu & Kashmir"
           ],
           "xaxis": "x",
           "y": [
            16.25111111111111
           ],
           "yaxis": "y"
          },
          {
           "alignmentgroup": "True",
           "hovertemplate": "Region=%{x}<br>Year=2020<br>Estimated Unemployment Rate (%)=%{y}<extra></extra>",
           "legendgroup": "Jharkhand",
           "marker": {
            "color": "#EF553B",
            "pattern": {
             "shape": ""
            }
           },
           "name": "Jharkhand",
           "offsetgroup": "Jharkhand",
           "orientation": "v",
           "showlegend": true,
           "textposition": "auto",
           "type": "bar",
           "x": [
            "Jharkhand"
           ],
           "xaxis": "x",
           "y": [
            29.05333333333333
           ],
           "yaxis": "y"
          },
          {
           "alignmentgroup": "True",
           "hovertemplate": "Region=%{x}<br>Year=2020<br>Estimated Unemployment Rate (%)=%{y}<extra></extra>",
           "legendgroup": "Karnataka",
           "marker": {
            "color": "#00cc96",
            "pattern": {
             "shape": ""
            }
           },
           "name": "Karnataka",
           "offsetgroup": "Karnataka",
           "orientation": "v",
           "showlegend": true,
           "textposition": "auto",
           "type": "bar",
           "x": [
            "Karnataka"
           ],
           "xaxis": "x",
           "y": [
            11.259166666666667
           ],
           "yaxis": "y"
          },
          {
           "alignmentgroup": "True",
           "hovertemplate": "Region=%{x}<br>Year=2020<br>Estimated Unemployment Rate (%)=%{y}<extra></extra>",
           "legendgroup": "Kerala",
           "marker": {
            "color": "#ab63fa",
            "pattern": {
             "shape": ""
            }
           },
           "name": "Kerala",
           "offsetgroup": "Kerala",
           "orientation": "v",
           "showlegend": true,
           "textposition": "auto",
           "type": "bar",
           "x": [
            "Kerala"
           ],
           "xaxis": "x",
           "y": [
            14.114166666666668
           ],
           "yaxis": "y"
          },
          {
           "alignmentgroup": "True",
           "hovertemplate": "Region=%{x}<br>Year=2020<br>Estimated Unemployment Rate (%)=%{y}<extra></extra>",
           "legendgroup": "Madhya Pradesh",
           "marker": {
            "color": "#FFA15A",
            "pattern": {
             "shape": ""
            }
           },
           "name": "Madhya Pradesh",
           "offsetgroup": "Madhya Pradesh",
           "orientation": "v",
           "showlegend": true,
           "textposition": "auto",
           "type": "bar",
           "x": [
            "Madhya Pradesh"
           ],
           "xaxis": "x",
           "y": [
            10.8975
           ],
           "yaxis": "y"
          },
          {
           "alignmentgroup": "True",
           "hovertemplate": "Region=%{x}<br>Year=2020<br>Estimated Unemployment Rate (%)=%{y}<extra></extra>",
           "legendgroup": "Maharashtra",
           "marker": {
            "color": "#19d3f3",
            "pattern": {
             "shape": ""
            }
           },
           "name": "Maharashtra",
           "offsetgroup": "Maharashtra",
           "orientation": "v",
           "showlegend": true,
           "textposition": "auto",
           "type": "bar",
           "x": [
            "Maharashtra"
           ],
           "xaxis": "x",
           "y": [
            10.355
           ],
           "yaxis": "y"
          },
          {
           "alignmentgroup": "True",
           "hovertemplate": "Region=%{x}<br>Year=2020<br>Estimated Unemployment Rate (%)=%{y}<extra></extra>",
           "legendgroup": "Meghalaya",
           "marker": {
            "color": "#FF6692",
            "pattern": {
             "shape": ""
            }
           },
           "name": "Meghalaya",
           "offsetgroup": "Meghalaya",
           "orientation": "v",
           "showlegend": true,
           "textposition": "auto",
           "type": "bar",
           "x": [
            "Meghalaya"
           ],
           "xaxis": "x",
           "y": [
            5.942727272727273
           ],
           "yaxis": "y"
          },
          {
           "alignmentgroup": "True",
           "hovertemplate": "Region=%{x}<br>Year=2020<br>Estimated Unemployment Rate (%)=%{y}<extra></extra>",
           "legendgroup": "Odisha",
           "marker": {
            "color": "#B6E880",
            "pattern": {
             "shape": ""
            }
           },
           "name": "Odisha",
           "offsetgroup": "Odisha",
           "orientation": "v",
           "showlegend": true,
           "textposition": "auto",
           "type": "bar",
           "x": [
            "Odisha"
           ],
           "xaxis": "x",
           "y": [
            8.32
           ],
           "yaxis": "y"
          },
          {
           "alignmentgroup": "True",
           "hovertemplate": "Region=%{x}<br>Year=2020<br>Estimated Unemployment Rate (%)=%{y}<extra></extra>",
           "legendgroup": "Puducherry",
           "marker": {
            "color": "#FF97FF",
            "pattern": {
             "shape": ""
            }
           },
           "name": "Puducherry",
           "offsetgroup": "Puducherry",
           "orientation": "v",
           "showlegend": true,
           "textposition": "auto",
           "type": "bar",
           "x": [
            "Puducherry"
           ],
           "xaxis": "x",
           "y": [
            23.84
           ],
           "yaxis": "y"
          },
          {
           "alignmentgroup": "True",
           "hovertemplate": "Region=%{x}<br>Year=2020<br>Estimated Unemployment Rate (%)=%{y}<extra></extra>",
           "legendgroup": "Punjab",
           "marker": {
            "color": "#FECB52",
            "pattern": {
             "shape": ""
            }
           },
           "name": "Punjab",
           "offsetgroup": "Punjab",
           "orientation": "v",
           "showlegend": true,
           "textposition": "auto",
           "type": "bar",
           "x": [
            "Punjab"
           ],
           "xaxis": "x",
           "y": [
            13.5625
           ],
           "yaxis": "y"
          },
          {
           "alignmentgroup": "True",
           "hovertemplate": "Region=%{x}<br>Year=2020<br>Estimated Unemployment Rate (%)=%{y}<extra></extra>",
           "legendgroup": "Rajasthan",
           "marker": {
            "color": "#636efa",
            "pattern": {
             "shape": ""
            }
           },
           "name": "Rajasthan",
           "offsetgroup": "Rajasthan",
           "orientation": "v",
           "showlegend": true,
           "textposition": "auto",
           "type": "bar",
           "x": [
            "Rajasthan"
           ],
           "xaxis": "x",
           "y": [
            16.400833333333335
           ],
           "yaxis": "y"
          },
          {
           "alignmentgroup": "True",
           "hovertemplate": "Region=%{x}<br>Year=2020<br>Estimated Unemployment Rate (%)=%{y}<extra></extra>",
           "legendgroup": "Sikkim",
           "marker": {
            "color": "#EF553B",
            "pattern": {
             "shape": ""
            }
           },
           "name": "Sikkim",
           "offsetgroup": "Sikkim",
           "orientation": "v",
           "showlegend": true,
           "textposition": "auto",
           "type": "bar",
           "x": [
            "Sikkim"
           ],
           "xaxis": "x",
           "y": [
            9.068333333333333
           ],
           "yaxis": "y"
          },
          {
           "alignmentgroup": "True",
           "hovertemplate": "Region=%{x}<br>Year=2020<br>Estimated Unemployment Rate (%)=%{y}<extra></extra>",
           "legendgroup": "Tamil Nadu",
           "marker": {
            "color": "#00cc96",
            "pattern": {
             "shape": ""
            }
           },
           "name": "Tamil Nadu",
           "offsetgroup": "Tamil Nadu",
           "orientation": "v",
           "showlegend": true,
           "textposition": "auto",
           "type": "bar",
           "x": [
            "Tamil Nadu"
           ],
           "xaxis": "x",
           "y": [
            17.578333333333333
           ],
           "yaxis": "y"
          },
          {
           "alignmentgroup": "True",
           "hovertemplate": "Region=%{x}<br>Year=2020<br>Estimated Unemployment Rate (%)=%{y}<extra></extra>",
           "legendgroup": "Telangana",
           "marker": {
            "color": "#ab63fa",
            "pattern": {
             "shape": ""
            }
           },
           "name": "Telangana",
           "offsetgroup": "Telangana",
           "orientation": "v",
           "showlegend": true,
           "textposition": "auto",
           "type": "bar",
           "x": [
            "Telangana"
           ],
           "xaxis": "x",
           "y": [
            12.5675
           ],
           "yaxis": "y"
          },
          {
           "alignmentgroup": "True",
           "hovertemplate": "Region=%{x}<br>Year=2020<br>Estimated Unemployment Rate (%)=%{y}<extra></extra>",
           "legendgroup": "Tripura",
           "marker": {
            "color": "#FFA15A",
            "pattern": {
             "shape": ""
            }
           },
           "name": "Tripura",
           "offsetgroup": "Tripura",
           "orientation": "v",
           "showlegend": true,
           "textposition": "auto",
           "type": "bar",
           "x": [
            "Tripura"
           ],
           "xaxis": "x",
           "y": [
            28.333333333333332
           ],
           "yaxis": "y"
          },
          {
           "alignmentgroup": "True",
           "hovertemplate": "Region=%{x}<br>Year=2020<br>Estimated Unemployment Rate (%)=%{y}<extra></extra>",
           "legendgroup": "Uttar Pradesh",
           "marker": {
            "color": "#19d3f3",
            "pattern": {
             "shape": ""
            }
           },
           "name": "Uttar Pradesh",
           "offsetgroup": "Uttar Pradesh",
           "orientation": "v",
           "showlegend": true,
           "textposition": "auto",
           "type": "bar",
           "x": [
            "Uttar Pradesh"
           ],
           "xaxis": "x",
           "y": [
            14.769166666666669
           ],
           "yaxis": "y"
          },
          {
           "alignmentgroup": "True",
           "hovertemplate": "Region=%{x}<br>Year=2020<br>Estimated Unemployment Rate (%)=%{y}<extra></extra>",
           "legendgroup": "Uttarakhand",
           "marker": {
            "color": "#FF6692",
            "pattern": {
             "shape": ""
            }
           },
           "name": "Uttarakhand",
           "offsetgroup": "Uttarakhand",
           "orientation": "v",
           "showlegend": true,
           "textposition": "auto",
           "type": "bar",
           "x": [
            "Uttarakhand"
           ],
           "xaxis": "x",
           "y": [
            7.720909090909092
           ],
           "yaxis": "y"
          },
          {
           "alignmentgroup": "True",
           "hovertemplate": "Region=%{x}<br>Year=2020<br>Estimated Unemployment Rate (%)=%{y}<extra></extra>",
           "legendgroup": "West Bengal",
           "marker": {
            "color": "#B6E880",
            "pattern": {
             "shape": ""
            }
           },
           "name": "West Bengal",
           "offsetgroup": "West Bengal",
           "orientation": "v",
           "showlegend": true,
           "textposition": "auto",
           "type": "bar",
           "x": [
            "West Bengal"
           ],
           "xaxis": "x",
           "y": [
            10.123333333333333
           ],
           "yaxis": "y"
          }
         ],
         "name": "2020"
        }
       ],
       "layout": {
        "barmode": "relative",
        "legend": {
         "title": {
          "text": "Region"
         },
         "tracegroupgap": 0
        },
        "sliders": [
         {
          "active": 0,
          "currentvalue": {
           "prefix": "Year="
          },
          "len": 0.9,
          "pad": {
           "b": 10,
           "t": 60
          },
          "steps": [
           {
            "args": [
             [
              "2019"
             ],
             {
              "frame": {
               "duration": 0,
               "redraw": true
              },
              "fromcurrent": true,
              "mode": "immediate",
              "transition": {
               "duration": 0,
               "easing": "linear"
              }
             }
            ],
            "label": "2019",
            "method": "animate"
           },
           {
            "args": [
             [
              "2020"
             ],
             {
              "frame": {
               "duration": 0,
               "redraw": true
              },
              "fromcurrent": true,
              "mode": "immediate",
              "transition": {
               "duration": 0,
               "easing": "linear"
              }
             }
            ],
            "label": "2020",
            "method": "animate"
           }
          ],
          "x": 0.1,
          "xanchor": "left",
          "y": 0,
          "yanchor": "top"
         }
        ],
        "template": {
         "data": {
          "bar": [
           {
            "error_x": {
             "color": "#2a3f5f"
            },
            "error_y": {
             "color": "#2a3f5f"
            },
            "marker": {
             "line": {
              "color": "#E5ECF6",
              "width": 0.5
             },
             "pattern": {
              "fillmode": "overlay",
              "size": 10,
              "solidity": 0.2
             }
            },
            "type": "bar"
           }
          ],
          "barpolar": [
           {
            "marker": {
             "line": {
              "color": "#E5ECF6",
              "width": 0.5
             },
             "pattern": {
              "fillmode": "overlay",
              "size": 10,
              "solidity": 0.2
             }
            },
            "type": "barpolar"
           }
          ],
          "carpet": [
           {
            "aaxis": {
             "endlinecolor": "#2a3f5f",
             "gridcolor": "white",
             "linecolor": "white",
             "minorgridcolor": "white",
             "startlinecolor": "#2a3f5f"
            },
            "baxis": {
             "endlinecolor": "#2a3f5f",
             "gridcolor": "white",
             "linecolor": "white",
             "minorgridcolor": "white",
             "startlinecolor": "#2a3f5f"
            },
            "type": "carpet"
           }
          ],
          "choropleth": [
           {
            "colorbar": {
             "outlinewidth": 0,
             "ticks": ""
            },
            "type": "choropleth"
           }
          ],
          "contour": [
           {
            "colorbar": {
             "outlinewidth": 0,
             "ticks": ""
            },
            "colorscale": [
             [
              0,
              "#0d0887"
             ],
             [
              0.1111111111111111,
              "#46039f"
             ],
             [
              0.2222222222222222,
              "#7201a8"
             ],
             [
              0.3333333333333333,
              "#9c179e"
             ],
             [
              0.4444444444444444,
              "#bd3786"
             ],
             [
              0.5555555555555556,
              "#d8576b"
             ],
             [
              0.6666666666666666,
              "#ed7953"
             ],
             [
              0.7777777777777778,
              "#fb9f3a"
             ],
             [
              0.8888888888888888,
              "#fdca26"
             ],
             [
              1,
              "#f0f921"
             ]
            ],
            "type": "contour"
           }
          ],
          "contourcarpet": [
           {
            "colorbar": {
             "outlinewidth": 0,
             "ticks": ""
            },
            "type": "contourcarpet"
           }
          ],
          "heatmap": [
           {
            "colorbar": {
             "outlinewidth": 0,
             "ticks": ""
            },
            "colorscale": [
             [
              0,
              "#0d0887"
             ],
             [
              0.1111111111111111,
              "#46039f"
             ],
             [
              0.2222222222222222,
              "#7201a8"
             ],
             [
              0.3333333333333333,
              "#9c179e"
             ],
             [
              0.4444444444444444,
              "#bd3786"
             ],
             [
              0.5555555555555556,
              "#d8576b"
             ],
             [
              0.6666666666666666,
              "#ed7953"
             ],
             [
              0.7777777777777778,
              "#fb9f3a"
             ],
             [
              0.8888888888888888,
              "#fdca26"
             ],
             [
              1,
              "#f0f921"
             ]
            ],
            "type": "heatmap"
           }
          ],
          "heatmapgl": [
           {
            "colorbar": {
             "outlinewidth": 0,
             "ticks": ""
            },
            "colorscale": [
             [
              0,
              "#0d0887"
             ],
             [
              0.1111111111111111,
              "#46039f"
             ],
             [
              0.2222222222222222,
              "#7201a8"
             ],
             [
              0.3333333333333333,
              "#9c179e"
             ],
             [
              0.4444444444444444,
              "#bd3786"
             ],
             [
              0.5555555555555556,
              "#d8576b"
             ],
             [
              0.6666666666666666,
              "#ed7953"
             ],
             [
              0.7777777777777778,
              "#fb9f3a"
             ],
             [
              0.8888888888888888,
              "#fdca26"
             ],
             [
              1,
              "#f0f921"
             ]
            ],
            "type": "heatmapgl"
           }
          ],
          "histogram": [
           {
            "marker": {
             "pattern": {
              "fillmode": "overlay",
              "size": 10,
              "solidity": 0.2
             }
            },
            "type": "histogram"
           }
          ],
          "histogram2d": [
           {
            "colorbar": {
             "outlinewidth": 0,
             "ticks": ""
            },
            "colorscale": [
             [
              0,
              "#0d0887"
             ],
             [
              0.1111111111111111,
              "#46039f"
             ],
             [
              0.2222222222222222,
              "#7201a8"
             ],
             [
              0.3333333333333333,
              "#9c179e"
             ],
             [
              0.4444444444444444,
              "#bd3786"
             ],
             [
              0.5555555555555556,
              "#d8576b"
             ],
             [
              0.6666666666666666,
              "#ed7953"
             ],
             [
              0.7777777777777778,
              "#fb9f3a"
             ],
             [
              0.8888888888888888,
              "#fdca26"
             ],
             [
              1,
              "#f0f921"
             ]
            ],
            "type": "histogram2d"
           }
          ],
          "histogram2dcontour": [
           {
            "colorbar": {
             "outlinewidth": 0,
             "ticks": ""
            },
            "colorscale": [
             [
              0,
              "#0d0887"
             ],
             [
              0.1111111111111111,
              "#46039f"
             ],
             [
              0.2222222222222222,
              "#7201a8"
             ],
             [
              0.3333333333333333,
              "#9c179e"
             ],
             [
              0.4444444444444444,
              "#bd3786"
             ],
             [
              0.5555555555555556,
              "#d8576b"
             ],
             [
              0.6666666666666666,
              "#ed7953"
             ],
             [
              0.7777777777777778,
              "#fb9f3a"
             ],
             [
              0.8888888888888888,
              "#fdca26"
             ],
             [
              1,
              "#f0f921"
             ]
            ],
            "type": "histogram2dcontour"
           }
          ],
          "mesh3d": [
           {
            "colorbar": {
             "outlinewidth": 0,
             "ticks": ""
            },
            "type": "mesh3d"
           }
          ],
          "parcoords": [
           {
            "line": {
             "colorbar": {
              "outlinewidth": 0,
              "ticks": ""
             }
            },
            "type": "parcoords"
           }
          ],
          "pie": [
           {
            "automargin": true,
            "type": "pie"
           }
          ],
          "scatter": [
           {
            "fillpattern": {
             "fillmode": "overlay",
             "size": 10,
             "solidity": 0.2
            },
            "type": "scatter"
           }
          ],
          "scatter3d": [
           {
            "line": {
             "colorbar": {
              "outlinewidth": 0,
              "ticks": ""
             }
            },
            "marker": {
             "colorbar": {
              "outlinewidth": 0,
              "ticks": ""
             }
            },
            "type": "scatter3d"
           }
          ],
          "scattercarpet": [
           {
            "marker": {
             "colorbar": {
              "outlinewidth": 0,
              "ticks": ""
             }
            },
            "type": "scattercarpet"
           }
          ],
          "scattergeo": [
           {
            "marker": {
             "colorbar": {
              "outlinewidth": 0,
              "ticks": ""
             }
            },
            "type": "scattergeo"
           }
          ],
          "scattergl": [
           {
            "marker": {
             "colorbar": {
              "outlinewidth": 0,
              "ticks": ""
             }
            },
            "type": "scattergl"
           }
          ],
          "scattermapbox": [
           {
            "marker": {
             "colorbar": {
              "outlinewidth": 0,
              "ticks": ""
             }
            },
            "type": "scattermapbox"
           }
          ],
          "scatterpolar": [
           {
            "marker": {
             "colorbar": {
              "outlinewidth": 0,
              "ticks": ""
             }
            },
            "type": "scatterpolar"
           }
          ],
          "scatterpolargl": [
           {
            "marker": {
             "colorbar": {
              "outlinewidth": 0,
              "ticks": ""
             }
            },
            "type": "scatterpolargl"
           }
          ],
          "scatterternary": [
           {
            "marker": {
             "colorbar": {
              "outlinewidth": 0,
              "ticks": ""
             }
            },
            "type": "scatterternary"
           }
          ],
          "surface": [
           {
            "colorbar": {
             "outlinewidth": 0,
             "ticks": ""
            },
            "colorscale": [
             [
              0,
              "#0d0887"
             ],
             [
              0.1111111111111111,
              "#46039f"
             ],
             [
              0.2222222222222222,
              "#7201a8"
             ],
             [
              0.3333333333333333,
              "#9c179e"
             ],
             [
              0.4444444444444444,
              "#bd3786"
             ],
             [
              0.5555555555555556,
              "#d8576b"
             ],
             [
              0.6666666666666666,
              "#ed7953"
             ],
             [
              0.7777777777777778,
              "#fb9f3a"
             ],
             [
              0.8888888888888888,
              "#fdca26"
             ],
             [
              1,
              "#f0f921"
             ]
            ],
            "type": "surface"
           }
          ],
          "table": [
           {
            "cells": {
             "fill": {
              "color": "#EBF0F8"
             },
             "line": {
              "color": "white"
             }
            },
            "header": {
             "fill": {
              "color": "#C8D4E3"
             },
             "line": {
              "color": "white"
             }
            },
            "type": "table"
           }
          ]
         },
         "layout": {
          "annotationdefaults": {
           "arrowcolor": "#2a3f5f",
           "arrowhead": 0,
           "arrowwidth": 1
          },
          "autotypenumbers": "strict",
          "coloraxis": {
           "colorbar": {
            "outlinewidth": 0,
            "ticks": ""
           }
          },
          "colorscale": {
           "diverging": [
            [
             0,
             "#8e0152"
            ],
            [
             0.1,
             "#c51b7d"
            ],
            [
             0.2,
             "#de77ae"
            ],
            [
             0.3,
             "#f1b6da"
            ],
            [
             0.4,
             "#fde0ef"
            ],
            [
             0.5,
             "#f7f7f7"
            ],
            [
             0.6,
             "#e6f5d0"
            ],
            [
             0.7,
             "#b8e186"
            ],
            [
             0.8,
             "#7fbc41"
            ],
            [
             0.9,
             "#4d9221"
            ],
            [
             1,
             "#276419"
            ]
           ],
           "sequential": [
            [
             0,
             "#0d0887"
            ],
            [
             0.1111111111111111,
             "#46039f"
            ],
            [
             0.2222222222222222,
             "#7201a8"
            ],
            [
             0.3333333333333333,
             "#9c179e"
            ],
            [
             0.4444444444444444,
             "#bd3786"
            ],
            [
             0.5555555555555556,
             "#d8576b"
            ],
            [
             0.6666666666666666,
             "#ed7953"
            ],
            [
             0.7777777777777778,
             "#fb9f3a"
            ],
            [
             0.8888888888888888,
             "#fdca26"
            ],
            [
             1,
             "#f0f921"
            ]
           ],
           "sequentialminus": [
            [
             0,
             "#0d0887"
            ],
            [
             0.1111111111111111,
             "#46039f"
            ],
            [
             0.2222222222222222,
             "#7201a8"
            ],
            [
             0.3333333333333333,
             "#9c179e"
            ],
            [
             0.4444444444444444,
             "#bd3786"
            ],
            [
             0.5555555555555556,
             "#d8576b"
            ],
            [
             0.6666666666666666,
             "#ed7953"
            ],
            [
             0.7777777777777778,
             "#fb9f3a"
            ],
            [
             0.8888888888888888,
             "#fdca26"
            ],
            [
             1,
             "#f0f921"
            ]
           ]
          },
          "colorway": [
           "#636efa",
           "#EF553B",
           "#00cc96",
           "#ab63fa",
           "#FFA15A",
           "#19d3f3",
           "#FF6692",
           "#B6E880",
           "#FF97FF",
           "#FECB52"
          ],
          "font": {
           "color": "#2a3f5f"
          },
          "geo": {
           "bgcolor": "white",
           "lakecolor": "white",
           "landcolor": "#E5ECF6",
           "showlakes": true,
           "showland": true,
           "subunitcolor": "white"
          },
          "hoverlabel": {
           "align": "left"
          },
          "hovermode": "closest",
          "mapbox": {
           "style": "light"
          },
          "paper_bgcolor": "white",
          "plot_bgcolor": "#E5ECF6",
          "polar": {
           "angularaxis": {
            "gridcolor": "white",
            "linecolor": "white",
            "ticks": ""
           },
           "bgcolor": "#E5ECF6",
           "radialaxis": {
            "gridcolor": "white",
            "linecolor": "white",
            "ticks": ""
           }
          },
          "scene": {
           "xaxis": {
            "backgroundcolor": "#E5ECF6",
            "gridcolor": "white",
            "gridwidth": 2,
            "linecolor": "white",
            "showbackground": true,
            "ticks": "",
            "zerolinecolor": "white"
           },
           "yaxis": {
            "backgroundcolor": "#E5ECF6",
            "gridcolor": "white",
            "gridwidth": 2,
            "linecolor": "white",
            "showbackground": true,
            "ticks": "",
            "zerolinecolor": "white"
           },
           "zaxis": {
            "backgroundcolor": "#E5ECF6",
            "gridcolor": "white",
            "gridwidth": 2,
            "linecolor": "white",
            "showbackground": true,
            "ticks": "",
            "zerolinecolor": "white"
           }
          },
          "shapedefaults": {
           "line": {
            "color": "#2a3f5f"
           }
          },
          "ternary": {
           "aaxis": {
            "gridcolor": "white",
            "linecolor": "white",
            "ticks": ""
           },
           "baxis": {
            "gridcolor": "white",
            "linecolor": "white",
            "ticks": ""
           },
           "bgcolor": "#E5ECF6",
           "caxis": {
            "gridcolor": "white",
            "linecolor": "white",
            "ticks": ""
           }
          },
          "title": {
           "x": 0.05
          },
          "xaxis": {
           "automargin": true,
           "gridcolor": "white",
           "linecolor": "white",
           "ticks": "",
           "title": {
            "standoff": 15
           },
           "zerolinecolor": "white",
           "zerolinewidth": 2
          },
          "yaxis": {
           "automargin": true,
           "gridcolor": "white",
           "linecolor": "white",
           "ticks": "",
           "title": {
            "standoff": 15
           },
           "zerolinecolor": "white",
           "zerolinewidth": 2
          }
         }
        },
        "title": {
         "text": "How Covid-19 affect Estimated Unemployment Rate with year slider"
        },
        "updatemenus": [
         {
          "buttons": [
           {
            "args": [
             null,
             {
              "frame": {
               "duration": 500,
               "redraw": true
              },
              "fromcurrent": true,
              "mode": "immediate",
              "transition": {
               "duration": 500,
               "easing": "linear"
              }
             }
            ],
            "label": "&#9654;",
            "method": "animate"
           },
           {
            "args": [
             [
              null
             ],
             {
              "frame": {
               "duration": 0,
               "redraw": true
              },
              "fromcurrent": true,
              "mode": "immediate",
              "transition": {
               "duration": 0,
               "easing": "linear"
              }
             }
            ],
            "label": "&#9724;",
            "method": "animate"
           }
          ],
          "direction": "left",
          "pad": {
           "r": 10,
           "t": 70
          },
          "showactive": false,
          "type": "buttons",
          "x": 0.1,
          "xanchor": "right",
          "y": 0,
          "yanchor": "top"
         }
        ],
        "xaxis": {
         "anchor": "y",
         "categoryarray": [
          "Andhra Pradesh",
          "Assam",
          "Bihar",
          "Chandigarh",
          "Chhattisgarh",
          "Delhi",
          "Goa",
          "Gujarat",
          "Haryana",
          "Himachal Pradesh",
          "Jammu & Kashmir",
          "Jharkhand",
          "Karnataka",
          "Kerala",
          "Madhya Pradesh",
          "Maharashtra",
          "Meghalaya",
          "Odisha",
          "Puducherry",
          "Punjab",
          "Rajasthan",
          "Sikkim",
          "Tamil Nadu",
          "Telangana",
          "Tripura",
          "Uttar Pradesh",
          "Uttarakhand",
          "West Bengal"
         ],
         "categoryorder": "array",
         "domain": [
          0,
          1
         ],
         "title": {
          "text": "Region"
         }
        },
        "yaxis": {
         "anchor": "x",
         "domain": [
          0,
          1
         ],
         "title": {
          "text": "Estimated Unemployment Rate (%)"
         }
        }
       }
      },
      "text/html": [
       "<div>                            <div id=\"aab5546b-ac10-41ef-962b-9b1459df73e0\" class=\"plotly-graph-div\" style=\"height:525px; width:100%;\"></div>            <script type=\"text/javascript\">                require([\"plotly\"], function(Plotly) {                    window.PLOTLYENV=window.PLOTLYENV || {};                                    if (document.getElementById(\"aab5546b-ac10-41ef-962b-9b1459df73e0\")) {                    Plotly.newPlot(                        \"aab5546b-ac10-41ef-962b-9b1459df73e0\",                        [{\"alignmentgroup\":\"True\",\"hovertemplate\":\"Region=%{x}<br>Year=2019<br>Estimated Unemployment Rate (%)=%{y}<extra></extra>\",\"legendgroup\":\"Andhra Pradesh\",\"marker\":{\"color\":\"#636efa\",\"pattern\":{\"shape\":\"\"}},\"name\":\"Andhra Pradesh\",\"offsetgroup\":\"Andhra Pradesh\",\"orientation\":\"v\",\"showlegend\":true,\"textposition\":\"auto\",\"x\":[\"Andhra Pradesh\"],\"xaxis\":\"x\",\"y\":[4.826875],\"yaxis\":\"y\",\"type\":\"bar\"},{\"alignmentgroup\":\"True\",\"hovertemplate\":\"Region=%{x}<br>Year=2019<br>Estimated Unemployment Rate (%)=%{y}<extra></extra>\",\"legendgroup\":\"Assam\",\"marker\":{\"color\":\"#EF553B\",\"pattern\":{\"shape\":\"\"}},\"name\":\"Assam\",\"offsetgroup\":\"Assam\",\"orientation\":\"v\",\"showlegend\":true,\"textposition\":\"auto\",\"x\":[\"Assam\"],\"xaxis\":\"x\",\"y\":[6.4206666666666665],\"yaxis\":\"y\",\"type\":\"bar\"},{\"alignmentgroup\":\"True\",\"hovertemplate\":\"Region=%{x}<br>Year=2019<br>Estimated Unemployment Rate (%)=%{y}<extra></extra>\",\"legendgroup\":\"Bihar\",\"marker\":{\"color\":\"#00cc96\",\"pattern\":{\"shape\":\"\"}},\"name\":\"Bihar\",\"offsetgroup\":\"Bihar\",\"orientation\":\"v\",\"showlegend\":true,\"textposition\":\"auto\",\"x\":[\"Bihar\"],\"xaxis\":\"x\",\"y\":[13.8825],\"yaxis\":\"y\",\"type\":\"bar\"},{\"alignmentgroup\":\"True\",\"hovertemplate\":\"Region=%{x}<br>Year=2019<br>Estimated Unemployment Rate (%)=%{y}<extra></extra>\",\"legendgroup\":\"Chandigarh\",\"marker\":{\"color\":\"#ab63fa\",\"pattern\":{\"shape\":\"\"}},\"name\":\"Chandigarh\",\"offsetgroup\":\"Chandigarh\",\"orientation\":\"v\",\"showlegend\":true,\"textposition\":\"auto\",\"x\":[\"Chandigarh\"],\"xaxis\":\"x\",\"y\":[15.822500000000002],\"yaxis\":\"y\",\"type\":\"bar\"},{\"alignmentgroup\":\"True\",\"hovertemplate\":\"Region=%{x}<br>Year=2019<br>Estimated Unemployment Rate (%)=%{y}<extra></extra>\",\"legendgroup\":\"Chhattisgarh\",\"marker\":{\"color\":\"#FFA15A\",\"pattern\":{\"shape\":\"\"}},\"name\":\"Chhattisgarh\",\"offsetgroup\":\"Chhattisgarh\",\"orientation\":\"v\",\"showlegend\":true,\"textposition\":\"auto\",\"x\":[\"Chhattisgarh\"],\"xaxis\":\"x\",\"y\":[7.346875],\"yaxis\":\"y\",\"type\":\"bar\"},{\"alignmentgroup\":\"True\",\"hovertemplate\":\"Region=%{x}<br>Year=2019<br>Estimated Unemployment Rate (%)=%{y}<extra></extra>\",\"legendgroup\":\"Delhi\",\"marker\":{\"color\":\"#19d3f3\",\"pattern\":{\"shape\":\"\"}},\"name\":\"Delhi\",\"offsetgroup\":\"Delhi\",\"orientation\":\"v\",\"showlegend\":true,\"textposition\":\"auto\",\"x\":[\"Delhi\"],\"xaxis\":\"x\",\"y\":[13.750625],\"yaxis\":\"y\",\"type\":\"bar\"},{\"alignmentgroup\":\"True\",\"hovertemplate\":\"Region=%{x}<br>Year=2019<br>Estimated Unemployment Rate (%)=%{y}<extra></extra>\",\"legendgroup\":\"Goa\",\"marker\":{\"color\":\"#FF6692\",\"pattern\":{\"shape\":\"\"}},\"name\":\"Goa\",\"offsetgroup\":\"Goa\",\"orientation\":\"v\",\"showlegend\":true,\"textposition\":\"auto\",\"x\":[\"Goa\"],\"xaxis\":\"x\",\"y\":[9.34625],\"yaxis\":\"y\",\"type\":\"bar\"},{\"alignmentgroup\":\"True\",\"hovertemplate\":\"Region=%{x}<br>Year=2019<br>Estimated Unemployment Rate (%)=%{y}<extra></extra>\",\"legendgroup\":\"Gujarat\",\"marker\":{\"color\":\"#B6E880\",\"pattern\":{\"shape\":\"\"}},\"name\":\"Gujarat\",\"offsetgroup\":\"Gujarat\",\"orientation\":\"v\",\"showlegend\":true,\"textposition\":\"auto\",\"x\":[\"Gujarat\"],\"xaxis\":\"x\",\"y\":[4.979375],\"yaxis\":\"y\",\"type\":\"bar\"},{\"alignmentgroup\":\"True\",\"hovertemplate\":\"Region=%{x}<br>Year=2019<br>Estimated Unemployment Rate (%)=%{y}<extra></extra>\",\"legendgroup\":\"Haryana\",\"marker\":{\"color\":\"#FF97FF\",\"pattern\":{\"shape\":\"\"}},\"name\":\"Haryana\",\"offsetgroup\":\"Haryana\",\"orientation\":\"v\",\"showlegend\":true,\"textposition\":\"auto\",\"x\":[\"Haryana\"],\"xaxis\":\"x\",\"y\":[22.79875],\"yaxis\":\"y\",\"type\":\"bar\"},{\"alignmentgroup\":\"True\",\"hovertemplate\":\"Region=%{x}<br>Year=2019<br>Estimated Unemployment Rate (%)=%{y}<extra></extra>\",\"legendgroup\":\"Himachal Pradesh\",\"marker\":{\"color\":\"#FECB52\",\"pattern\":{\"shape\":\"\"}},\"name\":\"Himachal Pradesh\",\"offsetgroup\":\"Himachal Pradesh\",\"orientation\":\"v\",\"showlegend\":true,\"textposition\":\"auto\",\"x\":[\"Himachal Pradesh\"],\"xaxis\":\"x\",\"y\":[19.064375],\"yaxis\":\"y\",\"type\":\"bar\"},{\"alignmentgroup\":\"True\",\"hovertemplate\":\"Region=%{x}<br>Year=2019<br>Estimated Unemployment Rate (%)=%{y}<extra></extra>\",\"legendgroup\":\"Jammu & Kashmir\",\"marker\":{\"color\":\"#636efa\",\"pattern\":{\"shape\":\"\"}},\"name\":\"Jammu & Kashmir\",\"offsetgroup\":\"Jammu & Kashmir\",\"orientation\":\"v\",\"showlegend\":true,\"textposition\":\"auto\",\"x\":[\"Jammu & Kashmir\"],\"xaxis\":\"x\",\"y\":[16.141666666666666],\"yaxis\":\"y\",\"type\":\"bar\"},{\"alignmentgroup\":\"True\",\"hovertemplate\":\"Region=%{x}<br>Year=2019<br>Estimated Unemployment Rate (%)=%{y}<extra></extra>\",\"legendgroup\":\"Jharkhand\",\"marker\":{\"color\":\"#EF553B\",\"pattern\":{\"shape\":\"\"}},\"name\":\"Jharkhand\",\"offsetgroup\":\"Jharkhand\",\"orientation\":\"v\",\"showlegend\":true,\"textposition\":\"auto\",\"x\":[\"Jharkhand\"],\"xaxis\":\"x\",\"y\":[14.23375],\"yaxis\":\"y\",\"type\":\"bar\"},{\"alignmentgroup\":\"True\",\"hovertemplate\":\"Region=%{x}<br>Year=2019<br>Estimated Unemployment Rate (%)=%{y}<extra></extra>\",\"legendgroup\":\"Karnataka\",\"marker\":{\"color\":\"#00cc96\",\"pattern\":{\"shape\":\"\"}},\"name\":\"Karnataka\",\"offsetgroup\":\"Karnataka\",\"orientation\":\"v\",\"showlegend\":true,\"textposition\":\"auto\",\"x\":[\"Karnataka\"],\"xaxis\":\"x\",\"y\":[3.23875],\"yaxis\":\"y\",\"type\":\"bar\"},{\"alignmentgroup\":\"True\",\"hovertemplate\":\"Region=%{x}<br>Year=2019<br>Estimated Unemployment Rate (%)=%{y}<extra></extra>\",\"legendgroup\":\"Kerala\",\"marker\":{\"color\":\"#ab63fa\",\"pattern\":{\"shape\":\"\"}},\"name\":\"Kerala\",\"offsetgroup\":\"Kerala\",\"orientation\":\"v\",\"showlegend\":true,\"textposition\":\"auto\",\"x\":[\"Kerala\"],\"xaxis\":\"x\",\"y\":[7.13125],\"yaxis\":\"y\",\"type\":\"bar\"},{\"alignmentgroup\":\"True\",\"hovertemplate\":\"Region=%{x}<br>Year=2019<br>Estimated Unemployment Rate (%)=%{y}<extra></extra>\",\"legendgroup\":\"Madhya Pradesh\",\"marker\":{\"color\":\"#FFA15A\",\"pattern\":{\"shape\":\"\"}},\"name\":\"Madhya Pradesh\",\"offsetgroup\":\"Madhya Pradesh\",\"orientation\":\"v\",\"showlegend\":true,\"textposition\":\"auto\",\"x\":[\"Madhya Pradesh\"],\"xaxis\":\"x\",\"y\":[4.788125],\"yaxis\":\"y\",\"type\":\"bar\"},{\"alignmentgroup\":\"True\",\"hovertemplate\":\"Region=%{x}<br>Year=2019<br>Estimated Unemployment Rate (%)=%{y}<extra></extra>\",\"legendgroup\":\"Maharashtra\",\"marker\":{\"color\":\"#19d3f3\",\"pattern\":{\"shape\":\"\"}},\"name\":\"Maharashtra\",\"offsetgroup\":\"Maharashtra\",\"orientation\":\"v\",\"showlegend\":true,\"textposition\":\"auto\",\"x\":[\"Maharashtra\"],\"xaxis\":\"x\",\"y\":[5.459375],\"yaxis\":\"y\",\"type\":\"bar\"},{\"alignmentgroup\":\"True\",\"hovertemplate\":\"Region=%{x}<br>Year=2019<br>Estimated Unemployment Rate (%)=%{y}<extra></extra>\",\"legendgroup\":\"Meghalaya\",\"marker\":{\"color\":\"#FF6692\",\"pattern\":{\"shape\":\"\"}},\"name\":\"Meghalaya\",\"offsetgroup\":\"Meghalaya\",\"orientation\":\"v\",\"showlegend\":true,\"textposition\":\"auto\",\"x\":[\"Meghalaya\"],\"xaxis\":\"x\",\"y\":[4.0125],\"yaxis\":\"y\",\"type\":\"bar\"},{\"alignmentgroup\":\"True\",\"hovertemplate\":\"Region=%{x}<br>Year=2019<br>Estimated Unemployment Rate (%)=%{y}<extra></extra>\",\"legendgroup\":\"Odisha\",\"marker\":{\"color\":\"#B6E880\",\"pattern\":{\"shape\":\"\"}},\"name\":\"Odisha\",\"offsetgroup\":\"Odisha\",\"orientation\":\"v\",\"showlegend\":true,\"textposition\":\"auto\",\"x\":[\"Odisha\"],\"xaxis\":\"x\",\"y\":[3.66125],\"yaxis\":\"y\",\"type\":\"bar\"},{\"alignmentgroup\":\"True\",\"hovertemplate\":\"Region=%{x}<br>Year=2019<br>Estimated Unemployment Rate (%)=%{y}<extra></extra>\",\"legendgroup\":\"Puducherry\",\"marker\":{\"color\":\"#FF97FF\",\"pattern\":{\"shape\":\"\"}},\"name\":\"Puducherry\",\"offsetgroup\":\"Puducherry\",\"orientation\":\"v\",\"showlegend\":true,\"textposition\":\"auto\",\"x\":[\"Puducherry\"],\"xaxis\":\"x\",\"y\":[1.6993749999999999],\"yaxis\":\"y\",\"type\":\"bar\"},{\"alignmentgroup\":\"True\",\"hovertemplate\":\"Region=%{x}<br>Year=2019<br>Estimated Unemployment Rate (%)=%{y}<extra></extra>\",\"legendgroup\":\"Punjab\",\"marker\":{\"color\":\"#FECB52\",\"pattern\":{\"shape\":\"\"}},\"name\":\"Punjab\",\"offsetgroup\":\"Punjab\",\"orientation\":\"v\",\"showlegend\":true,\"textposition\":\"auto\",\"x\":[\"Punjab\"],\"xaxis\":\"x\",\"y\":[10.8825],\"yaxis\":\"y\",\"type\":\"bar\"},{\"alignmentgroup\":\"True\",\"hovertemplate\":\"Region=%{x}<br>Year=2019<br>Estimated Unemployment Rate (%)=%{y}<extra></extra>\",\"legendgroup\":\"Rajasthan\",\"marker\":{\"color\":\"#636efa\",\"pattern\":{\"shape\":\"\"}},\"name\":\"Rajasthan\",\"offsetgroup\":\"Rajasthan\",\"orientation\":\"v\",\"showlegend\":true,\"textposition\":\"auto\",\"x\":[\"Rajasthan\"],\"xaxis\":\"x\",\"y\":[12.30125],\"yaxis\":\"y\",\"type\":\"bar\"},{\"alignmentgroup\":\"True\",\"hovertemplate\":\"Region=%{x}<br>Year=2019<br>Estimated Unemployment Rate (%)=%{y}<extra></extra>\",\"legendgroup\":\"Sikkim\",\"marker\":{\"color\":\"#EF553B\",\"pattern\":{\"shape\":\"\"}},\"name\":\"Sikkim\",\"offsetgroup\":\"Sikkim\",\"orientation\":\"v\",\"showlegend\":true,\"textposition\":\"auto\",\"x\":[\"Sikkim\"],\"xaxis\":\"x\",\"y\":[6.257272727272727],\"yaxis\":\"y\",\"type\":\"bar\"},{\"alignmentgroup\":\"True\",\"hovertemplate\":\"Region=%{x}<br>Year=2019<br>Estimated Unemployment Rate (%)=%{y}<extra></extra>\",\"legendgroup\":\"Tamil Nadu\",\"marker\":{\"color\":\"#00cc96\",\"pattern\":{\"shape\":\"\"}},\"name\":\"Tamil Nadu\",\"offsetgroup\":\"Tamil Nadu\",\"orientation\":\"v\",\"showlegend\":true,\"textposition\":\"auto\",\"x\":[\"Tamil Nadu\"],\"xaxis\":\"x\",\"y\":[3.0637499999999998],\"yaxis\":\"y\",\"type\":\"bar\"},{\"alignmentgroup\":\"True\",\"hovertemplate\":\"Region=%{x}<br>Year=2019<br>Estimated Unemployment Rate (%)=%{y}<extra></extra>\",\"legendgroup\":\"Telangana\",\"marker\":{\"color\":\"#ab63fa\",\"pattern\":{\"shape\":\"\"}},\"name\":\"Telangana\",\"offsetgroup\":\"Telangana\",\"orientation\":\"v\",\"showlegend\":true,\"textposition\":\"auto\",\"x\":[\"Telangana\"],\"xaxis\":\"x\",\"y\":[4.115625],\"yaxis\":\"y\",\"type\":\"bar\"},{\"alignmentgroup\":\"True\",\"hovertemplate\":\"Region=%{x}<br>Year=2019<br>Estimated Unemployment Rate (%)=%{y}<extra></extra>\",\"legendgroup\":\"Tripura\",\"marker\":{\"color\":\"#FFA15A\",\"pattern\":{\"shape\":\"\"}},\"name\":\"Tripura\",\"offsetgroup\":\"Tripura\",\"orientation\":\"v\",\"showlegend\":true,\"textposition\":\"auto\",\"x\":[\"Tripura\"],\"xaxis\":\"x\",\"y\":[28.363125],\"yaxis\":\"y\",\"type\":\"bar\"},{\"alignmentgroup\":\"True\",\"hovertemplate\":\"Region=%{x}<br>Year=2019<br>Estimated Unemployment Rate (%)=%{y}<extra></extra>\",\"legendgroup\":\"Uttar Pradesh\",\"marker\":{\"color\":\"#19d3f3\",\"pattern\":{\"shape\":\"\"}},\"name\":\"Uttar Pradesh\",\"offsetgroup\":\"Uttar Pradesh\",\"orientation\":\"v\",\"showlegend\":true,\"textposition\":\"auto\",\"x\":[\"Uttar Pradesh\"],\"xaxis\":\"x\",\"y\":[10.888125],\"yaxis\":\"y\",\"type\":\"bar\"},{\"alignmentgroup\":\"True\",\"hovertemplate\":\"Region=%{x}<br>Year=2019<br>Estimated Unemployment Rate (%)=%{y}<extra></extra>\",\"legendgroup\":\"Uttarakhand\",\"marker\":{\"color\":\"#FF6692\",\"pattern\":{\"shape\":\"\"}},\"name\":\"Uttarakhand\",\"offsetgroup\":\"Uttarakhand\",\"orientation\":\"v\",\"showlegend\":true,\"textposition\":\"auto\",\"x\":[\"Uttarakhand\"],\"xaxis\":\"x\",\"y\":[5.800625],\"yaxis\":\"y\",\"type\":\"bar\"},{\"alignmentgroup\":\"True\",\"hovertemplate\":\"Region=%{x}<br>Year=2019<br>Estimated Unemployment Rate (%)=%{y}<extra></extra>\",\"legendgroup\":\"West Bengal\",\"marker\":{\"color\":\"#B6E880\",\"pattern\":{\"shape\":\"\"}},\"name\":\"West Bengal\",\"offsetgroup\":\"West Bengal\",\"orientation\":\"v\",\"showlegend\":true,\"textposition\":\"auto\",\"x\":[\"West Bengal\"],\"xaxis\":\"x\",\"y\":[6.625625],\"yaxis\":\"y\",\"type\":\"bar\"}],                        {\"template\":{\"data\":{\"histogram2dcontour\":[{\"type\":\"histogram2dcontour\",\"colorbar\":{\"outlinewidth\":0,\"ticks\":\"\"},\"colorscale\":[[0.0,\"#0d0887\"],[0.1111111111111111,\"#46039f\"],[0.2222222222222222,\"#7201a8\"],[0.3333333333333333,\"#9c179e\"],[0.4444444444444444,\"#bd3786\"],[0.5555555555555556,\"#d8576b\"],[0.6666666666666666,\"#ed7953\"],[0.7777777777777778,\"#fb9f3a\"],[0.8888888888888888,\"#fdca26\"],[1.0,\"#f0f921\"]]}],\"choropleth\":[{\"type\":\"choropleth\",\"colorbar\":{\"outlinewidth\":0,\"ticks\":\"\"}}],\"histogram2d\":[{\"type\":\"histogram2d\",\"colorbar\":{\"outlinewidth\":0,\"ticks\":\"\"},\"colorscale\":[[0.0,\"#0d0887\"],[0.1111111111111111,\"#46039f\"],[0.2222222222222222,\"#7201a8\"],[0.3333333333333333,\"#9c179e\"],[0.4444444444444444,\"#bd3786\"],[0.5555555555555556,\"#d8576b\"],[0.6666666666666666,\"#ed7953\"],[0.7777777777777778,\"#fb9f3a\"],[0.8888888888888888,\"#fdca26\"],[1.0,\"#f0f921\"]]}],\"heatmap\":[{\"type\":\"heatmap\",\"colorbar\":{\"outlinewidth\":0,\"ticks\":\"\"},\"colorscale\":[[0.0,\"#0d0887\"],[0.1111111111111111,\"#46039f\"],[0.2222222222222222,\"#7201a8\"],[0.3333333333333333,\"#9c179e\"],[0.4444444444444444,\"#bd3786\"],[0.5555555555555556,\"#d8576b\"],[0.6666666666666666,\"#ed7953\"],[0.7777777777777778,\"#fb9f3a\"],[0.8888888888888888,\"#fdca26\"],[1.0,\"#f0f921\"]]}],\"heatmapgl\":[{\"type\":\"heatmapgl\",\"colorbar\":{\"outlinewidth\":0,\"ticks\":\"\"},\"colorscale\":[[0.0,\"#0d0887\"],[0.1111111111111111,\"#46039f\"],[0.2222222222222222,\"#7201a8\"],[0.3333333333333333,\"#9c179e\"],[0.4444444444444444,\"#bd3786\"],[0.5555555555555556,\"#d8576b\"],[0.6666666666666666,\"#ed7953\"],[0.7777777777777778,\"#fb9f3a\"],[0.8888888888888888,\"#fdca26\"],[1.0,\"#f0f921\"]]}],\"contourcarpet\":[{\"type\":\"contourcarpet\",\"colorbar\":{\"outlinewidth\":0,\"ticks\":\"\"}}],\"contour\":[{\"type\":\"contour\",\"colorbar\":{\"outlinewidth\":0,\"ticks\":\"\"},\"colorscale\":[[0.0,\"#0d0887\"],[0.1111111111111111,\"#46039f\"],[0.2222222222222222,\"#7201a8\"],[0.3333333333333333,\"#9c179e\"],[0.4444444444444444,\"#bd3786\"],[0.5555555555555556,\"#d8576b\"],[0.6666666666666666,\"#ed7953\"],[0.7777777777777778,\"#fb9f3a\"],[0.8888888888888888,\"#fdca26\"],[1.0,\"#f0f921\"]]}],\"surface\":[{\"type\":\"surface\",\"colorbar\":{\"outlinewidth\":0,\"ticks\":\"\"},\"colorscale\":[[0.0,\"#0d0887\"],[0.1111111111111111,\"#46039f\"],[0.2222222222222222,\"#7201a8\"],[0.3333333333333333,\"#9c179e\"],[0.4444444444444444,\"#bd3786\"],[0.5555555555555556,\"#d8576b\"],[0.6666666666666666,\"#ed7953\"],[0.7777777777777778,\"#fb9f3a\"],[0.8888888888888888,\"#fdca26\"],[1.0,\"#f0f921\"]]}],\"mesh3d\":[{\"type\":\"mesh3d\",\"colorbar\":{\"outlinewidth\":0,\"ticks\":\"\"}}],\"scatter\":[{\"fillpattern\":{\"fillmode\":\"overlay\",\"size\":10,\"solidity\":0.2},\"type\":\"scatter\"}],\"parcoords\":[{\"type\":\"parcoords\",\"line\":{\"colorbar\":{\"outlinewidth\":0,\"ticks\":\"\"}}}],\"scatterpolargl\":[{\"type\":\"scatterpolargl\",\"marker\":{\"colorbar\":{\"outlinewidth\":0,\"ticks\":\"\"}}}],\"bar\":[{\"error_x\":{\"color\":\"#2a3f5f\"},\"error_y\":{\"color\":\"#2a3f5f\"},\"marker\":{\"line\":{\"color\":\"#E5ECF6\",\"width\":0.5},\"pattern\":{\"fillmode\":\"overlay\",\"size\":10,\"solidity\":0.2}},\"type\":\"bar\"}],\"scattergeo\":[{\"type\":\"scattergeo\",\"marker\":{\"colorbar\":{\"outlinewidth\":0,\"ticks\":\"\"}}}],\"scatterpolar\":[{\"type\":\"scatterpolar\",\"marker\":{\"colorbar\":{\"outlinewidth\":0,\"ticks\":\"\"}}}],\"histogram\":[{\"marker\":{\"pattern\":{\"fillmode\":\"overlay\",\"size\":10,\"solidity\":0.2}},\"type\":\"histogram\"}],\"scattergl\":[{\"type\":\"scattergl\",\"marker\":{\"colorbar\":{\"outlinewidth\":0,\"ticks\":\"\"}}}],\"scatter3d\":[{\"type\":\"scatter3d\",\"line\":{\"colorbar\":{\"outlinewidth\":0,\"ticks\":\"\"}},\"marker\":{\"colorbar\":{\"outlinewidth\":0,\"ticks\":\"\"}}}],\"scattermapbox\":[{\"type\":\"scattermapbox\",\"marker\":{\"colorbar\":{\"outlinewidth\":0,\"ticks\":\"\"}}}],\"scatterternary\":[{\"type\":\"scatterternary\",\"marker\":{\"colorbar\":{\"outlinewidth\":0,\"ticks\":\"\"}}}],\"scattercarpet\":[{\"type\":\"scattercarpet\",\"marker\":{\"colorbar\":{\"outlinewidth\":0,\"ticks\":\"\"}}}],\"carpet\":[{\"aaxis\":{\"endlinecolor\":\"#2a3f5f\",\"gridcolor\":\"white\",\"linecolor\":\"white\",\"minorgridcolor\":\"white\",\"startlinecolor\":\"#2a3f5f\"},\"baxis\":{\"endlinecolor\":\"#2a3f5f\",\"gridcolor\":\"white\",\"linecolor\":\"white\",\"minorgridcolor\":\"white\",\"startlinecolor\":\"#2a3f5f\"},\"type\":\"carpet\"}],\"table\":[{\"cells\":{\"fill\":{\"color\":\"#EBF0F8\"},\"line\":{\"color\":\"white\"}},\"header\":{\"fill\":{\"color\":\"#C8D4E3\"},\"line\":{\"color\":\"white\"}},\"type\":\"table\"}],\"barpolar\":[{\"marker\":{\"line\":{\"color\":\"#E5ECF6\",\"width\":0.5},\"pattern\":{\"fillmode\":\"overlay\",\"size\":10,\"solidity\":0.2}},\"type\":\"barpolar\"}],\"pie\":[{\"automargin\":true,\"type\":\"pie\"}]},\"layout\":{\"autotypenumbers\":\"strict\",\"colorway\":[\"#636efa\",\"#EF553B\",\"#00cc96\",\"#ab63fa\",\"#FFA15A\",\"#19d3f3\",\"#FF6692\",\"#B6E880\",\"#FF97FF\",\"#FECB52\"],\"font\":{\"color\":\"#2a3f5f\"},\"hovermode\":\"closest\",\"hoverlabel\":{\"align\":\"left\"},\"paper_bgcolor\":\"white\",\"plot_bgcolor\":\"#E5ECF6\",\"polar\":{\"bgcolor\":\"#E5ECF6\",\"angularaxis\":{\"gridcolor\":\"white\",\"linecolor\":\"white\",\"ticks\":\"\"},\"radialaxis\":{\"gridcolor\":\"white\",\"linecolor\":\"white\",\"ticks\":\"\"}},\"ternary\":{\"bgcolor\":\"#E5ECF6\",\"aaxis\":{\"gridcolor\":\"white\",\"linecolor\":\"white\",\"ticks\":\"\"},\"baxis\":{\"gridcolor\":\"white\",\"linecolor\":\"white\",\"ticks\":\"\"},\"caxis\":{\"gridcolor\":\"white\",\"linecolor\":\"white\",\"ticks\":\"\"}},\"coloraxis\":{\"colorbar\":{\"outlinewidth\":0,\"ticks\":\"\"}},\"colorscale\":{\"sequential\":[[0.0,\"#0d0887\"],[0.1111111111111111,\"#46039f\"],[0.2222222222222222,\"#7201a8\"],[0.3333333333333333,\"#9c179e\"],[0.4444444444444444,\"#bd3786\"],[0.5555555555555556,\"#d8576b\"],[0.6666666666666666,\"#ed7953\"],[0.7777777777777778,\"#fb9f3a\"],[0.8888888888888888,\"#fdca26\"],[1.0,\"#f0f921\"]],\"sequentialminus\":[[0.0,\"#0d0887\"],[0.1111111111111111,\"#46039f\"],[0.2222222222222222,\"#7201a8\"],[0.3333333333333333,\"#9c179e\"],[0.4444444444444444,\"#bd3786\"],[0.5555555555555556,\"#d8576b\"],[0.6666666666666666,\"#ed7953\"],[0.7777777777777778,\"#fb9f3a\"],[0.8888888888888888,\"#fdca26\"],[1.0,\"#f0f921\"]],\"diverging\":[[0,\"#8e0152\"],[0.1,\"#c51b7d\"],[0.2,\"#de77ae\"],[0.3,\"#f1b6da\"],[0.4,\"#fde0ef\"],[0.5,\"#f7f7f7\"],[0.6,\"#e6f5d0\"],[0.7,\"#b8e186\"],[0.8,\"#7fbc41\"],[0.9,\"#4d9221\"],[1,\"#276419\"]]},\"xaxis\":{\"gridcolor\":\"white\",\"linecolor\":\"white\",\"ticks\":\"\",\"title\":{\"standoff\":15},\"zerolinecolor\":\"white\",\"automargin\":true,\"zerolinewidth\":2},\"yaxis\":{\"gridcolor\":\"white\",\"linecolor\":\"white\",\"ticks\":\"\",\"title\":{\"standoff\":15},\"zerolinecolor\":\"white\",\"automargin\":true,\"zerolinewidth\":2},\"scene\":{\"xaxis\":{\"backgroundcolor\":\"#E5ECF6\",\"gridcolor\":\"white\",\"linecolor\":\"white\",\"showbackground\":true,\"ticks\":\"\",\"zerolinecolor\":\"white\",\"gridwidth\":2},\"yaxis\":{\"backgroundcolor\":\"#E5ECF6\",\"gridcolor\":\"white\",\"linecolor\":\"white\",\"showbackground\":true,\"ticks\":\"\",\"zerolinecolor\":\"white\",\"gridwidth\":2},\"zaxis\":{\"backgroundcolor\":\"#E5ECF6\",\"gridcolor\":\"white\",\"linecolor\":\"white\",\"showbackground\":true,\"ticks\":\"\",\"zerolinecolor\":\"white\",\"gridwidth\":2}},\"shapedefaults\":{\"line\":{\"color\":\"#2a3f5f\"}},\"annotationdefaults\":{\"arrowcolor\":\"#2a3f5f\",\"arrowhead\":0,\"arrowwidth\":1},\"geo\":{\"bgcolor\":\"white\",\"landcolor\":\"#E5ECF6\",\"subunitcolor\":\"white\",\"showland\":true,\"showlakes\":true,\"lakecolor\":\"white\"},\"title\":{\"x\":0.05},\"mapbox\":{\"style\":\"light\"}}},\"xaxis\":{\"anchor\":\"y\",\"domain\":[0.0,1.0],\"title\":{\"text\":\"Region\"},\"categoryorder\":\"array\",\"categoryarray\":[\"Andhra Pradesh\",\"Assam\",\"Bihar\",\"Chandigarh\",\"Chhattisgarh\",\"Delhi\",\"Goa\",\"Gujarat\",\"Haryana\",\"Himachal Pradesh\",\"Jammu & Kashmir\",\"Jharkhand\",\"Karnataka\",\"Kerala\",\"Madhya Pradesh\",\"Maharashtra\",\"Meghalaya\",\"Odisha\",\"Puducherry\",\"Punjab\",\"Rajasthan\",\"Sikkim\",\"Tamil Nadu\",\"Telangana\",\"Tripura\",\"Uttar Pradesh\",\"Uttarakhand\",\"West Bengal\"]},\"yaxis\":{\"anchor\":\"x\",\"domain\":[0.0,1.0],\"title\":{\"text\":\"Estimated Unemployment Rate (%)\"}},\"legend\":{\"title\":{\"text\":\"Region\"},\"tracegroupgap\":0},\"title\":{\"text\":\"How Covid-19 affect Estimated Unemployment Rate with year slider\"},\"barmode\":\"relative\",\"updatemenus\":[{\"buttons\":[{\"args\":[null,{\"frame\":{\"duration\":500,\"redraw\":true},\"mode\":\"immediate\",\"fromcurrent\":true,\"transition\":{\"duration\":500,\"easing\":\"linear\"}}],\"label\":\"&#9654;\",\"method\":\"animate\"},{\"args\":[[null],{\"frame\":{\"duration\":0,\"redraw\":true},\"mode\":\"immediate\",\"fromcurrent\":true,\"transition\":{\"duration\":0,\"easing\":\"linear\"}}],\"label\":\"&#9724;\",\"method\":\"animate\"}],\"direction\":\"left\",\"pad\":{\"r\":10,\"t\":70},\"showactive\":false,\"type\":\"buttons\",\"x\":0.1,\"xanchor\":\"right\",\"y\":0,\"yanchor\":\"top\"}],\"sliders\":[{\"active\":0,\"currentvalue\":{\"prefix\":\"Year=\"},\"len\":0.9,\"pad\":{\"b\":10,\"t\":60},\"steps\":[{\"args\":[[\"2019\"],{\"frame\":{\"duration\":0,\"redraw\":true},\"mode\":\"immediate\",\"fromcurrent\":true,\"transition\":{\"duration\":0,\"easing\":\"linear\"}}],\"label\":\"2019\",\"method\":\"animate\"},{\"args\":[[\"2020\"],{\"frame\":{\"duration\":0,\"redraw\":true},\"mode\":\"immediate\",\"fromcurrent\":true,\"transition\":{\"duration\":0,\"easing\":\"linear\"}}],\"label\":\"2020\",\"method\":\"animate\"}],\"x\":0.1,\"xanchor\":\"left\",\"y\":0,\"yanchor\":\"top\"}]},                        {\"responsive\": true}                    ).then(function(){\n",
       "                            Plotly.addFrames('aab5546b-ac10-41ef-962b-9b1459df73e0', [{\"data\":[{\"alignmentgroup\":\"True\",\"hovertemplate\":\"Region=%{x}<br>Year=2019<br>Estimated Unemployment Rate (%)=%{y}<extra></extra>\",\"legendgroup\":\"Andhra Pradesh\",\"marker\":{\"color\":\"#636efa\",\"pattern\":{\"shape\":\"\"}},\"name\":\"Andhra Pradesh\",\"offsetgroup\":\"Andhra Pradesh\",\"orientation\":\"v\",\"showlegend\":true,\"textposition\":\"auto\",\"x\":[\"Andhra Pradesh\"],\"xaxis\":\"x\",\"y\":[4.826875],\"yaxis\":\"y\",\"type\":\"bar\"},{\"alignmentgroup\":\"True\",\"hovertemplate\":\"Region=%{x}<br>Year=2019<br>Estimated Unemployment Rate (%)=%{y}<extra></extra>\",\"legendgroup\":\"Assam\",\"marker\":{\"color\":\"#EF553B\",\"pattern\":{\"shape\":\"\"}},\"name\":\"Assam\",\"offsetgroup\":\"Assam\",\"orientation\":\"v\",\"showlegend\":true,\"textposition\":\"auto\",\"x\":[\"Assam\"],\"xaxis\":\"x\",\"y\":[6.4206666666666665],\"yaxis\":\"y\",\"type\":\"bar\"},{\"alignmentgroup\":\"True\",\"hovertemplate\":\"Region=%{x}<br>Year=2019<br>Estimated Unemployment Rate (%)=%{y}<extra></extra>\",\"legendgroup\":\"Bihar\",\"marker\":{\"color\":\"#00cc96\",\"pattern\":{\"shape\":\"\"}},\"name\":\"Bihar\",\"offsetgroup\":\"Bihar\",\"orientation\":\"v\",\"showlegend\":true,\"textposition\":\"auto\",\"x\":[\"Bihar\"],\"xaxis\":\"x\",\"y\":[13.8825],\"yaxis\":\"y\",\"type\":\"bar\"},{\"alignmentgroup\":\"True\",\"hovertemplate\":\"Region=%{x}<br>Year=2019<br>Estimated Unemployment Rate (%)=%{y}<extra></extra>\",\"legendgroup\":\"Chandigarh\",\"marker\":{\"color\":\"#ab63fa\",\"pattern\":{\"shape\":\"\"}},\"name\":\"Chandigarh\",\"offsetgroup\":\"Chandigarh\",\"orientation\":\"v\",\"showlegend\":true,\"textposition\":\"auto\",\"x\":[\"Chandigarh\"],\"xaxis\":\"x\",\"y\":[15.822500000000002],\"yaxis\":\"y\",\"type\":\"bar\"},{\"alignmentgroup\":\"True\",\"hovertemplate\":\"Region=%{x}<br>Year=2019<br>Estimated Unemployment Rate (%)=%{y}<extra></extra>\",\"legendgroup\":\"Chhattisgarh\",\"marker\":{\"color\":\"#FFA15A\",\"pattern\":{\"shape\":\"\"}},\"name\":\"Chhattisgarh\",\"offsetgroup\":\"Chhattisgarh\",\"orientation\":\"v\",\"showlegend\":true,\"textposition\":\"auto\",\"x\":[\"Chhattisgarh\"],\"xaxis\":\"x\",\"y\":[7.346875],\"yaxis\":\"y\",\"type\":\"bar\"},{\"alignmentgroup\":\"True\",\"hovertemplate\":\"Region=%{x}<br>Year=2019<br>Estimated Unemployment Rate (%)=%{y}<extra></extra>\",\"legendgroup\":\"Delhi\",\"marker\":{\"color\":\"#19d3f3\",\"pattern\":{\"shape\":\"\"}},\"name\":\"Delhi\",\"offsetgroup\":\"Delhi\",\"orientation\":\"v\",\"showlegend\":true,\"textposition\":\"auto\",\"x\":[\"Delhi\"],\"xaxis\":\"x\",\"y\":[13.750625],\"yaxis\":\"y\",\"type\":\"bar\"},{\"alignmentgroup\":\"True\",\"hovertemplate\":\"Region=%{x}<br>Year=2019<br>Estimated Unemployment Rate (%)=%{y}<extra></extra>\",\"legendgroup\":\"Goa\",\"marker\":{\"color\":\"#FF6692\",\"pattern\":{\"shape\":\"\"}},\"name\":\"Goa\",\"offsetgroup\":\"Goa\",\"orientation\":\"v\",\"showlegend\":true,\"textposition\":\"auto\",\"x\":[\"Goa\"],\"xaxis\":\"x\",\"y\":[9.34625],\"yaxis\":\"y\",\"type\":\"bar\"},{\"alignmentgroup\":\"True\",\"hovertemplate\":\"Region=%{x}<br>Year=2019<br>Estimated Unemployment Rate (%)=%{y}<extra></extra>\",\"legendgroup\":\"Gujarat\",\"marker\":{\"color\":\"#B6E880\",\"pattern\":{\"shape\":\"\"}},\"name\":\"Gujarat\",\"offsetgroup\":\"Gujarat\",\"orientation\":\"v\",\"showlegend\":true,\"textposition\":\"auto\",\"x\":[\"Gujarat\"],\"xaxis\":\"x\",\"y\":[4.979375],\"yaxis\":\"y\",\"type\":\"bar\"},{\"alignmentgroup\":\"True\",\"hovertemplate\":\"Region=%{x}<br>Year=2019<br>Estimated Unemployment Rate (%)=%{y}<extra></extra>\",\"legendgroup\":\"Haryana\",\"marker\":{\"color\":\"#FF97FF\",\"pattern\":{\"shape\":\"\"}},\"name\":\"Haryana\",\"offsetgroup\":\"Haryana\",\"orientation\":\"v\",\"showlegend\":true,\"textposition\":\"auto\",\"x\":[\"Haryana\"],\"xaxis\":\"x\",\"y\":[22.79875],\"yaxis\":\"y\",\"type\":\"bar\"},{\"alignmentgroup\":\"True\",\"hovertemplate\":\"Region=%{x}<br>Year=2019<br>Estimated Unemployment Rate (%)=%{y}<extra></extra>\",\"legendgroup\":\"Himachal Pradesh\",\"marker\":{\"color\":\"#FECB52\",\"pattern\":{\"shape\":\"\"}},\"name\":\"Himachal Pradesh\",\"offsetgroup\":\"Himachal Pradesh\",\"orientation\":\"v\",\"showlegend\":true,\"textposition\":\"auto\",\"x\":[\"Himachal Pradesh\"],\"xaxis\":\"x\",\"y\":[19.064375],\"yaxis\":\"y\",\"type\":\"bar\"},{\"alignmentgroup\":\"True\",\"hovertemplate\":\"Region=%{x}<br>Year=2019<br>Estimated Unemployment Rate (%)=%{y}<extra></extra>\",\"legendgroup\":\"Jammu & Kashmir\",\"marker\":{\"color\":\"#636efa\",\"pattern\":{\"shape\":\"\"}},\"name\":\"Jammu & Kashmir\",\"offsetgroup\":\"Jammu & Kashmir\",\"orientation\":\"v\",\"showlegend\":true,\"textposition\":\"auto\",\"x\":[\"Jammu & Kashmir\"],\"xaxis\":\"x\",\"y\":[16.141666666666666],\"yaxis\":\"y\",\"type\":\"bar\"},{\"alignmentgroup\":\"True\",\"hovertemplate\":\"Region=%{x}<br>Year=2019<br>Estimated Unemployment Rate (%)=%{y}<extra></extra>\",\"legendgroup\":\"Jharkhand\",\"marker\":{\"color\":\"#EF553B\",\"pattern\":{\"shape\":\"\"}},\"name\":\"Jharkhand\",\"offsetgroup\":\"Jharkhand\",\"orientation\":\"v\",\"showlegend\":true,\"textposition\":\"auto\",\"x\":[\"Jharkhand\"],\"xaxis\":\"x\",\"y\":[14.23375],\"yaxis\":\"y\",\"type\":\"bar\"},{\"alignmentgroup\":\"True\",\"hovertemplate\":\"Region=%{x}<br>Year=2019<br>Estimated Unemployment Rate (%)=%{y}<extra></extra>\",\"legendgroup\":\"Karnataka\",\"marker\":{\"color\":\"#00cc96\",\"pattern\":{\"shape\":\"\"}},\"name\":\"Karnataka\",\"offsetgroup\":\"Karnataka\",\"orientation\":\"v\",\"showlegend\":true,\"textposition\":\"auto\",\"x\":[\"Karnataka\"],\"xaxis\":\"x\",\"y\":[3.23875],\"yaxis\":\"y\",\"type\":\"bar\"},{\"alignmentgroup\":\"True\",\"hovertemplate\":\"Region=%{x}<br>Year=2019<br>Estimated Unemployment Rate (%)=%{y}<extra></extra>\",\"legendgroup\":\"Kerala\",\"marker\":{\"color\":\"#ab63fa\",\"pattern\":{\"shape\":\"\"}},\"name\":\"Kerala\",\"offsetgroup\":\"Kerala\",\"orientation\":\"v\",\"showlegend\":true,\"textposition\":\"auto\",\"x\":[\"Kerala\"],\"xaxis\":\"x\",\"y\":[7.13125],\"yaxis\":\"y\",\"type\":\"bar\"},{\"alignmentgroup\":\"True\",\"hovertemplate\":\"Region=%{x}<br>Year=2019<br>Estimated Unemployment Rate (%)=%{y}<extra></extra>\",\"legendgroup\":\"Madhya Pradesh\",\"marker\":{\"color\":\"#FFA15A\",\"pattern\":{\"shape\":\"\"}},\"name\":\"Madhya Pradesh\",\"offsetgroup\":\"Madhya Pradesh\",\"orientation\":\"v\",\"showlegend\":true,\"textposition\":\"auto\",\"x\":[\"Madhya Pradesh\"],\"xaxis\":\"x\",\"y\":[4.788125],\"yaxis\":\"y\",\"type\":\"bar\"},{\"alignmentgroup\":\"True\",\"hovertemplate\":\"Region=%{x}<br>Year=2019<br>Estimated Unemployment Rate (%)=%{y}<extra></extra>\",\"legendgroup\":\"Maharashtra\",\"marker\":{\"color\":\"#19d3f3\",\"pattern\":{\"shape\":\"\"}},\"name\":\"Maharashtra\",\"offsetgroup\":\"Maharashtra\",\"orientation\":\"v\",\"showlegend\":true,\"textposition\":\"auto\",\"x\":[\"Maharashtra\"],\"xaxis\":\"x\",\"y\":[5.459375],\"yaxis\":\"y\",\"type\":\"bar\"},{\"alignmentgroup\":\"True\",\"hovertemplate\":\"Region=%{x}<br>Year=2019<br>Estimated Unemployment Rate (%)=%{y}<extra></extra>\",\"legendgroup\":\"Meghalaya\",\"marker\":{\"color\":\"#FF6692\",\"pattern\":{\"shape\":\"\"}},\"name\":\"Meghalaya\",\"offsetgroup\":\"Meghalaya\",\"orientation\":\"v\",\"showlegend\":true,\"textposition\":\"auto\",\"x\":[\"Meghalaya\"],\"xaxis\":\"x\",\"y\":[4.0125],\"yaxis\":\"y\",\"type\":\"bar\"},{\"alignmentgroup\":\"True\",\"hovertemplate\":\"Region=%{x}<br>Year=2019<br>Estimated Unemployment Rate (%)=%{y}<extra></extra>\",\"legendgroup\":\"Odisha\",\"marker\":{\"color\":\"#B6E880\",\"pattern\":{\"shape\":\"\"}},\"name\":\"Odisha\",\"offsetgroup\":\"Odisha\",\"orientation\":\"v\",\"showlegend\":true,\"textposition\":\"auto\",\"x\":[\"Odisha\"],\"xaxis\":\"x\",\"y\":[3.66125],\"yaxis\":\"y\",\"type\":\"bar\"},{\"alignmentgroup\":\"True\",\"hovertemplate\":\"Region=%{x}<br>Year=2019<br>Estimated Unemployment Rate (%)=%{y}<extra></extra>\",\"legendgroup\":\"Puducherry\",\"marker\":{\"color\":\"#FF97FF\",\"pattern\":{\"shape\":\"\"}},\"name\":\"Puducherry\",\"offsetgroup\":\"Puducherry\",\"orientation\":\"v\",\"showlegend\":true,\"textposition\":\"auto\",\"x\":[\"Puducherry\"],\"xaxis\":\"x\",\"y\":[1.6993749999999999],\"yaxis\":\"y\",\"type\":\"bar\"},{\"alignmentgroup\":\"True\",\"hovertemplate\":\"Region=%{x}<br>Year=2019<br>Estimated Unemployment Rate (%)=%{y}<extra></extra>\",\"legendgroup\":\"Punjab\",\"marker\":{\"color\":\"#FECB52\",\"pattern\":{\"shape\":\"\"}},\"name\":\"Punjab\",\"offsetgroup\":\"Punjab\",\"orientation\":\"v\",\"showlegend\":true,\"textposition\":\"auto\",\"x\":[\"Punjab\"],\"xaxis\":\"x\",\"y\":[10.8825],\"yaxis\":\"y\",\"type\":\"bar\"},{\"alignmentgroup\":\"True\",\"hovertemplate\":\"Region=%{x}<br>Year=2019<br>Estimated Unemployment Rate (%)=%{y}<extra></extra>\",\"legendgroup\":\"Rajasthan\",\"marker\":{\"color\":\"#636efa\",\"pattern\":{\"shape\":\"\"}},\"name\":\"Rajasthan\",\"offsetgroup\":\"Rajasthan\",\"orientation\":\"v\",\"showlegend\":true,\"textposition\":\"auto\",\"x\":[\"Rajasthan\"],\"xaxis\":\"x\",\"y\":[12.30125],\"yaxis\":\"y\",\"type\":\"bar\"},{\"alignmentgroup\":\"True\",\"hovertemplate\":\"Region=%{x}<br>Year=2019<br>Estimated Unemployment Rate (%)=%{y}<extra></extra>\",\"legendgroup\":\"Sikkim\",\"marker\":{\"color\":\"#EF553B\",\"pattern\":{\"shape\":\"\"}},\"name\":\"Sikkim\",\"offsetgroup\":\"Sikkim\",\"orientation\":\"v\",\"showlegend\":true,\"textposition\":\"auto\",\"x\":[\"Sikkim\"],\"xaxis\":\"x\",\"y\":[6.257272727272727],\"yaxis\":\"y\",\"type\":\"bar\"},{\"alignmentgroup\":\"True\",\"hovertemplate\":\"Region=%{x}<br>Year=2019<br>Estimated Unemployment Rate (%)=%{y}<extra></extra>\",\"legendgroup\":\"Tamil Nadu\",\"marker\":{\"color\":\"#00cc96\",\"pattern\":{\"shape\":\"\"}},\"name\":\"Tamil Nadu\",\"offsetgroup\":\"Tamil Nadu\",\"orientation\":\"v\",\"showlegend\":true,\"textposition\":\"auto\",\"x\":[\"Tamil Nadu\"],\"xaxis\":\"x\",\"y\":[3.0637499999999998],\"yaxis\":\"y\",\"type\":\"bar\"},{\"alignmentgroup\":\"True\",\"hovertemplate\":\"Region=%{x}<br>Year=2019<br>Estimated Unemployment Rate (%)=%{y}<extra></extra>\",\"legendgroup\":\"Telangana\",\"marker\":{\"color\":\"#ab63fa\",\"pattern\":{\"shape\":\"\"}},\"name\":\"Telangana\",\"offsetgroup\":\"Telangana\",\"orientation\":\"v\",\"showlegend\":true,\"textposition\":\"auto\",\"x\":[\"Telangana\"],\"xaxis\":\"x\",\"y\":[4.115625],\"yaxis\":\"y\",\"type\":\"bar\"},{\"alignmentgroup\":\"True\",\"hovertemplate\":\"Region=%{x}<br>Year=2019<br>Estimated Unemployment Rate (%)=%{y}<extra></extra>\",\"legendgroup\":\"Tripura\",\"marker\":{\"color\":\"#FFA15A\",\"pattern\":{\"shape\":\"\"}},\"name\":\"Tripura\",\"offsetgroup\":\"Tripura\",\"orientation\":\"v\",\"showlegend\":true,\"textposition\":\"auto\",\"x\":[\"Tripura\"],\"xaxis\":\"x\",\"y\":[28.363125],\"yaxis\":\"y\",\"type\":\"bar\"},{\"alignmentgroup\":\"True\",\"hovertemplate\":\"Region=%{x}<br>Year=2019<br>Estimated Unemployment Rate (%)=%{y}<extra></extra>\",\"legendgroup\":\"Uttar Pradesh\",\"marker\":{\"color\":\"#19d3f3\",\"pattern\":{\"shape\":\"\"}},\"name\":\"Uttar Pradesh\",\"offsetgroup\":\"Uttar Pradesh\",\"orientation\":\"v\",\"showlegend\":true,\"textposition\":\"auto\",\"x\":[\"Uttar Pradesh\"],\"xaxis\":\"x\",\"y\":[10.888125],\"yaxis\":\"y\",\"type\":\"bar\"},{\"alignmentgroup\":\"True\",\"hovertemplate\":\"Region=%{x}<br>Year=2019<br>Estimated Unemployment Rate (%)=%{y}<extra></extra>\",\"legendgroup\":\"Uttarakhand\",\"marker\":{\"color\":\"#FF6692\",\"pattern\":{\"shape\":\"\"}},\"name\":\"Uttarakhand\",\"offsetgroup\":\"Uttarakhand\",\"orientation\":\"v\",\"showlegend\":true,\"textposition\":\"auto\",\"x\":[\"Uttarakhand\"],\"xaxis\":\"x\",\"y\":[5.800625],\"yaxis\":\"y\",\"type\":\"bar\"},{\"alignmentgroup\":\"True\",\"hovertemplate\":\"Region=%{x}<br>Year=2019<br>Estimated Unemployment Rate (%)=%{y}<extra></extra>\",\"legendgroup\":\"West Bengal\",\"marker\":{\"color\":\"#B6E880\",\"pattern\":{\"shape\":\"\"}},\"name\":\"West Bengal\",\"offsetgroup\":\"West Bengal\",\"orientation\":\"v\",\"showlegend\":true,\"textposition\":\"auto\",\"x\":[\"West Bengal\"],\"xaxis\":\"x\",\"y\":[6.625625],\"yaxis\":\"y\",\"type\":\"bar\"}],\"name\":\"2019\"},{\"data\":[{\"alignmentgroup\":\"True\",\"hovertemplate\":\"Region=%{x}<br>Year=2020<br>Estimated Unemployment Rate (%)=%{y}<extra></extra>\",\"legendgroup\":\"Andhra Pradesh\",\"marker\":{\"color\":\"#636efa\",\"pattern\":{\"shape\":\"\"}},\"name\":\"Andhra Pradesh\",\"offsetgroup\":\"Andhra Pradesh\",\"orientation\":\"v\",\"showlegend\":true,\"textposition\":\"auto\",\"x\":[\"Andhra Pradesh\"],\"xaxis\":\"x\",\"y\":[11.010833333333332],\"yaxis\":\"y\",\"type\":\"bar\"},{\"alignmentgroup\":\"True\",\"hovertemplate\":\"Region=%{x}<br>Year=2020<br>Estimated Unemployment Rate (%)=%{y}<extra></extra>\",\"legendgroup\":\"Assam\",\"marker\":{\"color\":\"#EF553B\",\"pattern\":{\"shape\":\"\"}},\"name\":\"Assam\",\"offsetgroup\":\"Assam\",\"orientation\":\"v\",\"showlegend\":true,\"textposition\":\"auto\",\"x\":[\"Assam\"],\"xaxis\":\"x\",\"y\":[6.438181818181818],\"yaxis\":\"y\",\"type\":\"bar\"},{\"alignmentgroup\":\"True\",\"hovertemplate\":\"Region=%{x}<br>Year=2020<br>Estimated Unemployment Rate (%)=%{y}<extra></extra>\",\"legendgroup\":\"Bihar\",\"marker\":{\"color\":\"#00cc96\",\"pattern\":{\"shape\":\"\"}},\"name\":\"Bihar\",\"offsetgroup\":\"Bihar\",\"orientation\":\"v\",\"showlegend\":true,\"textposition\":\"auto\",\"x\":[\"Bihar\"],\"xaxis\":\"x\",\"y\":[25.632500000000004],\"yaxis\":\"y\",\"type\":\"bar\"},{\"alignmentgroup\":\"True\",\"hovertemplate\":\"Region=%{x}<br>Year=2020<br>Estimated Unemployment Rate (%)=%{y}<extra></extra>\",\"legendgroup\":\"Chandigarh\",\"marker\":{\"color\":\"#ab63fa\",\"pattern\":{\"shape\":\"\"}},\"name\":\"Chandigarh\",\"offsetgroup\":\"Chandigarh\",\"orientation\":\"v\",\"showlegend\":true,\"textposition\":\"auto\",\"x\":[\"Chandigarh\"],\"xaxis\":\"x\",\"y\":[16.330000000000002],\"yaxis\":\"y\",\"type\":\"bar\"},{\"alignmentgroup\":\"True\",\"hovertemplate\":\"Region=%{x}<br>Year=2020<br>Estimated Unemployment Rate (%)=%{y}<extra></extra>\",\"legendgroup\":\"Chhattisgarh\",\"marker\":{\"color\":\"#FFA15A\",\"pattern\":{\"shape\":\"\"}},\"name\":\"Chhattisgarh\",\"offsetgroup\":\"Chhattisgarh\",\"orientation\":\"v\",\"showlegend\":true,\"textposition\":\"auto\",\"x\":[\"Chhattisgarh\"],\"xaxis\":\"x\",\"y\":[11.765],\"yaxis\":\"y\",\"type\":\"bar\"},{\"alignmentgroup\":\"True\",\"hovertemplate\":\"Region=%{x}<br>Year=2020<br>Estimated Unemployment Rate (%)=%{y}<extra></extra>\",\"legendgroup\":\"Delhi\",\"marker\":{\"color\":\"#19d3f3\",\"pattern\":{\"shape\":\"\"}},\"name\":\"Delhi\",\"offsetgroup\":\"Delhi\",\"orientation\":\"v\",\"showlegend\":true,\"textposition\":\"auto\",\"x\":[\"Delhi\"],\"xaxis\":\"x\",\"y\":[20.155],\"yaxis\":\"y\",\"type\":\"bar\"},{\"alignmentgroup\":\"True\",\"hovertemplate\":\"Region=%{x}<br>Year=2020<br>Estimated Unemployment Rate (%)=%{y}<extra></extra>\",\"legendgroup\":\"Goa\",\"marker\":{\"color\":\"#FF6692\",\"pattern\":{\"shape\":\"\"}},\"name\":\"Goa\",\"offsetgroup\":\"Goa\",\"orientation\":\"v\",\"showlegend\":true,\"textposition\":\"auto\",\"x\":[\"Goa\"],\"xaxis\":\"x\",\"y\":[9.129999999999999],\"yaxis\":\"y\",\"type\":\"bar\"},{\"alignmentgroup\":\"True\",\"hovertemplate\":\"Region=%{x}<br>Year=2020<br>Estimated Unemployment Rate (%)=%{y}<extra></extra>\",\"legendgroup\":\"Gujarat\",\"marker\":{\"color\":\"#B6E880\",\"pattern\":{\"shape\":\"\"}},\"name\":\"Gujarat\",\"offsetgroup\":\"Gujarat\",\"orientation\":\"v\",\"showlegend\":true,\"textposition\":\"auto\",\"x\":[\"Gujarat\"],\"xaxis\":\"x\",\"y\":[8.91],\"yaxis\":\"y\",\"type\":\"bar\"},{\"alignmentgroup\":\"True\",\"hovertemplate\":\"Region=%{x}<br>Year=2020<br>Estimated Unemployment Rate (%)=%{y}<extra></extra>\",\"legendgroup\":\"Haryana\",\"marker\":{\"color\":\"#FF97FF\",\"pattern\":{\"shape\":\"\"}},\"name\":\"Haryana\",\"offsetgroup\":\"Haryana\",\"orientation\":\"v\",\"showlegend\":true,\"textposition\":\"auto\",\"x\":[\"Haryana\"],\"xaxis\":\"x\",\"y\":[30.929166666666664],\"yaxis\":\"y\",\"type\":\"bar\"},{\"alignmentgroup\":\"True\",\"hovertemplate\":\"Region=%{x}<br>Year=2020<br>Estimated Unemployment Rate (%)=%{y}<extra></extra>\",\"legendgroup\":\"Himachal Pradesh\",\"marker\":{\"color\":\"#FECB52\",\"pattern\":{\"shape\":\"\"}},\"name\":\"Himachal Pradesh\",\"offsetgroup\":\"Himachal Pradesh\",\"orientation\":\"v\",\"showlegend\":true,\"textposition\":\"auto\",\"x\":[\"Himachal Pradesh\"],\"xaxis\":\"x\",\"y\":[17.841666666666665],\"yaxis\":\"y\",\"type\":\"bar\"},{\"alignmentgroup\":\"True\",\"hovertemplate\":\"Region=%{x}<br>Year=2020<br>Estimated Unemployment Rate (%)=%{y}<extra></extra>\",\"legendgroup\":\"Jammu & Kashmir\",\"marker\":{\"color\":\"#636efa\",\"pattern\":{\"shape\":\"\"}},\"name\":\"Jammu & Kashmir\",\"offsetgroup\":\"Jammu & Kashmir\",\"orientation\":\"v\",\"showlegend\":true,\"textposition\":\"auto\",\"x\":[\"Jammu & Kashmir\"],\"xaxis\":\"x\",\"y\":[16.25111111111111],\"yaxis\":\"y\",\"type\":\"bar\"},{\"alignmentgroup\":\"True\",\"hovertemplate\":\"Region=%{x}<br>Year=2020<br>Estimated Unemployment Rate (%)=%{y}<extra></extra>\",\"legendgroup\":\"Jharkhand\",\"marker\":{\"color\":\"#EF553B\",\"pattern\":{\"shape\":\"\"}},\"name\":\"Jharkhand\",\"offsetgroup\":\"Jharkhand\",\"orientation\":\"v\",\"showlegend\":true,\"textposition\":\"auto\",\"x\":[\"Jharkhand\"],\"xaxis\":\"x\",\"y\":[29.05333333333333],\"yaxis\":\"y\",\"type\":\"bar\"},{\"alignmentgroup\":\"True\",\"hovertemplate\":\"Region=%{x}<br>Year=2020<br>Estimated Unemployment Rate (%)=%{y}<extra></extra>\",\"legendgroup\":\"Karnataka\",\"marker\":{\"color\":\"#00cc96\",\"pattern\":{\"shape\":\"\"}},\"name\":\"Karnataka\",\"offsetgroup\":\"Karnataka\",\"orientation\":\"v\",\"showlegend\":true,\"textposition\":\"auto\",\"x\":[\"Karnataka\"],\"xaxis\":\"x\",\"y\":[11.259166666666667],\"yaxis\":\"y\",\"type\":\"bar\"},{\"alignmentgroup\":\"True\",\"hovertemplate\":\"Region=%{x}<br>Year=2020<br>Estimated Unemployment Rate (%)=%{y}<extra></extra>\",\"legendgroup\":\"Kerala\",\"marker\":{\"color\":\"#ab63fa\",\"pattern\":{\"shape\":\"\"}},\"name\":\"Kerala\",\"offsetgroup\":\"Kerala\",\"orientation\":\"v\",\"showlegend\":true,\"textposition\":\"auto\",\"x\":[\"Kerala\"],\"xaxis\":\"x\",\"y\":[14.114166666666668],\"yaxis\":\"y\",\"type\":\"bar\"},{\"alignmentgroup\":\"True\",\"hovertemplate\":\"Region=%{x}<br>Year=2020<br>Estimated Unemployment Rate (%)=%{y}<extra></extra>\",\"legendgroup\":\"Madhya Pradesh\",\"marker\":{\"color\":\"#FFA15A\",\"pattern\":{\"shape\":\"\"}},\"name\":\"Madhya Pradesh\",\"offsetgroup\":\"Madhya Pradesh\",\"orientation\":\"v\",\"showlegend\":true,\"textposition\":\"auto\",\"x\":[\"Madhya Pradesh\"],\"xaxis\":\"x\",\"y\":[10.8975],\"yaxis\":\"y\",\"type\":\"bar\"},{\"alignmentgroup\":\"True\",\"hovertemplate\":\"Region=%{x}<br>Year=2020<br>Estimated Unemployment Rate (%)=%{y}<extra></extra>\",\"legendgroup\":\"Maharashtra\",\"marker\":{\"color\":\"#19d3f3\",\"pattern\":{\"shape\":\"\"}},\"name\":\"Maharashtra\",\"offsetgroup\":\"Maharashtra\",\"orientation\":\"v\",\"showlegend\":true,\"textposition\":\"auto\",\"x\":[\"Maharashtra\"],\"xaxis\":\"x\",\"y\":[10.355],\"yaxis\":\"y\",\"type\":\"bar\"},{\"alignmentgroup\":\"True\",\"hovertemplate\":\"Region=%{x}<br>Year=2020<br>Estimated Unemployment Rate (%)=%{y}<extra></extra>\",\"legendgroup\":\"Meghalaya\",\"marker\":{\"color\":\"#FF6692\",\"pattern\":{\"shape\":\"\"}},\"name\":\"Meghalaya\",\"offsetgroup\":\"Meghalaya\",\"orientation\":\"v\",\"showlegend\":true,\"textposition\":\"auto\",\"x\":[\"Meghalaya\"],\"xaxis\":\"x\",\"y\":[5.942727272727273],\"yaxis\":\"y\",\"type\":\"bar\"},{\"alignmentgroup\":\"True\",\"hovertemplate\":\"Region=%{x}<br>Year=2020<br>Estimated Unemployment Rate (%)=%{y}<extra></extra>\",\"legendgroup\":\"Odisha\",\"marker\":{\"color\":\"#B6E880\",\"pattern\":{\"shape\":\"\"}},\"name\":\"Odisha\",\"offsetgroup\":\"Odisha\",\"orientation\":\"v\",\"showlegend\":true,\"textposition\":\"auto\",\"x\":[\"Odisha\"],\"xaxis\":\"x\",\"y\":[8.32],\"yaxis\":\"y\",\"type\":\"bar\"},{\"alignmentgroup\":\"True\",\"hovertemplate\":\"Region=%{x}<br>Year=2020<br>Estimated Unemployment Rate (%)=%{y}<extra></extra>\",\"legendgroup\":\"Puducherry\",\"marker\":{\"color\":\"#FF97FF\",\"pattern\":{\"shape\":\"\"}},\"name\":\"Puducherry\",\"offsetgroup\":\"Puducherry\",\"orientation\":\"v\",\"showlegend\":true,\"textposition\":\"auto\",\"x\":[\"Puducherry\"],\"xaxis\":\"x\",\"y\":[23.84],\"yaxis\":\"y\",\"type\":\"bar\"},{\"alignmentgroup\":\"True\",\"hovertemplate\":\"Region=%{x}<br>Year=2020<br>Estimated Unemployment Rate (%)=%{y}<extra></extra>\",\"legendgroup\":\"Punjab\",\"marker\":{\"color\":\"#FECB52\",\"pattern\":{\"shape\":\"\"}},\"name\":\"Punjab\",\"offsetgroup\":\"Punjab\",\"orientation\":\"v\",\"showlegend\":true,\"textposition\":\"auto\",\"x\":[\"Punjab\"],\"xaxis\":\"x\",\"y\":[13.5625],\"yaxis\":\"y\",\"type\":\"bar\"},{\"alignmentgroup\":\"True\",\"hovertemplate\":\"Region=%{x}<br>Year=2020<br>Estimated Unemployment Rate (%)=%{y}<extra></extra>\",\"legendgroup\":\"Rajasthan\",\"marker\":{\"color\":\"#636efa\",\"pattern\":{\"shape\":\"\"}},\"name\":\"Rajasthan\",\"offsetgroup\":\"Rajasthan\",\"orientation\":\"v\",\"showlegend\":true,\"textposition\":\"auto\",\"x\":[\"Rajasthan\"],\"xaxis\":\"x\",\"y\":[16.400833333333335],\"yaxis\":\"y\",\"type\":\"bar\"},{\"alignmentgroup\":\"True\",\"hovertemplate\":\"Region=%{x}<br>Year=2020<br>Estimated Unemployment Rate (%)=%{y}<extra></extra>\",\"legendgroup\":\"Sikkim\",\"marker\":{\"color\":\"#EF553B\",\"pattern\":{\"shape\":\"\"}},\"name\":\"Sikkim\",\"offsetgroup\":\"Sikkim\",\"orientation\":\"v\",\"showlegend\":true,\"textposition\":\"auto\",\"x\":[\"Sikkim\"],\"xaxis\":\"x\",\"y\":[9.068333333333333],\"yaxis\":\"y\",\"type\":\"bar\"},{\"alignmentgroup\":\"True\",\"hovertemplate\":\"Region=%{x}<br>Year=2020<br>Estimated Unemployment Rate (%)=%{y}<extra></extra>\",\"legendgroup\":\"Tamil Nadu\",\"marker\":{\"color\":\"#00cc96\",\"pattern\":{\"shape\":\"\"}},\"name\":\"Tamil Nadu\",\"offsetgroup\":\"Tamil Nadu\",\"orientation\":\"v\",\"showlegend\":true,\"textposition\":\"auto\",\"x\":[\"Tamil Nadu\"],\"xaxis\":\"x\",\"y\":[17.578333333333333],\"yaxis\":\"y\",\"type\":\"bar\"},{\"alignmentgroup\":\"True\",\"hovertemplate\":\"Region=%{x}<br>Year=2020<br>Estimated Unemployment Rate (%)=%{y}<extra></extra>\",\"legendgroup\":\"Telangana\",\"marker\":{\"color\":\"#ab63fa\",\"pattern\":{\"shape\":\"\"}},\"name\":\"Telangana\",\"offsetgroup\":\"Telangana\",\"orientation\":\"v\",\"showlegend\":true,\"textposition\":\"auto\",\"x\":[\"Telangana\"],\"xaxis\":\"x\",\"y\":[12.5675],\"yaxis\":\"y\",\"type\":\"bar\"},{\"alignmentgroup\":\"True\",\"hovertemplate\":\"Region=%{x}<br>Year=2020<br>Estimated Unemployment Rate (%)=%{y}<extra></extra>\",\"legendgroup\":\"Tripura\",\"marker\":{\"color\":\"#FFA15A\",\"pattern\":{\"shape\":\"\"}},\"name\":\"Tripura\",\"offsetgroup\":\"Tripura\",\"orientation\":\"v\",\"showlegend\":true,\"textposition\":\"auto\",\"x\":[\"Tripura\"],\"xaxis\":\"x\",\"y\":[28.333333333333332],\"yaxis\":\"y\",\"type\":\"bar\"},{\"alignmentgroup\":\"True\",\"hovertemplate\":\"Region=%{x}<br>Year=2020<br>Estimated Unemployment Rate (%)=%{y}<extra></extra>\",\"legendgroup\":\"Uttar Pradesh\",\"marker\":{\"color\":\"#19d3f3\",\"pattern\":{\"shape\":\"\"}},\"name\":\"Uttar Pradesh\",\"offsetgroup\":\"Uttar Pradesh\",\"orientation\":\"v\",\"showlegend\":true,\"textposition\":\"auto\",\"x\":[\"Uttar Pradesh\"],\"xaxis\":\"x\",\"y\":[14.769166666666669],\"yaxis\":\"y\",\"type\":\"bar\"},{\"alignmentgroup\":\"True\",\"hovertemplate\":\"Region=%{x}<br>Year=2020<br>Estimated Unemployment Rate (%)=%{y}<extra></extra>\",\"legendgroup\":\"Uttarakhand\",\"marker\":{\"color\":\"#FF6692\",\"pattern\":{\"shape\":\"\"}},\"name\":\"Uttarakhand\",\"offsetgroup\":\"Uttarakhand\",\"orientation\":\"v\",\"showlegend\":true,\"textposition\":\"auto\",\"x\":[\"Uttarakhand\"],\"xaxis\":\"x\",\"y\":[7.720909090909092],\"yaxis\":\"y\",\"type\":\"bar\"},{\"alignmentgroup\":\"True\",\"hovertemplate\":\"Region=%{x}<br>Year=2020<br>Estimated Unemployment Rate (%)=%{y}<extra></extra>\",\"legendgroup\":\"West Bengal\",\"marker\":{\"color\":\"#B6E880\",\"pattern\":{\"shape\":\"\"}},\"name\":\"West Bengal\",\"offsetgroup\":\"West Bengal\",\"orientation\":\"v\",\"showlegend\":true,\"textposition\":\"auto\",\"x\":[\"West Bengal\"],\"xaxis\":\"x\",\"y\":[10.123333333333333],\"yaxis\":\"y\",\"type\":\"bar\"}],\"name\":\"2020\"}]);\n",
       "                        }).then(function(){\n",
       "                            \n",
       "var gd = document.getElementById('aab5546b-ac10-41ef-962b-9b1459df73e0');\n",
       "var x = new MutationObserver(function (mutations, observer) {{\n",
       "        var display = window.getComputedStyle(gd).display;\n",
       "        if (!display || display === 'none') {{\n",
       "            console.log([gd, 'removed!']);\n",
       "            Plotly.purge(gd);\n",
       "            observer.disconnect();\n",
       "        }}\n",
       "}});\n",
       "\n",
       "// Listen for the removal of the full notebook cells\n",
       "var notebookContainer = gd.closest('#notebook-container');\n",
       "if (notebookContainer) {{\n",
       "    x.observe(notebookContainer, {childList: true});\n",
       "}}\n",
       "\n",
       "// Listen for the clearing of the current output cell\n",
       "var outputEl = gd.closest('.output');\n",
       "if (outputEl) {{\n",
       "    x.observe(outputEl, {childList: true});\n",
       "}}\n",
       "\n",
       "                        })                };                });            </script>        </div>"
      ]
     },
     "metadata": {},
     "output_type": "display_data"
    }
   ],
   "source": [
    "fig=px.bar(state,x='Region',y='Estimated Unemployment Rate (%)',color='Region',animation_frame=str('Year'),template='plotly',title=\"How Covid-19 affect Estimated Unemployment Rate with year slider\")\n",
    "fig.show()"
   ]
  },
  {
   "cell_type": "code",
   "execution_count": 43,
   "id": "bafcfae0",
   "metadata": {},
   "outputs": [
    {
     "data": {
      "application/vnd.plotly.v1+json": {
       "config": {
        "plotlyServerURL": "https://plot.ly"
       },
       "data": [
        {
         "alignmentgroup": "True",
         "hovertemplate": "Region=Andhra Pradesh<br>Date=%{x}<br>Estimated Unemployment Rate (%)=%{y}<extra></extra>",
         "legendgroup": "",
         "marker": {
          "color": "#636efa",
          "pattern": {
           "shape": ""
          }
         },
         "name": "",
         "offsetgroup": "",
         "orientation": "v",
         "showlegend": false,
         "textposition": "auto",
         "type": "bar",
         "x": [
          "2019-05-31T00:00:00",
          "2019-06-30T00:00:00",
          "2019-07-31T00:00:00",
          "2019-08-31T00:00:00",
          "2019-09-30T00:00:00",
          "2019-10-31T00:00:00",
          "2019-11-30T00:00:00",
          "2019-12-31T00:00:00",
          "2020-01-31T00:00:00",
          "2020-02-29T00:00:00",
          "2020-03-31T00:00:00",
          "2020-04-30T00:00:00",
          "2020-05-31T00:00:00",
          "2020-06-30T00:00:00",
          "2019-05-31T00:00:00",
          "2019-06-30T00:00:00",
          "2019-07-31T00:00:00",
          "2019-08-31T00:00:00",
          "2019-09-30T00:00:00",
          "2019-10-31T00:00:00",
          "2019-11-30T00:00:00",
          "2019-12-31T00:00:00",
          "2020-01-31T00:00:00",
          "2020-02-29T00:00:00",
          "2020-03-31T00:00:00",
          "2020-04-30T00:00:00",
          "2020-05-31T00:00:00",
          "2020-06-30T00:00:00"
         ],
         "xaxis": "x",
         "y": [
          3.65,
          3.05,
          3.75,
          3.32,
          5.17,
          3.52,
          4.12,
          4.38,
          4.84,
          5.91,
          4.06,
          16.29,
          14.46,
          0.85,
          6.09,
          3.8,
          5.64,
          4.61,
          6.01,
          4.7,
          7.54,
          7.88,
          7.11,
          5.66,
          9.88,
          32.3,
          24.91,
          5.86
         ],
         "yaxis": "y"
        }
       ],
       "frames": [
        {
         "data": [
          {
           "alignmentgroup": "True",
           "hovertemplate": "Region=Andhra Pradesh<br>Date=%{x}<br>Estimated Unemployment Rate (%)=%{y}<extra></extra>",
           "legendgroup": "",
           "marker": {
            "color": "#636efa",
            "pattern": {
             "shape": ""
            }
           },
           "name": "",
           "offsetgroup": "",
           "orientation": "v",
           "showlegend": false,
           "textposition": "auto",
           "type": "bar",
           "x": [
            "2019-05-31T00:00:00",
            "2019-06-30T00:00:00",
            "2019-07-31T00:00:00",
            "2019-08-31T00:00:00",
            "2019-09-30T00:00:00",
            "2019-10-31T00:00:00",
            "2019-11-30T00:00:00",
            "2019-12-31T00:00:00",
            "2020-01-31T00:00:00",
            "2020-02-29T00:00:00",
            "2020-03-31T00:00:00",
            "2020-04-30T00:00:00",
            "2020-05-31T00:00:00",
            "2020-06-30T00:00:00",
            "2019-05-31T00:00:00",
            "2019-06-30T00:00:00",
            "2019-07-31T00:00:00",
            "2019-08-31T00:00:00",
            "2019-09-30T00:00:00",
            "2019-10-31T00:00:00",
            "2019-11-30T00:00:00",
            "2019-12-31T00:00:00",
            "2020-01-31T00:00:00",
            "2020-02-29T00:00:00",
            "2020-03-31T00:00:00",
            "2020-04-30T00:00:00",
            "2020-05-31T00:00:00",
            "2020-06-30T00:00:00"
           ],
           "xaxis": "x",
           "y": [
            3.65,
            3.05,
            3.75,
            3.32,
            5.17,
            3.52,
            4.12,
            4.38,
            4.84,
            5.91,
            4.06,
            16.29,
            14.46,
            0.85,
            6.09,
            3.8,
            5.64,
            4.61,
            6.01,
            4.7,
            7.54,
            7.88,
            7.11,
            5.66,
            9.88,
            32.3,
            24.91,
            5.86
           ],
           "yaxis": "y"
          }
         ],
         "name": "Andhra Pradesh"
        },
        {
         "data": [
          {
           "alignmentgroup": "True",
           "hovertemplate": "Region=Assam<br>Date=%{x}<br>Estimated Unemployment Rate (%)=%{y}<extra></extra>",
           "legendgroup": "",
           "marker": {
            "color": "#636efa",
            "pattern": {
             "shape": ""
            }
           },
           "name": "",
           "offsetgroup": "",
           "orientation": "v",
           "showlegend": false,
           "textposition": "auto",
           "type": "bar",
           "x": [
            "2019-05-31T00:00:00",
            "2019-06-30T00:00:00",
            "2019-07-31T00:00:00",
            "2019-08-31T00:00:00",
            "2019-09-30T00:00:00",
            "2019-10-31T00:00:00",
            "2019-11-30T00:00:00",
            "2020-01-31T00:00:00",
            "2020-02-29T00:00:00",
            "2020-03-31T00:00:00",
            "2020-05-31T00:00:00",
            "2020-06-30T00:00:00",
            "2019-05-31T00:00:00",
            "2019-06-30T00:00:00",
            "2019-07-31T00:00:00",
            "2019-08-31T00:00:00",
            "2019-09-30T00:00:00",
            "2019-10-31T00:00:00",
            "2019-11-30T00:00:00",
            "2019-12-31T00:00:00",
            "2020-01-31T00:00:00",
            "2020-02-29T00:00:00",
            "2020-03-31T00:00:00",
            "2020-04-30T00:00:00",
            "2020-05-31T00:00:00",
            "2020-06-30T00:00:00"
           ],
           "xaxis": "x",
           "y": [
            4.29,
            5.08,
            4.26,
            5.79,
            4.46,
            4.65,
            4.66,
            4.29,
            3.26,
            3.77,
            9.38,
            0,
            7.87,
            9.89,
            3.21,
            10.39,
            9.26,
            11.17,
            6.31,
            5.02,
            7.24,
            9.98,
            10.34,
            8.37,
            10.77,
            3.42
           ],
           "yaxis": "y"
          }
         ],
         "name": "Assam"
        },
        {
         "data": [
          {
           "alignmentgroup": "True",
           "hovertemplate": "Region=Bihar<br>Date=%{x}<br>Estimated Unemployment Rate (%)=%{y}<extra></extra>",
           "legendgroup": "",
           "marker": {
            "color": "#636efa",
            "pattern": {
             "shape": ""
            }
           },
           "name": "",
           "offsetgroup": "",
           "orientation": "v",
           "showlegend": false,
           "textposition": "auto",
           "type": "bar",
           "x": [
            "2019-05-31T00:00:00",
            "2019-06-30T00:00:00",
            "2019-07-31T00:00:00",
            "2019-08-31T00:00:00",
            "2019-09-30T00:00:00",
            "2019-10-31T00:00:00",
            "2019-11-30T00:00:00",
            "2019-12-31T00:00:00",
            "2020-01-31T00:00:00",
            "2020-02-29T00:00:00",
            "2020-03-31T00:00:00",
            "2020-04-30T00:00:00",
            "2020-05-31T00:00:00",
            "2020-06-30T00:00:00",
            "2019-05-31T00:00:00",
            "2019-06-30T00:00:00",
            "2019-07-31T00:00:00",
            "2019-08-31T00:00:00",
            "2019-09-30T00:00:00",
            "2019-10-31T00:00:00",
            "2019-11-30T00:00:00",
            "2019-12-31T00:00:00",
            "2020-01-31T00:00:00",
            "2020-02-29T00:00:00",
            "2020-03-31T00:00:00",
            "2020-04-30T00:00:00",
            "2020-05-31T00:00:00",
            "2020-06-30T00:00:00"
           ],
           "xaxis": "x",
           "y": [
            9.27,
            10.2,
            13.44,
            11,
            8.87,
            12.47,
            12.4,
            10.16,
            9.13,
            9.61,
            15.39,
            45.09,
            47.26,
            20.49,
            19.9,
            13.29,
            16.41,
            17.66,
            20.46,
            14.06,
            17.62,
            14.91,
            20.69,
            15.11,
            15.73,
            58.77,
            37.87,
            12.45
           ],
           "yaxis": "y"
          }
         ],
         "name": "Bihar"
        },
        {
         "data": [
          {
           "alignmentgroup": "True",
           "hovertemplate": "Region=Chhattisgarh<br>Date=%{x}<br>Estimated Unemployment Rate (%)=%{y}<extra></extra>",
           "legendgroup": "",
           "marker": {
            "color": "#636efa",
            "pattern": {
             "shape": ""
            }
           },
           "name": "",
           "offsetgroup": "",
           "orientation": "v",
           "showlegend": false,
           "textposition": "auto",
           "type": "bar",
           "x": [
            "2019-05-31T00:00:00",
            "2019-06-30T00:00:00",
            "2019-07-31T00:00:00",
            "2019-08-31T00:00:00",
            "2019-09-30T00:00:00",
            "2019-10-31T00:00:00",
            "2019-11-30T00:00:00",
            "2019-12-31T00:00:00",
            "2020-01-31T00:00:00",
            "2020-02-29T00:00:00",
            "2020-03-31T00:00:00",
            "2020-04-30T00:00:00",
            "2020-05-31T00:00:00",
            "2020-06-30T00:00:00",
            "2019-05-31T00:00:00",
            "2019-06-30T00:00:00",
            "2019-07-31T00:00:00",
            "2019-08-31T00:00:00",
            "2019-09-30T00:00:00",
            "2019-10-31T00:00:00",
            "2019-11-30T00:00:00",
            "2019-12-31T00:00:00",
            "2020-01-31T00:00:00",
            "2020-02-29T00:00:00",
            "2020-03-31T00:00:00",
            "2020-04-30T00:00:00",
            "2020-05-31T00:00:00",
            "2020-06-30T00:00:00"
           ],
           "xaxis": "x",
           "y": [
            9.82,
            6.76,
            4.54,
            4.64,
            8.33,
            6.96,
            2.77,
            6.11,
            9.89,
            7.89,
            7.31,
            0,
            7.64,
            10.14,
            9.77,
            11.77,
            8.17,
            6.29,
            9.46,
            10.27,
            8.32,
            3.57,
            9.01,
            9.79,
            8.21,
            20.13,
            24.1,
            27.07
           ],
           "yaxis": "y"
          }
         ],
         "name": "Chhattisgarh"
        },
        {
         "data": [
          {
           "alignmentgroup": "True",
           "hovertemplate": "Region=Delhi<br>Date=%{x}<br>Estimated Unemployment Rate (%)=%{y}<extra></extra>",
           "legendgroup": "",
           "marker": {
            "color": "#636efa",
            "pattern": {
             "shape": ""
            }
           },
           "name": "",
           "offsetgroup": "",
           "orientation": "v",
           "showlegend": false,
           "textposition": "auto",
           "type": "bar",
           "x": [
            "2019-05-31T00:00:00",
            "2019-06-30T00:00:00",
            "2019-07-31T00:00:00",
            "2019-08-31T00:00:00",
            "2019-09-30T00:00:00",
            "2019-10-31T00:00:00",
            "2019-11-30T00:00:00",
            "2019-12-31T00:00:00",
            "2020-01-31T00:00:00",
            "2020-02-29T00:00:00",
            "2020-03-31T00:00:00",
            "2020-04-30T00:00:00",
            "2020-05-31T00:00:00",
            "2020-06-30T00:00:00",
            "2019-05-31T00:00:00",
            "2019-06-30T00:00:00",
            "2019-07-31T00:00:00",
            "2019-08-31T00:00:00",
            "2019-09-30T00:00:00",
            "2019-10-31T00:00:00",
            "2019-11-30T00:00:00",
            "2019-12-31T00:00:00",
            "2020-01-31T00:00:00",
            "2020-02-29T00:00:00",
            "2020-03-31T00:00:00",
            "2020-04-30T00:00:00",
            "2020-05-31T00:00:00",
            "2020-06-30T00:00:00"
           ],
           "xaxis": "x",
           "y": [
            12.56,
            9.33,
            11.07,
            17.18,
            12.5,
            15.84,
            11.11,
            16.97,
            13.48,
            13.81,
            15.18,
            20.69,
            22.76,
            21.14,
            12.31,
            12.76,
            14.68,
            13.52,
            20.59,
            12.41,
            16.11,
            11.07,
            22.45,
            14.86,
            17.09,
            16.51,
            45.78,
            18.11
           ],
           "yaxis": "y"
          }
         ],
         "name": "Delhi"
        },
        {
         "data": [
          {
           "alignmentgroup": "True",
           "hovertemplate": "Region=Goa<br>Date=%{x}<br>Estimated Unemployment Rate (%)=%{y}<extra></extra>",
           "legendgroup": "",
           "marker": {
            "color": "#636efa",
            "pattern": {
             "shape": ""
            }
           },
           "name": "",
           "offsetgroup": "",
           "orientation": "v",
           "showlegend": false,
           "textposition": "auto",
           "type": "bar",
           "x": [
            "2019-05-31T00:00:00",
            "2019-06-30T00:00:00",
            "2019-07-31T00:00:00",
            "2019-08-31T00:00:00",
            "2019-09-30T00:00:00",
            "2019-10-31T00:00:00",
            "2019-11-30T00:00:00",
            "2019-12-31T00:00:00",
            "2020-01-31T00:00:00",
            "2020-02-29T00:00:00",
            "2020-04-30T00:00:00",
            "2020-05-31T00:00:00",
            "2019-05-31T00:00:00",
            "2019-06-30T00:00:00",
            "2019-07-31T00:00:00",
            "2019-08-31T00:00:00",
            "2019-09-30T00:00:00",
            "2019-10-31T00:00:00",
            "2019-11-30T00:00:00",
            "2019-12-31T00:00:00",
            "2020-01-31T00:00:00",
            "2020-02-29T00:00:00",
            "2020-03-31T00:00:00",
            "2020-04-30T00:00:00"
           ],
           "xaxis": "x",
           "y": [
            2.91,
            5.45,
            10.98,
            1.98,
            3.61,
            7.21,
            23.71,
            3.54,
            5.38,
            0,
            15.91,
            20,
            2.75,
            13.33,
            12.28,
            4.9,
            3.16,
            12.31,
            25.2,
            16.22,
            10.92,
            4.31,
            4.76,
            11.76
           ],
           "yaxis": "y"
          }
         ],
         "name": "Goa"
        },
        {
         "data": [
          {
           "alignmentgroup": "True",
           "hovertemplate": "Region=Gujarat<br>Date=%{x}<br>Estimated Unemployment Rate (%)=%{y}<extra></extra>",
           "legendgroup": "",
           "marker": {
            "color": "#636efa",
            "pattern": {
             "shape": ""
            }
           },
           "name": "",
           "offsetgroup": "",
           "orientation": "v",
           "showlegend": false,
           "textposition": "auto",
           "type": "bar",
           "x": [
            "2019-05-31T00:00:00",
            "2019-06-30T00:00:00",
            "2019-07-31T00:00:00",
            "2019-08-31T00:00:00",
            "2019-09-30T00:00:00",
            "2019-10-31T00:00:00",
            "2019-11-30T00:00:00",
            "2019-12-31T00:00:00",
            "2020-01-31T00:00:00",
            "2020-02-29T00:00:00",
            "2020-03-31T00:00:00",
            "2020-04-30T00:00:00",
            "2020-05-31T00:00:00",
            "2020-06-30T00:00:00",
            "2019-05-31T00:00:00",
            "2019-06-30T00:00:00",
            "2019-07-31T00:00:00",
            "2019-08-31T00:00:00",
            "2019-09-30T00:00:00",
            "2019-10-31T00:00:00",
            "2019-11-30T00:00:00",
            "2019-12-31T00:00:00",
            "2020-01-31T00:00:00",
            "2020-02-29T00:00:00",
            "2020-03-31T00:00:00",
            "2020-04-30T00:00:00",
            "2020-05-31T00:00:00",
            "2020-06-30T00:00:00"
           ],
           "xaxis": "x",
           "y": [
            2.88,
            4.77,
            4.58,
            3.7,
            6.29,
            4.91,
            4.68,
            3.46,
            5.35,
            6.64,
            7.59,
            12,
            14.58,
            1.41,
            4.09,
            6.31,
            5.15,
            4.2,
            5.96,
            5.45,
            7.53,
            5.71,
            5.82,
            6.04,
            5.39,
            25.94,
            11.62,
            4.54
           ],
           "yaxis": "y"
          }
         ],
         "name": "Gujarat"
        },
        {
         "data": [
          {
           "alignmentgroup": "True",
           "hovertemplate": "Region=Haryana<br>Date=%{x}<br>Estimated Unemployment Rate (%)=%{y}<extra></extra>",
           "legendgroup": "",
           "marker": {
            "color": "#636efa",
            "pattern": {
             "shape": ""
            }
           },
           "name": "",
           "offsetgroup": "",
           "orientation": "v",
           "showlegend": false,
           "textposition": "auto",
           "type": "bar",
           "x": [
            "2019-05-31T00:00:00",
            "2019-06-30T00:00:00",
            "2019-07-31T00:00:00",
            "2019-08-31T00:00:00",
            "2019-09-30T00:00:00",
            "2019-10-31T00:00:00",
            "2019-11-30T00:00:00",
            "2019-12-31T00:00:00",
            "2020-01-31T00:00:00",
            "2020-02-29T00:00:00",
            "2020-03-31T00:00:00",
            "2020-04-30T00:00:00",
            "2020-05-31T00:00:00",
            "2020-06-30T00:00:00",
            "2019-05-31T00:00:00",
            "2019-06-30T00:00:00",
            "2019-07-31T00:00:00",
            "2019-08-31T00:00:00",
            "2019-09-30T00:00:00",
            "2019-10-31T00:00:00",
            "2019-11-30T00:00:00",
            "2019-12-31T00:00:00",
            "2020-01-31T00:00:00",
            "2020-02-29T00:00:00",
            "2020-03-31T00:00:00",
            "2020-04-30T00:00:00",
            "2020-05-31T00:00:00",
            "2020-06-30T00:00:00"
           ],
           "xaxis": "x",
           "y": [
            14.54,
            23.08,
            16.22,
            30.94,
            16.36,
            24.17,
            16.59,
            29.56,
            16.21,
            27.19,
            23.92,
            41.61,
            34.22,
            35.57,
            24.67,
            20.42,
            25.45,
            24.19,
            26.84,
            21.04,
            27.06,
            23.65,
            27.24,
            23.29,
            27.14,
            46.89,
            38.46,
            29.41
           ],
           "yaxis": "y"
          }
         ],
         "name": "Haryana"
        },
        {
         "data": [
          {
           "alignmentgroup": "True",
           "hovertemplate": "Region=Himachal Pradesh<br>Date=%{x}<br>Estimated Unemployment Rate (%)=%{y}<extra></extra>",
           "legendgroup": "",
           "marker": {
            "color": "#636efa",
            "pattern": {
             "shape": ""
            }
           },
           "name": "",
           "offsetgroup": "",
           "orientation": "v",
           "showlegend": false,
           "textposition": "auto",
           "type": "bar",
           "x": [
            "2019-05-31T00:00:00",
            "2019-06-30T00:00:00",
            "2019-07-31T00:00:00",
            "2019-08-31T00:00:00",
            "2019-09-30T00:00:00",
            "2019-10-31T00:00:00",
            "2019-11-30T00:00:00",
            "2019-12-31T00:00:00",
            "2020-01-31T00:00:00",
            "2020-02-29T00:00:00",
            "2020-03-31T00:00:00",
            "2020-04-30T00:00:00",
            "2020-05-31T00:00:00",
            "2020-06-30T00:00:00",
            "2019-05-31T00:00:00",
            "2019-06-30T00:00:00",
            "2019-07-31T00:00:00",
            "2019-08-31T00:00:00",
            "2019-09-30T00:00:00",
            "2019-10-31T00:00:00",
            "2019-11-30T00:00:00",
            "2019-12-31T00:00:00",
            "2020-01-31T00:00:00",
            "2020-02-29T00:00:00",
            "2020-03-31T00:00:00",
            "2020-04-30T00:00:00",
            "2020-05-31T00:00:00",
            "2020-06-30T00:00:00"
           ],
           "xaxis": "x",
           "y": [
            13.68,
            11.43,
            20.59,
            18.56,
            15.98,
            15.81,
            22.86,
            19.46,
            16.67,
            15.42,
            17.71,
            2.13,
            25.64,
            1.12,
            10.88,
            21.43,
            21.51,
            24.48,
            12,
            23.77,
            27.27,
            25.32,
            18.15,
            27.31,
            26.44,
            2.7,
            50,
            10.81
           ],
           "yaxis": "y"
          }
         ],
         "name": "Himachal Pradesh"
        },
        {
         "data": [
          {
           "alignmentgroup": "True",
           "hovertemplate": "Region=Jammu & Kashmir<br>Date=%{x}<br>Estimated Unemployment Rate (%)=%{y}<extra></extra>",
           "legendgroup": "",
           "marker": {
            "color": "#636efa",
            "pattern": {
             "shape": ""
            }
           },
           "name": "",
           "offsetgroup": "",
           "orientation": "v",
           "showlegend": false,
           "textposition": "auto",
           "type": "bar",
           "x": [
            "2019-05-31T00:00:00",
            "2019-06-30T00:00:00",
            "2019-07-31T00:00:00",
            "2019-08-31T00:00:00",
            "2019-10-31T00:00:00",
            "2019-11-30T00:00:00",
            "2020-01-31T00:00:00",
            "2020-02-29T00:00:00",
            "2020-03-31T00:00:00",
            "2020-05-31T00:00:00",
            "2020-06-30T00:00:00",
            "2019-05-31T00:00:00",
            "2019-06-30T00:00:00",
            "2019-07-31T00:00:00",
            "2019-10-31T00:00:00",
            "2019-11-30T00:00:00",
            "2019-12-31T00:00:00",
            "2020-01-31T00:00:00",
            "2020-02-29T00:00:00",
            "2020-03-31T00:00:00",
            "2020-05-31T00:00:00"
           ],
           "xaxis": "x",
           "y": [
            12.78,
            12.09,
            13.67,
            11.32,
            19.27,
            14.73,
            22.19,
            21.23,
            16,
            2.22,
            18.97,
            23.04,
            19.88,
            21.55,
            24.06,
            14.29,
            7.02,
            18.54,
            19.86,
            14.29,
            12.96
           ],
           "yaxis": "y"
          }
         ],
         "name": "Jammu & Kashmir"
        },
        {
         "data": [
          {
           "alignmentgroup": "True",
           "hovertemplate": "Region=Jharkhand<br>Date=%{x}<br>Estimated Unemployment Rate (%)=%{y}<extra></extra>",
           "legendgroup": "",
           "marker": {
            "color": "#636efa",
            "pattern": {
             "shape": ""
            }
           },
           "name": "",
           "offsetgroup": "",
           "orientation": "v",
           "showlegend": false,
           "textposition": "auto",
           "type": "bar",
           "x": [
            "2019-05-31T00:00:00",
            "2019-06-30T00:00:00",
            "2019-07-31T00:00:00",
            "2019-08-31T00:00:00",
            "2019-09-30T00:00:00",
            "2019-10-31T00:00:00",
            "2019-11-30T00:00:00",
            "2019-12-31T00:00:00",
            "2020-01-31T00:00:00",
            "2020-02-29T00:00:00",
            "2020-03-31T00:00:00",
            "2020-04-30T00:00:00",
            "2020-05-31T00:00:00",
            "2020-06-30T00:00:00",
            "2019-05-31T00:00:00",
            "2019-06-30T00:00:00",
            "2019-07-31T00:00:00",
            "2019-08-31T00:00:00",
            "2019-09-30T00:00:00",
            "2019-10-31T00:00:00",
            "2019-11-30T00:00:00",
            "2019-12-31T00:00:00",
            "2020-01-31T00:00:00",
            "2020-02-29T00:00:00",
            "2020-03-31T00:00:00",
            "2020-04-30T00:00:00",
            "2020-05-31T00:00:00",
            "2020-06-30T00:00:00"
           ],
           "xaxis": "x",
           "y": [
            7.11,
            8.46,
            9.98,
            12.06,
            7.12,
            6.57,
            8.07,
            15.15,
            6.16,
            9.06,
            5.01,
            41.72,
            55.1,
            21.53,
            17.23,
            20.51,
            15.67,
            20.25,
            21.16,
            19.05,
            17.34,
            22.01,
            22.96,
            19.67,
            16.4,
            61.48,
            70.17,
            19.38
           ],
           "yaxis": "y"
          }
         ],
         "name": "Jharkhand"
        },
        {
         "data": [
          {
           "alignmentgroup": "True",
           "hovertemplate": "Region=Karnataka<br>Date=%{x}<br>Estimated Unemployment Rate (%)=%{y}<extra></extra>",
           "legendgroup": "",
           "marker": {
            "color": "#636efa",
            "pattern": {
             "shape": ""
            }
           },
           "name": "",
           "offsetgroup": "",
           "orientation": "v",
           "showlegend": false,
           "textposition": "auto",
           "type": "bar",
           "x": [
            "2019-05-31T00:00:00",
            "2019-06-30T00:00:00",
            "2019-07-31T00:00:00",
            "2019-08-31T00:00:00",
            "2019-09-30T00:00:00",
            "2019-10-31T00:00:00",
            "2019-11-30T00:00:00",
            "2019-12-31T00:00:00",
            "2020-01-31T00:00:00",
            "2020-02-29T00:00:00",
            "2020-03-31T00:00:00",
            "2020-04-30T00:00:00",
            "2020-05-31T00:00:00",
            "2020-06-30T00:00:00",
            "2019-05-31T00:00:00",
            "2019-06-30T00:00:00",
            "2019-07-31T00:00:00",
            "2019-08-31T00:00:00",
            "2019-09-30T00:00:00",
            "2019-10-31T00:00:00",
            "2019-11-30T00:00:00",
            "2019-12-31T00:00:00",
            "2020-01-31T00:00:00",
            "2020-02-29T00:00:00",
            "2020-03-31T00:00:00",
            "2020-04-30T00:00:00",
            "2020-05-31T00:00:00",
            "2020-06-30T00:00:00"
           ],
           "xaxis": "x",
           "y": [
            5.46,
            5.98,
            0.52,
            0.37,
            3.2,
            7.13,
            1.19,
            0.41,
            2.57,
            4.11,
            2.39,
            33.17,
            23.72,
            10.92,
            6.56,
            5,
            2.29,
            1.27,
            3.57,
            3.87,
            3.44,
            1.56,
            3.31,
            2.88,
            4.92,
            25.12,
            15.88,
            6.12
           ],
           "yaxis": "y"
          }
         ],
         "name": "Karnataka"
        },
        {
         "data": [
          {
           "alignmentgroup": "True",
           "hovertemplate": "Region=Kerala<br>Date=%{x}<br>Estimated Unemployment Rate (%)=%{y}<extra></extra>",
           "legendgroup": "",
           "marker": {
            "color": "#636efa",
            "pattern": {
             "shape": ""
            }
           },
           "name": "",
           "offsetgroup": "",
           "orientation": "v",
           "showlegend": false,
           "textposition": "auto",
           "type": "bar",
           "x": [
            "2019-05-31T00:00:00",
            "2019-06-30T00:00:00",
            "2019-07-31T00:00:00",
            "2019-08-31T00:00:00",
            "2019-09-30T00:00:00",
            "2019-10-31T00:00:00",
            "2019-11-30T00:00:00",
            "2019-12-31T00:00:00",
            "2020-01-31T00:00:00",
            "2020-02-29T00:00:00",
            "2020-03-31T00:00:00",
            "2020-04-30T00:00:00",
            "2020-05-31T00:00:00",
            "2020-06-30T00:00:00",
            "2019-05-31T00:00:00",
            "2019-06-30T00:00:00",
            "2019-07-31T00:00:00",
            "2019-08-31T00:00:00",
            "2019-09-30T00:00:00",
            "2019-10-31T00:00:00",
            "2019-11-30T00:00:00",
            "2019-12-31T00:00:00",
            "2020-01-31T00:00:00",
            "2020-02-29T00:00:00",
            "2020-03-31T00:00:00",
            "2020-04-30T00:00:00",
            "2020-05-31T00:00:00",
            "2020-06-30T00:00:00"
           ],
           "xaxis": "x",
           "y": [
            6.63,
            9,
            4.95,
            10.32,
            5.35,
            9.14,
            5,
            10.77,
            4.11,
            8.91,
            8.85,
            10.71,
            23.38,
            27.66,
            6.11,
            6.67,
            7.58,
            7.69,
            5.52,
            5.35,
            6.71,
            7.31,
            6.65,
            6.08,
            9.14,
            21.43,
            30.28,
            12.17
           ],
           "yaxis": "y"
          }
         ],
         "name": "Kerala"
        },
        {
         "data": [
          {
           "alignmentgroup": "True",
           "hovertemplate": "Region=Madhya Pradesh<br>Date=%{x}<br>Estimated Unemployment Rate (%)=%{y}<extra></extra>",
           "legendgroup": "",
           "marker": {
            "color": "#636efa",
            "pattern": {
             "shape": ""
            }
           },
           "name": "",
           "offsetgroup": "",
           "orientation": "v",
           "showlegend": false,
           "textposition": "auto",
           "type": "bar",
           "x": [
            "2019-05-31T00:00:00",
            "2019-06-30T00:00:00",
            "2019-07-31T00:00:00",
            "2019-08-31T00:00:00",
            "2019-09-30T00:00:00",
            "2019-10-31T00:00:00",
            "2019-11-30T00:00:00",
            "2019-12-31T00:00:00",
            "2020-01-31T00:00:00",
            "2020-02-29T00:00:00",
            "2020-03-31T00:00:00",
            "2020-04-30T00:00:00",
            "2020-05-31T00:00:00",
            "2020-06-30T00:00:00",
            "2019-05-31T00:00:00",
            "2019-06-30T00:00:00",
            "2019-07-31T00:00:00",
            "2019-08-31T00:00:00",
            "2019-09-30T00:00:00",
            "2019-10-31T00:00:00",
            "2019-11-30T00:00:00",
            "2019-12-31T00:00:00",
            "2020-01-31T00:00:00",
            "2020-02-29T00:00:00",
            "2020-03-31T00:00:00",
            "2020-04-30T00:00:00",
            "2020-05-31T00:00:00",
            "2020-06-30T00:00:00"
           ],
           "xaxis": "x",
           "y": [
            3.63,
            4.25,
            3.92,
            4.94,
            3.08,
            2.98,
            2.72,
            2.94,
            3.66,
            4.42,
            1.19,
            12.5,
            22.46,
            6.46,
            3.91,
            6.38,
            7.38,
            6.82,
            7,
            4.4,
            6.06,
            6.2,
            5.17,
            4.96,
            4.8,
            11.94,
            40.49,
            12.72
           ],
           "yaxis": "y"
          }
         ],
         "name": "Madhya Pradesh"
        },
        {
         "data": [
          {
           "alignmentgroup": "True",
           "hovertemplate": "Region=Maharashtra<br>Date=%{x}<br>Estimated Unemployment Rate (%)=%{y}<extra></extra>",
           "legendgroup": "",
           "marker": {
            "color": "#636efa",
            "pattern": {
             "shape": ""
            }
           },
           "name": "",
           "offsetgroup": "",
           "orientation": "v",
           "showlegend": false,
           "textposition": "auto",
           "type": "bar",
           "x": [
            "2019-05-31T00:00:00",
            "2019-06-30T00:00:00",
            "2019-07-31T00:00:00",
            "2019-08-31T00:00:00",
            "2019-09-30T00:00:00",
            "2019-10-31T00:00:00",
            "2019-11-30T00:00:00",
            "2019-12-31T00:00:00",
            "2020-01-31T00:00:00",
            "2020-02-29T00:00:00",
            "2020-03-31T00:00:00",
            "2020-04-30T00:00:00",
            "2020-05-31T00:00:00",
            "2020-06-30T00:00:00",
            "2019-05-31T00:00:00",
            "2019-06-30T00:00:00",
            "2019-07-31T00:00:00",
            "2019-08-31T00:00:00",
            "2019-09-30T00:00:00",
            "2019-10-31T00:00:00",
            "2019-11-30T00:00:00",
            "2019-12-31T00:00:00",
            "2020-01-31T00:00:00",
            "2020-02-29T00:00:00",
            "2020-03-31T00:00:00",
            "2020-04-30T00:00:00",
            "2020-05-31T00:00:00",
            "2020-06-30T00:00:00"
           ],
           "xaxis": "x",
           "y": [
            3.67,
            4.34,
            3.66,
            3.76,
            4.4,
            3.81,
            3.68,
            3.03,
            3.8,
            4.24,
            5.38,
            25.28,
            16.89,
            9.4,
            6.08,
            6.46,
            6.35,
            7.57,
            7.6,
            7.51,
            7.6,
            7.83,
            6.67,
            5.34,
            6.34,
            14.99,
            15.92,
            10.01
           ],
           "yaxis": "y"
          }
         ],
         "name": "Maharashtra"
        },
        {
         "data": [
          {
           "alignmentgroup": "True",
           "hovertemplate": "Region=Meghalaya<br>Date=%{x}<br>Estimated Unemployment Rate (%)=%{y}<extra></extra>",
           "legendgroup": "",
           "marker": {
            "color": "#636efa",
            "pattern": {
             "shape": ""
            }
           },
           "name": "",
           "offsetgroup": "",
           "orientation": "v",
           "showlegend": false,
           "textposition": "auto",
           "type": "bar",
           "x": [
            "2019-05-31T00:00:00",
            "2019-06-30T00:00:00",
            "2019-07-31T00:00:00",
            "2019-08-31T00:00:00",
            "2019-09-30T00:00:00",
            "2019-10-31T00:00:00",
            "2019-11-30T00:00:00",
            "2019-12-31T00:00:00",
            "2020-01-31T00:00:00",
            "2020-02-29T00:00:00",
            "2020-03-31T00:00:00",
            "2020-04-30T00:00:00",
            "2020-05-31T00:00:00",
            "2020-06-30T00:00:00",
            "2019-05-31T00:00:00",
            "2019-06-30T00:00:00",
            "2019-07-31T00:00:00",
            "2019-08-31T00:00:00",
            "2019-09-30T00:00:00",
            "2019-10-31T00:00:00",
            "2019-11-30T00:00:00",
            "2019-12-31T00:00:00",
            "2020-01-31T00:00:00",
            "2020-02-29T00:00:00",
            "2020-03-31T00:00:00",
            "2020-04-30T00:00:00",
            "2020-05-31T00:00:00"
           ],
           "xaxis": "x",
           "y": [
            3.16,
            4.23,
            1.03,
            0.52,
            0.24,
            3.7,
            1.5,
            1.8,
            0.97,
            2.76,
            1.28,
            8.38,
            3.73,
            1.35,
            8.4,
            8.66,
            4.43,
            5.8,
            5.3,
            7.2,
            3.02,
            5.21,
            4.76,
            7.37,
            2.8,
            17.39,
            14.58
           ],
           "yaxis": "y"
          }
         ],
         "name": "Meghalaya"
        },
        {
         "data": [
          {
           "alignmentgroup": "True",
           "hovertemplate": "Region=Odisha<br>Date=%{x}<br>Estimated Unemployment Rate (%)=%{y}<extra></extra>",
           "legendgroup": "",
           "marker": {
            "color": "#636efa",
            "pattern": {
             "shape": ""
            }
           },
           "name": "",
           "offsetgroup": "",
           "orientation": "v",
           "showlegend": false,
           "textposition": "auto",
           "type": "bar",
           "x": [
            "2019-05-31T00:00:00",
            "2019-06-30T00:00:00",
            "2019-07-31T00:00:00",
            "2019-08-31T00:00:00",
            "2019-09-30T00:00:00",
            "2019-10-31T00:00:00",
            "2019-11-30T00:00:00",
            "2019-12-31T00:00:00",
            "2020-01-31T00:00:00",
            "2020-02-29T00:00:00",
            "2020-03-31T00:00:00",
            "2020-04-30T00:00:00",
            "2020-05-31T00:00:00",
            "2020-06-30T00:00:00",
            "2019-05-31T00:00:00",
            "2019-06-30T00:00:00",
            "2019-07-31T00:00:00",
            "2019-08-31T00:00:00",
            "2019-09-30T00:00:00",
            "2019-10-31T00:00:00",
            "2019-11-30T00:00:00",
            "2019-12-31T00:00:00",
            "2020-01-31T00:00:00",
            "2020-02-29T00:00:00",
            "2020-03-31T00:00:00",
            "2020-04-30T00:00:00",
            "2020-05-31T00:00:00",
            "2020-06-30T00:00:00"
           ],
           "xaxis": "x",
           "y": [
            4.17,
            4.71,
            3.31,
            3.68,
            4.31,
            4.28,
            4.72,
            4.67,
            1.81,
            3.31,
            15.09,
            24.48,
            9.45,
            4.59,
            2.95,
            2.63,
            1.78,
            3.5,
            3.78,
            4.5,
            2.23,
            3.36,
            2.28,
            2.19,
            3.96,
            20.5,
            10,
            2.18
           ],
           "yaxis": "y"
          }
         ],
         "name": "Odisha"
        },
        {
         "data": [
          {
           "alignmentgroup": "True",
           "hovertemplate": "Region=Puducherry<br>Date=%{x}<br>Estimated Unemployment Rate (%)=%{y}<extra></extra>",
           "legendgroup": "",
           "marker": {
            "color": "#636efa",
            "pattern": {
             "shape": ""
            }
           },
           "name": "",
           "offsetgroup": "",
           "orientation": "v",
           "showlegend": false,
           "textposition": "auto",
           "type": "bar",
           "x": [
            "2019-05-31T00:00:00",
            "2019-06-30T00:00:00",
            "2019-07-31T00:00:00",
            "2019-08-31T00:00:00",
            "2019-09-30T00:00:00",
            "2019-10-31T00:00:00",
            "2019-11-30T00:00:00",
            "2019-12-31T00:00:00",
            "2020-01-31T00:00:00",
            "2020-02-29T00:00:00",
            "2020-03-31T00:00:00",
            "2020-04-30T00:00:00",
            "2019-05-31T00:00:00",
            "2019-06-30T00:00:00",
            "2019-07-31T00:00:00",
            "2019-08-31T00:00:00",
            "2019-09-30T00:00:00",
            "2019-10-31T00:00:00",
            "2019-11-30T00:00:00",
            "2019-12-31T00:00:00",
            "2020-01-31T00:00:00",
            "2020-02-29T00:00:00",
            "2020-03-31T00:00:00",
            "2020-04-30T00:00:00",
            "2020-05-31T00:00:00",
            "2020-06-30T00:00:00"
           ],
           "xaxis": "x",
           "y": [
            0,
            0,
            0,
            4.85,
            0,
            1.18,
            0,
            1.99,
            0.58,
            1.74,
            2.31,
            74.51,
            1.25,
            0,
            0,
            8.95,
            1.22,
            1.17,
            1.37,
            5.21,
            0.57,
            1.78,
            0.62,
            76.74,
            75,
            4.55
           ],
           "yaxis": "y"
          }
         ],
         "name": "Puducherry"
        },
        {
         "data": [
          {
           "alignmentgroup": "True",
           "hovertemplate": "Region=Punjab<br>Date=%{x}<br>Estimated Unemployment Rate (%)=%{y}<extra></extra>",
           "legendgroup": "",
           "marker": {
            "color": "#636efa",
            "pattern": {
             "shape": ""
            }
           },
           "name": "",
           "offsetgroup": "",
           "orientation": "v",
           "showlegend": false,
           "textposition": "auto",
           "type": "bar",
           "x": [
            "2019-05-31T00:00:00",
            "2019-06-30T00:00:00",
            "2019-07-31T00:00:00",
            "2019-08-31T00:00:00",
            "2019-09-30T00:00:00",
            "2019-10-31T00:00:00",
            "2019-11-30T00:00:00",
            "2019-12-31T00:00:00",
            "2020-01-31T00:00:00",
            "2020-02-29T00:00:00",
            "2020-03-31T00:00:00",
            "2020-04-30T00:00:00",
            "2020-05-31T00:00:00",
            "2020-06-30T00:00:00",
            "2019-05-31T00:00:00",
            "2019-06-30T00:00:00",
            "2019-07-31T00:00:00",
            "2019-08-31T00:00:00",
            "2019-09-30T00:00:00",
            "2019-10-31T00:00:00",
            "2019-11-30T00:00:00",
            "2019-12-31T00:00:00",
            "2020-01-31T00:00:00",
            "2020-02-29T00:00:00",
            "2020-03-31T00:00:00",
            "2020-04-30T00:00:00",
            "2020-05-31T00:00:00",
            "2020-06-30T00:00:00"
           ],
           "xaxis": "x",
           "y": [
            9.17,
            12.21,
            9.64,
            6.69,
            8.59,
            12.56,
            7.07,
            6.13,
            9.69,
            10.41,
            10.51,
            3.69,
            40.59,
            20,
            13.49,
            13.17,
            11.61,
            11.99,
            15.69,
            13.75,
            10.39,
            11.97,
            13.68,
            11.99,
            9.97,
            1.13,
            20.54,
            10.55
           ],
           "yaxis": "y"
          }
         ],
         "name": "Punjab"
        },
        {
         "data": [
          {
           "alignmentgroup": "True",
           "hovertemplate": "Region=Rajasthan<br>Date=%{x}<br>Estimated Unemployment Rate (%)=%{y}<extra></extra>",
           "legendgroup": "",
           "marker": {
            "color": "#636efa",
            "pattern": {
             "shape": ""
            }
           },
           "name": "",
           "offsetgroup": "",
           "orientation": "v",
           "showlegend": false,
           "textposition": "auto",
           "type": "bar",
           "x": [
            "2019-05-31T00:00:00",
            "2019-06-30T00:00:00",
            "2019-07-31T00:00:00",
            "2019-08-31T00:00:00",
            "2019-09-30T00:00:00",
            "2019-10-31T00:00:00",
            "2019-11-30T00:00:00",
            "2019-12-31T00:00:00",
            "2020-01-31T00:00:00",
            "2020-02-29T00:00:00",
            "2020-03-31T00:00:00",
            "2020-04-30T00:00:00",
            "2020-05-31T00:00:00",
            "2020-06-30T00:00:00",
            "2019-05-31T00:00:00",
            "2019-06-30T00:00:00",
            "2019-07-31T00:00:00",
            "2019-08-31T00:00:00",
            "2019-09-30T00:00:00",
            "2019-10-31T00:00:00",
            "2019-11-30T00:00:00",
            "2019-12-31T00:00:00",
            "2020-01-31T00:00:00",
            "2020-02-29T00:00:00",
            "2020-03-31T00:00:00",
            "2020-04-30T00:00:00",
            "2020-05-31T00:00:00",
            "2020-06-30T00:00:00"
           ],
           "xaxis": "x",
           "y": [
            4.03,
            13.7,
            9.7,
            12.5,
            5.45,
            14.66,
            10.47,
            13.96,
            8,
            14.48,
            9.47,
            12.25,
            10.45,
            13.86,
            13.62,
            14.36,
            11.67,
            14.71,
            12.63,
            13.02,
            14.3,
            18.04,
            18.82,
            17.02,
            18.54,
            35.53,
            25.35,
            13.04
           ],
           "yaxis": "y"
          }
         ],
         "name": "Rajasthan"
        },
        {
         "data": [
          {
           "alignmentgroup": "True",
           "hovertemplate": "Region=Sikkim<br>Date=%{x}<br>Estimated Unemployment Rate (%)=%{y}<extra></extra>",
           "legendgroup": "",
           "marker": {
            "color": "#636efa",
            "pattern": {
             "shape": ""
            }
           },
           "name": "",
           "offsetgroup": "",
           "orientation": "v",
           "showlegend": false,
           "textposition": "auto",
           "type": "bar",
           "x": [
            "2019-10-31T00:00:00",
            "2019-11-30T00:00:00",
            "2019-12-31T00:00:00",
            "2020-04-30T00:00:00",
            "2020-06-30T00:00:00",
            "2019-05-31T00:00:00",
            "2019-06-30T00:00:00",
            "2019-07-31T00:00:00",
            "2019-08-31T00:00:00",
            "2019-09-30T00:00:00",
            "2019-10-31T00:00:00",
            "2019-11-30T00:00:00",
            "2019-12-31T00:00:00",
            "2020-03-31T00:00:00",
            "2020-04-30T00:00:00",
            "2020-05-31T00:00:00",
            "2020-06-30T00:00:00"
           ],
           "xaxis": "x",
           "y": [
            5.48,
            13.11,
            1,
            0,
            5.81,
            8.2,
            7.76,
            2.56,
            4.82,
            4.81,
            9.68,
            4.04,
            7.37,
            20.45,
            5.77,
            19.75,
            2.63
           ],
           "yaxis": "y"
          }
         ],
         "name": "Sikkim"
        },
        {
         "data": [
          {
           "alignmentgroup": "True",
           "hovertemplate": "Region=Tamil Nadu<br>Date=%{x}<br>Estimated Unemployment Rate (%)=%{y}<extra></extra>",
           "legendgroup": "",
           "marker": {
            "color": "#636efa",
            "pattern": {
             "shape": ""
            }
           },
           "name": "",
           "offsetgroup": "",
           "orientation": "v",
           "showlegend": false,
           "textposition": "auto",
           "type": "bar",
           "x": [
            "2019-05-31T00:00:00",
            "2019-06-30T00:00:00",
            "2019-07-31T00:00:00",
            "2019-08-31T00:00:00",
            "2019-09-30T00:00:00",
            "2019-10-31T00:00:00",
            "2019-11-30T00:00:00",
            "2019-12-31T00:00:00",
            "2020-01-31T00:00:00",
            "2020-02-29T00:00:00",
            "2020-03-31T00:00:00",
            "2020-04-30T00:00:00",
            "2020-05-31T00:00:00",
            "2020-06-30T00:00:00",
            "2019-05-31T00:00:00",
            "2019-06-30T00:00:00",
            "2019-07-31T00:00:00",
            "2019-08-31T00:00:00",
            "2019-09-30T00:00:00",
            "2019-10-31T00:00:00",
            "2019-11-30T00:00:00",
            "2019-12-31T00:00:00",
            "2020-01-31T00:00:00",
            "2020-02-29T00:00:00",
            "2020-03-31T00:00:00",
            "2020-04-30T00:00:00",
            "2020-05-31T00:00:00",
            "2020-06-30T00:00:00"
           ],
           "xaxis": "x",
           "y": [
            0.97,
            0.92,
            6.01,
            2.91,
            1.71,
            1.46,
            2.46,
            3.73,
            1.18,
            1.17,
            6.36,
            53.19,
            38.73,
            2.06,
            0.89,
            1.56,
            3.18,
            9.53,
            1.86,
            1.13,
            2.65,
            8.05,
            2.05,
            3.31,
            6.46,
            45.55,
            25.95,
            24.93
           ],
           "yaxis": "y"
          }
         ],
         "name": "Tamil Nadu"
        },
        {
         "data": [
          {
           "alignmentgroup": "True",
           "hovertemplate": "Region=Telangana<br>Date=%{x}<br>Estimated Unemployment Rate (%)=%{y}<extra></extra>",
           "legendgroup": "",
           "marker": {
            "color": "#636efa",
            "pattern": {
             "shape": ""
            }
           },
           "name": "",
           "offsetgroup": "",
           "orientation": "v",
           "showlegend": false,
           "textposition": "auto",
           "type": "bar",
           "x": [
            "2019-05-31T00:00:00",
            "2019-06-30T00:00:00",
            "2019-07-31T00:00:00",
            "2019-08-31T00:00:00",
            "2019-09-30T00:00:00",
            "2019-10-31T00:00:00",
            "2019-11-30T00:00:00",
            "2019-12-31T00:00:00",
            "2020-01-31T00:00:00",
            "2020-02-29T00:00:00",
            "2020-03-31T00:00:00",
            "2020-04-30T00:00:00",
            "2020-05-31T00:00:00",
            "2020-06-30T00:00:00",
            "2019-05-31T00:00:00",
            "2019-06-30T00:00:00",
            "2019-07-31T00:00:00",
            "2019-08-31T00:00:00",
            "2019-09-30T00:00:00",
            "2019-10-31T00:00:00",
            "2019-11-30T00:00:00",
            "2019-12-31T00:00:00",
            "2020-01-31T00:00:00",
            "2020-02-29T00:00:00",
            "2020-03-31T00:00:00",
            "2020-04-30T00:00:00",
            "2020-05-31T00:00:00",
            "2020-06-30T00:00:00"
           ],
           "xaxis": "x",
           "y": [
            2.23,
            5.92,
            2.45,
            1.4,
            5.49,
            7.29,
            6.47,
            1.35,
            5.02,
            9.02,
            5.63,
            4.51,
            34.01,
            19.3,
            1.52,
            1.43,
            3.73,
            4.19,
            6.19,
            6.74,
            5.23,
            4.22,
            6.49,
            6.74,
            6.1,
            10.5,
            36.57,
            6.92
           ],
           "yaxis": "y"
          }
         ],
         "name": "Telangana"
        },
        {
         "data": [
          {
           "alignmentgroup": "True",
           "hovertemplate": "Region=Tripura<br>Date=%{x}<br>Estimated Unemployment Rate (%)=%{y}<extra></extra>",
           "legendgroup": "",
           "marker": {
            "color": "#636efa",
            "pattern": {
             "shape": ""
            }
           },
           "name": "",
           "offsetgroup": "",
           "orientation": "v",
           "showlegend": false,
           "textposition": "auto",
           "type": "bar",
           "x": [
            "2019-05-31T00:00:00",
            "2019-06-30T00:00:00",
            "2019-07-31T00:00:00",
            "2019-08-31T00:00:00",
            "2019-09-30T00:00:00",
            "2019-10-31T00:00:00",
            "2019-11-30T00:00:00",
            "2019-12-31T00:00:00",
            "2020-01-31T00:00:00",
            "2020-02-29T00:00:00",
            "2020-03-31T00:00:00",
            "2020-04-30T00:00:00",
            "2020-05-31T00:00:00",
            "2020-06-30T00:00:00",
            "2019-05-31T00:00:00",
            "2019-06-30T00:00:00",
            "2019-07-31T00:00:00",
            "2019-08-31T00:00:00",
            "2019-09-30T00:00:00",
            "2019-10-31T00:00:00",
            "2019-11-30T00:00:00",
            "2019-12-31T00:00:00",
            "2020-01-31T00:00:00",
            "2020-02-29T00:00:00",
            "2020-03-31T00:00:00",
            "2020-04-30T00:00:00",
            "2020-05-31T00:00:00",
            "2020-06-30T00:00:00"
           ],
           "xaxis": "x",
           "y": [
            29.25,
            26.64,
            22.47,
            25.49,
            30.23,
            27.54,
            25.25,
            26.53,
            31.91,
            26.22,
            31.61,
            43.64,
            14.71,
            18.84,
            34.69,
            25.59,
            25.81,
            33.45,
            33.57,
            26.67,
            27.15,
            33.48,
            34.37,
            33.88,
            25.69,
            34.88,
            16.78,
            27.47
           ],
           "yaxis": "y"
          }
         ],
         "name": "Tripura"
        },
        {
         "data": [
          {
           "alignmentgroup": "True",
           "hovertemplate": "Region=Uttar Pradesh<br>Date=%{x}<br>Estimated Unemployment Rate (%)=%{y}<extra></extra>",
           "legendgroup": "",
           "marker": {
            "color": "#636efa",
            "pattern": {
             "shape": ""
            }
           },
           "name": "",
           "offsetgroup": "",
           "orientation": "v",
           "showlegend": false,
           "textposition": "auto",
           "type": "bar",
           "x": [
            "2019-05-31T00:00:00",
            "2019-06-30T00:00:00",
            "2019-07-31T00:00:00",
            "2019-08-31T00:00:00",
            "2019-09-30T00:00:00",
            "2019-10-31T00:00:00",
            "2019-11-30T00:00:00",
            "2019-12-31T00:00:00",
            "2020-01-31T00:00:00",
            "2020-02-29T00:00:00",
            "2020-03-31T00:00:00",
            "2020-04-30T00:00:00",
            "2020-05-31T00:00:00",
            "2020-06-30T00:00:00",
            "2019-05-31T00:00:00",
            "2019-06-30T00:00:00",
            "2019-07-31T00:00:00",
            "2019-08-31T00:00:00",
            "2019-09-30T00:00:00",
            "2019-10-31T00:00:00",
            "2019-11-30T00:00:00",
            "2019-12-31T00:00:00",
            "2020-01-31T00:00:00",
            "2020-02-29T00:00:00",
            "2020-03-31T00:00:00",
            "2020-04-30T00:00:00",
            "2020-05-31T00:00:00",
            "2020-06-30T00:00:00"
           ],
           "xaxis": "x",
           "y": [
            10.26,
            11.13,
            9.19,
            11.47,
            6.45,
            10.18,
            6.94,
            8.43,
            6.06,
            8.12,
            9.37,
            19.92,
            16.89,
            8.51,
            14.4,
            11.62,
            11.8,
            14.73,
            13.58,
            10.35,
            11.31,
            12.37,
            12.34,
            11.65,
            12.32,
            26.94,
            32.06,
            13.05
           ],
           "yaxis": "y"
          }
         ],
         "name": "Uttar Pradesh"
        },
        {
         "data": [
          {
           "alignmentgroup": "True",
           "hovertemplate": "Region=Uttarakhand<br>Date=%{x}<br>Estimated Unemployment Rate (%)=%{y}<extra></extra>",
           "legendgroup": "",
           "marker": {
            "color": "#636efa",
            "pattern": {
             "shape": ""
            }
           },
           "name": "",
           "offsetgroup": "",
           "orientation": "v",
           "showlegend": false,
           "textposition": "auto",
           "type": "bar",
           "x": [
            "2019-05-31T00:00:00",
            "2019-06-30T00:00:00",
            "2019-07-31T00:00:00",
            "2019-08-31T00:00:00",
            "2019-09-30T00:00:00",
            "2019-10-31T00:00:00",
            "2019-11-30T00:00:00",
            "2019-12-31T00:00:00",
            "2020-01-31T00:00:00",
            "2020-02-29T00:00:00",
            "2020-04-30T00:00:00",
            "2020-05-31T00:00:00",
            "2020-06-30T00:00:00",
            "2019-05-31T00:00:00",
            "2019-06-30T00:00:00",
            "2019-07-31T00:00:00",
            "2019-08-31T00:00:00",
            "2019-09-30T00:00:00",
            "2019-10-31T00:00:00",
            "2019-11-30T00:00:00",
            "2019-12-31T00:00:00",
            "2020-01-31T00:00:00",
            "2020-02-29T00:00:00",
            "2020-03-31T00:00:00",
            "2020-04-30T00:00:00",
            "2020-05-31T00:00:00",
            "2020-06-30T00:00:00"
           ],
           "xaxis": "x",
           "y": [
            1.63,
            4.65,
            5.74,
            6.11,
            3.47,
            4.83,
            5.56,
            4.52,
            4.17,
            4.85,
            3.66,
            3.57,
            10.71,
            9.17,
            4.69,
            6.94,
            7.43,
            9.62,
            4.72,
            6.34,
            7.39,
            8.92,
            5.28,
            8.15,
            13.18,
            17.36,
            5.08
           ],
           "yaxis": "y"
          }
         ],
         "name": "Uttarakhand"
        },
        {
         "data": [
          {
           "alignmentgroup": "True",
           "hovertemplate": "Region=West Bengal<br>Date=%{x}<br>Estimated Unemployment Rate (%)=%{y}<extra></extra>",
           "legendgroup": "",
           "marker": {
            "color": "#636efa",
            "pattern": {
             "shape": ""
            }
           },
           "name": "",
           "offsetgroup": "",
           "orientation": "v",
           "showlegend": false,
           "textposition": "auto",
           "type": "bar",
           "x": [
            "2019-05-31T00:00:00",
            "2019-06-30T00:00:00",
            "2019-07-31T00:00:00",
            "2019-08-31T00:00:00",
            "2019-09-30T00:00:00",
            "2019-10-31T00:00:00",
            "2019-11-30T00:00:00",
            "2019-12-31T00:00:00",
            "2020-01-31T00:00:00",
            "2020-02-29T00:00:00",
            "2020-03-31T00:00:00",
            "2020-04-30T00:00:00",
            "2020-05-31T00:00:00",
            "2020-06-30T00:00:00",
            "2019-05-31T00:00:00",
            "2019-06-30T00:00:00",
            "2019-07-31T00:00:00",
            "2019-08-31T00:00:00",
            "2019-09-30T00:00:00",
            "2019-10-31T00:00:00",
            "2019-11-30T00:00:00",
            "2019-12-31T00:00:00",
            "2020-01-31T00:00:00",
            "2020-02-29T00:00:00",
            "2020-03-31T00:00:00",
            "2020-04-30T00:00:00",
            "2020-05-31T00:00:00",
            "2020-06-30T00:00:00"
           ],
           "xaxis": "x",
           "y": [
            6.02,
            5.85,
            5.62,
            5.58,
            5.26,
            6.78,
            5.83,
            5.79,
            6.79,
            3.78,
            7.02,
            18.32,
            18.43,
            4.94,
            7.25,
            7.38,
            7.91,
            7.27,
            7.79,
            7.83,
            6.61,
            7.24,
            7.27,
            7.55,
            6.67,
            15.63,
            15.22,
            9.86
           ],
           "yaxis": "y"
          }
         ],
         "name": "West Bengal"
        },
        {
         "data": [
          {
           "alignmentgroup": "True",
           "hovertemplate": "Region=Chandigarh<br>Date=%{x}<br>Estimated Unemployment Rate (%)=%{y}<extra></extra>",
           "legendgroup": "",
           "marker": {
            "color": "#636efa",
            "pattern": {
             "shape": ""
            }
           },
           "name": "",
           "offsetgroup": "",
           "orientation": "v",
           "showlegend": false,
           "textposition": "auto",
           "type": "bar",
           "x": [
            "2019-05-31T00:00:00",
            "2019-06-30T00:00:00",
            "2019-07-31T00:00:00",
            "2019-08-31T00:00:00",
            "2019-09-30T00:00:00",
            "2019-10-31T00:00:00",
            "2019-11-30T00:00:00",
            "2019-12-31T00:00:00",
            "2020-01-31T00:00:00",
            "2020-02-29T00:00:00",
            "2020-03-31T00:00:00",
            "2020-06-30T00:00:00"
           ],
           "xaxis": "x",
           "y": [
            18.35,
            12.4,
            21.8,
            9.52,
            20.14,
            13.99,
            22.05,
            8.33,
            20,
            16.67,
            21.43,
            7.22
           ],
           "yaxis": "y"
          }
         ],
         "name": "Chandigarh"
        }
       ],
       "layout": {
        "barmode": "relative",
        "legend": {
         "tracegroupgap": 0
        },
        "sliders": [
         {
          "active": 0,
          "currentvalue": {
           "prefix": "Region="
          },
          "len": 0.9,
          "pad": {
           "b": 10,
           "t": 60
          },
          "steps": [
           {
            "args": [
             [
              "Andhra Pradesh"
             ],
             {
              "frame": {
               "duration": 0,
               "redraw": true
              },
              "fromcurrent": true,
              "mode": "immediate",
              "transition": {
               "duration": 0,
               "easing": "linear"
              }
             }
            ],
            "label": "Andhra Pradesh",
            "method": "animate"
           },
           {
            "args": [
             [
              "Assam"
             ],
             {
              "frame": {
               "duration": 0,
               "redraw": true
              },
              "fromcurrent": true,
              "mode": "immediate",
              "transition": {
               "duration": 0,
               "easing": "linear"
              }
             }
            ],
            "label": "Assam",
            "method": "animate"
           },
           {
            "args": [
             [
              "Bihar"
             ],
             {
              "frame": {
               "duration": 0,
               "redraw": true
              },
              "fromcurrent": true,
              "mode": "immediate",
              "transition": {
               "duration": 0,
               "easing": "linear"
              }
             }
            ],
            "label": "Bihar",
            "method": "animate"
           },
           {
            "args": [
             [
              "Chhattisgarh"
             ],
             {
              "frame": {
               "duration": 0,
               "redraw": true
              },
              "fromcurrent": true,
              "mode": "immediate",
              "transition": {
               "duration": 0,
               "easing": "linear"
              }
             }
            ],
            "label": "Chhattisgarh",
            "method": "animate"
           },
           {
            "args": [
             [
              "Delhi"
             ],
             {
              "frame": {
               "duration": 0,
               "redraw": true
              },
              "fromcurrent": true,
              "mode": "immediate",
              "transition": {
               "duration": 0,
               "easing": "linear"
              }
             }
            ],
            "label": "Delhi",
            "method": "animate"
           },
           {
            "args": [
             [
              "Goa"
             ],
             {
              "frame": {
               "duration": 0,
               "redraw": true
              },
              "fromcurrent": true,
              "mode": "immediate",
              "transition": {
               "duration": 0,
               "easing": "linear"
              }
             }
            ],
            "label": "Goa",
            "method": "animate"
           },
           {
            "args": [
             [
              "Gujarat"
             ],
             {
              "frame": {
               "duration": 0,
               "redraw": true
              },
              "fromcurrent": true,
              "mode": "immediate",
              "transition": {
               "duration": 0,
               "easing": "linear"
              }
             }
            ],
            "label": "Gujarat",
            "method": "animate"
           },
           {
            "args": [
             [
              "Haryana"
             ],
             {
              "frame": {
               "duration": 0,
               "redraw": true
              },
              "fromcurrent": true,
              "mode": "immediate",
              "transition": {
               "duration": 0,
               "easing": "linear"
              }
             }
            ],
            "label": "Haryana",
            "method": "animate"
           },
           {
            "args": [
             [
              "Himachal Pradesh"
             ],
             {
              "frame": {
               "duration": 0,
               "redraw": true
              },
              "fromcurrent": true,
              "mode": "immediate",
              "transition": {
               "duration": 0,
               "easing": "linear"
              }
             }
            ],
            "label": "Himachal Pradesh",
            "method": "animate"
           },
           {
            "args": [
             [
              "Jammu & Kashmir"
             ],
             {
              "frame": {
               "duration": 0,
               "redraw": true
              },
              "fromcurrent": true,
              "mode": "immediate",
              "transition": {
               "duration": 0,
               "easing": "linear"
              }
             }
            ],
            "label": "Jammu & Kashmir",
            "method": "animate"
           },
           {
            "args": [
             [
              "Jharkhand"
             ],
             {
              "frame": {
               "duration": 0,
               "redraw": true
              },
              "fromcurrent": true,
              "mode": "immediate",
              "transition": {
               "duration": 0,
               "easing": "linear"
              }
             }
            ],
            "label": "Jharkhand",
            "method": "animate"
           },
           {
            "args": [
             [
              "Karnataka"
             ],
             {
              "frame": {
               "duration": 0,
               "redraw": true
              },
              "fromcurrent": true,
              "mode": "immediate",
              "transition": {
               "duration": 0,
               "easing": "linear"
              }
             }
            ],
            "label": "Karnataka",
            "method": "animate"
           },
           {
            "args": [
             [
              "Kerala"
             ],
             {
              "frame": {
               "duration": 0,
               "redraw": true
              },
              "fromcurrent": true,
              "mode": "immediate",
              "transition": {
               "duration": 0,
               "easing": "linear"
              }
             }
            ],
            "label": "Kerala",
            "method": "animate"
           },
           {
            "args": [
             [
              "Madhya Pradesh"
             ],
             {
              "frame": {
               "duration": 0,
               "redraw": true
              },
              "fromcurrent": true,
              "mode": "immediate",
              "transition": {
               "duration": 0,
               "easing": "linear"
              }
             }
            ],
            "label": "Madhya Pradesh",
            "method": "animate"
           },
           {
            "args": [
             [
              "Maharashtra"
             ],
             {
              "frame": {
               "duration": 0,
               "redraw": true
              },
              "fromcurrent": true,
              "mode": "immediate",
              "transition": {
               "duration": 0,
               "easing": "linear"
              }
             }
            ],
            "label": "Maharashtra",
            "method": "animate"
           },
           {
            "args": [
             [
              "Meghalaya"
             ],
             {
              "frame": {
               "duration": 0,
               "redraw": true
              },
              "fromcurrent": true,
              "mode": "immediate",
              "transition": {
               "duration": 0,
               "easing": "linear"
              }
             }
            ],
            "label": "Meghalaya",
            "method": "animate"
           },
           {
            "args": [
             [
              "Odisha"
             ],
             {
              "frame": {
               "duration": 0,
               "redraw": true
              },
              "fromcurrent": true,
              "mode": "immediate",
              "transition": {
               "duration": 0,
               "easing": "linear"
              }
             }
            ],
            "label": "Odisha",
            "method": "animate"
           },
           {
            "args": [
             [
              "Puducherry"
             ],
             {
              "frame": {
               "duration": 0,
               "redraw": true
              },
              "fromcurrent": true,
              "mode": "immediate",
              "transition": {
               "duration": 0,
               "easing": "linear"
              }
             }
            ],
            "label": "Puducherry",
            "method": "animate"
           },
           {
            "args": [
             [
              "Punjab"
             ],
             {
              "frame": {
               "duration": 0,
               "redraw": true
              },
              "fromcurrent": true,
              "mode": "immediate",
              "transition": {
               "duration": 0,
               "easing": "linear"
              }
             }
            ],
            "label": "Punjab",
            "method": "animate"
           },
           {
            "args": [
             [
              "Rajasthan"
             ],
             {
              "frame": {
               "duration": 0,
               "redraw": true
              },
              "fromcurrent": true,
              "mode": "immediate",
              "transition": {
               "duration": 0,
               "easing": "linear"
              }
             }
            ],
            "label": "Rajasthan",
            "method": "animate"
           },
           {
            "args": [
             [
              "Sikkim"
             ],
             {
              "frame": {
               "duration": 0,
               "redraw": true
              },
              "fromcurrent": true,
              "mode": "immediate",
              "transition": {
               "duration": 0,
               "easing": "linear"
              }
             }
            ],
            "label": "Sikkim",
            "method": "animate"
           },
           {
            "args": [
             [
              "Tamil Nadu"
             ],
             {
              "frame": {
               "duration": 0,
               "redraw": true
              },
              "fromcurrent": true,
              "mode": "immediate",
              "transition": {
               "duration": 0,
               "easing": "linear"
              }
             }
            ],
            "label": "Tamil Nadu",
            "method": "animate"
           },
           {
            "args": [
             [
              "Telangana"
             ],
             {
              "frame": {
               "duration": 0,
               "redraw": true
              },
              "fromcurrent": true,
              "mode": "immediate",
              "transition": {
               "duration": 0,
               "easing": "linear"
              }
             }
            ],
            "label": "Telangana",
            "method": "animate"
           },
           {
            "args": [
             [
              "Tripura"
             ],
             {
              "frame": {
               "duration": 0,
               "redraw": true
              },
              "fromcurrent": true,
              "mode": "immediate",
              "transition": {
               "duration": 0,
               "easing": "linear"
              }
             }
            ],
            "label": "Tripura",
            "method": "animate"
           },
           {
            "args": [
             [
              "Uttar Pradesh"
             ],
             {
              "frame": {
               "duration": 0,
               "redraw": true
              },
              "fromcurrent": true,
              "mode": "immediate",
              "transition": {
               "duration": 0,
               "easing": "linear"
              }
             }
            ],
            "label": "Uttar Pradesh",
            "method": "animate"
           },
           {
            "args": [
             [
              "Uttarakhand"
             ],
             {
              "frame": {
               "duration": 0,
               "redraw": true
              },
              "fromcurrent": true,
              "mode": "immediate",
              "transition": {
               "duration": 0,
               "easing": "linear"
              }
             }
            ],
            "label": "Uttarakhand",
            "method": "animate"
           },
           {
            "args": [
             [
              "West Bengal"
             ],
             {
              "frame": {
               "duration": 0,
               "redraw": true
              },
              "fromcurrent": true,
              "mode": "immediate",
              "transition": {
               "duration": 0,
               "easing": "linear"
              }
             }
            ],
            "label": "West Bengal",
            "method": "animate"
           },
           {
            "args": [
             [
              "Chandigarh"
             ],
             {
              "frame": {
               "duration": 0,
               "redraw": true
              },
              "fromcurrent": true,
              "mode": "immediate",
              "transition": {
               "duration": 0,
               "easing": "linear"
              }
             }
            ],
            "label": "Chandigarh",
            "method": "animate"
           }
          ],
          "x": 0.1,
          "xanchor": "left",
          "y": 0,
          "yanchor": "top"
         }
        ],
        "template": {
         "data": {
          "bar": [
           {
            "error_x": {
             "color": "#2a3f5f"
            },
            "error_y": {
             "color": "#2a3f5f"
            },
            "marker": {
             "line": {
              "color": "#E5ECF6",
              "width": 0.5
             },
             "pattern": {
              "fillmode": "overlay",
              "size": 10,
              "solidity": 0.2
             }
            },
            "type": "bar"
           }
          ],
          "barpolar": [
           {
            "marker": {
             "line": {
              "color": "#E5ECF6",
              "width": 0.5
             },
             "pattern": {
              "fillmode": "overlay",
              "size": 10,
              "solidity": 0.2
             }
            },
            "type": "barpolar"
           }
          ],
          "carpet": [
           {
            "aaxis": {
             "endlinecolor": "#2a3f5f",
             "gridcolor": "white",
             "linecolor": "white",
             "minorgridcolor": "white",
             "startlinecolor": "#2a3f5f"
            },
            "baxis": {
             "endlinecolor": "#2a3f5f",
             "gridcolor": "white",
             "linecolor": "white",
             "minorgridcolor": "white",
             "startlinecolor": "#2a3f5f"
            },
            "type": "carpet"
           }
          ],
          "choropleth": [
           {
            "colorbar": {
             "outlinewidth": 0,
             "ticks": ""
            },
            "type": "choropleth"
           }
          ],
          "contour": [
           {
            "colorbar": {
             "outlinewidth": 0,
             "ticks": ""
            },
            "colorscale": [
             [
              0,
              "#0d0887"
             ],
             [
              0.1111111111111111,
              "#46039f"
             ],
             [
              0.2222222222222222,
              "#7201a8"
             ],
             [
              0.3333333333333333,
              "#9c179e"
             ],
             [
              0.4444444444444444,
              "#bd3786"
             ],
             [
              0.5555555555555556,
              "#d8576b"
             ],
             [
              0.6666666666666666,
              "#ed7953"
             ],
             [
              0.7777777777777778,
              "#fb9f3a"
             ],
             [
              0.8888888888888888,
              "#fdca26"
             ],
             [
              1,
              "#f0f921"
             ]
            ],
            "type": "contour"
           }
          ],
          "contourcarpet": [
           {
            "colorbar": {
             "outlinewidth": 0,
             "ticks": ""
            },
            "type": "contourcarpet"
           }
          ],
          "heatmap": [
           {
            "colorbar": {
             "outlinewidth": 0,
             "ticks": ""
            },
            "colorscale": [
             [
              0,
              "#0d0887"
             ],
             [
              0.1111111111111111,
              "#46039f"
             ],
             [
              0.2222222222222222,
              "#7201a8"
             ],
             [
              0.3333333333333333,
              "#9c179e"
             ],
             [
              0.4444444444444444,
              "#bd3786"
             ],
             [
              0.5555555555555556,
              "#d8576b"
             ],
             [
              0.6666666666666666,
              "#ed7953"
             ],
             [
              0.7777777777777778,
              "#fb9f3a"
             ],
             [
              0.8888888888888888,
              "#fdca26"
             ],
             [
              1,
              "#f0f921"
             ]
            ],
            "type": "heatmap"
           }
          ],
          "heatmapgl": [
           {
            "colorbar": {
             "outlinewidth": 0,
             "ticks": ""
            },
            "colorscale": [
             [
              0,
              "#0d0887"
             ],
             [
              0.1111111111111111,
              "#46039f"
             ],
             [
              0.2222222222222222,
              "#7201a8"
             ],
             [
              0.3333333333333333,
              "#9c179e"
             ],
             [
              0.4444444444444444,
              "#bd3786"
             ],
             [
              0.5555555555555556,
              "#d8576b"
             ],
             [
              0.6666666666666666,
              "#ed7953"
             ],
             [
              0.7777777777777778,
              "#fb9f3a"
             ],
             [
              0.8888888888888888,
              "#fdca26"
             ],
             [
              1,
              "#f0f921"
             ]
            ],
            "type": "heatmapgl"
           }
          ],
          "histogram": [
           {
            "marker": {
             "pattern": {
              "fillmode": "overlay",
              "size": 10,
              "solidity": 0.2
             }
            },
            "type": "histogram"
           }
          ],
          "histogram2d": [
           {
            "colorbar": {
             "outlinewidth": 0,
             "ticks": ""
            },
            "colorscale": [
             [
              0,
              "#0d0887"
             ],
             [
              0.1111111111111111,
              "#46039f"
             ],
             [
              0.2222222222222222,
              "#7201a8"
             ],
             [
              0.3333333333333333,
              "#9c179e"
             ],
             [
              0.4444444444444444,
              "#bd3786"
             ],
             [
              0.5555555555555556,
              "#d8576b"
             ],
             [
              0.6666666666666666,
              "#ed7953"
             ],
             [
              0.7777777777777778,
              "#fb9f3a"
             ],
             [
              0.8888888888888888,
              "#fdca26"
             ],
             [
              1,
              "#f0f921"
             ]
            ],
            "type": "histogram2d"
           }
          ],
          "histogram2dcontour": [
           {
            "colorbar": {
             "outlinewidth": 0,
             "ticks": ""
            },
            "colorscale": [
             [
              0,
              "#0d0887"
             ],
             [
              0.1111111111111111,
              "#46039f"
             ],
             [
              0.2222222222222222,
              "#7201a8"
             ],
             [
              0.3333333333333333,
              "#9c179e"
             ],
             [
              0.4444444444444444,
              "#bd3786"
             ],
             [
              0.5555555555555556,
              "#d8576b"
             ],
             [
              0.6666666666666666,
              "#ed7953"
             ],
             [
              0.7777777777777778,
              "#fb9f3a"
             ],
             [
              0.8888888888888888,
              "#fdca26"
             ],
             [
              1,
              "#f0f921"
             ]
            ],
            "type": "histogram2dcontour"
           }
          ],
          "mesh3d": [
           {
            "colorbar": {
             "outlinewidth": 0,
             "ticks": ""
            },
            "type": "mesh3d"
           }
          ],
          "parcoords": [
           {
            "line": {
             "colorbar": {
              "outlinewidth": 0,
              "ticks": ""
             }
            },
            "type": "parcoords"
           }
          ],
          "pie": [
           {
            "automargin": true,
            "type": "pie"
           }
          ],
          "scatter": [
           {
            "fillpattern": {
             "fillmode": "overlay",
             "size": 10,
             "solidity": 0.2
            },
            "type": "scatter"
           }
          ],
          "scatter3d": [
           {
            "line": {
             "colorbar": {
              "outlinewidth": 0,
              "ticks": ""
             }
            },
            "marker": {
             "colorbar": {
              "outlinewidth": 0,
              "ticks": ""
             }
            },
            "type": "scatter3d"
           }
          ],
          "scattercarpet": [
           {
            "marker": {
             "colorbar": {
              "outlinewidth": 0,
              "ticks": ""
             }
            },
            "type": "scattercarpet"
           }
          ],
          "scattergeo": [
           {
            "marker": {
             "colorbar": {
              "outlinewidth": 0,
              "ticks": ""
             }
            },
            "type": "scattergeo"
           }
          ],
          "scattergl": [
           {
            "marker": {
             "colorbar": {
              "outlinewidth": 0,
              "ticks": ""
             }
            },
            "type": "scattergl"
           }
          ],
          "scattermapbox": [
           {
            "marker": {
             "colorbar": {
              "outlinewidth": 0,
              "ticks": ""
             }
            },
            "type": "scattermapbox"
           }
          ],
          "scatterpolar": [
           {
            "marker": {
             "colorbar": {
              "outlinewidth": 0,
              "ticks": ""
             }
            },
            "type": "scatterpolar"
           }
          ],
          "scatterpolargl": [
           {
            "marker": {
             "colorbar": {
              "outlinewidth": 0,
              "ticks": ""
             }
            },
            "type": "scatterpolargl"
           }
          ],
          "scatterternary": [
           {
            "marker": {
             "colorbar": {
              "outlinewidth": 0,
              "ticks": ""
             }
            },
            "type": "scatterternary"
           }
          ],
          "surface": [
           {
            "colorbar": {
             "outlinewidth": 0,
             "ticks": ""
            },
            "colorscale": [
             [
              0,
              "#0d0887"
             ],
             [
              0.1111111111111111,
              "#46039f"
             ],
             [
              0.2222222222222222,
              "#7201a8"
             ],
             [
              0.3333333333333333,
              "#9c179e"
             ],
             [
              0.4444444444444444,
              "#bd3786"
             ],
             [
              0.5555555555555556,
              "#d8576b"
             ],
             [
              0.6666666666666666,
              "#ed7953"
             ],
             [
              0.7777777777777778,
              "#fb9f3a"
             ],
             [
              0.8888888888888888,
              "#fdca26"
             ],
             [
              1,
              "#f0f921"
             ]
            ],
            "type": "surface"
           }
          ],
          "table": [
           {
            "cells": {
             "fill": {
              "color": "#EBF0F8"
             },
             "line": {
              "color": "white"
             }
            },
            "header": {
             "fill": {
              "color": "#C8D4E3"
             },
             "line": {
              "color": "white"
             }
            },
            "type": "table"
           }
          ]
         },
         "layout": {
          "annotationdefaults": {
           "arrowcolor": "#2a3f5f",
           "arrowhead": 0,
           "arrowwidth": 1
          },
          "autotypenumbers": "strict",
          "coloraxis": {
           "colorbar": {
            "outlinewidth": 0,
            "ticks": ""
           }
          },
          "colorscale": {
           "diverging": [
            [
             0,
             "#8e0152"
            ],
            [
             0.1,
             "#c51b7d"
            ],
            [
             0.2,
             "#de77ae"
            ],
            [
             0.3,
             "#f1b6da"
            ],
            [
             0.4,
             "#fde0ef"
            ],
            [
             0.5,
             "#f7f7f7"
            ],
            [
             0.6,
             "#e6f5d0"
            ],
            [
             0.7,
             "#b8e186"
            ],
            [
             0.8,
             "#7fbc41"
            ],
            [
             0.9,
             "#4d9221"
            ],
            [
             1,
             "#276419"
            ]
           ],
           "sequential": [
            [
             0,
             "#0d0887"
            ],
            [
             0.1111111111111111,
             "#46039f"
            ],
            [
             0.2222222222222222,
             "#7201a8"
            ],
            [
             0.3333333333333333,
             "#9c179e"
            ],
            [
             0.4444444444444444,
             "#bd3786"
            ],
            [
             0.5555555555555556,
             "#d8576b"
            ],
            [
             0.6666666666666666,
             "#ed7953"
            ],
            [
             0.7777777777777778,
             "#fb9f3a"
            ],
            [
             0.8888888888888888,
             "#fdca26"
            ],
            [
             1,
             "#f0f921"
            ]
           ],
           "sequentialminus": [
            [
             0,
             "#0d0887"
            ],
            [
             0.1111111111111111,
             "#46039f"
            ],
            [
             0.2222222222222222,
             "#7201a8"
            ],
            [
             0.3333333333333333,
             "#9c179e"
            ],
            [
             0.4444444444444444,
             "#bd3786"
            ],
            [
             0.5555555555555556,
             "#d8576b"
            ],
            [
             0.6666666666666666,
             "#ed7953"
            ],
            [
             0.7777777777777778,
             "#fb9f3a"
            ],
            [
             0.8888888888888888,
             "#fdca26"
            ],
            [
             1,
             "#f0f921"
            ]
           ]
          },
          "colorway": [
           "#636efa",
           "#EF553B",
           "#00cc96",
           "#ab63fa",
           "#FFA15A",
           "#19d3f3",
           "#FF6692",
           "#B6E880",
           "#FF97FF",
           "#FECB52"
          ],
          "font": {
           "color": "#2a3f5f"
          },
          "geo": {
           "bgcolor": "white",
           "lakecolor": "white",
           "landcolor": "#E5ECF6",
           "showlakes": true,
           "showland": true,
           "subunitcolor": "white"
          },
          "hoverlabel": {
           "align": "left"
          },
          "hovermode": "closest",
          "mapbox": {
           "style": "light"
          },
          "paper_bgcolor": "white",
          "plot_bgcolor": "#E5ECF6",
          "polar": {
           "angularaxis": {
            "gridcolor": "white",
            "linecolor": "white",
            "ticks": ""
           },
           "bgcolor": "#E5ECF6",
           "radialaxis": {
            "gridcolor": "white",
            "linecolor": "white",
            "ticks": ""
           }
          },
          "scene": {
           "xaxis": {
            "backgroundcolor": "#E5ECF6",
            "gridcolor": "white",
            "gridwidth": 2,
            "linecolor": "white",
            "showbackground": true,
            "ticks": "",
            "zerolinecolor": "white"
           },
           "yaxis": {
            "backgroundcolor": "#E5ECF6",
            "gridcolor": "white",
            "gridwidth": 2,
            "linecolor": "white",
            "showbackground": true,
            "ticks": "",
            "zerolinecolor": "white"
           },
           "zaxis": {
            "backgroundcolor": "#E5ECF6",
            "gridcolor": "white",
            "gridwidth": 2,
            "linecolor": "white",
            "showbackground": true,
            "ticks": "",
            "zerolinecolor": "white"
           }
          },
          "shapedefaults": {
           "line": {
            "color": "#2a3f5f"
           }
          },
          "ternary": {
           "aaxis": {
            "gridcolor": "white",
            "linecolor": "white",
            "ticks": ""
           },
           "baxis": {
            "gridcolor": "white",
            "linecolor": "white",
            "ticks": ""
           },
           "bgcolor": "#E5ECF6",
           "caxis": {
            "gridcolor": "white",
            "linecolor": "white",
            "ticks": ""
           }
          },
          "title": {
           "x": 0.05
          },
          "xaxis": {
           "automargin": true,
           "gridcolor": "white",
           "linecolor": "white",
           "ticks": "",
           "title": {
            "standoff": 15
           },
           "zerolinecolor": "white",
           "zerolinewidth": 2
          },
          "yaxis": {
           "automargin": true,
           "gridcolor": "white",
           "linecolor": "white",
           "ticks": "",
           "title": {
            "standoff": 15
           },
           "zerolinecolor": "white",
           "zerolinewidth": 2
          }
         }
        },
        "title": {
         "text": "Unemployment rate over time for each state"
        },
        "updatemenus": [
         {
          "buttons": [
           {
            "args": [
             null,
             {
              "frame": {
               "duration": 500,
               "redraw": true
              },
              "fromcurrent": true,
              "mode": "immediate",
              "transition": {
               "duration": 500,
               "easing": "linear"
              }
             }
            ],
            "label": "&#9654;",
            "method": "animate"
           },
           {
            "args": [
             [
              null
             ],
             {
              "frame": {
               "duration": 0,
               "redraw": true
              },
              "fromcurrent": true,
              "mode": "immediate",
              "transition": {
               "duration": 0,
               "easing": "linear"
              }
             }
            ],
            "label": "&#9724;",
            "method": "animate"
           }
          ],
          "direction": "left",
          "pad": {
           "r": 10,
           "t": 70
          },
          "showactive": false,
          "type": "buttons",
          "x": 0.1,
          "xanchor": "right",
          "y": 0,
          "yanchor": "top"
         }
        ],
        "xaxis": {
         "anchor": "y",
         "domain": [
          0,
          1
         ],
         "title": {
          "text": "Date"
         }
        },
        "yaxis": {
         "anchor": "x",
         "domain": [
          0,
          1
         ],
         "title": {
          "text": "Estimated Unemployment Rate (%)"
         }
        }
       }
      },
      "text/html": [
       "<div>                            <div id=\"1c9b0ad4-fc11-4644-8af0-a087ef7c3991\" class=\"plotly-graph-div\" style=\"height:525px; width:100%;\"></div>            <script type=\"text/javascript\">                require([\"plotly\"], function(Plotly) {                    window.PLOTLYENV=window.PLOTLYENV || {};                                    if (document.getElementById(\"1c9b0ad4-fc11-4644-8af0-a087ef7c3991\")) {                    Plotly.newPlot(                        \"1c9b0ad4-fc11-4644-8af0-a087ef7c3991\",                        [{\"alignmentgroup\":\"True\",\"hovertemplate\":\"Region=Andhra Pradesh<br>Date=%{x}<br>Estimated Unemployment Rate (%)=%{y}<extra></extra>\",\"legendgroup\":\"\",\"marker\":{\"color\":\"#636efa\",\"pattern\":{\"shape\":\"\"}},\"name\":\"\",\"offsetgroup\":\"\",\"orientation\":\"v\",\"showlegend\":false,\"textposition\":\"auto\",\"x\":[\"2019-05-31T00:00:00\",\"2019-06-30T00:00:00\",\"2019-07-31T00:00:00\",\"2019-08-31T00:00:00\",\"2019-09-30T00:00:00\",\"2019-10-31T00:00:00\",\"2019-11-30T00:00:00\",\"2019-12-31T00:00:00\",\"2020-01-31T00:00:00\",\"2020-02-29T00:00:00\",\"2020-03-31T00:00:00\",\"2020-04-30T00:00:00\",\"2020-05-31T00:00:00\",\"2020-06-30T00:00:00\",\"2019-05-31T00:00:00\",\"2019-06-30T00:00:00\",\"2019-07-31T00:00:00\",\"2019-08-31T00:00:00\",\"2019-09-30T00:00:00\",\"2019-10-31T00:00:00\",\"2019-11-30T00:00:00\",\"2019-12-31T00:00:00\",\"2020-01-31T00:00:00\",\"2020-02-29T00:00:00\",\"2020-03-31T00:00:00\",\"2020-04-30T00:00:00\",\"2020-05-31T00:00:00\",\"2020-06-30T00:00:00\"],\"xaxis\":\"x\",\"y\":[3.65,3.05,3.75,3.32,5.17,3.52,4.12,4.38,4.84,5.91,4.06,16.29,14.46,0.85,6.09,3.8,5.64,4.61,6.01,4.7,7.54,7.88,7.11,5.66,9.88,32.3,24.91,5.86],\"yaxis\":\"y\",\"type\":\"bar\"}],                        {\"template\":{\"data\":{\"histogram2dcontour\":[{\"type\":\"histogram2dcontour\",\"colorbar\":{\"outlinewidth\":0,\"ticks\":\"\"},\"colorscale\":[[0.0,\"#0d0887\"],[0.1111111111111111,\"#46039f\"],[0.2222222222222222,\"#7201a8\"],[0.3333333333333333,\"#9c179e\"],[0.4444444444444444,\"#bd3786\"],[0.5555555555555556,\"#d8576b\"],[0.6666666666666666,\"#ed7953\"],[0.7777777777777778,\"#fb9f3a\"],[0.8888888888888888,\"#fdca26\"],[1.0,\"#f0f921\"]]}],\"choropleth\":[{\"type\":\"choropleth\",\"colorbar\":{\"outlinewidth\":0,\"ticks\":\"\"}}],\"histogram2d\":[{\"type\":\"histogram2d\",\"colorbar\":{\"outlinewidth\":0,\"ticks\":\"\"},\"colorscale\":[[0.0,\"#0d0887\"],[0.1111111111111111,\"#46039f\"],[0.2222222222222222,\"#7201a8\"],[0.3333333333333333,\"#9c179e\"],[0.4444444444444444,\"#bd3786\"],[0.5555555555555556,\"#d8576b\"],[0.6666666666666666,\"#ed7953\"],[0.7777777777777778,\"#fb9f3a\"],[0.8888888888888888,\"#fdca26\"],[1.0,\"#f0f921\"]]}],\"heatmap\":[{\"type\":\"heatmap\",\"colorbar\":{\"outlinewidth\":0,\"ticks\":\"\"},\"colorscale\":[[0.0,\"#0d0887\"],[0.1111111111111111,\"#46039f\"],[0.2222222222222222,\"#7201a8\"],[0.3333333333333333,\"#9c179e\"],[0.4444444444444444,\"#bd3786\"],[0.5555555555555556,\"#d8576b\"],[0.6666666666666666,\"#ed7953\"],[0.7777777777777778,\"#fb9f3a\"],[0.8888888888888888,\"#fdca26\"],[1.0,\"#f0f921\"]]}],\"heatmapgl\":[{\"type\":\"heatmapgl\",\"colorbar\":{\"outlinewidth\":0,\"ticks\":\"\"},\"colorscale\":[[0.0,\"#0d0887\"],[0.1111111111111111,\"#46039f\"],[0.2222222222222222,\"#7201a8\"],[0.3333333333333333,\"#9c179e\"],[0.4444444444444444,\"#bd3786\"],[0.5555555555555556,\"#d8576b\"],[0.6666666666666666,\"#ed7953\"],[0.7777777777777778,\"#fb9f3a\"],[0.8888888888888888,\"#fdca26\"],[1.0,\"#f0f921\"]]}],\"contourcarpet\":[{\"type\":\"contourcarpet\",\"colorbar\":{\"outlinewidth\":0,\"ticks\":\"\"}}],\"contour\":[{\"type\":\"contour\",\"colorbar\":{\"outlinewidth\":0,\"ticks\":\"\"},\"colorscale\":[[0.0,\"#0d0887\"],[0.1111111111111111,\"#46039f\"],[0.2222222222222222,\"#7201a8\"],[0.3333333333333333,\"#9c179e\"],[0.4444444444444444,\"#bd3786\"],[0.5555555555555556,\"#d8576b\"],[0.6666666666666666,\"#ed7953\"],[0.7777777777777778,\"#fb9f3a\"],[0.8888888888888888,\"#fdca26\"],[1.0,\"#f0f921\"]]}],\"surface\":[{\"type\":\"surface\",\"colorbar\":{\"outlinewidth\":0,\"ticks\":\"\"},\"colorscale\":[[0.0,\"#0d0887\"],[0.1111111111111111,\"#46039f\"],[0.2222222222222222,\"#7201a8\"],[0.3333333333333333,\"#9c179e\"],[0.4444444444444444,\"#bd3786\"],[0.5555555555555556,\"#d8576b\"],[0.6666666666666666,\"#ed7953\"],[0.7777777777777778,\"#fb9f3a\"],[0.8888888888888888,\"#fdca26\"],[1.0,\"#f0f921\"]]}],\"mesh3d\":[{\"type\":\"mesh3d\",\"colorbar\":{\"outlinewidth\":0,\"ticks\":\"\"}}],\"scatter\":[{\"fillpattern\":{\"fillmode\":\"overlay\",\"size\":10,\"solidity\":0.2},\"type\":\"scatter\"}],\"parcoords\":[{\"type\":\"parcoords\",\"line\":{\"colorbar\":{\"outlinewidth\":0,\"ticks\":\"\"}}}],\"scatterpolargl\":[{\"type\":\"scatterpolargl\",\"marker\":{\"colorbar\":{\"outlinewidth\":0,\"ticks\":\"\"}}}],\"bar\":[{\"error_x\":{\"color\":\"#2a3f5f\"},\"error_y\":{\"color\":\"#2a3f5f\"},\"marker\":{\"line\":{\"color\":\"#E5ECF6\",\"width\":0.5},\"pattern\":{\"fillmode\":\"overlay\",\"size\":10,\"solidity\":0.2}},\"type\":\"bar\"}],\"scattergeo\":[{\"type\":\"scattergeo\",\"marker\":{\"colorbar\":{\"outlinewidth\":0,\"ticks\":\"\"}}}],\"scatterpolar\":[{\"type\":\"scatterpolar\",\"marker\":{\"colorbar\":{\"outlinewidth\":0,\"ticks\":\"\"}}}],\"histogram\":[{\"marker\":{\"pattern\":{\"fillmode\":\"overlay\",\"size\":10,\"solidity\":0.2}},\"type\":\"histogram\"}],\"scattergl\":[{\"type\":\"scattergl\",\"marker\":{\"colorbar\":{\"outlinewidth\":0,\"ticks\":\"\"}}}],\"scatter3d\":[{\"type\":\"scatter3d\",\"line\":{\"colorbar\":{\"outlinewidth\":0,\"ticks\":\"\"}},\"marker\":{\"colorbar\":{\"outlinewidth\":0,\"ticks\":\"\"}}}],\"scattermapbox\":[{\"type\":\"scattermapbox\",\"marker\":{\"colorbar\":{\"outlinewidth\":0,\"ticks\":\"\"}}}],\"scatterternary\":[{\"type\":\"scatterternary\",\"marker\":{\"colorbar\":{\"outlinewidth\":0,\"ticks\":\"\"}}}],\"scattercarpet\":[{\"type\":\"scattercarpet\",\"marker\":{\"colorbar\":{\"outlinewidth\":0,\"ticks\":\"\"}}}],\"carpet\":[{\"aaxis\":{\"endlinecolor\":\"#2a3f5f\",\"gridcolor\":\"white\",\"linecolor\":\"white\",\"minorgridcolor\":\"white\",\"startlinecolor\":\"#2a3f5f\"},\"baxis\":{\"endlinecolor\":\"#2a3f5f\",\"gridcolor\":\"white\",\"linecolor\":\"white\",\"minorgridcolor\":\"white\",\"startlinecolor\":\"#2a3f5f\"},\"type\":\"carpet\"}],\"table\":[{\"cells\":{\"fill\":{\"color\":\"#EBF0F8\"},\"line\":{\"color\":\"white\"}},\"header\":{\"fill\":{\"color\":\"#C8D4E3\"},\"line\":{\"color\":\"white\"}},\"type\":\"table\"}],\"barpolar\":[{\"marker\":{\"line\":{\"color\":\"#E5ECF6\",\"width\":0.5},\"pattern\":{\"fillmode\":\"overlay\",\"size\":10,\"solidity\":0.2}},\"type\":\"barpolar\"}],\"pie\":[{\"automargin\":true,\"type\":\"pie\"}]},\"layout\":{\"autotypenumbers\":\"strict\",\"colorway\":[\"#636efa\",\"#EF553B\",\"#00cc96\",\"#ab63fa\",\"#FFA15A\",\"#19d3f3\",\"#FF6692\",\"#B6E880\",\"#FF97FF\",\"#FECB52\"],\"font\":{\"color\":\"#2a3f5f\"},\"hovermode\":\"closest\",\"hoverlabel\":{\"align\":\"left\"},\"paper_bgcolor\":\"white\",\"plot_bgcolor\":\"#E5ECF6\",\"polar\":{\"bgcolor\":\"#E5ECF6\",\"angularaxis\":{\"gridcolor\":\"white\",\"linecolor\":\"white\",\"ticks\":\"\"},\"radialaxis\":{\"gridcolor\":\"white\",\"linecolor\":\"white\",\"ticks\":\"\"}},\"ternary\":{\"bgcolor\":\"#E5ECF6\",\"aaxis\":{\"gridcolor\":\"white\",\"linecolor\":\"white\",\"ticks\":\"\"},\"baxis\":{\"gridcolor\":\"white\",\"linecolor\":\"white\",\"ticks\":\"\"},\"caxis\":{\"gridcolor\":\"white\",\"linecolor\":\"white\",\"ticks\":\"\"}},\"coloraxis\":{\"colorbar\":{\"outlinewidth\":0,\"ticks\":\"\"}},\"colorscale\":{\"sequential\":[[0.0,\"#0d0887\"],[0.1111111111111111,\"#46039f\"],[0.2222222222222222,\"#7201a8\"],[0.3333333333333333,\"#9c179e\"],[0.4444444444444444,\"#bd3786\"],[0.5555555555555556,\"#d8576b\"],[0.6666666666666666,\"#ed7953\"],[0.7777777777777778,\"#fb9f3a\"],[0.8888888888888888,\"#fdca26\"],[1.0,\"#f0f921\"]],\"sequentialminus\":[[0.0,\"#0d0887\"],[0.1111111111111111,\"#46039f\"],[0.2222222222222222,\"#7201a8\"],[0.3333333333333333,\"#9c179e\"],[0.4444444444444444,\"#bd3786\"],[0.5555555555555556,\"#d8576b\"],[0.6666666666666666,\"#ed7953\"],[0.7777777777777778,\"#fb9f3a\"],[0.8888888888888888,\"#fdca26\"],[1.0,\"#f0f921\"]],\"diverging\":[[0,\"#8e0152\"],[0.1,\"#c51b7d\"],[0.2,\"#de77ae\"],[0.3,\"#f1b6da\"],[0.4,\"#fde0ef\"],[0.5,\"#f7f7f7\"],[0.6,\"#e6f5d0\"],[0.7,\"#b8e186\"],[0.8,\"#7fbc41\"],[0.9,\"#4d9221\"],[1,\"#276419\"]]},\"xaxis\":{\"gridcolor\":\"white\",\"linecolor\":\"white\",\"ticks\":\"\",\"title\":{\"standoff\":15},\"zerolinecolor\":\"white\",\"automargin\":true,\"zerolinewidth\":2},\"yaxis\":{\"gridcolor\":\"white\",\"linecolor\":\"white\",\"ticks\":\"\",\"title\":{\"standoff\":15},\"zerolinecolor\":\"white\",\"automargin\":true,\"zerolinewidth\":2},\"scene\":{\"xaxis\":{\"backgroundcolor\":\"#E5ECF6\",\"gridcolor\":\"white\",\"linecolor\":\"white\",\"showbackground\":true,\"ticks\":\"\",\"zerolinecolor\":\"white\",\"gridwidth\":2},\"yaxis\":{\"backgroundcolor\":\"#E5ECF6\",\"gridcolor\":\"white\",\"linecolor\":\"white\",\"showbackground\":true,\"ticks\":\"\",\"zerolinecolor\":\"white\",\"gridwidth\":2},\"zaxis\":{\"backgroundcolor\":\"#E5ECF6\",\"gridcolor\":\"white\",\"linecolor\":\"white\",\"showbackground\":true,\"ticks\":\"\",\"zerolinecolor\":\"white\",\"gridwidth\":2}},\"shapedefaults\":{\"line\":{\"color\":\"#2a3f5f\"}},\"annotationdefaults\":{\"arrowcolor\":\"#2a3f5f\",\"arrowhead\":0,\"arrowwidth\":1},\"geo\":{\"bgcolor\":\"white\",\"landcolor\":\"#E5ECF6\",\"subunitcolor\":\"white\",\"showland\":true,\"showlakes\":true,\"lakecolor\":\"white\"},\"title\":{\"x\":0.05},\"mapbox\":{\"style\":\"light\"}}},\"xaxis\":{\"anchor\":\"y\",\"domain\":[0.0,1.0],\"title\":{\"text\":\"Date\"}},\"yaxis\":{\"anchor\":\"x\",\"domain\":[0.0,1.0],\"title\":{\"text\":\"Estimated Unemployment Rate (%)\"}},\"legend\":{\"tracegroupgap\":0},\"title\":{\"text\":\"Unemployment rate over time for each state\"},\"barmode\":\"relative\",\"updatemenus\":[{\"buttons\":[{\"args\":[null,{\"frame\":{\"duration\":500,\"redraw\":true},\"mode\":\"immediate\",\"fromcurrent\":true,\"transition\":{\"duration\":500,\"easing\":\"linear\"}}],\"label\":\"&#9654;\",\"method\":\"animate\"},{\"args\":[[null],{\"frame\":{\"duration\":0,\"redraw\":true},\"mode\":\"immediate\",\"fromcurrent\":true,\"transition\":{\"duration\":0,\"easing\":\"linear\"}}],\"label\":\"&#9724;\",\"method\":\"animate\"}],\"direction\":\"left\",\"pad\":{\"r\":10,\"t\":70},\"showactive\":false,\"type\":\"buttons\",\"x\":0.1,\"xanchor\":\"right\",\"y\":0,\"yanchor\":\"top\"}],\"sliders\":[{\"active\":0,\"currentvalue\":{\"prefix\":\"Region=\"},\"len\":0.9,\"pad\":{\"b\":10,\"t\":60},\"steps\":[{\"args\":[[\"Andhra Pradesh\"],{\"frame\":{\"duration\":0,\"redraw\":true},\"mode\":\"immediate\",\"fromcurrent\":true,\"transition\":{\"duration\":0,\"easing\":\"linear\"}}],\"label\":\"Andhra Pradesh\",\"method\":\"animate\"},{\"args\":[[\"Assam\"],{\"frame\":{\"duration\":0,\"redraw\":true},\"mode\":\"immediate\",\"fromcurrent\":true,\"transition\":{\"duration\":0,\"easing\":\"linear\"}}],\"label\":\"Assam\",\"method\":\"animate\"},{\"args\":[[\"Bihar\"],{\"frame\":{\"duration\":0,\"redraw\":true},\"mode\":\"immediate\",\"fromcurrent\":true,\"transition\":{\"duration\":0,\"easing\":\"linear\"}}],\"label\":\"Bihar\",\"method\":\"animate\"},{\"args\":[[\"Chhattisgarh\"],{\"frame\":{\"duration\":0,\"redraw\":true},\"mode\":\"immediate\",\"fromcurrent\":true,\"transition\":{\"duration\":0,\"easing\":\"linear\"}}],\"label\":\"Chhattisgarh\",\"method\":\"animate\"},{\"args\":[[\"Delhi\"],{\"frame\":{\"duration\":0,\"redraw\":true},\"mode\":\"immediate\",\"fromcurrent\":true,\"transition\":{\"duration\":0,\"easing\":\"linear\"}}],\"label\":\"Delhi\",\"method\":\"animate\"},{\"args\":[[\"Goa\"],{\"frame\":{\"duration\":0,\"redraw\":true},\"mode\":\"immediate\",\"fromcurrent\":true,\"transition\":{\"duration\":0,\"easing\":\"linear\"}}],\"label\":\"Goa\",\"method\":\"animate\"},{\"args\":[[\"Gujarat\"],{\"frame\":{\"duration\":0,\"redraw\":true},\"mode\":\"immediate\",\"fromcurrent\":true,\"transition\":{\"duration\":0,\"easing\":\"linear\"}}],\"label\":\"Gujarat\",\"method\":\"animate\"},{\"args\":[[\"Haryana\"],{\"frame\":{\"duration\":0,\"redraw\":true},\"mode\":\"immediate\",\"fromcurrent\":true,\"transition\":{\"duration\":0,\"easing\":\"linear\"}}],\"label\":\"Haryana\",\"method\":\"animate\"},{\"args\":[[\"Himachal Pradesh\"],{\"frame\":{\"duration\":0,\"redraw\":true},\"mode\":\"immediate\",\"fromcurrent\":true,\"transition\":{\"duration\":0,\"easing\":\"linear\"}}],\"label\":\"Himachal Pradesh\",\"method\":\"animate\"},{\"args\":[[\"Jammu & Kashmir\"],{\"frame\":{\"duration\":0,\"redraw\":true},\"mode\":\"immediate\",\"fromcurrent\":true,\"transition\":{\"duration\":0,\"easing\":\"linear\"}}],\"label\":\"Jammu & Kashmir\",\"method\":\"animate\"},{\"args\":[[\"Jharkhand\"],{\"frame\":{\"duration\":0,\"redraw\":true},\"mode\":\"immediate\",\"fromcurrent\":true,\"transition\":{\"duration\":0,\"easing\":\"linear\"}}],\"label\":\"Jharkhand\",\"method\":\"animate\"},{\"args\":[[\"Karnataka\"],{\"frame\":{\"duration\":0,\"redraw\":true},\"mode\":\"immediate\",\"fromcurrent\":true,\"transition\":{\"duration\":0,\"easing\":\"linear\"}}],\"label\":\"Karnataka\",\"method\":\"animate\"},{\"args\":[[\"Kerala\"],{\"frame\":{\"duration\":0,\"redraw\":true},\"mode\":\"immediate\",\"fromcurrent\":true,\"transition\":{\"duration\":0,\"easing\":\"linear\"}}],\"label\":\"Kerala\",\"method\":\"animate\"},{\"args\":[[\"Madhya Pradesh\"],{\"frame\":{\"duration\":0,\"redraw\":true},\"mode\":\"immediate\",\"fromcurrent\":true,\"transition\":{\"duration\":0,\"easing\":\"linear\"}}],\"label\":\"Madhya Pradesh\",\"method\":\"animate\"},{\"args\":[[\"Maharashtra\"],{\"frame\":{\"duration\":0,\"redraw\":true},\"mode\":\"immediate\",\"fromcurrent\":true,\"transition\":{\"duration\":0,\"easing\":\"linear\"}}],\"label\":\"Maharashtra\",\"method\":\"animate\"},{\"args\":[[\"Meghalaya\"],{\"frame\":{\"duration\":0,\"redraw\":true},\"mode\":\"immediate\",\"fromcurrent\":true,\"transition\":{\"duration\":0,\"easing\":\"linear\"}}],\"label\":\"Meghalaya\",\"method\":\"animate\"},{\"args\":[[\"Odisha\"],{\"frame\":{\"duration\":0,\"redraw\":true},\"mode\":\"immediate\",\"fromcurrent\":true,\"transition\":{\"duration\":0,\"easing\":\"linear\"}}],\"label\":\"Odisha\",\"method\":\"animate\"},{\"args\":[[\"Puducherry\"],{\"frame\":{\"duration\":0,\"redraw\":true},\"mode\":\"immediate\",\"fromcurrent\":true,\"transition\":{\"duration\":0,\"easing\":\"linear\"}}],\"label\":\"Puducherry\",\"method\":\"animate\"},{\"args\":[[\"Punjab\"],{\"frame\":{\"duration\":0,\"redraw\":true},\"mode\":\"immediate\",\"fromcurrent\":true,\"transition\":{\"duration\":0,\"easing\":\"linear\"}}],\"label\":\"Punjab\",\"method\":\"animate\"},{\"args\":[[\"Rajasthan\"],{\"frame\":{\"duration\":0,\"redraw\":true},\"mode\":\"immediate\",\"fromcurrent\":true,\"transition\":{\"duration\":0,\"easing\":\"linear\"}}],\"label\":\"Rajasthan\",\"method\":\"animate\"},{\"args\":[[\"Sikkim\"],{\"frame\":{\"duration\":0,\"redraw\":true},\"mode\":\"immediate\",\"fromcurrent\":true,\"transition\":{\"duration\":0,\"easing\":\"linear\"}}],\"label\":\"Sikkim\",\"method\":\"animate\"},{\"args\":[[\"Tamil Nadu\"],{\"frame\":{\"duration\":0,\"redraw\":true},\"mode\":\"immediate\",\"fromcurrent\":true,\"transition\":{\"duration\":0,\"easing\":\"linear\"}}],\"label\":\"Tamil Nadu\",\"method\":\"animate\"},{\"args\":[[\"Telangana\"],{\"frame\":{\"duration\":0,\"redraw\":true},\"mode\":\"immediate\",\"fromcurrent\":true,\"transition\":{\"duration\":0,\"easing\":\"linear\"}}],\"label\":\"Telangana\",\"method\":\"animate\"},{\"args\":[[\"Tripura\"],{\"frame\":{\"duration\":0,\"redraw\":true},\"mode\":\"immediate\",\"fromcurrent\":true,\"transition\":{\"duration\":0,\"easing\":\"linear\"}}],\"label\":\"Tripura\",\"method\":\"animate\"},{\"args\":[[\"Uttar Pradesh\"],{\"frame\":{\"duration\":0,\"redraw\":true},\"mode\":\"immediate\",\"fromcurrent\":true,\"transition\":{\"duration\":0,\"easing\":\"linear\"}}],\"label\":\"Uttar Pradesh\",\"method\":\"animate\"},{\"args\":[[\"Uttarakhand\"],{\"frame\":{\"duration\":0,\"redraw\":true},\"mode\":\"immediate\",\"fromcurrent\":true,\"transition\":{\"duration\":0,\"easing\":\"linear\"}}],\"label\":\"Uttarakhand\",\"method\":\"animate\"},{\"args\":[[\"West Bengal\"],{\"frame\":{\"duration\":0,\"redraw\":true},\"mode\":\"immediate\",\"fromcurrent\":true,\"transition\":{\"duration\":0,\"easing\":\"linear\"}}],\"label\":\"West Bengal\",\"method\":\"animate\"},{\"args\":[[\"Chandigarh\"],{\"frame\":{\"duration\":0,\"redraw\":true},\"mode\":\"immediate\",\"fromcurrent\":true,\"transition\":{\"duration\":0,\"easing\":\"linear\"}}],\"label\":\"Chandigarh\",\"method\":\"animate\"}],\"x\":0.1,\"xanchor\":\"left\",\"y\":0,\"yanchor\":\"top\"}]},                        {\"responsive\": true}                    ).then(function(){\n",
       "                            Plotly.addFrames('1c9b0ad4-fc11-4644-8af0-a087ef7c3991', [{\"data\":[{\"alignmentgroup\":\"True\",\"hovertemplate\":\"Region=Andhra Pradesh<br>Date=%{x}<br>Estimated Unemployment Rate (%)=%{y}<extra></extra>\",\"legendgroup\":\"\",\"marker\":{\"color\":\"#636efa\",\"pattern\":{\"shape\":\"\"}},\"name\":\"\",\"offsetgroup\":\"\",\"orientation\":\"v\",\"showlegend\":false,\"textposition\":\"auto\",\"x\":[\"2019-05-31T00:00:00\",\"2019-06-30T00:00:00\",\"2019-07-31T00:00:00\",\"2019-08-31T00:00:00\",\"2019-09-30T00:00:00\",\"2019-10-31T00:00:00\",\"2019-11-30T00:00:00\",\"2019-12-31T00:00:00\",\"2020-01-31T00:00:00\",\"2020-02-29T00:00:00\",\"2020-03-31T00:00:00\",\"2020-04-30T00:00:00\",\"2020-05-31T00:00:00\",\"2020-06-30T00:00:00\",\"2019-05-31T00:00:00\",\"2019-06-30T00:00:00\",\"2019-07-31T00:00:00\",\"2019-08-31T00:00:00\",\"2019-09-30T00:00:00\",\"2019-10-31T00:00:00\",\"2019-11-30T00:00:00\",\"2019-12-31T00:00:00\",\"2020-01-31T00:00:00\",\"2020-02-29T00:00:00\",\"2020-03-31T00:00:00\",\"2020-04-30T00:00:00\",\"2020-05-31T00:00:00\",\"2020-06-30T00:00:00\"],\"xaxis\":\"x\",\"y\":[3.65,3.05,3.75,3.32,5.17,3.52,4.12,4.38,4.84,5.91,4.06,16.29,14.46,0.85,6.09,3.8,5.64,4.61,6.01,4.7,7.54,7.88,7.11,5.66,9.88,32.3,24.91,5.86],\"yaxis\":\"y\",\"type\":\"bar\"}],\"name\":\"Andhra Pradesh\"},{\"data\":[{\"alignmentgroup\":\"True\",\"hovertemplate\":\"Region=Assam<br>Date=%{x}<br>Estimated Unemployment Rate (%)=%{y}<extra></extra>\",\"legendgroup\":\"\",\"marker\":{\"color\":\"#636efa\",\"pattern\":{\"shape\":\"\"}},\"name\":\"\",\"offsetgroup\":\"\",\"orientation\":\"v\",\"showlegend\":false,\"textposition\":\"auto\",\"x\":[\"2019-05-31T00:00:00\",\"2019-06-30T00:00:00\",\"2019-07-31T00:00:00\",\"2019-08-31T00:00:00\",\"2019-09-30T00:00:00\",\"2019-10-31T00:00:00\",\"2019-11-30T00:00:00\",\"2020-01-31T00:00:00\",\"2020-02-29T00:00:00\",\"2020-03-31T00:00:00\",\"2020-05-31T00:00:00\",\"2020-06-30T00:00:00\",\"2019-05-31T00:00:00\",\"2019-06-30T00:00:00\",\"2019-07-31T00:00:00\",\"2019-08-31T00:00:00\",\"2019-09-30T00:00:00\",\"2019-10-31T00:00:00\",\"2019-11-30T00:00:00\",\"2019-12-31T00:00:00\",\"2020-01-31T00:00:00\",\"2020-02-29T00:00:00\",\"2020-03-31T00:00:00\",\"2020-04-30T00:00:00\",\"2020-05-31T00:00:00\",\"2020-06-30T00:00:00\"],\"xaxis\":\"x\",\"y\":[4.29,5.08,4.26,5.79,4.46,4.65,4.66,4.29,3.26,3.77,9.38,0.0,7.87,9.89,3.21,10.39,9.26,11.17,6.31,5.02,7.24,9.98,10.34,8.37,10.77,3.42],\"yaxis\":\"y\",\"type\":\"bar\"}],\"name\":\"Assam\"},{\"data\":[{\"alignmentgroup\":\"True\",\"hovertemplate\":\"Region=Bihar<br>Date=%{x}<br>Estimated Unemployment Rate (%)=%{y}<extra></extra>\",\"legendgroup\":\"\",\"marker\":{\"color\":\"#636efa\",\"pattern\":{\"shape\":\"\"}},\"name\":\"\",\"offsetgroup\":\"\",\"orientation\":\"v\",\"showlegend\":false,\"textposition\":\"auto\",\"x\":[\"2019-05-31T00:00:00\",\"2019-06-30T00:00:00\",\"2019-07-31T00:00:00\",\"2019-08-31T00:00:00\",\"2019-09-30T00:00:00\",\"2019-10-31T00:00:00\",\"2019-11-30T00:00:00\",\"2019-12-31T00:00:00\",\"2020-01-31T00:00:00\",\"2020-02-29T00:00:00\",\"2020-03-31T00:00:00\",\"2020-04-30T00:00:00\",\"2020-05-31T00:00:00\",\"2020-06-30T00:00:00\",\"2019-05-31T00:00:00\",\"2019-06-30T00:00:00\",\"2019-07-31T00:00:00\",\"2019-08-31T00:00:00\",\"2019-09-30T00:00:00\",\"2019-10-31T00:00:00\",\"2019-11-30T00:00:00\",\"2019-12-31T00:00:00\",\"2020-01-31T00:00:00\",\"2020-02-29T00:00:00\",\"2020-03-31T00:00:00\",\"2020-04-30T00:00:00\",\"2020-05-31T00:00:00\",\"2020-06-30T00:00:00\"],\"xaxis\":\"x\",\"y\":[9.27,10.2,13.44,11.0,8.87,12.47,12.4,10.16,9.13,9.61,15.39,45.09,47.26,20.49,19.9,13.29,16.41,17.66,20.46,14.06,17.62,14.91,20.69,15.11,15.73,58.77,37.87,12.45],\"yaxis\":\"y\",\"type\":\"bar\"}],\"name\":\"Bihar\"},{\"data\":[{\"alignmentgroup\":\"True\",\"hovertemplate\":\"Region=Chhattisgarh<br>Date=%{x}<br>Estimated Unemployment Rate (%)=%{y}<extra></extra>\",\"legendgroup\":\"\",\"marker\":{\"color\":\"#636efa\",\"pattern\":{\"shape\":\"\"}},\"name\":\"\",\"offsetgroup\":\"\",\"orientation\":\"v\",\"showlegend\":false,\"textposition\":\"auto\",\"x\":[\"2019-05-31T00:00:00\",\"2019-06-30T00:00:00\",\"2019-07-31T00:00:00\",\"2019-08-31T00:00:00\",\"2019-09-30T00:00:00\",\"2019-10-31T00:00:00\",\"2019-11-30T00:00:00\",\"2019-12-31T00:00:00\",\"2020-01-31T00:00:00\",\"2020-02-29T00:00:00\",\"2020-03-31T00:00:00\",\"2020-04-30T00:00:00\",\"2020-05-31T00:00:00\",\"2020-06-30T00:00:00\",\"2019-05-31T00:00:00\",\"2019-06-30T00:00:00\",\"2019-07-31T00:00:00\",\"2019-08-31T00:00:00\",\"2019-09-30T00:00:00\",\"2019-10-31T00:00:00\",\"2019-11-30T00:00:00\",\"2019-12-31T00:00:00\",\"2020-01-31T00:00:00\",\"2020-02-29T00:00:00\",\"2020-03-31T00:00:00\",\"2020-04-30T00:00:00\",\"2020-05-31T00:00:00\",\"2020-06-30T00:00:00\"],\"xaxis\":\"x\",\"y\":[9.82,6.76,4.54,4.64,8.33,6.96,2.77,6.11,9.89,7.89,7.31,0.0,7.64,10.14,9.77,11.77,8.17,6.29,9.46,10.27,8.32,3.57,9.01,9.79,8.21,20.13,24.1,27.07],\"yaxis\":\"y\",\"type\":\"bar\"}],\"name\":\"Chhattisgarh\"},{\"data\":[{\"alignmentgroup\":\"True\",\"hovertemplate\":\"Region=Delhi<br>Date=%{x}<br>Estimated Unemployment Rate (%)=%{y}<extra></extra>\",\"legendgroup\":\"\",\"marker\":{\"color\":\"#636efa\",\"pattern\":{\"shape\":\"\"}},\"name\":\"\",\"offsetgroup\":\"\",\"orientation\":\"v\",\"showlegend\":false,\"textposition\":\"auto\",\"x\":[\"2019-05-31T00:00:00\",\"2019-06-30T00:00:00\",\"2019-07-31T00:00:00\",\"2019-08-31T00:00:00\",\"2019-09-30T00:00:00\",\"2019-10-31T00:00:00\",\"2019-11-30T00:00:00\",\"2019-12-31T00:00:00\",\"2020-01-31T00:00:00\",\"2020-02-29T00:00:00\",\"2020-03-31T00:00:00\",\"2020-04-30T00:00:00\",\"2020-05-31T00:00:00\",\"2020-06-30T00:00:00\",\"2019-05-31T00:00:00\",\"2019-06-30T00:00:00\",\"2019-07-31T00:00:00\",\"2019-08-31T00:00:00\",\"2019-09-30T00:00:00\",\"2019-10-31T00:00:00\",\"2019-11-30T00:00:00\",\"2019-12-31T00:00:00\",\"2020-01-31T00:00:00\",\"2020-02-29T00:00:00\",\"2020-03-31T00:00:00\",\"2020-04-30T00:00:00\",\"2020-05-31T00:00:00\",\"2020-06-30T00:00:00\"],\"xaxis\":\"x\",\"y\":[12.56,9.33,11.07,17.18,12.5,15.84,11.11,16.97,13.48,13.81,15.18,20.69,22.76,21.14,12.31,12.76,14.68,13.52,20.59,12.41,16.11,11.07,22.45,14.86,17.09,16.51,45.78,18.11],\"yaxis\":\"y\",\"type\":\"bar\"}],\"name\":\"Delhi\"},{\"data\":[{\"alignmentgroup\":\"True\",\"hovertemplate\":\"Region=Goa<br>Date=%{x}<br>Estimated Unemployment Rate (%)=%{y}<extra></extra>\",\"legendgroup\":\"\",\"marker\":{\"color\":\"#636efa\",\"pattern\":{\"shape\":\"\"}},\"name\":\"\",\"offsetgroup\":\"\",\"orientation\":\"v\",\"showlegend\":false,\"textposition\":\"auto\",\"x\":[\"2019-05-31T00:00:00\",\"2019-06-30T00:00:00\",\"2019-07-31T00:00:00\",\"2019-08-31T00:00:00\",\"2019-09-30T00:00:00\",\"2019-10-31T00:00:00\",\"2019-11-30T00:00:00\",\"2019-12-31T00:00:00\",\"2020-01-31T00:00:00\",\"2020-02-29T00:00:00\",\"2020-04-30T00:00:00\",\"2020-05-31T00:00:00\",\"2019-05-31T00:00:00\",\"2019-06-30T00:00:00\",\"2019-07-31T00:00:00\",\"2019-08-31T00:00:00\",\"2019-09-30T00:00:00\",\"2019-10-31T00:00:00\",\"2019-11-30T00:00:00\",\"2019-12-31T00:00:00\",\"2020-01-31T00:00:00\",\"2020-02-29T00:00:00\",\"2020-03-31T00:00:00\",\"2020-04-30T00:00:00\"],\"xaxis\":\"x\",\"y\":[2.91,5.45,10.98,1.98,3.61,7.21,23.71,3.54,5.38,0.0,15.91,20.0,2.75,13.33,12.28,4.9,3.16,12.31,25.2,16.22,10.92,4.31,4.76,11.76],\"yaxis\":\"y\",\"type\":\"bar\"}],\"name\":\"Goa\"},{\"data\":[{\"alignmentgroup\":\"True\",\"hovertemplate\":\"Region=Gujarat<br>Date=%{x}<br>Estimated Unemployment Rate (%)=%{y}<extra></extra>\",\"legendgroup\":\"\",\"marker\":{\"color\":\"#636efa\",\"pattern\":{\"shape\":\"\"}},\"name\":\"\",\"offsetgroup\":\"\",\"orientation\":\"v\",\"showlegend\":false,\"textposition\":\"auto\",\"x\":[\"2019-05-31T00:00:00\",\"2019-06-30T00:00:00\",\"2019-07-31T00:00:00\",\"2019-08-31T00:00:00\",\"2019-09-30T00:00:00\",\"2019-10-31T00:00:00\",\"2019-11-30T00:00:00\",\"2019-12-31T00:00:00\",\"2020-01-31T00:00:00\",\"2020-02-29T00:00:00\",\"2020-03-31T00:00:00\",\"2020-04-30T00:00:00\",\"2020-05-31T00:00:00\",\"2020-06-30T00:00:00\",\"2019-05-31T00:00:00\",\"2019-06-30T00:00:00\",\"2019-07-31T00:00:00\",\"2019-08-31T00:00:00\",\"2019-09-30T00:00:00\",\"2019-10-31T00:00:00\",\"2019-11-30T00:00:00\",\"2019-12-31T00:00:00\",\"2020-01-31T00:00:00\",\"2020-02-29T00:00:00\",\"2020-03-31T00:00:00\",\"2020-04-30T00:00:00\",\"2020-05-31T00:00:00\",\"2020-06-30T00:00:00\"],\"xaxis\":\"x\",\"y\":[2.88,4.77,4.58,3.7,6.29,4.91,4.68,3.46,5.35,6.64,7.59,12.0,14.58,1.41,4.09,6.31,5.15,4.2,5.96,5.45,7.53,5.71,5.82,6.04,5.39,25.94,11.62,4.54],\"yaxis\":\"y\",\"type\":\"bar\"}],\"name\":\"Gujarat\"},{\"data\":[{\"alignmentgroup\":\"True\",\"hovertemplate\":\"Region=Haryana<br>Date=%{x}<br>Estimated Unemployment Rate (%)=%{y}<extra></extra>\",\"legendgroup\":\"\",\"marker\":{\"color\":\"#636efa\",\"pattern\":{\"shape\":\"\"}},\"name\":\"\",\"offsetgroup\":\"\",\"orientation\":\"v\",\"showlegend\":false,\"textposition\":\"auto\",\"x\":[\"2019-05-31T00:00:00\",\"2019-06-30T00:00:00\",\"2019-07-31T00:00:00\",\"2019-08-31T00:00:00\",\"2019-09-30T00:00:00\",\"2019-10-31T00:00:00\",\"2019-11-30T00:00:00\",\"2019-12-31T00:00:00\",\"2020-01-31T00:00:00\",\"2020-02-29T00:00:00\",\"2020-03-31T00:00:00\",\"2020-04-30T00:00:00\",\"2020-05-31T00:00:00\",\"2020-06-30T00:00:00\",\"2019-05-31T00:00:00\",\"2019-06-30T00:00:00\",\"2019-07-31T00:00:00\",\"2019-08-31T00:00:00\",\"2019-09-30T00:00:00\",\"2019-10-31T00:00:00\",\"2019-11-30T00:00:00\",\"2019-12-31T00:00:00\",\"2020-01-31T00:00:00\",\"2020-02-29T00:00:00\",\"2020-03-31T00:00:00\",\"2020-04-30T00:00:00\",\"2020-05-31T00:00:00\",\"2020-06-30T00:00:00\"],\"xaxis\":\"x\",\"y\":[14.54,23.08,16.22,30.94,16.36,24.17,16.59,29.56,16.21,27.19,23.92,41.61,34.22,35.57,24.67,20.42,25.45,24.19,26.84,21.04,27.06,23.65,27.24,23.29,27.14,46.89,38.46,29.41],\"yaxis\":\"y\",\"type\":\"bar\"}],\"name\":\"Haryana\"},{\"data\":[{\"alignmentgroup\":\"True\",\"hovertemplate\":\"Region=Himachal Pradesh<br>Date=%{x}<br>Estimated Unemployment Rate (%)=%{y}<extra></extra>\",\"legendgroup\":\"\",\"marker\":{\"color\":\"#636efa\",\"pattern\":{\"shape\":\"\"}},\"name\":\"\",\"offsetgroup\":\"\",\"orientation\":\"v\",\"showlegend\":false,\"textposition\":\"auto\",\"x\":[\"2019-05-31T00:00:00\",\"2019-06-30T00:00:00\",\"2019-07-31T00:00:00\",\"2019-08-31T00:00:00\",\"2019-09-30T00:00:00\",\"2019-10-31T00:00:00\",\"2019-11-30T00:00:00\",\"2019-12-31T00:00:00\",\"2020-01-31T00:00:00\",\"2020-02-29T00:00:00\",\"2020-03-31T00:00:00\",\"2020-04-30T00:00:00\",\"2020-05-31T00:00:00\",\"2020-06-30T00:00:00\",\"2019-05-31T00:00:00\",\"2019-06-30T00:00:00\",\"2019-07-31T00:00:00\",\"2019-08-31T00:00:00\",\"2019-09-30T00:00:00\",\"2019-10-31T00:00:00\",\"2019-11-30T00:00:00\",\"2019-12-31T00:00:00\",\"2020-01-31T00:00:00\",\"2020-02-29T00:00:00\",\"2020-03-31T00:00:00\",\"2020-04-30T00:00:00\",\"2020-05-31T00:00:00\",\"2020-06-30T00:00:00\"],\"xaxis\":\"x\",\"y\":[13.68,11.43,20.59,18.56,15.98,15.81,22.86,19.46,16.67,15.42,17.71,2.13,25.64,1.12,10.88,21.43,21.51,24.48,12.0,23.77,27.27,25.32,18.15,27.31,26.44,2.7,50.0,10.81],\"yaxis\":\"y\",\"type\":\"bar\"}],\"name\":\"Himachal Pradesh\"},{\"data\":[{\"alignmentgroup\":\"True\",\"hovertemplate\":\"Region=Jammu & Kashmir<br>Date=%{x}<br>Estimated Unemployment Rate (%)=%{y}<extra></extra>\",\"legendgroup\":\"\",\"marker\":{\"color\":\"#636efa\",\"pattern\":{\"shape\":\"\"}},\"name\":\"\",\"offsetgroup\":\"\",\"orientation\":\"v\",\"showlegend\":false,\"textposition\":\"auto\",\"x\":[\"2019-05-31T00:00:00\",\"2019-06-30T00:00:00\",\"2019-07-31T00:00:00\",\"2019-08-31T00:00:00\",\"2019-10-31T00:00:00\",\"2019-11-30T00:00:00\",\"2020-01-31T00:00:00\",\"2020-02-29T00:00:00\",\"2020-03-31T00:00:00\",\"2020-05-31T00:00:00\",\"2020-06-30T00:00:00\",\"2019-05-31T00:00:00\",\"2019-06-30T00:00:00\",\"2019-07-31T00:00:00\",\"2019-10-31T00:00:00\",\"2019-11-30T00:00:00\",\"2019-12-31T00:00:00\",\"2020-01-31T00:00:00\",\"2020-02-29T00:00:00\",\"2020-03-31T00:00:00\",\"2020-05-31T00:00:00\"],\"xaxis\":\"x\",\"y\":[12.78,12.09,13.67,11.32,19.27,14.73,22.19,21.23,16.0,2.22,18.97,23.04,19.88,21.55,24.06,14.29,7.02,18.54,19.86,14.29,12.96],\"yaxis\":\"y\",\"type\":\"bar\"}],\"name\":\"Jammu & Kashmir\"},{\"data\":[{\"alignmentgroup\":\"True\",\"hovertemplate\":\"Region=Jharkhand<br>Date=%{x}<br>Estimated Unemployment Rate (%)=%{y}<extra></extra>\",\"legendgroup\":\"\",\"marker\":{\"color\":\"#636efa\",\"pattern\":{\"shape\":\"\"}},\"name\":\"\",\"offsetgroup\":\"\",\"orientation\":\"v\",\"showlegend\":false,\"textposition\":\"auto\",\"x\":[\"2019-05-31T00:00:00\",\"2019-06-30T00:00:00\",\"2019-07-31T00:00:00\",\"2019-08-31T00:00:00\",\"2019-09-30T00:00:00\",\"2019-10-31T00:00:00\",\"2019-11-30T00:00:00\",\"2019-12-31T00:00:00\",\"2020-01-31T00:00:00\",\"2020-02-29T00:00:00\",\"2020-03-31T00:00:00\",\"2020-04-30T00:00:00\",\"2020-05-31T00:00:00\",\"2020-06-30T00:00:00\",\"2019-05-31T00:00:00\",\"2019-06-30T00:00:00\",\"2019-07-31T00:00:00\",\"2019-08-31T00:00:00\",\"2019-09-30T00:00:00\",\"2019-10-31T00:00:00\",\"2019-11-30T00:00:00\",\"2019-12-31T00:00:00\",\"2020-01-31T00:00:00\",\"2020-02-29T00:00:00\",\"2020-03-31T00:00:00\",\"2020-04-30T00:00:00\",\"2020-05-31T00:00:00\",\"2020-06-30T00:00:00\"],\"xaxis\":\"x\",\"y\":[7.11,8.46,9.98,12.06,7.12,6.57,8.07,15.15,6.16,9.06,5.01,41.72,55.1,21.53,17.23,20.51,15.67,20.25,21.16,19.05,17.34,22.01,22.96,19.67,16.4,61.48,70.17,19.38],\"yaxis\":\"y\",\"type\":\"bar\"}],\"name\":\"Jharkhand\"},{\"data\":[{\"alignmentgroup\":\"True\",\"hovertemplate\":\"Region=Karnataka<br>Date=%{x}<br>Estimated Unemployment Rate (%)=%{y}<extra></extra>\",\"legendgroup\":\"\",\"marker\":{\"color\":\"#636efa\",\"pattern\":{\"shape\":\"\"}},\"name\":\"\",\"offsetgroup\":\"\",\"orientation\":\"v\",\"showlegend\":false,\"textposition\":\"auto\",\"x\":[\"2019-05-31T00:00:00\",\"2019-06-30T00:00:00\",\"2019-07-31T00:00:00\",\"2019-08-31T00:00:00\",\"2019-09-30T00:00:00\",\"2019-10-31T00:00:00\",\"2019-11-30T00:00:00\",\"2019-12-31T00:00:00\",\"2020-01-31T00:00:00\",\"2020-02-29T00:00:00\",\"2020-03-31T00:00:00\",\"2020-04-30T00:00:00\",\"2020-05-31T00:00:00\",\"2020-06-30T00:00:00\",\"2019-05-31T00:00:00\",\"2019-06-30T00:00:00\",\"2019-07-31T00:00:00\",\"2019-08-31T00:00:00\",\"2019-09-30T00:00:00\",\"2019-10-31T00:00:00\",\"2019-11-30T00:00:00\",\"2019-12-31T00:00:00\",\"2020-01-31T00:00:00\",\"2020-02-29T00:00:00\",\"2020-03-31T00:00:00\",\"2020-04-30T00:00:00\",\"2020-05-31T00:00:00\",\"2020-06-30T00:00:00\"],\"xaxis\":\"x\",\"y\":[5.46,5.98,0.52,0.37,3.2,7.13,1.19,0.41,2.57,4.11,2.39,33.17,23.72,10.92,6.56,5.0,2.29,1.27,3.57,3.87,3.44,1.56,3.31,2.88,4.92,25.12,15.88,6.12],\"yaxis\":\"y\",\"type\":\"bar\"}],\"name\":\"Karnataka\"},{\"data\":[{\"alignmentgroup\":\"True\",\"hovertemplate\":\"Region=Kerala<br>Date=%{x}<br>Estimated Unemployment Rate (%)=%{y}<extra></extra>\",\"legendgroup\":\"\",\"marker\":{\"color\":\"#636efa\",\"pattern\":{\"shape\":\"\"}},\"name\":\"\",\"offsetgroup\":\"\",\"orientation\":\"v\",\"showlegend\":false,\"textposition\":\"auto\",\"x\":[\"2019-05-31T00:00:00\",\"2019-06-30T00:00:00\",\"2019-07-31T00:00:00\",\"2019-08-31T00:00:00\",\"2019-09-30T00:00:00\",\"2019-10-31T00:00:00\",\"2019-11-30T00:00:00\",\"2019-12-31T00:00:00\",\"2020-01-31T00:00:00\",\"2020-02-29T00:00:00\",\"2020-03-31T00:00:00\",\"2020-04-30T00:00:00\",\"2020-05-31T00:00:00\",\"2020-06-30T00:00:00\",\"2019-05-31T00:00:00\",\"2019-06-30T00:00:00\",\"2019-07-31T00:00:00\",\"2019-08-31T00:00:00\",\"2019-09-30T00:00:00\",\"2019-10-31T00:00:00\",\"2019-11-30T00:00:00\",\"2019-12-31T00:00:00\",\"2020-01-31T00:00:00\",\"2020-02-29T00:00:00\",\"2020-03-31T00:00:00\",\"2020-04-30T00:00:00\",\"2020-05-31T00:00:00\",\"2020-06-30T00:00:00\"],\"xaxis\":\"x\",\"y\":[6.63,9.0,4.95,10.32,5.35,9.14,5.0,10.77,4.11,8.91,8.85,10.71,23.38,27.66,6.11,6.67,7.58,7.69,5.52,5.35,6.71,7.31,6.65,6.08,9.14,21.43,30.28,12.17],\"yaxis\":\"y\",\"type\":\"bar\"}],\"name\":\"Kerala\"},{\"data\":[{\"alignmentgroup\":\"True\",\"hovertemplate\":\"Region=Madhya Pradesh<br>Date=%{x}<br>Estimated Unemployment Rate (%)=%{y}<extra></extra>\",\"legendgroup\":\"\",\"marker\":{\"color\":\"#636efa\",\"pattern\":{\"shape\":\"\"}},\"name\":\"\",\"offsetgroup\":\"\",\"orientation\":\"v\",\"showlegend\":false,\"textposition\":\"auto\",\"x\":[\"2019-05-31T00:00:00\",\"2019-06-30T00:00:00\",\"2019-07-31T00:00:00\",\"2019-08-31T00:00:00\",\"2019-09-30T00:00:00\",\"2019-10-31T00:00:00\",\"2019-11-30T00:00:00\",\"2019-12-31T00:00:00\",\"2020-01-31T00:00:00\",\"2020-02-29T00:00:00\",\"2020-03-31T00:00:00\",\"2020-04-30T00:00:00\",\"2020-05-31T00:00:00\",\"2020-06-30T00:00:00\",\"2019-05-31T00:00:00\",\"2019-06-30T00:00:00\",\"2019-07-31T00:00:00\",\"2019-08-31T00:00:00\",\"2019-09-30T00:00:00\",\"2019-10-31T00:00:00\",\"2019-11-30T00:00:00\",\"2019-12-31T00:00:00\",\"2020-01-31T00:00:00\",\"2020-02-29T00:00:00\",\"2020-03-31T00:00:00\",\"2020-04-30T00:00:00\",\"2020-05-31T00:00:00\",\"2020-06-30T00:00:00\"],\"xaxis\":\"x\",\"y\":[3.63,4.25,3.92,4.94,3.08,2.98,2.72,2.94,3.66,4.42,1.19,12.5,22.46,6.46,3.91,6.38,7.38,6.82,7.0,4.4,6.06,6.2,5.17,4.96,4.8,11.94,40.49,12.72],\"yaxis\":\"y\",\"type\":\"bar\"}],\"name\":\"Madhya Pradesh\"},{\"data\":[{\"alignmentgroup\":\"True\",\"hovertemplate\":\"Region=Maharashtra<br>Date=%{x}<br>Estimated Unemployment Rate (%)=%{y}<extra></extra>\",\"legendgroup\":\"\",\"marker\":{\"color\":\"#636efa\",\"pattern\":{\"shape\":\"\"}},\"name\":\"\",\"offsetgroup\":\"\",\"orientation\":\"v\",\"showlegend\":false,\"textposition\":\"auto\",\"x\":[\"2019-05-31T00:00:00\",\"2019-06-30T00:00:00\",\"2019-07-31T00:00:00\",\"2019-08-31T00:00:00\",\"2019-09-30T00:00:00\",\"2019-10-31T00:00:00\",\"2019-11-30T00:00:00\",\"2019-12-31T00:00:00\",\"2020-01-31T00:00:00\",\"2020-02-29T00:00:00\",\"2020-03-31T00:00:00\",\"2020-04-30T00:00:00\",\"2020-05-31T00:00:00\",\"2020-06-30T00:00:00\",\"2019-05-31T00:00:00\",\"2019-06-30T00:00:00\",\"2019-07-31T00:00:00\",\"2019-08-31T00:00:00\",\"2019-09-30T00:00:00\",\"2019-10-31T00:00:00\",\"2019-11-30T00:00:00\",\"2019-12-31T00:00:00\",\"2020-01-31T00:00:00\",\"2020-02-29T00:00:00\",\"2020-03-31T00:00:00\",\"2020-04-30T00:00:00\",\"2020-05-31T00:00:00\",\"2020-06-30T00:00:00\"],\"xaxis\":\"x\",\"y\":[3.67,4.34,3.66,3.76,4.4,3.81,3.68,3.03,3.8,4.24,5.38,25.28,16.89,9.4,6.08,6.46,6.35,7.57,7.6,7.51,7.6,7.83,6.67,5.34,6.34,14.99,15.92,10.01],\"yaxis\":\"y\",\"type\":\"bar\"}],\"name\":\"Maharashtra\"},{\"data\":[{\"alignmentgroup\":\"True\",\"hovertemplate\":\"Region=Meghalaya<br>Date=%{x}<br>Estimated Unemployment Rate (%)=%{y}<extra></extra>\",\"legendgroup\":\"\",\"marker\":{\"color\":\"#636efa\",\"pattern\":{\"shape\":\"\"}},\"name\":\"\",\"offsetgroup\":\"\",\"orientation\":\"v\",\"showlegend\":false,\"textposition\":\"auto\",\"x\":[\"2019-05-31T00:00:00\",\"2019-06-30T00:00:00\",\"2019-07-31T00:00:00\",\"2019-08-31T00:00:00\",\"2019-09-30T00:00:00\",\"2019-10-31T00:00:00\",\"2019-11-30T00:00:00\",\"2019-12-31T00:00:00\",\"2020-01-31T00:00:00\",\"2020-02-29T00:00:00\",\"2020-03-31T00:00:00\",\"2020-04-30T00:00:00\",\"2020-05-31T00:00:00\",\"2020-06-30T00:00:00\",\"2019-05-31T00:00:00\",\"2019-06-30T00:00:00\",\"2019-07-31T00:00:00\",\"2019-08-31T00:00:00\",\"2019-09-30T00:00:00\",\"2019-10-31T00:00:00\",\"2019-11-30T00:00:00\",\"2019-12-31T00:00:00\",\"2020-01-31T00:00:00\",\"2020-02-29T00:00:00\",\"2020-03-31T00:00:00\",\"2020-04-30T00:00:00\",\"2020-05-31T00:00:00\"],\"xaxis\":\"x\",\"y\":[3.16,4.23,1.03,0.52,0.24,3.7,1.5,1.8,0.97,2.76,1.28,8.38,3.73,1.35,8.4,8.66,4.43,5.8,5.3,7.2,3.02,5.21,4.76,7.37,2.8,17.39,14.58],\"yaxis\":\"y\",\"type\":\"bar\"}],\"name\":\"Meghalaya\"},{\"data\":[{\"alignmentgroup\":\"True\",\"hovertemplate\":\"Region=Odisha<br>Date=%{x}<br>Estimated Unemployment Rate (%)=%{y}<extra></extra>\",\"legendgroup\":\"\",\"marker\":{\"color\":\"#636efa\",\"pattern\":{\"shape\":\"\"}},\"name\":\"\",\"offsetgroup\":\"\",\"orientation\":\"v\",\"showlegend\":false,\"textposition\":\"auto\",\"x\":[\"2019-05-31T00:00:00\",\"2019-06-30T00:00:00\",\"2019-07-31T00:00:00\",\"2019-08-31T00:00:00\",\"2019-09-30T00:00:00\",\"2019-10-31T00:00:00\",\"2019-11-30T00:00:00\",\"2019-12-31T00:00:00\",\"2020-01-31T00:00:00\",\"2020-02-29T00:00:00\",\"2020-03-31T00:00:00\",\"2020-04-30T00:00:00\",\"2020-05-31T00:00:00\",\"2020-06-30T00:00:00\",\"2019-05-31T00:00:00\",\"2019-06-30T00:00:00\",\"2019-07-31T00:00:00\",\"2019-08-31T00:00:00\",\"2019-09-30T00:00:00\",\"2019-10-31T00:00:00\",\"2019-11-30T00:00:00\",\"2019-12-31T00:00:00\",\"2020-01-31T00:00:00\",\"2020-02-29T00:00:00\",\"2020-03-31T00:00:00\",\"2020-04-30T00:00:00\",\"2020-05-31T00:00:00\",\"2020-06-30T00:00:00\"],\"xaxis\":\"x\",\"y\":[4.17,4.71,3.31,3.68,4.31,4.28,4.72,4.67,1.81,3.31,15.09,24.48,9.45,4.59,2.95,2.63,1.78,3.5,3.78,4.5,2.23,3.36,2.28,2.19,3.96,20.5,10.0,2.18],\"yaxis\":\"y\",\"type\":\"bar\"}],\"name\":\"Odisha\"},{\"data\":[{\"alignmentgroup\":\"True\",\"hovertemplate\":\"Region=Puducherry<br>Date=%{x}<br>Estimated Unemployment Rate (%)=%{y}<extra></extra>\",\"legendgroup\":\"\",\"marker\":{\"color\":\"#636efa\",\"pattern\":{\"shape\":\"\"}},\"name\":\"\",\"offsetgroup\":\"\",\"orientation\":\"v\",\"showlegend\":false,\"textposition\":\"auto\",\"x\":[\"2019-05-31T00:00:00\",\"2019-06-30T00:00:00\",\"2019-07-31T00:00:00\",\"2019-08-31T00:00:00\",\"2019-09-30T00:00:00\",\"2019-10-31T00:00:00\",\"2019-11-30T00:00:00\",\"2019-12-31T00:00:00\",\"2020-01-31T00:00:00\",\"2020-02-29T00:00:00\",\"2020-03-31T00:00:00\",\"2020-04-30T00:00:00\",\"2019-05-31T00:00:00\",\"2019-06-30T00:00:00\",\"2019-07-31T00:00:00\",\"2019-08-31T00:00:00\",\"2019-09-30T00:00:00\",\"2019-10-31T00:00:00\",\"2019-11-30T00:00:00\",\"2019-12-31T00:00:00\",\"2020-01-31T00:00:00\",\"2020-02-29T00:00:00\",\"2020-03-31T00:00:00\",\"2020-04-30T00:00:00\",\"2020-05-31T00:00:00\",\"2020-06-30T00:00:00\"],\"xaxis\":\"x\",\"y\":[0.0,0.0,0.0,4.85,0.0,1.18,0.0,1.99,0.58,1.74,2.31,74.51,1.25,0.0,0.0,8.95,1.22,1.17,1.37,5.21,0.57,1.78,0.62,76.74,75.0,4.55],\"yaxis\":\"y\",\"type\":\"bar\"}],\"name\":\"Puducherry\"},{\"data\":[{\"alignmentgroup\":\"True\",\"hovertemplate\":\"Region=Punjab<br>Date=%{x}<br>Estimated Unemployment Rate (%)=%{y}<extra></extra>\",\"legendgroup\":\"\",\"marker\":{\"color\":\"#636efa\",\"pattern\":{\"shape\":\"\"}},\"name\":\"\",\"offsetgroup\":\"\",\"orientation\":\"v\",\"showlegend\":false,\"textposition\":\"auto\",\"x\":[\"2019-05-31T00:00:00\",\"2019-06-30T00:00:00\",\"2019-07-31T00:00:00\",\"2019-08-31T00:00:00\",\"2019-09-30T00:00:00\",\"2019-10-31T00:00:00\",\"2019-11-30T00:00:00\",\"2019-12-31T00:00:00\",\"2020-01-31T00:00:00\",\"2020-02-29T00:00:00\",\"2020-03-31T00:00:00\",\"2020-04-30T00:00:00\",\"2020-05-31T00:00:00\",\"2020-06-30T00:00:00\",\"2019-05-31T00:00:00\",\"2019-06-30T00:00:00\",\"2019-07-31T00:00:00\",\"2019-08-31T00:00:00\",\"2019-09-30T00:00:00\",\"2019-10-31T00:00:00\",\"2019-11-30T00:00:00\",\"2019-12-31T00:00:00\",\"2020-01-31T00:00:00\",\"2020-02-29T00:00:00\",\"2020-03-31T00:00:00\",\"2020-04-30T00:00:00\",\"2020-05-31T00:00:00\",\"2020-06-30T00:00:00\"],\"xaxis\":\"x\",\"y\":[9.17,12.21,9.64,6.69,8.59,12.56,7.07,6.13,9.69,10.41,10.51,3.69,40.59,20.0,13.49,13.17,11.61,11.99,15.69,13.75,10.39,11.97,13.68,11.99,9.97,1.13,20.54,10.55],\"yaxis\":\"y\",\"type\":\"bar\"}],\"name\":\"Punjab\"},{\"data\":[{\"alignmentgroup\":\"True\",\"hovertemplate\":\"Region=Rajasthan<br>Date=%{x}<br>Estimated Unemployment Rate (%)=%{y}<extra></extra>\",\"legendgroup\":\"\",\"marker\":{\"color\":\"#636efa\",\"pattern\":{\"shape\":\"\"}},\"name\":\"\",\"offsetgroup\":\"\",\"orientation\":\"v\",\"showlegend\":false,\"textposition\":\"auto\",\"x\":[\"2019-05-31T00:00:00\",\"2019-06-30T00:00:00\",\"2019-07-31T00:00:00\",\"2019-08-31T00:00:00\",\"2019-09-30T00:00:00\",\"2019-10-31T00:00:00\",\"2019-11-30T00:00:00\",\"2019-12-31T00:00:00\",\"2020-01-31T00:00:00\",\"2020-02-29T00:00:00\",\"2020-03-31T00:00:00\",\"2020-04-30T00:00:00\",\"2020-05-31T00:00:00\",\"2020-06-30T00:00:00\",\"2019-05-31T00:00:00\",\"2019-06-30T00:00:00\",\"2019-07-31T00:00:00\",\"2019-08-31T00:00:00\",\"2019-09-30T00:00:00\",\"2019-10-31T00:00:00\",\"2019-11-30T00:00:00\",\"2019-12-31T00:00:00\",\"2020-01-31T00:00:00\",\"2020-02-29T00:00:00\",\"2020-03-31T00:00:00\",\"2020-04-30T00:00:00\",\"2020-05-31T00:00:00\",\"2020-06-30T00:00:00\"],\"xaxis\":\"x\",\"y\":[4.03,13.7,9.7,12.5,5.45,14.66,10.47,13.96,8.0,14.48,9.47,12.25,10.45,13.86,13.62,14.36,11.67,14.71,12.63,13.02,14.3,18.04,18.82,17.02,18.54,35.53,25.35,13.04],\"yaxis\":\"y\",\"type\":\"bar\"}],\"name\":\"Rajasthan\"},{\"data\":[{\"alignmentgroup\":\"True\",\"hovertemplate\":\"Region=Sikkim<br>Date=%{x}<br>Estimated Unemployment Rate (%)=%{y}<extra></extra>\",\"legendgroup\":\"\",\"marker\":{\"color\":\"#636efa\",\"pattern\":{\"shape\":\"\"}},\"name\":\"\",\"offsetgroup\":\"\",\"orientation\":\"v\",\"showlegend\":false,\"textposition\":\"auto\",\"x\":[\"2019-10-31T00:00:00\",\"2019-11-30T00:00:00\",\"2019-12-31T00:00:00\",\"2020-04-30T00:00:00\",\"2020-06-30T00:00:00\",\"2019-05-31T00:00:00\",\"2019-06-30T00:00:00\",\"2019-07-31T00:00:00\",\"2019-08-31T00:00:00\",\"2019-09-30T00:00:00\",\"2019-10-31T00:00:00\",\"2019-11-30T00:00:00\",\"2019-12-31T00:00:00\",\"2020-03-31T00:00:00\",\"2020-04-30T00:00:00\",\"2020-05-31T00:00:00\",\"2020-06-30T00:00:00\"],\"xaxis\":\"x\",\"y\":[5.48,13.11,1.0,0.0,5.81,8.2,7.76,2.56,4.82,4.81,9.68,4.04,7.37,20.45,5.77,19.75,2.63],\"yaxis\":\"y\",\"type\":\"bar\"}],\"name\":\"Sikkim\"},{\"data\":[{\"alignmentgroup\":\"True\",\"hovertemplate\":\"Region=Tamil Nadu<br>Date=%{x}<br>Estimated Unemployment Rate (%)=%{y}<extra></extra>\",\"legendgroup\":\"\",\"marker\":{\"color\":\"#636efa\",\"pattern\":{\"shape\":\"\"}},\"name\":\"\",\"offsetgroup\":\"\",\"orientation\":\"v\",\"showlegend\":false,\"textposition\":\"auto\",\"x\":[\"2019-05-31T00:00:00\",\"2019-06-30T00:00:00\",\"2019-07-31T00:00:00\",\"2019-08-31T00:00:00\",\"2019-09-30T00:00:00\",\"2019-10-31T00:00:00\",\"2019-11-30T00:00:00\",\"2019-12-31T00:00:00\",\"2020-01-31T00:00:00\",\"2020-02-29T00:00:00\",\"2020-03-31T00:00:00\",\"2020-04-30T00:00:00\",\"2020-05-31T00:00:00\",\"2020-06-30T00:00:00\",\"2019-05-31T00:00:00\",\"2019-06-30T00:00:00\",\"2019-07-31T00:00:00\",\"2019-08-31T00:00:00\",\"2019-09-30T00:00:00\",\"2019-10-31T00:00:00\",\"2019-11-30T00:00:00\",\"2019-12-31T00:00:00\",\"2020-01-31T00:00:00\",\"2020-02-29T00:00:00\",\"2020-03-31T00:00:00\",\"2020-04-30T00:00:00\",\"2020-05-31T00:00:00\",\"2020-06-30T00:00:00\"],\"xaxis\":\"x\",\"y\":[0.97,0.92,6.01,2.91,1.71,1.46,2.46,3.73,1.18,1.17,6.36,53.19,38.73,2.06,0.89,1.56,3.18,9.53,1.86,1.13,2.65,8.05,2.05,3.31,6.46,45.55,25.95,24.93],\"yaxis\":\"y\",\"type\":\"bar\"}],\"name\":\"Tamil Nadu\"},{\"data\":[{\"alignmentgroup\":\"True\",\"hovertemplate\":\"Region=Telangana<br>Date=%{x}<br>Estimated Unemployment Rate (%)=%{y}<extra></extra>\",\"legendgroup\":\"\",\"marker\":{\"color\":\"#636efa\",\"pattern\":{\"shape\":\"\"}},\"name\":\"\",\"offsetgroup\":\"\",\"orientation\":\"v\",\"showlegend\":false,\"textposition\":\"auto\",\"x\":[\"2019-05-31T00:00:00\",\"2019-06-30T00:00:00\",\"2019-07-31T00:00:00\",\"2019-08-31T00:00:00\",\"2019-09-30T00:00:00\",\"2019-10-31T00:00:00\",\"2019-11-30T00:00:00\",\"2019-12-31T00:00:00\",\"2020-01-31T00:00:00\",\"2020-02-29T00:00:00\",\"2020-03-31T00:00:00\",\"2020-04-30T00:00:00\",\"2020-05-31T00:00:00\",\"2020-06-30T00:00:00\",\"2019-05-31T00:00:00\",\"2019-06-30T00:00:00\",\"2019-07-31T00:00:00\",\"2019-08-31T00:00:00\",\"2019-09-30T00:00:00\",\"2019-10-31T00:00:00\",\"2019-11-30T00:00:00\",\"2019-12-31T00:00:00\",\"2020-01-31T00:00:00\",\"2020-02-29T00:00:00\",\"2020-03-31T00:00:00\",\"2020-04-30T00:00:00\",\"2020-05-31T00:00:00\",\"2020-06-30T00:00:00\"],\"xaxis\":\"x\",\"y\":[2.23,5.92,2.45,1.4,5.49,7.29,6.47,1.35,5.02,9.02,5.63,4.51,34.01,19.3,1.52,1.43,3.73,4.19,6.19,6.74,5.23,4.22,6.49,6.74,6.1,10.5,36.57,6.92],\"yaxis\":\"y\",\"type\":\"bar\"}],\"name\":\"Telangana\"},{\"data\":[{\"alignmentgroup\":\"True\",\"hovertemplate\":\"Region=Tripura<br>Date=%{x}<br>Estimated Unemployment Rate (%)=%{y}<extra></extra>\",\"legendgroup\":\"\",\"marker\":{\"color\":\"#636efa\",\"pattern\":{\"shape\":\"\"}},\"name\":\"\",\"offsetgroup\":\"\",\"orientation\":\"v\",\"showlegend\":false,\"textposition\":\"auto\",\"x\":[\"2019-05-31T00:00:00\",\"2019-06-30T00:00:00\",\"2019-07-31T00:00:00\",\"2019-08-31T00:00:00\",\"2019-09-30T00:00:00\",\"2019-10-31T00:00:00\",\"2019-11-30T00:00:00\",\"2019-12-31T00:00:00\",\"2020-01-31T00:00:00\",\"2020-02-29T00:00:00\",\"2020-03-31T00:00:00\",\"2020-04-30T00:00:00\",\"2020-05-31T00:00:00\",\"2020-06-30T00:00:00\",\"2019-05-31T00:00:00\",\"2019-06-30T00:00:00\",\"2019-07-31T00:00:00\",\"2019-08-31T00:00:00\",\"2019-09-30T00:00:00\",\"2019-10-31T00:00:00\",\"2019-11-30T00:00:00\",\"2019-12-31T00:00:00\",\"2020-01-31T00:00:00\",\"2020-02-29T00:00:00\",\"2020-03-31T00:00:00\",\"2020-04-30T00:00:00\",\"2020-05-31T00:00:00\",\"2020-06-30T00:00:00\"],\"xaxis\":\"x\",\"y\":[29.25,26.64,22.47,25.49,30.23,27.54,25.25,26.53,31.91,26.22,31.61,43.64,14.71,18.84,34.69,25.59,25.81,33.45,33.57,26.67,27.15,33.48,34.37,33.88,25.69,34.88,16.78,27.47],\"yaxis\":\"y\",\"type\":\"bar\"}],\"name\":\"Tripura\"},{\"data\":[{\"alignmentgroup\":\"True\",\"hovertemplate\":\"Region=Uttar Pradesh<br>Date=%{x}<br>Estimated Unemployment Rate (%)=%{y}<extra></extra>\",\"legendgroup\":\"\",\"marker\":{\"color\":\"#636efa\",\"pattern\":{\"shape\":\"\"}},\"name\":\"\",\"offsetgroup\":\"\",\"orientation\":\"v\",\"showlegend\":false,\"textposition\":\"auto\",\"x\":[\"2019-05-31T00:00:00\",\"2019-06-30T00:00:00\",\"2019-07-31T00:00:00\",\"2019-08-31T00:00:00\",\"2019-09-30T00:00:00\",\"2019-10-31T00:00:00\",\"2019-11-30T00:00:00\",\"2019-12-31T00:00:00\",\"2020-01-31T00:00:00\",\"2020-02-29T00:00:00\",\"2020-03-31T00:00:00\",\"2020-04-30T00:00:00\",\"2020-05-31T00:00:00\",\"2020-06-30T00:00:00\",\"2019-05-31T00:00:00\",\"2019-06-30T00:00:00\",\"2019-07-31T00:00:00\",\"2019-08-31T00:00:00\",\"2019-09-30T00:00:00\",\"2019-10-31T00:00:00\",\"2019-11-30T00:00:00\",\"2019-12-31T00:00:00\",\"2020-01-31T00:00:00\",\"2020-02-29T00:00:00\",\"2020-03-31T00:00:00\",\"2020-04-30T00:00:00\",\"2020-05-31T00:00:00\",\"2020-06-30T00:00:00\"],\"xaxis\":\"x\",\"y\":[10.26,11.13,9.19,11.47,6.45,10.18,6.94,8.43,6.06,8.12,9.37,19.92,16.89,8.51,14.4,11.62,11.8,14.73,13.58,10.35,11.31,12.37,12.34,11.65,12.32,26.94,32.06,13.05],\"yaxis\":\"y\",\"type\":\"bar\"}],\"name\":\"Uttar Pradesh\"},{\"data\":[{\"alignmentgroup\":\"True\",\"hovertemplate\":\"Region=Uttarakhand<br>Date=%{x}<br>Estimated Unemployment Rate (%)=%{y}<extra></extra>\",\"legendgroup\":\"\",\"marker\":{\"color\":\"#636efa\",\"pattern\":{\"shape\":\"\"}},\"name\":\"\",\"offsetgroup\":\"\",\"orientation\":\"v\",\"showlegend\":false,\"textposition\":\"auto\",\"x\":[\"2019-05-31T00:00:00\",\"2019-06-30T00:00:00\",\"2019-07-31T00:00:00\",\"2019-08-31T00:00:00\",\"2019-09-30T00:00:00\",\"2019-10-31T00:00:00\",\"2019-11-30T00:00:00\",\"2019-12-31T00:00:00\",\"2020-01-31T00:00:00\",\"2020-02-29T00:00:00\",\"2020-04-30T00:00:00\",\"2020-05-31T00:00:00\",\"2020-06-30T00:00:00\",\"2019-05-31T00:00:00\",\"2019-06-30T00:00:00\",\"2019-07-31T00:00:00\",\"2019-08-31T00:00:00\",\"2019-09-30T00:00:00\",\"2019-10-31T00:00:00\",\"2019-11-30T00:00:00\",\"2019-12-31T00:00:00\",\"2020-01-31T00:00:00\",\"2020-02-29T00:00:00\",\"2020-03-31T00:00:00\",\"2020-04-30T00:00:00\",\"2020-05-31T00:00:00\",\"2020-06-30T00:00:00\"],\"xaxis\":\"x\",\"y\":[1.63,4.65,5.74,6.11,3.47,4.83,5.56,4.52,4.17,4.85,3.66,3.57,10.71,9.17,4.69,6.94,7.43,9.62,4.72,6.34,7.39,8.92,5.28,8.15,13.18,17.36,5.08],\"yaxis\":\"y\",\"type\":\"bar\"}],\"name\":\"Uttarakhand\"},{\"data\":[{\"alignmentgroup\":\"True\",\"hovertemplate\":\"Region=West Bengal<br>Date=%{x}<br>Estimated Unemployment Rate (%)=%{y}<extra></extra>\",\"legendgroup\":\"\",\"marker\":{\"color\":\"#636efa\",\"pattern\":{\"shape\":\"\"}},\"name\":\"\",\"offsetgroup\":\"\",\"orientation\":\"v\",\"showlegend\":false,\"textposition\":\"auto\",\"x\":[\"2019-05-31T00:00:00\",\"2019-06-30T00:00:00\",\"2019-07-31T00:00:00\",\"2019-08-31T00:00:00\",\"2019-09-30T00:00:00\",\"2019-10-31T00:00:00\",\"2019-11-30T00:00:00\",\"2019-12-31T00:00:00\",\"2020-01-31T00:00:00\",\"2020-02-29T00:00:00\",\"2020-03-31T00:00:00\",\"2020-04-30T00:00:00\",\"2020-05-31T00:00:00\",\"2020-06-30T00:00:00\",\"2019-05-31T00:00:00\",\"2019-06-30T00:00:00\",\"2019-07-31T00:00:00\",\"2019-08-31T00:00:00\",\"2019-09-30T00:00:00\",\"2019-10-31T00:00:00\",\"2019-11-30T00:00:00\",\"2019-12-31T00:00:00\",\"2020-01-31T00:00:00\",\"2020-02-29T00:00:00\",\"2020-03-31T00:00:00\",\"2020-04-30T00:00:00\",\"2020-05-31T00:00:00\",\"2020-06-30T00:00:00\"],\"xaxis\":\"x\",\"y\":[6.02,5.85,5.62,5.58,5.26,6.78,5.83,5.79,6.79,3.78,7.02,18.32,18.43,4.94,7.25,7.38,7.91,7.27,7.79,7.83,6.61,7.24,7.27,7.55,6.67,15.63,15.22,9.86],\"yaxis\":\"y\",\"type\":\"bar\"}],\"name\":\"West Bengal\"},{\"data\":[{\"alignmentgroup\":\"True\",\"hovertemplate\":\"Region=Chandigarh<br>Date=%{x}<br>Estimated Unemployment Rate (%)=%{y}<extra></extra>\",\"legendgroup\":\"\",\"marker\":{\"color\":\"#636efa\",\"pattern\":{\"shape\":\"\"}},\"name\":\"\",\"offsetgroup\":\"\",\"orientation\":\"v\",\"showlegend\":false,\"textposition\":\"auto\",\"x\":[\"2019-05-31T00:00:00\",\"2019-06-30T00:00:00\",\"2019-07-31T00:00:00\",\"2019-08-31T00:00:00\",\"2019-09-30T00:00:00\",\"2019-10-31T00:00:00\",\"2019-11-30T00:00:00\",\"2019-12-31T00:00:00\",\"2020-01-31T00:00:00\",\"2020-02-29T00:00:00\",\"2020-03-31T00:00:00\",\"2020-06-30T00:00:00\"],\"xaxis\":\"x\",\"y\":[18.35,12.4,21.8,9.52,20.14,13.99,22.05,8.33,20.0,16.67,21.43,7.22],\"yaxis\":\"y\",\"type\":\"bar\"}],\"name\":\"Chandigarh\"}]);\n",
       "                        }).then(function(){\n",
       "                            \n",
       "var gd = document.getElementById('1c9b0ad4-fc11-4644-8af0-a087ef7c3991');\n",
       "var x = new MutationObserver(function (mutations, observer) {{\n",
       "        var display = window.getComputedStyle(gd).display;\n",
       "        if (!display || display === 'none') {{\n",
       "            console.log([gd, 'removed!']);\n",
       "            Plotly.purge(gd);\n",
       "            observer.disconnect();\n",
       "        }}\n",
       "}});\n",
       "\n",
       "// Listen for the removal of the full notebook cells\n",
       "var notebookContainer = gd.closest('#notebook-container');\n",
       "if (notebookContainer) {{\n",
       "    x.observe(notebookContainer, {childList: true});\n",
       "}}\n",
       "\n",
       "// Listen for the clearing of the current output cell\n",
       "var outputEl = gd.closest('.output');\n",
       "if (outputEl) {{\n",
       "    x.observe(outputEl, {childList: true});\n",
       "}}\n",
       "\n",
       "                        })                };                });            </script>        </div>"
      ]
     },
     "metadata": {},
     "output_type": "display_data"
    }
   ],
   "source": [
    "fig=px.bar(df,x=\"Date\",y=\"Estimated Unemployment Rate (%)\",animation_frame=\"Region\",\n",
    "           title=\"Unemployment rate over time for each state\",template=\"plotly\")\n",
    "fig.show()"
   ]
  },
  {
   "cell_type": "code",
   "execution_count": 53,
   "id": "80bcc3fc",
   "metadata": {},
   "outputs": [
    {
     "data": {
      "image/png": "[encoded data removed]",
      "text/plain": [
       "<Figure size 640x480 with 2 Axes>"
      ]
     },
     "metadata": {},
     "output_type": "display_data"
    }
   ],
   "source": [
    "sb.heatmap(df[['Estimated Unemployment Rate (%)',\n",
    "                'Estimated Employed',\n",
    "                'Estimated Labour Participation Rate (%)']].corr(),\n",
    "            annot=True\n",
    "           )\n",
    "plt.show()"
   ]
  },
  {
   "cell_type": "code",
   "execution_count": null,
   "id": "4afa41f9",
   "metadata": {},
   "outputs": [],
   "source": []
  }
 ],
 "metadata": {
  "kernelspec": {
   "display_name": "Python 3 (ipykernel)",
   "language": "python",
   "name": "python3"
  },
  "language_info": {
   "codemirror_mode": {
    "name": "ipython",
    "version": 3
   },
   "file_extension": ".py",
   "mimetype": "text/x-python",
   "name": "python",
   "nbconvert_exporter": "python",
   "pygments_lexer": "ipython3",
   "version": "3.11.2"
  }
 },
 "nbformat": 4,
 "nbformat_minor": 5
}
